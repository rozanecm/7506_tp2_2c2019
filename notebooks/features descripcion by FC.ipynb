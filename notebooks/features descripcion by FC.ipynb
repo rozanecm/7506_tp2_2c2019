{
 "cells": [
  {
   "cell_type": "code",
   "execution_count": 1,
   "metadata": {},
   "outputs": [],
   "source": [
    "import pandas as pd\n",
    "import numpy as np"
   ]
  },
  {
   "cell_type": "code",
   "execution_count": 2,
   "metadata": {},
   "outputs": [],
   "source": [
    "# This will allow you to see all column names & rows when you are doing .head(). None of the column name will be truncated.\n",
    "# source: https://stackoverflow.com/questions/49188960/how-to-show-all-of-columns-name-on-pandas-dataframe\n",
    "\n",
    "pd.set_option('display.max_columns', None)\n",
    "# pd.set_option('display.max_rows', None)"
   ]
  },
  {
   "cell_type": "code",
   "execution_count": 3,
   "metadata": {},
   "outputs": [],
   "source": [
    "# source: https://gist.github.com/rozanecm/38f2901c592bdffc40726cb0473318cf\n",
    "# Function which plays a beep of given duration and frequency.\n",
    "# Useful for when executing things that need a while to finish, to get notified.\n",
    "import os\n",
    "def beep(duration = 1, freq = 1500):\n",
    "    \"\"\" play tone of duration in seconds and freq in Hz. \"\"\"\n",
    "    os.system('play --no-show-progress --null --channels 1 synth %s sine %f' % (duration, freq))"
   ]
  },
  {
   "cell_type": "code",
   "execution_count": 4,
   "metadata": {},
   "outputs": [],
   "source": [
    "train = pd.read_csv('../data/train.csv', dtype={'tipodepropiedad':'category', 'ciudad':'category', 'provincia':'category', 'id':'int32', 'antiguedad':'float16', 'habitaciones':'float16', 'garages':'float16', 'banos':'float16', 'metroscubiertos':'float16', 'metrostotales':'float16', 'idzona':'float16', 'lat':'float16', 'lng':'float16', 'gimnasio':'bool', 'usosmultiples':'bool', 'piscina':'bool', 'escuelascercanas':'bool', 'centroscomercialescercanos':'bool'}, parse_dates=['fecha'])\n",
    "test = pd.read_csv('../data/test.csv', dtype={'tipodepropiedad':'category', 'ciudad':'category', 'provincia':'category', 'id':'int32', 'antiguedad':'float16', 'habitaciones':'float16', 'garages':'float16', 'banos':'float16', 'metroscubiertos':'float16', 'metrostotales':'float16', 'idzona':'float16', 'lat':'float16', 'lng':'float16', 'gimnasio':'bool', 'usosmultiples':'bool', 'piscina':'bool', 'escuelascercanas':'bool', 'centroscomercialescercanos':'bool'}, parse_dates=['fecha'])"
   ]
  },
  {
   "cell_type": "markdown",
   "metadata": {},
   "source": [
    "***"
   ]
  },
  {
   "cell_type": "markdown",
   "metadata": {},
   "source": [
    "## Analisis sobre la descripcion"
   ]
  },
  {
   "cell_type": "code",
   "execution_count": 5,
   "metadata": {},
   "outputs": [
    {
     "data": {
      "text/plain": [
       "(240000, 23)"
      ]
     },
     "execution_count": 5,
     "metadata": {},
     "output_type": "execute_result"
    }
   ],
   "source": [
    "train.shape"
   ]
  },
  {
   "cell_type": "code",
   "execution_count": 6,
   "metadata": {},
   "outputs": [],
   "source": [
    "train_2 = train.copy()\n",
    "train_2 = train_2[pd.notnull(train_2['descripcion'])]"
   ]
  },
  {
   "cell_type": "code",
   "execution_count": 7,
   "metadata": {},
   "outputs": [
    {
     "data": {
      "text/plain": [
       "42                                                                                                                                                                                                                                                                                                                                                                                                                                                                                                                                                                                                                                                                                                                                                                                                                                                                                                                                                                                                                                                                                                                                             hermosa residencia con acabados de lujo, ¡oportunidad  unica! reestrenela!! 150 metros de terreno y 258 en tres pisos. cocina equipada, desayunador, jardín trasero con asador, garaje cubierto 2 autos, patio, puerta eléctrica, bodega, cuarto de lavado, cuarto de servicio con baño. 3 recamaras, estudio, 2  1/2 baños,. asador, amplias areas, vitrales.  ubicada, cercano a comercios, a transporte público, cercano a colegios.a tres calles de bosque de tlalpan. le gustará. cel.  \\t\n",
       "64        un nuevo estilo de vida al sur de la ciudad. \\nconjunto residencial integrado por 6 torres, de hasta 25 pisos, que reunirán a más de 800 departamentos. \\nnaturaleza: único proyecto al sur de la ciudad de méxico que brinda la posibilidad de vivir en estrecho contacto con la naturaleza rodeado por 27,000 m2 de bosque y 6,000 m2 de parque central. \\ncalidad de vida: cittá san jerónimo ofrece diferentes alternativas para disfrutar de un entorno natural y seguro sin salir de casa. \\nel jardín central es ideal para la convivencia o practicar deporte al aíre libre. además, cuenta con la casa club que reúne amenidades como: una alberca semi-olimpica, gimnasio, área de spinning, snack lounge, salón de eventos, terrazas y salones para adultos, jóvenes y niños. \\nespacios únicos: cittá san jerónimo ofrece espacios para diferentes estilos de vida. departamentos desde 53 m2, ideales para solteros y recién casados, de 58 m2 hasta de 186 m2 para familias en crecimiento. \\nlos departamentos ofrecen diferentes alternativas como: balcón, terrazas, roof garden o jardines privados. \\nubicación: la ubicación del proyecto hace que desplazarse del sur al norte de la ciudad sea realmente sencillo. localizado en av. de las torres, a un costado de la súper vía poniente, que permite llegar en tan sólo 10 minutos al periférico sur, 15 a san jerónimo y 5 a santa fe. \\nplusvalía: vive en una de las colonias más importantes de la ciudad, cuya plusvalía promete un despunte importante, gracias a su cercanía con la zona sur de la ciudad y de santa fe. \\ncitas al  ángeles martinez\n",
       "67                                                                                                                                                                                                                                                                          departamento de 167.39 m2 , 2 lugares de estacionamiento. \\nvalor comercial  \\n4 años de antigüedad \\n3 recamaras \\nbodega, jardín. \\nen este conjunto contamos con 2 departamentos mas disponibles: uno de 187 m2 con garden house en  y otro de 101 m2 en . \\ncontamos con amplia cartera de remates bancarios en zonas cercanas: bosques de las lomas, santa fe, olivar de los padres. \\nfirma de cesión ante notario público. \\nsomos una recuperadora inmobiliaria que administra, recupera y comercializa cartera vencida, proveniente de instituciones financieras, ofrecemos inversiones inmobiliarias con altos rendimientos. \\n hacemos la intermediación entre las instituciones financieras y el cliente final o inversionista, para la adquisición de derechos litigiosos, adjudicatarios y/o de crédito obteniendo grandes descuentos en la adquisición de los mismos, participando a lo largo del proceso, asesorando, representando y negociando con las instituciones. \\n de manera integral ofrecemos nuestro servicio de recuperación, lo que quiere decir que nos encargamos de todo el procedimiento jurídico que conlleva el adquirir este tipo de inversiones, hasta la entrega y liberación física y jurídica de las mismas. ofreciéndoles tranquilidad y certeza a nuestros clientes sin que se involucren en un procedimiento jurídico\n",
       "121                                                                                                                                                                                                                                                                                                                                                                                                                                                                                                                                                                                                                                                                                                                                                                                                                                                                                                                                                                                                                                                                                                                                                                                                                                                                                                                      residencia ubicada en el coto 1 de bosques de santa anita en el sur de la ciudad, proyecto único con recámara en planta baja con baño propio, y 2 recámaras en planta alta cada una con su baño, family room, cocina integral con cubierta de granito, terraza y jardín interior, acabados residenciales, previa cita\n",
       "200                                                                                                                                                                                                                                                                                                                                                                                                                                                                                                                                                                                                                                                                                     departamento en venta en la colonia colinas del sur de recuperación bancaria, 90 m2 de construcción, 2 recámaras, 1 baños, sala, comedor, cocina, área de lavado, 1 estacionamiento, 30 años de antigüedad. calle pregonero, entre serenata y av. santa lucia, deleg. álvaro obregón, c.p. 01430. precio de remate:  pesos. los remates bancarios son una gran oportunidad para adquirir una propiedad a un precio menor de su valor comercial. estas propiedades no se pueden comprar con créditos hipotecarios, únicamente pueden ser adquiridas con fondos propios. entrega a más tardar en 12 meses. tenemos más de 600 propiedades en remate en zonas como hipódromo, roma, condesa, del valle, nápoles, narvarte, anzures, polanco, lomas de chapultepec, san miguel chapultepec, san josé insurgentes, florida, guadalupe inn, pedregal, bosques de las lomas, herradura, interlomas, etc. solicita una cita, teléfono:  www.rematebancario.mx.\n",
       "                                                                                                                                                                                                                                                                                                                                                                                                                                                                                                                                                                                                                                                                                                                                                                                                                          ...                                                                                                                                                                                                                                                                                                                                                                                                                                                                                                                                                                                                                                                                                                                                                                                                                 \n",
       "239974                                                                                                                                                                                                                                                                                                                                                                                                                                                                                                                                                                                                                                                                                                                                                                                                                                                                                                                                                                                                                                                                                                                                                                                               casa en venta en lago de guadalupe. excelente ubicación, frete a la universidad uvm. zona totalmente residencial. hermosa vista panorámica al bosque, cerca del lago de guadalupe. lejos de la contaminación y ruido de la ciudad y con  todas las comodidades. seguridad, status y plusvalia. diseño arquitectónico único, amplitud e iluminación en cada uno de sus espacios. cerca a centros y áreas comerciales, todos los servicios.\n",
       "239982                                                                                                                                                                                                                                                                                                                                                                                                                                                                                                                                                                                                                                                                                                                                                                                                                                                                                                                                                                                                                                                                            casa de 2 recámaras en residencial del bosque (blvd 2000).  dúplex, con pisos de loseta, cocina integral, closets, protecciones en puertas y ventanas, bardas perimetrales, pasillo lateral y patio trasero con piso de concreto. privada cerca del parque. transporte público frente a la privada.  fácil acceso al blvd. 2000. a minutos de la zona de otay. \\nbienvenido crédito infonavit o bancario. \\n¿no sabes si calificas? nosotros te precalificamos. ¡¡somos asesores certificados!!\\n  inmobiliaria\\ntel: \\ntel: \\npag:. easybroker id: eb-t8860\n",
       "239990                                                                                                                                                                                                                                                                                                                                                                                                                                                                                                                                                                                                                                                                                                                                                                                                                                                                                                                                                                                                                                                                                                                                                                                                                                                                                                                                                                          <p>casa en venta, en magníficas condiciones; en el primer sector de la colonia bosques del contry; tres recámaras; sala; comedor; cocina equipada; lavandería; 1.5 baños; patio; cochera doble; pasillo lateral.\\n</p><p>\\n</p><p>asesor: anibal tijerina </p>\n",
       "239995                                                                                                                                                                                                                                                                                                                                                                                                                                                                                                                                                                                                                                                                                                                                                                                                                                                                                                                                                                                                                                              vendo casa en bosques de ica residencial a 10 minutos del centro de toluca, cuenta con 2 recamaras estacionamiento para 2 autos, sala-comedor, cocina integral, 1 baño ½, piso en toda la casa, patio trasero. vigilancia las 24 horas. \\naceptamos todo tipo de creditos: infonavit total, cofinavit, fovissste, contado, bancario. \\ncasas para entrega inmediata. \\n\\nno dude en contactarme para proporcionarle más información, enviarle más fotografías y plano de ubicación del desarrollo, o programar una cita sin compromiso. \\nsonia velazquez bernal cel:  nextel: 523880 id. \n",
       "239999                                                                                                                                                                                                                                                                                                                                                                                                                                                                                                                                                                                                                                                                                                                                                                                                                                                                                                                                                                                                                                                                                                                                                                                                                                                                                       id:19816, muy bonito e iluminado departamento, con excelente distribucion. la recamara principal con balcón y el edificio muy moderno, cuenta con amenidades como: alberca, gym, salón de eventos y lobby. en lomas del chamizal a una cuadra de bosques y 5 min de sta. fe. col. lomas del chamizal , ave. stim . preguntar por n gaby hernandez\n",
       "Name: descripcion, Length: 4856, dtype: object"
      ]
     },
     "execution_count": 7,
     "metadata": {},
     "output_type": "execute_result"
    }
   ],
   "source": [
    "pd.options.display.max_rows = 10\n",
    "pd.options.display.max_colwidth = 10000\n",
    "train_2.loc[train_2['descripcion'].str.contains('bosque'),'descripcion']"
   ]
  },
  {
   "cell_type": "markdown",
   "metadata": {},
   "source": [
    "# Sobre viviendas:\n",
    "\n",
    "Comodidades:\n",
    "- Recamaras | Recamara\n",
    "- Lavado\n",
    "- Estacionamiento | Garage | Cochera\n",
    "- Closet\n",
    "- Sala comedor\n",
    "- Comedor cocina\n",
    "- Patio\n",
    "- Vestidor\n",
    "- Cuarto servicio\n",
    "- Desayunadora\n",
    "- Sala estudio\n",
    "- Tanque estacionario\n",
    "- Porton electrico\n",
    "- Aire acondicionado\n",
    "\n",
    "Area especial:\n",
    "- Baño principal\n",
    "- Baño vestidor\n",
    "- Baño visita\n",
    "- Areas verdes\n",
    "- Roof garden\n",
    "- Patio\n",
    "- Cuarto lavado | Lavado cuarto | Area lavado\n",
    "- Garage | Estacionamiento | Cochera\n",
    "- Sala comedor\n",
    "- Sala estudio\n",
    "- Cocina\n",
    "\n",
    "Areas verdes:\n",
    "- Areas verdes\n",
    "- Garden\n",
    "- Patio\n",
    "- Roof\n",
    "- Jardin\n",
    "\n",
    "Tiene seguridad: (bool)\n",
    "- Porton electrico\n",
    "- Caseta vigilancia | Vigilancia\n",
    "- Acceso controlado\n",
    "\n",
    "Palabras positivas:\n",
    "- Excelente | Excelentes\n",
    "- Bonita\n",
    "- Lujo\n",
    "- Hermosa\n",
    "- Preciosa\n",
    "- Completo\n",
    "- Amplia"
   ]
  },
  {
   "cell_type": "markdown",
   "metadata": {},
   "source": [
    "# Sobre comercial:\n",
    "\n",
    "Palabras positivas:\n",
    "- Ideal\n",
    "- Doble\n",
    "\n",
    "Tiene seguridad: (bool)\n",
    "- Seguridad\n",
    "\n",
    "Comodidades:\n",
    "- Agua\n",
    "- Vista\n",
    "\n",
    "Areas verdes:\n",
    "- Terraza\n",
    "\n",
    "Cerca de otras entidades capitalistas: \n",
    "- Banco\n",
    "- Gimnasio\n",
    "- Metro\n",
    "- Carretera\n",
    "- Restaurante\n",
    "- Plaza\n",
    "- Parque\n",
    "- Escuela\n",
    "\n",
    "- Lago\n",
    "- Playa\n",
    "\n",
    "Area especial:\n",
    "- Informes\n",
    "- Terraza\n",
    "- Recepcion\n",
    "- Taller\n",
    "- Almacen\n",
    "\n",
    "Esta o es comercial: (bool)\n",
    "- Comercial\n",
    "- Comercio\n",
    "\n",
    "Es oficina (bool)\n",
    "\n",
    "Ubicado cerca o en esquina (bool)\n",
    "\n",
    "Ubicado en avenida (bool)\n",
    "\n",
    "Tiene bodega (bool)\n",
    "\n",
    "Tiene planta alta - baja (bool)"
   ]
  },
  {
   "cell_type": "markdown",
   "metadata": {},
   "source": [
    "# Sobre inversion:\n",
    "\n",
    "Palabras positivas:\n",
    "- Amplio\n",
    "- Grande\n",
    "- Hermoso\n",
    "- Usos multiples\n",
    "\n",
    "Areas verdes:\n",
    "- Bosque\n",
    "- Jardines\n",
    "- Parque\n",
    "\n",
    "\n",
    "Tiene servicio de algo (bool)\n",
    "\n",
    "Tiene bodega (bool)\n",
    "\n",
    "Areas entretenimiento: \n",
    "- Juegos infantiles\n",
    "- club golf\n",
    "- campo golf\n",
    "- casa club\n",
    "- Cancha tenis\n",
    "- Colonia\n",
    "- Club alberca\n",
    "\n",
    "Es edificio (bool)\n",
    "\n",
    "Es casa (bool)\n",
    "\n",
    "Tiene seguridad: (bool)\n",
    "- Barda perimetral\n",
    "- Bardeado\n",
    "\n",
    "Es parte de un lote (bool)\n",
    "\n",
    "Esta en calle cerrada (bool)\n",
    "\n",
    "Indica medidas frente y fondo (bool)"
   ]
  },
  {
   "cell_type": "markdown",
   "metadata": {},
   "source": [
    "***"
   ]
  },
  {
   "cell_type": "markdown",
   "metadata": {},
   "source": [
    "# Agregamos features en relacion a la descripcion"
   ]
  },
  {
   "cell_type": "code",
   "execution_count": 8,
   "metadata": {},
   "outputs": [],
   "source": [
    "import unicodedata\n",
    "\n",
    "def elimina_tildes(s):\n",
    "    return ''.join((c for c in unicodedata.normalize('NFD', s) if unicodedata.category(c) != 'Mn'))"
   ]
  },
  {
   "cell_type": "code",
   "execution_count": 9,
   "metadata": {},
   "outputs": [],
   "source": [
    "def contar_comodidades_en_descripcion(row):\n",
    "    contador = 0\n",
    "    x = elimina_tildes(str(row.descripcion))\n",
    "    x = x.lower()\n",
    "    if ((('recamaras') in x) | (('recamara') in x)):\n",
    "        contador += 1.0\n",
    "    if (('lavado') in x):\n",
    "        contador += 1.0\n",
    "    if ((('estacionamiento') in x) | (('garage') in x) | (('cochera') in x)):\n",
    "        contador += 1.0\n",
    "    if (('closet') in x):\n",
    "        contador += 1.0\n",
    "    if (('sala comedor') in x):\n",
    "        contador += 1.0\n",
    "    if (('comedor cocina') in x):\n",
    "        contador += 1.0\n",
    "    if (('patio') in x):\n",
    "        contador += 1.0\n",
    "    if (('vestidor') in x):\n",
    "        contador += 1.0\n",
    "    if (('cuarto servicio') in x):\n",
    "        contador += 1.0\n",
    "    if (('desayunadora') in x):\n",
    "        contador += 1.0\n",
    "    if ((('sala estudio') in x) | (('estudio sala') in x)):\n",
    "        contador += 1.0\n",
    "    if (('tanque estacionario') in x):\n",
    "        contador += 1.0\n",
    "    if (('porton electrico') in x):\n",
    "        contador += 1.0\n",
    "    if (('aire acondicionado') in x):\n",
    "        contador += 1.0\n",
    "    if (('agua') in x):\n",
    "        contador += 1.0\n",
    "    if (('vista') in x):\n",
    "        contador += 1.0\n",
    "    if (('elevadores') in x):\n",
    "        contador += 1.0\n",
    "    return contador"
   ]
  },
  {
   "cell_type": "code",
   "execution_count": 10,
   "metadata": {},
   "outputs": [],
   "source": [
    "def contar_palabras_positivas(row):\n",
    "    contador = 0\n",
    "    x = elimina_tildes(str(row.descripcion))\n",
    "    x = x.lower()\n",
    "    if ((('bonita') in x) | (('bonito') in x)):\n",
    "        contador += 1.0\n",
    "    if (('lujo') in x):\n",
    "        contador += 1.0\n",
    "    if ((('hermosa') in x) | (('hermoso') in x)):\n",
    "        contador += 1.0\n",
    "    if ((('preciosa') in x) | (('precioso') in x)):\n",
    "        contador += 1.0\n",
    "    if ((('completo') in x) | (('completa') in x)):\n",
    "        contador += 1.0\n",
    "    if (('ideal') in x):\n",
    "        contador += 1.0\n",
    "    if (('doble') in x):\n",
    "        contador += 1.0\n",
    "    if ((('excelente') in x) | (('excelentes') in x)):\n",
    "        contador += 1.0\n",
    "    if ((('amplio') in x) | (('amplia') in x) | (('amplios') in x)):\n",
    "        contador += 1.0\n",
    "    if (('grande') in x):\n",
    "        contador += 1.0\n",
    "    if (('usos multiples') in x):\n",
    "        contador += 1.0\n",
    "    return contador"
   ]
  },
  {
   "cell_type": "code",
   "execution_count": 11,
   "metadata": {},
   "outputs": [],
   "source": [
    "def contar_areas_dedicadas_en_descripcion(row):\n",
    "    contador = 0\n",
    "    x = elimina_tildes(str(row.descripcion))\n",
    "    x = x.lower()\n",
    "    if ((('cuarto lavado') in x) | (('lavado cuarto') in x) | (('area lavado') in x)):\n",
    "        contador += 1.0\n",
    "    if (('baño principal') in x):\n",
    "        contador += 1.0\n",
    "    if ((('estacionamiento') in x) | (('garage') in x) | (('cochera') in x)):\n",
    "        contador += 1.0\n",
    "    if (('baño vestidor') in x):\n",
    "        contador += 1.0\n",
    "    if (('sala comedor') in x):\n",
    "        contador += 1.0\n",
    "    if (('baño visita') in x):\n",
    "        contador += 1.0\n",
    "    if (('patio') in x):\n",
    "        contador += 1.0\n",
    "    if ((('sala estudio') in x) | (('estudio sala') in x)):\n",
    "        contador += 1.0\n",
    "    if (('cocina') in x):\n",
    "        contador += 1.0\n",
    "    if (('terraza') in x):\n",
    "        contador += 1.0\n",
    "    if (('informes') in x):\n",
    "        contador += 1.0\n",
    "    if (('recepcion') in x):\n",
    "        contador += 1.0\n",
    "    if (('taller') in x):\n",
    "        contador += 1.0\n",
    "    if (('almacen') in x):\n",
    "        contador += 1.0\n",
    "    return contador"
   ]
  },
  {
   "cell_type": "code",
   "execution_count": 12,
   "metadata": {},
   "outputs": [],
   "source": [
    "def contar_areas_verdes_en_descripcion(row):\n",
    "    contador = 0\n",
    "    x = elimina_tildes(str(row.descripcion))\n",
    "    x = x.lower()\n",
    "    if (('patio') in x):\n",
    "        contador += 1.0\n",
    "    if ((('areas verdes') in x) | (('areas verde') in x)):\n",
    "        contador += 1.0\n",
    "    if (('roof') in x):\n",
    "        contador += 1.0\n",
    "    if (('garden') in x):\n",
    "        contador += 1.0\n",
    "    if ((('jardin') in x) | (('jardines') in x)):\n",
    "        contador += 1.0\n",
    "    if (('terraza') in x):\n",
    "        contador += 1.0\n",
    "    return contador"
   ]
  },
  {
   "cell_type": "code",
   "execution_count": 13,
   "metadata": {},
   "outputs": [],
   "source": [
    "def contar_areas_entretenimiento(row):\n",
    "    contador = 0\n",
    "    x = elimina_tildes(str(row.descripcion))\n",
    "    x = x.lower()\n",
    "    if (('juegos infantiles') in x):\n",
    "        contador += 1.0\n",
    "    if ((('club golf') in x) | (('golf') in x)):\n",
    "        contador += 1.0\n",
    "    if (('campo golf') in x):\n",
    "        contador += 1.0\n",
    "    if (('casa club') in x):\n",
    "        contador += 1.0\n",
    "    if (('cancha tenis') in x):\n",
    "        contador += 1.0\n",
    "    if (('colonia') in x):\n",
    "        contador += 1.0\n",
    "    if (('club alberca') in x):\n",
    "        contador += 1.0\n",
    "    return contador"
   ]
  },
  {
   "cell_type": "code",
   "execution_count": 14,
   "metadata": {},
   "outputs": [],
   "source": [
    "def contar_lugares_cerca(row):\n",
    "    contador = 0\n",
    "    x = elimina_tildes(str(row.descripcion))\n",
    "    x = x.lower()\n",
    "    if (('banco') in x):\n",
    "        contador += 1.0\n",
    "    if (('gimnasio') in x):\n",
    "        contador += 1.0\n",
    "    if (('metro') in x):\n",
    "        contador += 1.0\n",
    "    if (('carretera') in x):\n",
    "        contador += 1.0\n",
    "    if (('restaurante') in x):\n",
    "        contador += 1.0\n",
    "    if (('plaza') in x):\n",
    "        contador += 1.0\n",
    "    if (('parque') in x):\n",
    "        contador += 1.0\n",
    "    if (('escuela') in x):\n",
    "        contador += 1.0\n",
    "    if (('lago') in x):\n",
    "        contador += 1.0\n",
    "    if (('playa') in x):\n",
    "        contador += 1.0\n",
    "    return contador"
   ]
  },
  {
   "cell_type": "code",
   "execution_count": 15,
   "metadata": {},
   "outputs": [],
   "source": [
    "def tiene_planta_alta(row):\n",
    "    x = elimina_tildes(str(row.descripcion))\n",
    "    x = x.lower()\n",
    "    if (('planta alta') in x):\n",
    "        return True\n",
    "    else:\n",
    "        return False"
   ]
  },
  {
   "cell_type": "code",
   "execution_count": 16,
   "metadata": {},
   "outputs": [],
   "source": [
    "def tiene_planta_baja(row):\n",
    "    x = elimina_tildes(str(row.descripcion))\n",
    "    x = x.lower()\n",
    "    if (('planta baja') in x):\n",
    "        return True\n",
    "    else:\n",
    "        return False"
   ]
  },
  {
   "cell_type": "code",
   "execution_count": 17,
   "metadata": {},
   "outputs": [],
   "source": [
    "def tiene_bodega(row):\n",
    "    x = elimina_tildes(str(row.descripcion))\n",
    "    x = x.lower()\n",
    "    if (('bodega') in x):\n",
    "        return True\n",
    "    else:\n",
    "        return False"
   ]
  },
  {
   "cell_type": "code",
   "execution_count": 18,
   "metadata": {},
   "outputs": [],
   "source": [
    "def es_oficina(row):\n",
    "    x = elimina_tildes(str(row.descripcion))\n",
    "    x = x.lower()\n",
    "    if (('oficina') in x):\n",
    "        return True\n",
    "    else:\n",
    "        return False"
   ]
  },
  {
   "cell_type": "code",
   "execution_count": 19,
   "metadata": {},
   "outputs": [],
   "source": [
    "def en_o_cerca_de_esquina(row):\n",
    "    x = elimina_tildes(str(row.descripcion))\n",
    "    x = x.lower()\n",
    "    if (('esquina') in x):\n",
    "        return True\n",
    "    else:\n",
    "        return False"
   ]
  },
  {
   "cell_type": "code",
   "execution_count": 20,
   "metadata": {},
   "outputs": [],
   "source": [
    "def en_o_cerca_de_avenida(row):\n",
    "    x = elimina_tildes(str(row.descripcion))\n",
    "    x = x.lower()\n",
    "    if (('avenida') in x):\n",
    "        return True\n",
    "    else:\n",
    "        return False"
   ]
  },
  {
   "cell_type": "code",
   "execution_count": 21,
   "metadata": {},
   "outputs": [],
   "source": [
    "def es_comercial(row):\n",
    "    x = elimina_tildes(str(row.descripcion))\n",
    "    x = x.lower()\n",
    "    if ((('comercial') in x) | (('comercio') in x)):\n",
    "        return True\n",
    "    else:\n",
    "        return False"
   ]
  },
  {
   "cell_type": "code",
   "execution_count": 22,
   "metadata": {},
   "outputs": [],
   "source": [
    "def tiene_algun_tipo_de_servicio(row):\n",
    "    x = elimina_tildes(str(row.descripcion))\n",
    "    x = x.lower()\n",
    "    if (('servicio') in x):\n",
    "        return True\n",
    "    else:\n",
    "        return False"
   ]
  },
  {
   "cell_type": "code",
   "execution_count": 23,
   "metadata": {},
   "outputs": [],
   "source": [
    "def es_edificio(row):\n",
    "    x = elimina_tildes(str(row.descripcion))\n",
    "    x = x.lower()\n",
    "    if (('edificio') in x):\n",
    "        return True\n",
    "    else:\n",
    "        return False"
   ]
  },
  {
   "cell_type": "code",
   "execution_count": 24,
   "metadata": {},
   "outputs": [],
   "source": [
    "def es_casa(row):\n",
    "    x = elimina_tildes(str(row.descripcion))\n",
    "    x = x.lower()\n",
    "    if (('casa') in x):\n",
    "        return True\n",
    "    else:\n",
    "        return False"
   ]
  },
  {
   "cell_type": "code",
   "execution_count": 25,
   "metadata": {},
   "outputs": [],
   "source": [
    "def es_parte_de_un_lote(row):\n",
    "    x = elimina_tildes(str(row.descripcion))\n",
    "    x = x.lower()\n",
    "    if (('lote') in x):\n",
    "        return True\n",
    "    else:\n",
    "        return False"
   ]
  },
  {
   "cell_type": "code",
   "execution_count": 26,
   "metadata": {},
   "outputs": [],
   "source": [
    "def esta_en_calle_cerrada(row):\n",
    "    x = elimina_tildes(str(row.descripcion))\n",
    "    x = x.lower()\n",
    "    if (('calle cerrada') in x):\n",
    "        return True\n",
    "    else:\n",
    "        return False"
   ]
  },
  {
   "cell_type": "code",
   "execution_count": 27,
   "metadata": {},
   "outputs": [],
   "source": [
    "def indica_medida_frente_y_fondo(row):\n",
    "    x = elimina_tildes(str(row.descripcion))\n",
    "    x = x.lower()\n",
    "    if (('frente fondo') in x):\n",
    "        return True\n",
    "    else:\n",
    "        return False"
   ]
  },
  {
   "cell_type": "code",
   "execution_count": 28,
   "metadata": {},
   "outputs": [],
   "source": [
    "def usa_easybroker(row):\n",
    "    x = elimina_tildes(str(row.descripcion))\n",
    "    x = x.lower()\n",
    "    if (('easybroker') in x):\n",
    "        return True\n",
    "    else:\n",
    "        return False"
   ]
  },
  {
   "cell_type": "code",
   "execution_count": 29,
   "metadata": {},
   "outputs": [],
   "source": [
    "def tiene_algun_tipo_de_seguridad(row):\n",
    "    x = elimina_tildes(str(row.descripcion))\n",
    "    x = x.lower()\n",
    "    if ((('barda perimetral') in x) | \\\n",
    "        (('bardeado') in x) | \\\n",
    "        (('porton electrico') in x) | \\\n",
    "        (('vigilancia') in x) | \\\n",
    "        (('caseta vigilancia') in x) | \\\n",
    "        (('acceso controlado') in x) | \\\n",
    "        (('seguridad') in x)):\n",
    "        return True\n",
    "    else:\n",
    "        return False"
   ]
  },
  {
   "cell_type": "code",
   "execution_count": 30,
   "metadata": {},
   "outputs": [],
   "source": [
    "def add_desc_features(df):\n",
    "    df['cant_comodidades_en_desc'] = df.apply(lambda x: contar_comodidades_en_descripcion(x), axis= 1)\n",
    "    df['cant_palabras_positivas'] = df.apply(lambda x: contar_palabras_positivas(x), axis= 1)\n",
    "    df['cant_areas_dedicadas'] = df.apply(lambda x: contar_areas_dedicadas_en_descripcion(x), axis= 1)\n",
    "    df['cant_areas_verdes'] = df.apply(lambda x: contar_areas_verdes_en_descripcion(x), axis= 1)\n",
    "    df['cant_areas_entretenimiento_cerca'] = df.apply(lambda x: contar_areas_entretenimiento(x), axis= 1)\n",
    "    df['cant_lugares_cerca'] = df.apply(lambda x: contar_lugares_cerca(x), axis= 1)\n",
    "    df['planta_alta'] = df.apply(lambda x: tiene_planta_alta(x), axis= 1)\n",
    "    df['planta_baja'] = df.apply(lambda x: tiene_planta_baja(x), axis= 1)\n",
    "    df['tiene_bodega'] = df.apply(lambda x: tiene_bodega(x), axis= 1)\n",
    "    df['oficina'] = df.apply(lambda x: es_oficina(x), axis= 1)\n",
    "    df['cerca_o_en_esquina'] = df.apply(lambda x: en_o_cerca_de_esquina(x), axis= 1)\n",
    "    df['cerca_o_en_avenida'] = df.apply(lambda x: en_o_cerca_de_avenida(x), axis= 1)\n",
    "    df['comercial'] = df.apply(lambda x: es_comercial(x), axis= 1)\n",
    "    df['tiene_servicio'] = df.apply(lambda x: tiene_algun_tipo_de_servicio(x), axis= 1)\n",
    "    df['edificio'] = df.apply(lambda x: es_edificio(x), axis= 1)\n",
    "    df['casa'] = df.apply(lambda x: es_casa(x), axis= 1)\n",
    "    df['parte_de_lote'] = df.apply(lambda x: es_parte_de_un_lote(x), axis= 1)\n",
    "    df['calle_cerrada'] = df.apply(lambda x: esta_en_calle_cerrada(x), axis= 1)\n",
    "    df['indica_frente_y_fondo'] = df.apply(lambda x: indica_medida_frente_y_fondo(x), axis= 1)\n",
    "    df['usa_easybroker'] = df.apply(lambda x: usa_easybroker(x), axis= 1)\n",
    "    df['tiene_seguridad'] = df.apply(lambda x: tiene_algun_tipo_de_seguridad(x), axis= 1)\n",
    "    return df"
   ]
  },
  {
   "cell_type": "code",
   "execution_count": 31,
   "metadata": {},
   "outputs": [],
   "source": [
    "from multiprocessing import  Pool\n",
    "\n",
    "def parallelize_dataframe(df, func, n_cores):\n",
    "    df_split = np.array_split(df, n_cores)\n",
    "    pool = Pool(n_cores)\n",
    "    df = pd.concat(pool.map(func, df_split))\n",
    "    pool.close()\n",
    "    pool.join()\n",
    "    return df"
   ]
  },
  {
   "cell_type": "code",
   "execution_count": 32,
   "metadata": {},
   "outputs": [],
   "source": [
    "train = parallelize_dataframe(train, add_desc_features, 8)"
   ]
  },
  {
   "cell_type": "code",
   "execution_count": 33,
   "metadata": {},
   "outputs": [],
   "source": [
    "test = parallelize_dataframe(test, add_desc_features, 8)"
   ]
  },
  {
   "cell_type": "code",
   "execution_count": 44,
   "metadata": {},
   "outputs": [],
   "source": [
    "df_train = train.drop(train.columns[[0,1,2,3,4,5,6,7,8,9,10,11,12,13,14,15,16,17,18,19,20,21,22]], axis=1)"
   ]
  },
  {
   "cell_type": "code",
   "execution_count": 42,
   "metadata": {},
   "outputs": [],
   "source": [
    "df_test = test.drop(test.columns[[0, 1, 2,3,4,5,6,7,8,9,10,11,12,13,14,15,16,17,18,19,20,21]], axis=1)"
   ]
  },
  {
   "cell_type": "code",
   "execution_count": 46,
   "metadata": {},
   "outputs": [],
   "source": [
    "df_train.to_csv('../data/train_desc_features.csv',index=False,header=True)"
   ]
  },
  {
   "cell_type": "code",
   "execution_count": 45,
   "metadata": {},
   "outputs": [],
   "source": [
    "df_test.to_csv('../data/test_desc_features.csv',index=False,header=True)"
   ]
  },
  {
   "cell_type": "markdown",
   "metadata": {},
   "source": [
    "# * Fin agregado de features de descripcion *"
   ]
  }
 ],
 "metadata": {
  "kernelspec": {
   "display_name": "Python 3",
   "language": "python",
   "name": "python3"
  },
  "language_info": {
   "codemirror_mode": {
    "name": "ipython",
    "version": 3
   },
   "file_extension": ".py",
   "mimetype": "text/x-python",
   "name": "python",
   "nbconvert_exporter": "python",
   "pygments_lexer": "ipython3",
   "version": "3.7.0"
  }
 },
 "nbformat": 4,
 "nbformat_minor": 4
}
