{
 "cells": [
  {
   "cell_type": "code",
   "execution_count": 2,
   "metadata": {},
   "outputs": [],
   "source": [
    "import pandas as pd"
   ]
  },
  {
   "cell_type": "code",
   "execution_count": 3,
   "metadata": {},
   "outputs": [],
   "source": [
    "res1 = pd.read_csv('../predictions/2019.10.29 - 13:19:02 by rozanecm.csv')\n",
    "res2 = pd.read_csv('../predictions/2019.10.31 - 20:26:47 by rozanecm.csv')\n",
    "res3 = pd.read_csv('../predictions/2019.11.01 - 00:32:25 by rozanecm.csv')"
   ]
  },
  {
   "cell_type": "code",
   "execution_count": 10,
   "metadata": {},
   "outputs": [],
   "source": [
    "df = res1.merge(res2.merge(res3, on='id'))"
   ]
  },
  {
   "cell_type": "code",
   "execution_count": 13,
   "metadata": {},
   "outputs": [
    {
     "data": {
      "text/html": [
       "<div>\n",
       "<style scoped>\n",
       "    .dataframe tbody tr th:only-of-type {\n",
       "        vertical-align: middle;\n",
       "    }\n",
       "\n",
       "    .dataframe tbody tr th {\n",
       "        vertical-align: top;\n",
       "    }\n",
       "\n",
       "    .dataframe thead th {\n",
       "        text-align: right;\n",
       "    }\n",
       "</style>\n",
       "<table border=\"1\" class=\"dataframe\">\n",
       "  <thead>\n",
       "    <tr style=\"text-align: right;\">\n",
       "      <th></th>\n",
       "      <th>id</th>\n",
       "      <th>target</th>\n",
       "      <th>target_x</th>\n",
       "      <th>target_y</th>\n",
       "    </tr>\n",
       "  </thead>\n",
       "  <tbody>\n",
       "    <tr>\n",
       "      <th>59977</th>\n",
       "      <td>255748</td>\n",
       "      <td>1.650462e+06</td>\n",
       "      <td>1.793097e+06</td>\n",
       "      <td>1.629768e+06</td>\n",
       "    </tr>\n",
       "    <tr>\n",
       "      <th>7031</th>\n",
       "      <td>149103</td>\n",
       "      <td>2.102312e+06</td>\n",
       "      <td>2.097438e+06</td>\n",
       "      <td>1.956118e+06</td>\n",
       "    </tr>\n",
       "    <tr>\n",
       "      <th>18118</th>\n",
       "      <td>282545</td>\n",
       "      <td>2.038896e+06</td>\n",
       "      <td>2.145085e+06</td>\n",
       "      <td>2.047965e+06</td>\n",
       "    </tr>\n",
       "    <tr>\n",
       "      <th>36846</th>\n",
       "      <td>67739</td>\n",
       "      <td>2.502465e+06</td>\n",
       "      <td>2.622275e+06</td>\n",
       "      <td>2.546857e+06</td>\n",
       "    </tr>\n",
       "    <tr>\n",
       "      <th>13163</th>\n",
       "      <td>229588</td>\n",
       "      <td>2.520601e+06</td>\n",
       "      <td>2.514501e+06</td>\n",
       "      <td>2.327814e+06</td>\n",
       "    </tr>\n",
       "  </tbody>\n",
       "</table>\n",
       "</div>"
      ],
      "text/plain": [
       "           id        target      target_x      target_y\n",
       "59977  255748  1.650462e+06  1.793097e+06  1.629768e+06\n",
       "7031   149103  2.102312e+06  2.097438e+06  1.956118e+06\n",
       "18118  282545  2.038896e+06  2.145085e+06  2.047965e+06\n",
       "36846   67739  2.502465e+06  2.622275e+06  2.546857e+06\n",
       "13163  229588  2.520601e+06  2.514501e+06  2.327814e+06"
      ]
     },
     "execution_count": 13,
     "metadata": {},
     "output_type": "execute_result"
    }
   ],
   "source": [
    "df.sample(5)"
   ]
  },
  {
   "cell_type": "code",
   "execution_count": 16,
   "metadata": {},
   "outputs": [],
   "source": [
    "df['avg_target'] = df.drop('id',axis=1).mean(axis=1)"
   ]
  },
  {
   "cell_type": "code",
   "execution_count": 19,
   "metadata": {},
   "outputs": [],
   "source": [
    "df.drop(['target','target_x','target_y'], axis=1, inplace=True)"
   ]
  },
  {
   "cell_type": "code",
   "execution_count": 20,
   "metadata": {},
   "outputs": [],
   "source": [
    "df.rename(columns={'avg_target':'target'}, inplace=True)"
   ]
  },
  {
   "cell_type": "code",
   "execution_count": 22,
   "metadata": {},
   "outputs": [
    {
     "data": {
      "text/html": [
       "<div>\n",
       "<style scoped>\n",
       "    .dataframe tbody tr th:only-of-type {\n",
       "        vertical-align: middle;\n",
       "    }\n",
       "\n",
       "    .dataframe tbody tr th {\n",
       "        vertical-align: top;\n",
       "    }\n",
       "\n",
       "    .dataframe thead th {\n",
       "        text-align: right;\n",
       "    }\n",
       "</style>\n",
       "<table border=\"1\" class=\"dataframe\">\n",
       "  <thead>\n",
       "    <tr style=\"text-align: right;\">\n",
       "      <th></th>\n",
       "      <th>id</th>\n",
       "      <th>target</th>\n",
       "    </tr>\n",
       "  </thead>\n",
       "  <tbody>\n",
       "    <tr>\n",
       "      <th>22197</th>\n",
       "      <td>136198</td>\n",
       "      <td>8.748409e+05</td>\n",
       "    </tr>\n",
       "    <tr>\n",
       "      <th>54209</th>\n",
       "      <td>10845</td>\n",
       "      <td>5.865954e+06</td>\n",
       "    </tr>\n",
       "    <tr>\n",
       "      <th>43168</th>\n",
       "      <td>153796</td>\n",
       "      <td>4.498382e+06</td>\n",
       "    </tr>\n",
       "    <tr>\n",
       "      <th>7286</th>\n",
       "      <td>229872</td>\n",
       "      <td>1.954405e+06</td>\n",
       "    </tr>\n",
       "    <tr>\n",
       "      <th>20945</th>\n",
       "      <td>284535</td>\n",
       "      <td>6.458744e+06</td>\n",
       "    </tr>\n",
       "  </tbody>\n",
       "</table>\n",
       "</div>"
      ],
      "text/plain": [
       "           id        target\n",
       "22197  136198  8.748409e+05\n",
       "54209   10845  5.865954e+06\n",
       "43168  153796  4.498382e+06\n",
       "7286   229872  1.954405e+06\n",
       "20945  284535  6.458744e+06"
      ]
     },
     "execution_count": 22,
     "metadata": {},
     "output_type": "execute_result"
    }
   ],
   "source": [
    "df.sample(5)"
   ]
  },
  {
   "cell_type": "code",
   "execution_count": 23,
   "metadata": {},
   "outputs": [],
   "source": [
    "# To save predictions.\n",
    "# There must be a directory ../predictions for this to work as expected.\n",
    "# source: https://gist.github.com/rozanecm/ee8333741db42b10158b3e0aff3f22aa\n",
    "import time\n",
    "def _get_filename(my_name, timestamp):\n",
    "    return \"../predictions/\" + timestamp + \" by \" + my_name + \".csv\"\n",
    "\n",
    "def _save_description(authors_name, timestamp, submission_description):\n",
    "    f = open(\"../predictions/\" + authors_name + \".txt\",\"a\")\n",
    "    f.write(timestamp + \": \" + submission_description + '\\n')\n",
    "    f.close()\n",
    "\n",
    "def save_submission(submission_df, authors_name=\"rozanecm\", description = \"no description.\", index=False, header=True):\n",
    "    timestamp = time.strftime(\"%Y.%m.%d - %H:%M:%S\")\n",
    "    submission_df.to_csv(_get_filename(authors_name, timestamp), index=index, header=header)\n",
    "    _save_description(authors_name, timestamp, description)"
   ]
  },
  {
   "cell_type": "code",
   "execution_count": 24,
   "metadata": {},
   "outputs": [],
   "source": [
    "description = \"Avg of the best approaches (the ones with score < 600000)\"\n",
    "save_submission(df, description=description)"
   ]
  },
  {
   "cell_type": "markdown",
   "metadata": {},
   "source": [
    "## train set..."
   ]
  },
  {
   "cell_type": "code",
   "execution_count": null,
   "metadata": {},
   "outputs": [],
   "source": [
    "res1 = pd.read_csv('../predictions/on_train_data/rozanecm_approach_8')\n",
    "res1 = pd.read_csv('../predictions/on_train_data/rozanecm_approach_8')"
   ]
  },
  {
   "cell_type": "markdown",
   "metadata": {},
   "source": [
    "***\n",
    "# Juntemos los 6 mejores modelos ahora!"
   ]
  },
  {
   "cell_type": "code",
   "execution_count": 3,
   "metadata": {},
   "outputs": [],
   "source": [
    "res1 = pd.read_csv('../predictions/2019.10.29 - 13:19:02 by rozanecm.csv')\n",
    "res2 = pd.read_csv('../predictions/2019.10.31 - 20:26:47 by rozanecm.csv')\n",
    "res3 = pd.read_csv('../predictions/2019.11.01 - 00:32:25 by rozanecm.csv')\n",
    "res4 = pd.read_csv('../predictions/2019.11.03 - 10:46:24 by rozanecm.csv')\n",
    "res5 = pd.read_csv('../predictions/2019.11.04 - 024622 by fcozza.csv')\n",
    "res6 = pd.read_csv('../predictions/2019.11.06 - 222605 by fcozza.csv')"
   ]
  },
  {
   "cell_type": "code",
   "execution_count": 8,
   "metadata": {},
   "outputs": [],
   "source": [
    "df = res1.merge(res2.merge(res3.merge(res4.merge(res5.merge(res6, on='id'), on='id'), on='id'), on='id'), on='id')"
   ]
  },
  {
   "cell_type": "code",
   "execution_count": 9,
   "metadata": {},
   "outputs": [
    {
     "data": {
      "text/html": [
       "<div>\n",
       "<style scoped>\n",
       "    .dataframe tbody tr th:only-of-type {\n",
       "        vertical-align: middle;\n",
       "    }\n",
       "\n",
       "    .dataframe tbody tr th {\n",
       "        vertical-align: top;\n",
       "    }\n",
       "\n",
       "    .dataframe thead th {\n",
       "        text-align: right;\n",
       "    }\n",
       "</style>\n",
       "<table border=\"1\" class=\"dataframe\">\n",
       "  <thead>\n",
       "    <tr style=\"text-align: right;\">\n",
       "      <th></th>\n",
       "      <th>id</th>\n",
       "      <th>target_x</th>\n",
       "      <th>target_y</th>\n",
       "      <th>target_x</th>\n",
       "      <th>target_y</th>\n",
       "      <th>target_x</th>\n",
       "      <th>target_y</th>\n",
       "    </tr>\n",
       "  </thead>\n",
       "  <tbody>\n",
       "    <tr>\n",
       "      <th>31966</th>\n",
       "      <td>264578</td>\n",
       "      <td>9.487154e+05</td>\n",
       "      <td>8.393306e+05</td>\n",
       "      <td>9.537092e+05</td>\n",
       "      <td>9.139184e+05</td>\n",
       "      <td>620688.3</td>\n",
       "      <td>963068.25</td>\n",
       "    </tr>\n",
       "    <tr>\n",
       "      <th>25276</th>\n",
       "      <td>82522</td>\n",
       "      <td>1.795246e+06</td>\n",
       "      <td>1.803160e+06</td>\n",
       "      <td>1.885342e+06</td>\n",
       "      <td>1.827916e+06</td>\n",
       "      <td>1982221.6</td>\n",
       "      <td>1945428.50</td>\n",
       "    </tr>\n",
       "    <tr>\n",
       "      <th>7408</th>\n",
       "      <td>135666</td>\n",
       "      <td>1.585581e+06</td>\n",
       "      <td>1.630466e+06</td>\n",
       "      <td>1.628042e+06</td>\n",
       "      <td>1.614696e+06</td>\n",
       "      <td>1450169.0</td>\n",
       "      <td>1358485.60</td>\n",
       "    </tr>\n",
       "    <tr>\n",
       "      <th>30188</th>\n",
       "      <td>192178</td>\n",
       "      <td>5.993261e+06</td>\n",
       "      <td>6.130768e+06</td>\n",
       "      <td>6.257192e+06</td>\n",
       "      <td>6.127074e+06</td>\n",
       "      <td>6101287.0</td>\n",
       "      <td>6241632.50</td>\n",
       "    </tr>\n",
       "    <tr>\n",
       "      <th>11904</th>\n",
       "      <td>96514</td>\n",
       "      <td>2.458007e+06</td>\n",
       "      <td>2.345973e+06</td>\n",
       "      <td>2.356237e+06</td>\n",
       "      <td>2.386739e+06</td>\n",
       "      <td>2443793.0</td>\n",
       "      <td>2492146.20</td>\n",
       "    </tr>\n",
       "  </tbody>\n",
       "</table>\n",
       "</div>"
      ],
      "text/plain": [
       "           id      target_x      target_y      target_x      target_y  \\\n",
       "31966  264578  9.487154e+05  8.393306e+05  9.537092e+05  9.139184e+05   \n",
       "25276   82522  1.795246e+06  1.803160e+06  1.885342e+06  1.827916e+06   \n",
       "7408   135666  1.585581e+06  1.630466e+06  1.628042e+06  1.614696e+06   \n",
       "30188  192178  5.993261e+06  6.130768e+06  6.257192e+06  6.127074e+06   \n",
       "11904   96514  2.458007e+06  2.345973e+06  2.356237e+06  2.386739e+06   \n",
       "\n",
       "        target_x    target_y  \n",
       "31966   620688.3   963068.25  \n",
       "25276  1982221.6  1945428.50  \n",
       "7408   1450169.0  1358485.60  \n",
       "30188  6101287.0  6241632.50  \n",
       "11904  2443793.0  2492146.20  "
      ]
     },
     "execution_count": 9,
     "metadata": {},
     "output_type": "execute_result"
    }
   ],
   "source": [
    "df.sample(5)"
   ]
  },
  {
   "cell_type": "code",
   "execution_count": 10,
   "metadata": {},
   "outputs": [],
   "source": [
    "df['avg_target'] = df.drop('id',axis=1).mean(axis=1)"
   ]
  },
  {
   "cell_type": "code",
   "execution_count": 11,
   "metadata": {},
   "outputs": [],
   "source": [
    "df.drop(['target_x','target_y'], axis=1, inplace=True)"
   ]
  },
  {
   "cell_type": "code",
   "execution_count": 12,
   "metadata": {},
   "outputs": [],
   "source": [
    "df.rename(columns={'avg_target':'target'}, inplace=True)"
   ]
  },
  {
   "cell_type": "code",
   "execution_count": 13,
   "metadata": {},
   "outputs": [
    {
     "data": {
      "text/html": [
       "<div>\n",
       "<style scoped>\n",
       "    .dataframe tbody tr th:only-of-type {\n",
       "        vertical-align: middle;\n",
       "    }\n",
       "\n",
       "    .dataframe tbody tr th {\n",
       "        vertical-align: top;\n",
       "    }\n",
       "\n",
       "    .dataframe thead th {\n",
       "        text-align: right;\n",
       "    }\n",
       "</style>\n",
       "<table border=\"1\" class=\"dataframe\">\n",
       "  <thead>\n",
       "    <tr style=\"text-align: right;\">\n",
       "      <th></th>\n",
       "      <th>id</th>\n",
       "      <th>target</th>\n",
       "    </tr>\n",
       "  </thead>\n",
       "  <tbody>\n",
       "    <tr>\n",
       "      <th>42259</th>\n",
       "      <td>57358</td>\n",
       "      <td>1.423317e+06</td>\n",
       "    </tr>\n",
       "    <tr>\n",
       "      <th>49837</th>\n",
       "      <td>230039</td>\n",
       "      <td>9.751838e+05</td>\n",
       "    </tr>\n",
       "    <tr>\n",
       "      <th>1058</th>\n",
       "      <td>187155</td>\n",
       "      <td>1.745797e+06</td>\n",
       "    </tr>\n",
       "    <tr>\n",
       "      <th>51033</th>\n",
       "      <td>260716</td>\n",
       "      <td>7.918749e+05</td>\n",
       "    </tr>\n",
       "    <tr>\n",
       "      <th>6906</th>\n",
       "      <td>246238</td>\n",
       "      <td>2.253459e+06</td>\n",
       "    </tr>\n",
       "  </tbody>\n",
       "</table>\n",
       "</div>"
      ],
      "text/plain": [
       "           id        target\n",
       "42259   57358  1.423317e+06\n",
       "49837  230039  9.751838e+05\n",
       "1058   187155  1.745797e+06\n",
       "51033  260716  7.918749e+05\n",
       "6906   246238  2.253459e+06"
      ]
     },
     "execution_count": 13,
     "metadata": {},
     "output_type": "execute_result"
    }
   ],
   "source": [
    "df.sample(5)"
   ]
  },
  {
   "cell_type": "code",
   "execution_count": 14,
   "metadata": {},
   "outputs": [],
   "source": [
    "# To save predictions.\n",
    "# There must be a directory ../predictions for this to work as expected.\n",
    "# source: https://gist.github.com/rozanecm/ee8333741db42b10158b3e0aff3f22aa\n",
    "import time\n",
    "def _get_filename(my_name, timestamp):\n",
    "    return \"../predictions/\" + timestamp + \" by \" + my_name + \".csv\"\n",
    "\n",
    "def _save_description(authors_name, timestamp, submission_description):\n",
    "    f = open(\"../predictions/\" + authors_name + \".txt\",\"a\")\n",
    "    f.write(timestamp + \": \" + submission_description + '\\n')\n",
    "    f.close()\n",
    "\n",
    "def save_submission(submission_df, authors_name=\"rozanecm\", description = \"no description.\", index=False, header=True):\n",
    "    timestamp = time.strftime(\"%Y.%m.%d - %H:%M:%S\")\n",
    "    submission_df.to_csv(_get_filename(authors_name, timestamp), index=index, header=header)\n",
    "    _save_description(authors_name, timestamp, description)"
   ]
  },
  {
   "cell_type": "code",
   "execution_count": 15,
   "metadata": {},
   "outputs": [],
   "source": [
    "description = \"Avg of the 6 best approaches hasta la fecha (the ones with score < 600000)\"\n",
    "save_submission(df, description=description)"
   ]
  }
 ],
 "metadata": {
  "kernelspec": {
   "display_name": "Python 3",
   "language": "python",
   "name": "python3"
  },
  "language_info": {
   "codemirror_mode": {
    "name": "ipython",
    "version": 3
   },
   "file_extension": ".py",
   "mimetype": "text/x-python",
   "name": "python",
   "nbconvert_exporter": "python",
   "pygments_lexer": "ipython3",
   "version": "3.5.2"
  }
 },
 "nbformat": 4,
 "nbformat_minor": 4
}
