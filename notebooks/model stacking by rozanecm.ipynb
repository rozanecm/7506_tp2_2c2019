{
 "cells": [
  {
   "cell_type": "code",
   "execution_count": 65,
   "metadata": {},
   "outputs": [],
   "source": [
    "import pandas as pd\n",
    "import numpy as np"
   ]
  },
  {
   "cell_type": "code",
   "execution_count": 66,
   "metadata": {},
   "outputs": [],
   "source": [
    "# This will allow you to see all column names & rows when you are doing .head(). None of the column name will be truncated.\n",
    "# source: https://stackoverflow.com/questions/49188960/how-to-show-all-of-columns-name-on-pandas-dataframe\n",
    "\n",
    "pd.set_option('display.max_columns', None)\n",
    "# pd.set_option('display.max_rows', None)"
   ]
  },
  {
   "cell_type": "code",
   "execution_count": 67,
   "metadata": {},
   "outputs": [],
   "source": [
    "# source: https://gist.github.com/rozanecm/38f2901c592bdffc40726cb0473318cf\n",
    "# Function which plays a beep of given duration and frequency.\n",
    "# Useful for when executing things that need a while to finish, to get notified.\n",
    "import os\n",
    "def beep(duration = 1, freq = 1500):\n",
    "    \"\"\" play tone of duration in seconds and freq in Hz. \"\"\"\n",
    "    os.system('play --no-show-progress --null --channels 1 synth %s sine %f' % (duration, freq))"
   ]
  },
  {
   "cell_type": "code",
   "execution_count": 68,
   "metadata": {},
   "outputs": [],
   "source": [
    "train = pd.read_csv('../data/train.csv', usecols=['id','precio'])\n",
    "test = pd.read_csv('../data/test.csv', usecols=['id'])"
   ]
  },
  {
   "cell_type": "markdown",
   "metadata": {},
   "source": [
    "# Agregando columnas de predicciones anteriores"
   ]
  },
  {
   "cell_type": "markdown",
   "metadata": {},
   "source": [
    "# target 1 - rf"
   ]
  },
  {
   "cell_type": "code",
   "execution_count": 5,
   "metadata": {},
   "outputs": [],
   "source": [
    "current_target_name = 'target_1'"
   ]
  },
  {
   "cell_type": "code",
   "execution_count": 6,
   "metadata": {},
   "outputs": [],
   "source": [
    "df = pd.read_csv('../predictions/2019.10.28 - 09:12:00 by rozanecm.csv')\n",
    "\n",
    "test = test.merge(df.rename(columns={'target':current_target_name}), on='id')"
   ]
  },
  {
   "cell_type": "code",
   "execution_count": 7,
   "metadata": {},
   "outputs": [],
   "source": [
    "df = pd.read_csv('../predictions/on_train_data/rozanecm_approach_1')\n",
    "\n",
    "train = train.merge(df.rename(columns={'approach_1':current_target_name}), on='id')"
   ]
  },
  {
   "cell_type": "markdown",
   "metadata": {},
   "source": [
    "# target 2 - rf + one hot + svd"
   ]
  },
  {
   "cell_type": "code",
   "execution_count": 8,
   "metadata": {},
   "outputs": [],
   "source": [
    "current_target_name = 'target_2'"
   ]
  },
  {
   "cell_type": "code",
   "execution_count": 9,
   "metadata": {},
   "outputs": [],
   "source": [
    "df = pd.read_csv('../predictions/2019.10.28 - 12:03:46 by rozanecm.csv')\n",
    "\n",
    "test = test.merge(df.rename(columns={'target':current_target_name}), on='id')"
   ]
  },
  {
   "cell_type": "code",
   "execution_count": 10,
   "metadata": {},
   "outputs": [],
   "source": [
    "df = pd.read_csv('../predictions/on_train_data/rozanecm_approach_2')\n",
    "\n",
    "train = train.merge(df.rename(columns={'rozanecm_approach_2':current_target_name}), on='id')"
   ]
  },
  {
   "cell_type": "markdown",
   "metadata": {},
   "source": [
    "# target 3 - rf + one hashing vectorizer + svd"
   ]
  },
  {
   "cell_type": "code",
   "execution_count": 11,
   "metadata": {},
   "outputs": [],
   "source": [
    "current_target_name = 'target_3'"
   ]
  },
  {
   "cell_type": "code",
   "execution_count": 12,
   "metadata": {},
   "outputs": [],
   "source": [
    "df = pd.read_csv('../predictions/2019.10.28 - 14:40:22 by rozanecm.csv')\n",
    "\n",
    "test = test.merge(df.rename(columns={'target':current_target_name}), on='id')"
   ]
  },
  {
   "cell_type": "code",
   "execution_count": 13,
   "metadata": {},
   "outputs": [],
   "source": [
    "df = pd.read_csv('../predictions/on_train_data/rozanecm_approach_3')\n",
    "\n",
    "train = train.merge(df.rename(columns={'rozanecm_approach_3':current_target_name}), on='id')"
   ]
  },
  {
   "cell_type": "markdown",
   "metadata": {},
   "source": [
    "# target 4 - rf + stopwords"
   ]
  },
  {
   "cell_type": "code",
   "execution_count": 14,
   "metadata": {},
   "outputs": [],
   "source": [
    "current_target_name = 'target_4'"
   ]
  },
  {
   "cell_type": "code",
   "execution_count": 15,
   "metadata": {},
   "outputs": [],
   "source": [
    "df = pd.read_csv('../predictions/2019.10.28 - 16:36:13 by rozanecm.csv')\n",
    "\n",
    "test = test.merge(df.rename(columns={'target':current_target_name}), on='id')"
   ]
  },
  {
   "cell_type": "code",
   "execution_count": 16,
   "metadata": {},
   "outputs": [],
   "source": [
    "df = pd.read_csv('../predictions/on_train_data/rozanecm_approach_4')\n",
    "\n",
    "train = train.merge(df.rename(columns={'rozanecm_approach_4':current_target_name}), on='id')"
   ]
  },
  {
   "cell_type": "markdown",
   "metadata": {},
   "source": [
    "# target 5 -lightgbm"
   ]
  },
  {
   "cell_type": "code",
   "execution_count": 17,
   "metadata": {},
   "outputs": [],
   "source": [
    "current_target_name = 'target_5'"
   ]
  },
  {
   "cell_type": "code",
   "execution_count": 18,
   "metadata": {},
   "outputs": [],
   "source": [
    "df = pd.read_csv('../predictions/2019.10.29 - 11:59:35 by rozanecm.csv')\n",
    "\n",
    "test = test.merge(df.rename(columns={'target':current_target_name}), on='id')"
   ]
  },
  {
   "cell_type": "code",
   "execution_count": 19,
   "metadata": {},
   "outputs": [],
   "source": [
    "df = pd.read_csv('../predictions/on_train_data/rozanecm_approach_7')\n",
    "\n",
    "train = train.merge(df.rename(columns={'rozanecm_approach_7':current_target_name}), on='id')"
   ]
  },
  {
   "cell_type": "markdown",
   "metadata": {},
   "source": [
    "# target 6 - lightgbm with grid search"
   ]
  },
  {
   "cell_type": "code",
   "execution_count": 20,
   "metadata": {},
   "outputs": [],
   "source": [
    "current_target_name = 'target_6'"
   ]
  },
  {
   "cell_type": "code",
   "execution_count": 21,
   "metadata": {},
   "outputs": [],
   "source": [
    "df = pd.read_csv('../predictions/2019.10.29 - 13:19:02 by rozanecm.csv')\n",
    "\n",
    "test = test.merge(df.rename(columns={'target':current_target_name}), on='id')"
   ]
  },
  {
   "cell_type": "code",
   "execution_count": 22,
   "metadata": {},
   "outputs": [],
   "source": [
    "df = pd.read_csv('../predictions/on_train_data/rozanecm_approach_8')\n",
    "\n",
    "train = train.merge(df.rename(columns={'rozanecm_approach_8':current_target_name}), on='id')"
   ]
  },
  {
   "cell_type": "markdown",
   "metadata": {},
   "source": [
    "# target 7 - lightgbm with grid search"
   ]
  },
  {
   "cell_type": "code",
   "execution_count": 23,
   "metadata": {},
   "outputs": [],
   "source": [
    "current_target_name = 'target_7'"
   ]
  },
  {
   "cell_type": "code",
   "execution_count": 24,
   "metadata": {},
   "outputs": [],
   "source": [
    "df = pd.read_csv('../predictions/2019.11.11 - 13:07:13 by rozanecm.csv')\n",
    "\n",
    "test = test.merge(df.rename(columns={'target':current_target_name}), on='id')"
   ]
  },
  {
   "cell_type": "code",
   "execution_count": 25,
   "metadata": {},
   "outputs": [],
   "source": [
    "df = pd.read_csv('../predictions/on_train_data/rozanecm_approach_10')\n",
    "\n",
    "train = train.merge(df.rename(columns={'rozanecm_approach_10':current_target_name}), on='id')"
   ]
  },
  {
   "cell_type": "markdown",
   "metadata": {},
   "source": [
    "# target 8 - lightgbm grid search + feat eng"
   ]
  },
  {
   "cell_type": "code",
   "execution_count": 26,
   "metadata": {},
   "outputs": [],
   "source": [
    "current_target_name = 'target_8'"
   ]
  },
  {
   "cell_type": "code",
   "execution_count": 27,
   "metadata": {},
   "outputs": [],
   "source": [
    "df = pd.read_csv('../predictions/2019.10.31 - 20:26:47 by rozanecm.csv')\n",
    "\n",
    "test = test.merge(df.rename(columns={'target':current_target_name}), on='id')"
   ]
  },
  {
   "cell_type": "code",
   "execution_count": 28,
   "metadata": {},
   "outputs": [],
   "source": [
    "df = pd.read_csv('../predictions/on_train_data/rozanecm_approach_1_with_feat_eng')\n",
    "\n",
    "train = train.merge(df.rename(columns={'rozanecm_approach_1_with_feat_eng':current_target_name}), on='id')"
   ]
  },
  {
   "cell_type": "markdown",
   "metadata": {},
   "source": [
    "# target 9 - light gbm grid search all train set + feat eng"
   ]
  },
  {
   "cell_type": "code",
   "execution_count": 29,
   "metadata": {},
   "outputs": [],
   "source": [
    "current_target_name = 'target_9'"
   ]
  },
  {
   "cell_type": "code",
   "execution_count": 30,
   "metadata": {},
   "outputs": [],
   "source": [
    "df = pd.read_csv('../predictions/2019.11.02 - 14:42:20 by rozanecm.csv')\n",
    "\n",
    "test = test.merge(df.rename(columns={'target':current_target_name}), on='id')"
   ]
  },
  {
   "cell_type": "code",
   "execution_count": 31,
   "metadata": {},
   "outputs": [],
   "source": [
    "df = pd.read_csv('../predictions/on_train_data/rozanecm_approach_3_with_feat_eng')\n",
    "\n",
    "train = train.merge(df.rename(columns={'rozanecm_approach_3_with_feat_eng':current_target_name}), on='id')"
   ]
  },
  {
   "cell_type": "markdown",
   "metadata": {},
   "source": [
    "# target 10 - feat selection rf y lightgbm grid search"
   ]
  },
  {
   "cell_type": "code",
   "execution_count": 32,
   "metadata": {},
   "outputs": [],
   "source": [
    "current_target_name = 'target_10'"
   ]
  },
  {
   "cell_type": "code",
   "execution_count": 33,
   "metadata": {},
   "outputs": [],
   "source": [
    "df = pd.read_csv('../predictions/2019.11.02 - 17:01:06 by rozanecm.csv')\n",
    "\n",
    "test = test.merge(df.rename(columns={'target':current_target_name}), on='id')"
   ]
  },
  {
   "cell_type": "code",
   "execution_count": 34,
   "metadata": {},
   "outputs": [],
   "source": [
    "df = pd.read_csv('../predictions/on_train_data/rozanecm_approach_4_with_feat_eng')\n",
    "\n",
    "train = train.merge(df.rename(columns={'rozanecm_approach_4_with_feat_eng':current_target_name}), on='id')"
   ]
  },
  {
   "cell_type": "markdown",
   "metadata": {},
   "source": [
    "# target 11 - ?"
   ]
  },
  {
   "cell_type": "code",
   "execution_count": 35,
   "metadata": {},
   "outputs": [],
   "source": [
    "current_target_name = 'target_11'"
   ]
  },
  {
   "cell_type": "code",
   "execution_count": 36,
   "metadata": {},
   "outputs": [],
   "source": [
    "df = pd.read_csv('../predictions/2019.11.20 - 02_33_23 by rozanecm.csv')\n",
    "\n",
    "test = test.merge(df.rename(columns={'target':current_target_name}), on='id')"
   ]
  },
  {
   "cell_type": "code",
   "execution_count": 37,
   "metadata": {},
   "outputs": [],
   "source": [
    "df = pd.read_csv('../predictions/on_train_data/on_train_data_rozanecm_approach_16')\n",
    "\n",
    "train = train.merge(df.rename(columns={'rozanecm_approach_16':current_target_name}), on='id')"
   ]
  },
  {
   "cell_type": "markdown",
   "metadata": {},
   "source": [
    "# target 12 - lightgbm log precio"
   ]
  },
  {
   "cell_type": "code",
   "execution_count": 38,
   "metadata": {},
   "outputs": [],
   "source": [
    "current_target_name = 'target_12'"
   ]
  },
  {
   "cell_type": "code",
   "execution_count": 39,
   "metadata": {},
   "outputs": [],
   "source": [
    "df = pd.read_csv('../predictions/2019.11.20 - 19:09:38 by rozanecm.csv')\n",
    "\n",
    "test = test.merge(df.rename(columns={'target':current_target_name}), on='id')"
   ]
  },
  {
   "cell_type": "code",
   "execution_count": 40,
   "metadata": {},
   "outputs": [],
   "source": [
    "df = pd.read_csv('../predictions/on_train_data/rozanecm_approach_19')\n",
    "\n",
    "train = train.merge(df.rename(columns={'rozanecm_approach_19':current_target_name}), on='id')"
   ]
  },
  {
   "cell_type": "markdown",
   "metadata": {},
   "source": [
    "# target 13 - lightgbm log precio y skewed features"
   ]
  },
  {
   "cell_type": "code",
   "execution_count": 41,
   "metadata": {},
   "outputs": [],
   "source": [
    "current_target_name = 'target_13'"
   ]
  },
  {
   "cell_type": "code",
   "execution_count": 42,
   "metadata": {},
   "outputs": [],
   "source": [
    "df = pd.read_csv('../predictions/2019.11.20 - 21:19:47 by rozanecm.csv')\n",
    "\n",
    "test = test.merge(df.rename(columns={'target':current_target_name}), on='id')"
   ]
  },
  {
   "cell_type": "code",
   "execution_count": 43,
   "metadata": {},
   "outputs": [],
   "source": [
    "df = pd.read_csv('../predictions/on_train_data/rozanecm_approach_20')\n",
    "\n",
    "train = train.merge(df.rename(columns={'rozanecm_approach_20':current_target_name}), on='id')"
   ]
  },
  {
   "cell_type": "markdown",
   "metadata": {},
   "source": [
    "# target 14 - lightgbm new features"
   ]
  },
  {
   "cell_type": "code",
   "execution_count": 44,
   "metadata": {},
   "outputs": [],
   "source": [
    "current_target_name = 'target_14'"
   ]
  },
  {
   "cell_type": "code",
   "execution_count": 45,
   "metadata": {},
   "outputs": [],
   "source": [
    "df = pd.read_csv('../predictions/2019.11.21 - 15:06:51 by rozanecm.csv')\n",
    "\n",
    "test = test.merge(df.rename(columns={'target':current_target_name}), on='id')"
   ]
  },
  {
   "cell_type": "code",
   "execution_count": 46,
   "metadata": {},
   "outputs": [],
   "source": [
    "df = pd.read_csv('../predictions/on_train_data/rozanecm_approach_24')\n",
    "\n",
    "train = train.merge(df.rename(columns={'rozanecm_approach_24':current_target_name}), on='id')"
   ]
  },
  {
   "cell_type": "markdown",
   "metadata": {},
   "source": [
    "# target 15 - xgboost tunned "
   ]
  },
  {
   "cell_type": "code",
   "execution_count": 47,
   "metadata": {},
   "outputs": [],
   "source": [
    "current_target_name = 'target_15'"
   ]
  },
  {
   "cell_type": "code",
   "execution_count": 48,
   "metadata": {},
   "outputs": [],
   "source": [
    "df = pd.read_csv('../predictions/2019.11.28 - 00:25:43 by fcozza.csv')\n",
    "\n",
    "test = test.merge(df.rename(columns={'target':current_target_name}), on='id')"
   ]
  },
  {
   "cell_type": "code",
   "execution_count": 49,
   "metadata": {},
   "outputs": [],
   "source": [
    "df = pd.read_csv('../predictions/on_train_data/fcozza_approach_1')\n",
    "\n",
    "train = train.merge(df.rename(columns={'fcozza_approach_1':current_target_name}), on='id')"
   ]
  },
  {
   "cell_type": "markdown",
   "metadata": {},
   "source": [
    "# target 16 - lightgbm with features desc"
   ]
  },
  {
   "cell_type": "code",
   "execution_count": 50,
   "metadata": {},
   "outputs": [],
   "source": [
    "current_target_name = 'target_16'"
   ]
  },
  {
   "cell_type": "code",
   "execution_count": 51,
   "metadata": {},
   "outputs": [],
   "source": [
    "df = pd.read_csv('../predictions/2019.11.28 - 00:40:14 by fcozza.csv')\n",
    "\n",
    "test = test.merge(df.rename(columns={'target':current_target_name}), on='id')"
   ]
  },
  {
   "cell_type": "code",
   "execution_count": 52,
   "metadata": {},
   "outputs": [],
   "source": [
    "df = pd.read_csv('../predictions/on_train_data/fcozza_approach_2')\n",
    "\n",
    "train = train.merge(df.rename(columns={'fcozza_approach_2':current_target_name}), on='id')"
   ]
  },
  {
   "cell_type": "code",
   "execution_count": 53,
   "metadata": {},
   "outputs": [
    {
     "data": {
      "text/html": [
       "<div>\n",
       "<style scoped>\n",
       "    .dataframe tbody tr th:only-of-type {\n",
       "        vertical-align: middle;\n",
       "    }\n",
       "\n",
       "    .dataframe tbody tr th {\n",
       "        vertical-align: top;\n",
       "    }\n",
       "\n",
       "    .dataframe thead th {\n",
       "        text-align: right;\n",
       "    }\n",
       "</style>\n",
       "<table border=\"1\" class=\"dataframe\">\n",
       "  <thead>\n",
       "    <tr style=\"text-align: right;\">\n",
       "      <th></th>\n",
       "      <th>id</th>\n",
       "      <th>precio</th>\n",
       "      <th>target_1</th>\n",
       "      <th>target_2</th>\n",
       "      <th>target_3</th>\n",
       "      <th>target_4</th>\n",
       "      <th>target_5</th>\n",
       "      <th>target_6</th>\n",
       "      <th>target_7</th>\n",
       "      <th>target_8</th>\n",
       "      <th>target_9</th>\n",
       "      <th>target_10</th>\n",
       "      <th>target_11</th>\n",
       "      <th>target_12</th>\n",
       "      <th>target_13</th>\n",
       "      <th>target_14</th>\n",
       "      <th>target_15</th>\n",
       "      <th>target_16</th>\n",
       "    </tr>\n",
       "  </thead>\n",
       "  <tbody>\n",
       "    <tr>\n",
       "      <th>95608</th>\n",
       "      <td>290488</td>\n",
       "      <td>4100000.0</td>\n",
       "      <td>4672799.00</td>\n",
       "      <td>4.810050e+06</td>\n",
       "      <td>4879450.00</td>\n",
       "      <td>4639580.00</td>\n",
       "      <td>4.484134e+06</td>\n",
       "      <td>4.681423e+06</td>\n",
       "      <td>4.502614e+06</td>\n",
       "      <td>4.575925e+06</td>\n",
       "      <td>4.788235e+06</td>\n",
       "      <td>4.739619e+06</td>\n",
       "      <td>4.894800e+06</td>\n",
       "      <td>4.691668e+06</td>\n",
       "      <td>4.817670e+06</td>\n",
       "      <td>4.575426e+06</td>\n",
       "      <td>4397045.50</td>\n",
       "      <td>4.762344e+06</td>\n",
       "    </tr>\n",
       "    <tr>\n",
       "      <th>87689</th>\n",
       "      <td>99601</td>\n",
       "      <td>1500000.0</td>\n",
       "      <td>1612207.76</td>\n",
       "      <td>2.163926e+06</td>\n",
       "      <td>2110466.00</td>\n",
       "      <td>1964937.05</td>\n",
       "      <td>1.216200e+06</td>\n",
       "      <td>1.451533e+06</td>\n",
       "      <td>1.744184e+06</td>\n",
       "      <td>1.506670e+06</td>\n",
       "      <td>1.309564e+06</td>\n",
       "      <td>1.456246e+06</td>\n",
       "      <td>2.655687e+06</td>\n",
       "      <td>1.256282e+06</td>\n",
       "      <td>1.170821e+06</td>\n",
       "      <td>1.186832e+06</td>\n",
       "      <td>1376071.20</td>\n",
       "      <td>1.287404e+06</td>\n",
       "    </tr>\n",
       "    <tr>\n",
       "      <th>104771</th>\n",
       "      <td>114899</td>\n",
       "      <td>5380000.0</td>\n",
       "      <td>2881483.40</td>\n",
       "      <td>4.521964e+06</td>\n",
       "      <td>3140647.66</td>\n",
       "      <td>3471990.84</td>\n",
       "      <td>4.013790e+06</td>\n",
       "      <td>3.796583e+06</td>\n",
       "      <td>1.017731e+06</td>\n",
       "      <td>3.242560e+06</td>\n",
       "      <td>3.534122e+06</td>\n",
       "      <td>3.810748e+06</td>\n",
       "      <td>3.719472e+06</td>\n",
       "      <td>4.155339e+06</td>\n",
       "      <td>3.739918e+06</td>\n",
       "      <td>3.851614e+06</td>\n",
       "      <td>3232951.00</td>\n",
       "      <td>3.611323e+06</td>\n",
       "    </tr>\n",
       "    <tr>\n",
       "      <th>202551</th>\n",
       "      <td>197939</td>\n",
       "      <td>627000.0</td>\n",
       "      <td>648293.00</td>\n",
       "      <td>6.113430e+05</td>\n",
       "      <td>842577.20</td>\n",
       "      <td>635370.90</td>\n",
       "      <td>5.424958e+05</td>\n",
       "      <td>7.628756e+05</td>\n",
       "      <td>5.728464e+05</td>\n",
       "      <td>7.046058e+05</td>\n",
       "      <td>5.386717e+05</td>\n",
       "      <td>5.337688e+05</td>\n",
       "      <td>6.747800e+05</td>\n",
       "      <td>7.661362e+05</td>\n",
       "      <td>7.605513e+05</td>\n",
       "      <td>6.881452e+05</td>\n",
       "      <td>578018.44</td>\n",
       "      <td>6.691568e+05</td>\n",
       "    </tr>\n",
       "    <tr>\n",
       "      <th>234629</th>\n",
       "      <td>291043</td>\n",
       "      <td>1600000.0</td>\n",
       "      <td>2364298.56</td>\n",
       "      <td>2.246224e+06</td>\n",
       "      <td>2121744.95</td>\n",
       "      <td>1944397.22</td>\n",
       "      <td>1.901996e+06</td>\n",
       "      <td>2.025680e+06</td>\n",
       "      <td>2.036455e+06</td>\n",
       "      <td>2.107254e+06</td>\n",
       "      <td>1.758963e+06</td>\n",
       "      <td>1.795507e+06</td>\n",
       "      <td>1.995511e+06</td>\n",
       "      <td>1.419442e+06</td>\n",
       "      <td>1.108692e+06</td>\n",
       "      <td>1.399585e+06</td>\n",
       "      <td>1863554.50</td>\n",
       "      <td>1.177249e+06</td>\n",
       "    </tr>\n",
       "  </tbody>\n",
       "</table>\n",
       "</div>"
      ],
      "text/plain": [
       "            id     precio    target_1      target_2    target_3    target_4  \\\n",
       "95608   290488  4100000.0  4672799.00  4.810050e+06  4879450.00  4639580.00   \n",
       "87689    99601  1500000.0  1612207.76  2.163926e+06  2110466.00  1964937.05   \n",
       "104771  114899  5380000.0  2881483.40  4.521964e+06  3140647.66  3471990.84   \n",
       "202551  197939   627000.0   648293.00  6.113430e+05   842577.20   635370.90   \n",
       "234629  291043  1600000.0  2364298.56  2.246224e+06  2121744.95  1944397.22   \n",
       "\n",
       "            target_5      target_6      target_7      target_8      target_9  \\\n",
       "95608   4.484134e+06  4.681423e+06  4.502614e+06  4.575925e+06  4.788235e+06   \n",
       "87689   1.216200e+06  1.451533e+06  1.744184e+06  1.506670e+06  1.309564e+06   \n",
       "104771  4.013790e+06  3.796583e+06  1.017731e+06  3.242560e+06  3.534122e+06   \n",
       "202551  5.424958e+05  7.628756e+05  5.728464e+05  7.046058e+05  5.386717e+05   \n",
       "234629  1.901996e+06  2.025680e+06  2.036455e+06  2.107254e+06  1.758963e+06   \n",
       "\n",
       "           target_10     target_11     target_12     target_13     target_14  \\\n",
       "95608   4.739619e+06  4.894800e+06  4.691668e+06  4.817670e+06  4.575426e+06   \n",
       "87689   1.456246e+06  2.655687e+06  1.256282e+06  1.170821e+06  1.186832e+06   \n",
       "104771  3.810748e+06  3.719472e+06  4.155339e+06  3.739918e+06  3.851614e+06   \n",
       "202551  5.337688e+05  6.747800e+05  7.661362e+05  7.605513e+05  6.881452e+05   \n",
       "234629  1.795507e+06  1.995511e+06  1.419442e+06  1.108692e+06  1.399585e+06   \n",
       "\n",
       "         target_15     target_16  \n",
       "95608   4397045.50  4.762344e+06  \n",
       "87689   1376071.20  1.287404e+06  \n",
       "104771  3232951.00  3.611323e+06  \n",
       "202551   578018.44  6.691568e+05  \n",
       "234629  1863554.50  1.177249e+06  "
      ]
     },
     "execution_count": 53,
     "metadata": {},
     "output_type": "execute_result"
    }
   ],
   "source": [
    "train.sample(5)"
   ]
  },
  {
   "cell_type": "code",
   "execution_count": 54,
   "metadata": {},
   "outputs": [
    {
     "data": {
      "text/html": [
       "<div>\n",
       "<style scoped>\n",
       "    .dataframe tbody tr th:only-of-type {\n",
       "        vertical-align: middle;\n",
       "    }\n",
       "\n",
       "    .dataframe tbody tr th {\n",
       "        vertical-align: top;\n",
       "    }\n",
       "\n",
       "    .dataframe thead th {\n",
       "        text-align: right;\n",
       "    }\n",
       "</style>\n",
       "<table border=\"1\" class=\"dataframe\">\n",
       "  <thead>\n",
       "    <tr style=\"text-align: right;\">\n",
       "      <th></th>\n",
       "      <th>id</th>\n",
       "      <th>target_1</th>\n",
       "      <th>target_2</th>\n",
       "      <th>target_3</th>\n",
       "      <th>target_4</th>\n",
       "      <th>target_5</th>\n",
       "      <th>target_6</th>\n",
       "      <th>target_7</th>\n",
       "      <th>target_8</th>\n",
       "      <th>target_9</th>\n",
       "      <th>target_10</th>\n",
       "      <th>target_11</th>\n",
       "      <th>target_12</th>\n",
       "      <th>target_13</th>\n",
       "      <th>target_14</th>\n",
       "      <th>target_15</th>\n",
       "      <th>target_16</th>\n",
       "    </tr>\n",
       "  </thead>\n",
       "  <tbody>\n",
       "    <tr>\n",
       "      <th>4019</th>\n",
       "      <td>225621</td>\n",
       "      <td>2656776.27</td>\n",
       "      <td>1986344.22</td>\n",
       "      <td>1529508.00</td>\n",
       "      <td>1440589.00</td>\n",
       "      <td>1.733616e+06</td>\n",
       "      <td>1.288096e+06</td>\n",
       "      <td>1.452171e+06</td>\n",
       "      <td>1.463927e+06</td>\n",
       "      <td>1.390172e+06</td>\n",
       "      <td>1.804955e+06</td>\n",
       "      <td>1559820.0</td>\n",
       "      <td>1.080895e+06</td>\n",
       "      <td>1.255019e+06</td>\n",
       "      <td>1.288909e+06</td>\n",
       "      <td>1291976.80</td>\n",
       "      <td>1.231003e+06</td>\n",
       "    </tr>\n",
       "    <tr>\n",
       "      <th>53879</th>\n",
       "      <td>76429</td>\n",
       "      <td>876165.11</td>\n",
       "      <td>975749.00</td>\n",
       "      <td>894559.40</td>\n",
       "      <td>968361.36</td>\n",
       "      <td>8.596921e+05</td>\n",
       "      <td>9.951883e+05</td>\n",
       "      <td>1.019012e+06</td>\n",
       "      <td>8.998895e+05</td>\n",
       "      <td>7.809521e+05</td>\n",
       "      <td>7.574284e+05</td>\n",
       "      <td>1085178.0</td>\n",
       "      <td>1.034940e+06</td>\n",
       "      <td>9.255692e+05</td>\n",
       "      <td>9.799714e+05</td>\n",
       "      <td>1039256.00</td>\n",
       "      <td>1.012230e+06</td>\n",
       "    </tr>\n",
       "    <tr>\n",
       "      <th>10349</th>\n",
       "      <td>263576</td>\n",
       "      <td>734677.00</td>\n",
       "      <td>756136.60</td>\n",
       "      <td>718081.00</td>\n",
       "      <td>698360.00</td>\n",
       "      <td>6.057540e+05</td>\n",
       "      <td>6.556490e+05</td>\n",
       "      <td>6.791855e+05</td>\n",
       "      <td>6.840368e+05</td>\n",
       "      <td>6.705433e+05</td>\n",
       "      <td>6.835292e+05</td>\n",
       "      <td>733170.0</td>\n",
       "      <td>7.207039e+05</td>\n",
       "      <td>7.676354e+05</td>\n",
       "      <td>6.677716e+05</td>\n",
       "      <td>691672.80</td>\n",
       "      <td>6.359286e+05</td>\n",
       "    </tr>\n",
       "    <tr>\n",
       "      <th>8342</th>\n",
       "      <td>295401</td>\n",
       "      <td>5361251.74</td>\n",
       "      <td>4953170.00</td>\n",
       "      <td>4869617.33</td>\n",
       "      <td>5015910.00</td>\n",
       "      <td>5.782407e+06</td>\n",
       "      <td>5.695656e+06</td>\n",
       "      <td>6.024292e+06</td>\n",
       "      <td>5.715766e+06</td>\n",
       "      <td>5.618682e+06</td>\n",
       "      <td>5.840869e+06</td>\n",
       "      <td>5147448.2</td>\n",
       "      <td>5.559134e+06</td>\n",
       "      <td>5.749447e+06</td>\n",
       "      <td>5.427646e+06</td>\n",
       "      <td>5570898.00</td>\n",
       "      <td>5.657456e+06</td>\n",
       "    </tr>\n",
       "    <tr>\n",
       "      <th>40869</th>\n",
       "      <td>213211</td>\n",
       "      <td>430102.00</td>\n",
       "      <td>359724.02</td>\n",
       "      <td>363647.73</td>\n",
       "      <td>360735.44</td>\n",
       "      <td>3.714808e+05</td>\n",
       "      <td>4.046672e+05</td>\n",
       "      <td>3.639508e+05</td>\n",
       "      <td>4.541426e+05</td>\n",
       "      <td>2.798423e+05</td>\n",
       "      <td>3.375385e+05</td>\n",
       "      <td>418702.0</td>\n",
       "      <td>3.725175e+05</td>\n",
       "      <td>3.727190e+05</td>\n",
       "      <td>3.878046e+05</td>\n",
       "      <td>354675.94</td>\n",
       "      <td>3.821897e+05</td>\n",
       "    </tr>\n",
       "  </tbody>\n",
       "</table>\n",
       "</div>"
      ],
      "text/plain": [
       "           id    target_1    target_2    target_3    target_4      target_5  \\\n",
       "4019   225621  2656776.27  1986344.22  1529508.00  1440589.00  1.733616e+06   \n",
       "53879   76429   876165.11   975749.00   894559.40   968361.36  8.596921e+05   \n",
       "10349  263576   734677.00   756136.60   718081.00   698360.00  6.057540e+05   \n",
       "8342   295401  5361251.74  4953170.00  4869617.33  5015910.00  5.782407e+06   \n",
       "40869  213211   430102.00   359724.02   363647.73   360735.44  3.714808e+05   \n",
       "\n",
       "           target_6      target_7      target_8      target_9     target_10  \\\n",
       "4019   1.288096e+06  1.452171e+06  1.463927e+06  1.390172e+06  1.804955e+06   \n",
       "53879  9.951883e+05  1.019012e+06  8.998895e+05  7.809521e+05  7.574284e+05   \n",
       "10349  6.556490e+05  6.791855e+05  6.840368e+05  6.705433e+05  6.835292e+05   \n",
       "8342   5.695656e+06  6.024292e+06  5.715766e+06  5.618682e+06  5.840869e+06   \n",
       "40869  4.046672e+05  3.639508e+05  4.541426e+05  2.798423e+05  3.375385e+05   \n",
       "\n",
       "       target_11     target_12     target_13     target_14   target_15  \\\n",
       "4019   1559820.0  1.080895e+06  1.255019e+06  1.288909e+06  1291976.80   \n",
       "53879  1085178.0  1.034940e+06  9.255692e+05  9.799714e+05  1039256.00   \n",
       "10349   733170.0  7.207039e+05  7.676354e+05  6.677716e+05   691672.80   \n",
       "8342   5147448.2  5.559134e+06  5.749447e+06  5.427646e+06  5570898.00   \n",
       "40869   418702.0  3.725175e+05  3.727190e+05  3.878046e+05   354675.94   \n",
       "\n",
       "          target_16  \n",
       "4019   1.231003e+06  \n",
       "53879  1.012230e+06  \n",
       "10349  6.359286e+05  \n",
       "8342   5.657456e+06  \n",
       "40869  3.821897e+05  "
      ]
     },
     "execution_count": 54,
     "metadata": {},
     "output_type": "execute_result"
    }
   ],
   "source": [
    "test.sample(5)"
   ]
  },
  {
   "cell_type": "code",
   "execution_count": 58,
   "metadata": {},
   "outputs": [],
   "source": [
    "import lightgbm as lgb\n",
    "\n",
    "model = lgb.LGBMRegressor(boosting_type='gbdt', class_weight=None, colsample_bytree=1.0,\n",
    "                                  importance_type='split', learning_rate=0.05, max_depth=75,\n",
    "                                  min_child_samples=20, min_child_weight=0.001, min_split_gain=0.0,\n",
    "                                  n_estimators=200, n_jobs=-1, num_leaves=1200, objective=None,\n",
    "                                  random_state=None, reg_alpha=0.0, reg_lambda=0.0, silent=False,\n",
    "                                  subsample=1.0, subsample_for_bin=200000, subsample_freq=0)"
   ]
  },
  {
   "cell_type": "code",
   "execution_count": 56,
   "metadata": {},
   "outputs": [],
   "source": [
    "X = train.drop(['precio'], axis=1) #set de datos\n",
    "y = train['precio'] #target"
   ]
  },
  {
   "cell_type": "code",
   "execution_count": 59,
   "metadata": {},
   "outputs": [],
   "source": [
    "model = model.fit(X, y)"
   ]
  },
  {
   "cell_type": "code",
   "execution_count": 60,
   "metadata": {},
   "outputs": [],
   "source": [
    "y_pred = model.predict(test)"
   ]
  },
  {
   "cell_type": "code",
   "execution_count": 62,
   "metadata": {},
   "outputs": [],
   "source": [
    "df = pd.DataFrame(data={'id':test['id'], 'target':y_pred})"
   ]
  },
  {
   "cell_type": "code",
   "execution_count": 63,
   "metadata": {},
   "outputs": [],
   "source": [
    "# To save predictions.\n",
    "# There must be a directory ../predictions for this to work as expected.\n",
    "# source: https://gist.github.com/rozanecm/ee8333741db42b10158b3e0aff3f22aa\n",
    "import time\n",
    "def _get_filename(my_name, timestamp):\n",
    "    return \"../predictions/\" + timestamp + \" by \" + my_name + \".csv\"\n",
    "\n",
    "def _save_description(authors_name, timestamp, submission_description):\n",
    "    f = open(\"../predictions/\" + authors_name + \".txt\",\"a\")\n",
    "    f.write(timestamp + \": \" + submission_description + '\\n')\n",
    "    f.close()\n",
    "\n",
    "def save_submission(submission_df, authors_name=\"fcozza\", description = \"no description.\", index=False, header=True):\n",
    "    timestamp = time.strftime(\"%Y.%m.%d - %H:%M:%S\")\n",
    "    submission_df.to_csv(_get_filename(authors_name, timestamp), index=index, header=header)\n",
    "    _save_description(authors_name, timestamp, description)"
   ]
  },
  {
   "cell_type": "code",
   "execution_count": 64,
   "metadata": {},
   "outputs": [],
   "source": [
    "description = \"Stacking approach with all targets\"\n",
    "save_submission(df, description=description)"
   ]
  },
  {
   "cell_type": "markdown",
   "metadata": {},
   "source": [
    "# Stacking solo para los mejores scores y sin relacion entre ellos"
   ]
  },
  {
   "cell_type": "markdown",
   "metadata": {},
   "source": [
    "# target 2 - rf + one hot + svd"
   ]
  },
  {
   "cell_type": "code",
   "execution_count": 69,
   "metadata": {},
   "outputs": [],
   "source": [
    "current_target_name = 'target_2'"
   ]
  },
  {
   "cell_type": "code",
   "execution_count": 70,
   "metadata": {},
   "outputs": [],
   "source": [
    "df = pd.read_csv('../predictions/2019.10.28 - 12:03:46 by rozanecm.csv')\n",
    "\n",
    "test = test.merge(df.rename(columns={'target':current_target_name}), on='id')"
   ]
  },
  {
   "cell_type": "code",
   "execution_count": 71,
   "metadata": {},
   "outputs": [],
   "source": [
    "df = pd.read_csv('../predictions/on_train_data/rozanecm_approach_2')\n",
    "\n",
    "train = train.merge(df.rename(columns={'rozanecm_approach_2':current_target_name}), on='id')"
   ]
  },
  {
   "cell_type": "markdown",
   "metadata": {},
   "source": [
    "# target 15 - xgboost tunned "
   ]
  },
  {
   "cell_type": "code",
   "execution_count": 72,
   "metadata": {},
   "outputs": [],
   "source": [
    "current_target_name = 'target_15'"
   ]
  },
  {
   "cell_type": "code",
   "execution_count": 73,
   "metadata": {},
   "outputs": [],
   "source": [
    "df = pd.read_csv('../predictions/2019.11.28 - 00:25:43 by fcozza.csv')\n",
    "\n",
    "test = test.merge(df.rename(columns={'target':current_target_name}), on='id')"
   ]
  },
  {
   "cell_type": "code",
   "execution_count": 74,
   "metadata": {},
   "outputs": [],
   "source": [
    "df = pd.read_csv('../predictions/on_train_data/fcozza_approach_1')\n",
    "\n",
    "train = train.merge(df.rename(columns={'fcozza_approach_1':current_target_name}), on='id')"
   ]
  },
  {
   "cell_type": "markdown",
   "metadata": {},
   "source": [
    "# target 16 - lightgbm with features desc"
   ]
  },
  {
   "cell_type": "code",
   "execution_count": 75,
   "metadata": {},
   "outputs": [],
   "source": [
    "current_target_name = 'target_16'"
   ]
  },
  {
   "cell_type": "code",
   "execution_count": 76,
   "metadata": {},
   "outputs": [],
   "source": [
    "df = pd.read_csv('../predictions/2019.11.28 - 00:40:14 by fcozza.csv')\n",
    "\n",
    "test = test.merge(df.rename(columns={'target':current_target_name}), on='id')"
   ]
  },
  {
   "cell_type": "code",
   "execution_count": 77,
   "metadata": {},
   "outputs": [],
   "source": [
    "df = pd.read_csv('../predictions/on_train_data/fcozza_approach_2')\n",
    "\n",
    "train = train.merge(df.rename(columns={'fcozza_approach_2':current_target_name}), on='id')"
   ]
  },
  {
   "cell_type": "code",
   "execution_count": 78,
   "metadata": {},
   "outputs": [
    {
     "data": {
      "text/html": [
       "<div>\n",
       "<style scoped>\n",
       "    .dataframe tbody tr th:only-of-type {\n",
       "        vertical-align: middle;\n",
       "    }\n",
       "\n",
       "    .dataframe tbody tr th {\n",
       "        vertical-align: top;\n",
       "    }\n",
       "\n",
       "    .dataframe thead th {\n",
       "        text-align: right;\n",
       "    }\n",
       "</style>\n",
       "<table border=\"1\" class=\"dataframe\">\n",
       "  <thead>\n",
       "    <tr style=\"text-align: right;\">\n",
       "      <th></th>\n",
       "      <th>id</th>\n",
       "      <th>precio</th>\n",
       "      <th>target_2</th>\n",
       "      <th>target_15</th>\n",
       "      <th>target_16</th>\n",
       "    </tr>\n",
       "  </thead>\n",
       "  <tbody>\n",
       "    <tr>\n",
       "      <th>205439</th>\n",
       "      <td>152170</td>\n",
       "      <td>1200000.0</td>\n",
       "      <td>1.690990e+06</td>\n",
       "      <td>1444150.9</td>\n",
       "      <td>1.451783e+06</td>\n",
       "    </tr>\n",
       "    <tr>\n",
       "      <th>237661</th>\n",
       "      <td>30682</td>\n",
       "      <td>2550000.0</td>\n",
       "      <td>3.931180e+06</td>\n",
       "      <td>3782170.8</td>\n",
       "      <td>3.765694e+06</td>\n",
       "    </tr>\n",
       "    <tr>\n",
       "      <th>115305</th>\n",
       "      <td>268547</td>\n",
       "      <td>1230000.0</td>\n",
       "      <td>1.175270e+06</td>\n",
       "      <td>1262148.2</td>\n",
       "      <td>1.228714e+06</td>\n",
       "    </tr>\n",
       "    <tr>\n",
       "      <th>190238</th>\n",
       "      <td>16015</td>\n",
       "      <td>2550000.0</td>\n",
       "      <td>4.657736e+06</td>\n",
       "      <td>4068437.2</td>\n",
       "      <td>3.233715e+06</td>\n",
       "    </tr>\n",
       "    <tr>\n",
       "      <th>238016</th>\n",
       "      <td>44936</td>\n",
       "      <td>2290000.0</td>\n",
       "      <td>2.580847e+06</td>\n",
       "      <td>2821843.2</td>\n",
       "      <td>2.789336e+06</td>\n",
       "    </tr>\n",
       "  </tbody>\n",
       "</table>\n",
       "</div>"
      ],
      "text/plain": [
       "            id     precio      target_2  target_15     target_16\n",
       "205439  152170  1200000.0  1.690990e+06  1444150.9  1.451783e+06\n",
       "237661   30682  2550000.0  3.931180e+06  3782170.8  3.765694e+06\n",
       "115305  268547  1230000.0  1.175270e+06  1262148.2  1.228714e+06\n",
       "190238   16015  2550000.0  4.657736e+06  4068437.2  3.233715e+06\n",
       "238016   44936  2290000.0  2.580847e+06  2821843.2  2.789336e+06"
      ]
     },
     "execution_count": 78,
     "metadata": {},
     "output_type": "execute_result"
    }
   ],
   "source": [
    "train.sample(5)"
   ]
  },
  {
   "cell_type": "code",
   "execution_count": 79,
   "metadata": {},
   "outputs": [
    {
     "data": {
      "text/html": [
       "<div>\n",
       "<style scoped>\n",
       "    .dataframe tbody tr th:only-of-type {\n",
       "        vertical-align: middle;\n",
       "    }\n",
       "\n",
       "    .dataframe tbody tr th {\n",
       "        vertical-align: top;\n",
       "    }\n",
       "\n",
       "    .dataframe thead th {\n",
       "        text-align: right;\n",
       "    }\n",
       "</style>\n",
       "<table border=\"1\" class=\"dataframe\">\n",
       "  <thead>\n",
       "    <tr style=\"text-align: right;\">\n",
       "      <th></th>\n",
       "      <th>id</th>\n",
       "      <th>target_2</th>\n",
       "      <th>target_15</th>\n",
       "      <th>target_16</th>\n",
       "    </tr>\n",
       "  </thead>\n",
       "  <tbody>\n",
       "    <tr>\n",
       "      <th>43000</th>\n",
       "      <td>6705</td>\n",
       "      <td>1619015.69</td>\n",
       "      <td>1506820.10</td>\n",
       "      <td>1.105231e+06</td>\n",
       "    </tr>\n",
       "    <tr>\n",
       "      <th>35520</th>\n",
       "      <td>241317</td>\n",
       "      <td>1402112.16</td>\n",
       "      <td>1640528.80</td>\n",
       "      <td>1.295102e+06</td>\n",
       "    </tr>\n",
       "    <tr>\n",
       "      <th>19845</th>\n",
       "      <td>16742</td>\n",
       "      <td>2096175.00</td>\n",
       "      <td>2539204.50</td>\n",
       "      <td>2.132457e+06</td>\n",
       "    </tr>\n",
       "    <tr>\n",
       "      <th>21255</th>\n",
       "      <td>148426</td>\n",
       "      <td>1122573.69</td>\n",
       "      <td>352916.53</td>\n",
       "      <td>6.678901e+05</td>\n",
       "    </tr>\n",
       "    <tr>\n",
       "      <th>29479</th>\n",
       "      <td>74444</td>\n",
       "      <td>1780578.11</td>\n",
       "      <td>1850491.50</td>\n",
       "      <td>1.750497e+06</td>\n",
       "    </tr>\n",
       "  </tbody>\n",
       "</table>\n",
       "</div>"
      ],
      "text/plain": [
       "           id    target_2   target_15     target_16\n",
       "43000    6705  1619015.69  1506820.10  1.105231e+06\n",
       "35520  241317  1402112.16  1640528.80  1.295102e+06\n",
       "19845   16742  2096175.00  2539204.50  2.132457e+06\n",
       "21255  148426  1122573.69   352916.53  6.678901e+05\n",
       "29479   74444  1780578.11  1850491.50  1.750497e+06"
      ]
     },
     "execution_count": 79,
     "metadata": {},
     "output_type": "execute_result"
    }
   ],
   "source": [
    "test.sample(5)"
   ]
  },
  {
   "cell_type": "code",
   "execution_count": 80,
   "metadata": {},
   "outputs": [],
   "source": [
    "import lightgbm as lgb\n",
    "\n",
    "model = lgb.LGBMRegressor(boosting_type='gbdt', class_weight=None, colsample_bytree=1.0,\n",
    "                                  importance_type='split', learning_rate=0.05, max_depth=75,\n",
    "                                  min_child_samples=20, min_child_weight=0.001, min_split_gain=0.0,\n",
    "                                  n_estimators=200, n_jobs=-1, num_leaves=1200, objective=None,\n",
    "                                  random_state=None, reg_alpha=0.0, reg_lambda=0.0, silent=False,\n",
    "                                  subsample=1.0, subsample_for_bin=200000, subsample_freq=0)"
   ]
  },
  {
   "cell_type": "code",
   "execution_count": 81,
   "metadata": {},
   "outputs": [],
   "source": [
    "X = train.drop(['precio'], axis=1) #set de datos\n",
    "y = train['precio'] #target"
   ]
  },
  {
   "cell_type": "code",
   "execution_count": 82,
   "metadata": {},
   "outputs": [],
   "source": [
    "model = model.fit(X, y)"
   ]
  },
  {
   "cell_type": "code",
   "execution_count": 83,
   "metadata": {},
   "outputs": [],
   "source": [
    "y_pred = model.predict(test)"
   ]
  },
  {
   "cell_type": "code",
   "execution_count": 84,
   "metadata": {},
   "outputs": [],
   "source": [
    "# To save predictions.\n",
    "# There must be a directory ../predictions for this to work as expected.\n",
    "# source: https://gist.github.com/rozanecm/ee8333741db42b10158b3e0aff3f22aa\n",
    "import time\n",
    "def _get_filename(my_name, timestamp):\n",
    "    return \"../predictions/\" + timestamp + \" by \" + my_name + \".csv\"\n",
    "\n",
    "def _save_description(authors_name, timestamp, submission_description):\n",
    "    f = open(\"../predictions/\" + authors_name + \".txt\",\"a\")\n",
    "    f.write(timestamp + \": \" + submission_description + '\\n')\n",
    "    f.close()\n",
    "\n",
    "def save_submission(submission_df, authors_name=\"fcozza\", description = \"no description.\", index=False, header=True):\n",
    "    timestamp = time.strftime(\"%Y.%m.%d - %H:%M:%S\")\n",
    "    submission_df.to_csv(_get_filename(authors_name, timestamp), index=index, header=header)\n",
    "    _save_description(authors_name, timestamp, description)"
   ]
  },
  {
   "cell_type": "code",
   "execution_count": 85,
   "metadata": {},
   "outputs": [],
   "source": [
    "df = pd.DataFrame(data={'id':test['id'], 'target':y_pred})"
   ]
  },
  {
   "cell_type": "code",
   "execution_count": 86,
   "metadata": {},
   "outputs": [],
   "source": [
    "description = \"Stacking approach with selected targets\"\n",
    "save_submission(df, description=description)"
   ]
  },
  {
   "cell_type": "markdown",
   "metadata": {},
   "source": [
    "# No mejora, es mejor usar todos los targets"
   ]
  },
  {
   "cell_type": "code",
   "execution_count": null,
   "metadata": {},
   "outputs": [],
   "source": []
  }
 ],
 "metadata": {
  "kernelspec": {
   "display_name": "Python 3",
   "language": "python",
   "name": "python3"
  },
  "language_info": {
   "codemirror_mode": {
    "name": "ipython",
    "version": 3
   },
   "file_extension": ".py",
   "mimetype": "text/x-python",
   "name": "python",
   "nbconvert_exporter": "python",
   "pygments_lexer": "ipython3",
   "version": "3.7.0"
  }
 },
 "nbformat": 4,
 "nbformat_minor": 4
}
