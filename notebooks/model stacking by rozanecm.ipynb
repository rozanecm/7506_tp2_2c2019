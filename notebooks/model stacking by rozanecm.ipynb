{
 "cells": [
  {
   "cell_type": "code",
   "execution_count": 3,
   "metadata": {},
   "outputs": [],
   "source": [
    "import pandas as pd\n",
    "import numpy as np"
   ]
  },
  {
   "cell_type": "code",
   "execution_count": 4,
   "metadata": {},
   "outputs": [],
   "source": [
    "# This will allow you to see all column names & rows when you are doing .head(). None of the column name will be truncated.\n",
    "# source: https://stackoverflow.com/questions/49188960/how-to-show-all-of-columns-name-on-pandas-dataframe\n",
    "\n",
    "pd.set_option('display.max_columns', None)\n",
    "# pd.set_option('display.max_rows', None)"
   ]
  },
  {
   "cell_type": "code",
   "execution_count": 5,
   "metadata": {},
   "outputs": [],
   "source": [
    "# source: https://gist.github.com/rozanecm/38f2901c592bdffc40726cb0473318cf\n",
    "# Function which plays a beep of given duration and frequency.\n",
    "# Useful for when executing things that need a while to finish, to get notified.\n",
    "import os\n",
    "def beep(duration = 1, freq = 1500):\n",
    "    \"\"\" play tone of duration in seconds and freq in Hz. \"\"\"\n",
    "    os.system('play --no-show-progress --null --channels 1 synth %s sine %f' % (duration, freq))"
   ]
  },
  {
   "cell_type": "code",
   "execution_count": 6,
   "metadata": {},
   "outputs": [],
   "source": [
    "train = pd.read_csv('../data/train.csv', usecols=['id','precio'])\n",
    "test = pd.read_csv('../data/test.csv', usecols=['id'])"
   ]
  },
  {
   "cell_type": "markdown",
   "metadata": {},
   "source": [
    "# Agregando columnas de predicciones anteriores"
   ]
  },
  {
   "cell_type": "markdown",
   "metadata": {},
   "source": [
    "# target 1"
   ]
  },
  {
   "cell_type": "code",
   "execution_count": 7,
   "metadata": {},
   "outputs": [],
   "source": [
    "current_target_name = 'target_1'"
   ]
  },
  {
   "cell_type": "code",
   "execution_count": 8,
   "metadata": {},
   "outputs": [],
   "source": [
    "df = pd.read_csv('../predictions/2019.10.28 - 09:12:00 by rozanecm.csv')\n",
    "\n",
    "test = test.merge(df.rename(columns={'target':current_target_name}), on='id')"
   ]
  },
  {
   "cell_type": "code",
   "execution_count": 9,
   "metadata": {},
   "outputs": [],
   "source": [
    "df = pd.read_csv('../predictions/on_train_data/rozanecm_approach_1')\n",
    "\n",
    "train = train.merge(df.rename(columns={'approach_1':current_target_name}), on='id')"
   ]
  },
  {
   "cell_type": "markdown",
   "metadata": {},
   "source": [
    "# target 2"
   ]
  },
  {
   "cell_type": "code",
   "execution_count": 10,
   "metadata": {},
   "outputs": [],
   "source": [
    "current_target_name = 'target_2'"
   ]
  },
  {
   "cell_type": "code",
   "execution_count": 11,
   "metadata": {},
   "outputs": [],
   "source": [
    "df = pd.read_csv('../predictions/2019.10.28 - 12:03:46 by rozanecm.csv')\n",
    "\n",
    "test = test.merge(df.rename(columns={'target':current_target_name}), on='id')"
   ]
  },
  {
   "cell_type": "code",
   "execution_count": 12,
   "metadata": {},
   "outputs": [],
   "source": [
    "df = pd.read_csv('../predictions/on_train_data/rozanecm_approach_2')\n",
    "\n",
    "train = train.merge(df.rename(columns={'rozanecm_approach_2':current_target_name}), on='id')"
   ]
  },
  {
   "cell_type": "markdown",
   "metadata": {},
   "source": [
    "# target 3"
   ]
  },
  {
   "cell_type": "code",
   "execution_count": 13,
   "metadata": {},
   "outputs": [],
   "source": [
    "current_target_name = 'target_3'"
   ]
  },
  {
   "cell_type": "code",
   "execution_count": 14,
   "metadata": {},
   "outputs": [],
   "source": [
    "df = pd.read_csv('../predictions/2019.10.28 - 14:40:22 by rozanecm.csv')\n",
    "\n",
    "test = test.merge(df.rename(columns={'target':current_target_name}), on='id')"
   ]
  },
  {
   "cell_type": "code",
   "execution_count": 15,
   "metadata": {},
   "outputs": [],
   "source": [
    "df = pd.read_csv('../predictions/on_train_data/rozanecm_approach_3')\n",
    "\n",
    "train = train.merge(df.rename(columns={'rozanecm_approach_3':current_target_name}), on='id')"
   ]
  },
  {
   "cell_type": "markdown",
   "metadata": {},
   "source": [
    "# target 4"
   ]
  },
  {
   "cell_type": "code",
   "execution_count": 16,
   "metadata": {},
   "outputs": [],
   "source": [
    "current_target_name = 'target_4'"
   ]
  },
  {
   "cell_type": "code",
   "execution_count": 17,
   "metadata": {},
   "outputs": [],
   "source": [
    "df = pd.read_csv('../predictions/2019.10.28 - 16:36:13 by rozanecm.csv')\n",
    "\n",
    "test = test.merge(df.rename(columns={'target':current_target_name}), on='id')"
   ]
  },
  {
   "cell_type": "code",
   "execution_count": 18,
   "metadata": {},
   "outputs": [],
   "source": [
    "df = pd.read_csv('../predictions/on_train_data/rozanecm_approach_4')\n",
    "\n",
    "train = train.merge(df.rename(columns={'rozanecm_approach_4':current_target_name}), on='id')"
   ]
  },
  {
   "cell_type": "markdown",
   "metadata": {},
   "source": [
    "# target 5"
   ]
  },
  {
   "cell_type": "code",
   "execution_count": 19,
   "metadata": {},
   "outputs": [],
   "source": [
    "current_target_name = 'target_5'"
   ]
  },
  {
   "cell_type": "code",
   "execution_count": 20,
   "metadata": {},
   "outputs": [],
   "source": [
    "df = pd.read_csv('../predictions/2019.10.29 - 11:59:35 by rozanecm.csv')\n",
    "\n",
    "test = test.merge(df.rename(columns={'target':current_target_name}), on='id')"
   ]
  },
  {
   "cell_type": "code",
   "execution_count": 21,
   "metadata": {},
   "outputs": [],
   "source": [
    "df = pd.read_csv('../predictions/on_train_data/rozanecm_approach_7')\n",
    "\n",
    "train = train.merge(df.rename(columns={'rozanecm_approach_7':current_target_name}), on='id')"
   ]
  },
  {
   "cell_type": "markdown",
   "metadata": {},
   "source": [
    "# target 6"
   ]
  },
  {
   "cell_type": "code",
   "execution_count": 22,
   "metadata": {},
   "outputs": [],
   "source": [
    "current_target_name = 'target_6'"
   ]
  },
  {
   "cell_type": "code",
   "execution_count": 23,
   "metadata": {},
   "outputs": [],
   "source": [
    "df = pd.read_csv('../predictions/2019.10.29 - 13:19:02 by rozanecm.csv')\n",
    "\n",
    "test = test.merge(df.rename(columns={'target':current_target_name}), on='id')"
   ]
  },
  {
   "cell_type": "code",
   "execution_count": 24,
   "metadata": {},
   "outputs": [],
   "source": [
    "df = pd.read_csv('../predictions/on_train_data/rozanecm_approach_8')\n",
    "\n",
    "train = train.merge(df.rename(columns={'rozanecm_approach_8':current_target_name}), on='id')"
   ]
  },
  {
   "cell_type": "markdown",
   "metadata": {},
   "source": [
    "# target 7"
   ]
  },
  {
   "cell_type": "code",
   "execution_count": 25,
   "metadata": {},
   "outputs": [],
   "source": [
    "current_target_name = 'target_7'"
   ]
  },
  {
   "cell_type": "code",
   "execution_count": 26,
   "metadata": {},
   "outputs": [],
   "source": [
    "df = pd.read_csv('../predictions/2019.11.11 - 13:07:13 by rozanecm.csv')\n",
    "\n",
    "test = test.merge(df.rename(columns={'target':current_target_name}), on='id')"
   ]
  },
  {
   "cell_type": "code",
   "execution_count": 27,
   "metadata": {},
   "outputs": [],
   "source": [
    "df = pd.read_csv('../predictions/on_train_data/rozanecm_approach_10')\n",
    "\n",
    "train = train.merge(df.rename(columns={'rozanecm_approach_10':current_target_name}), on='id')"
   ]
  },
  {
   "cell_type": "markdown",
   "metadata": {},
   "source": [
    "# target 8"
   ]
  },
  {
   "cell_type": "code",
   "execution_count": 28,
   "metadata": {},
   "outputs": [],
   "source": [
    "current_target_name = 'target_8'"
   ]
  },
  {
   "cell_type": "code",
   "execution_count": 29,
   "metadata": {},
   "outputs": [],
   "source": [
    "df = pd.read_csv('../predictions/2019.10.31 - 20:26:47 by rozanecm.csv')\n",
    "\n",
    "test = test.merge(df.rename(columns={'target':current_target_name}), on='id')"
   ]
  },
  {
   "cell_type": "code",
   "execution_count": 30,
   "metadata": {},
   "outputs": [],
   "source": [
    "df = pd.read_csv('../predictions/on_train_data/rozanecm_approach_1_with_feat_eng')\n",
    "\n",
    "train = train.merge(df.rename(columns={'rozanecm_approach_1_with_feat_eng':current_target_name}), on='id')"
   ]
  },
  {
   "cell_type": "markdown",
   "metadata": {},
   "source": [
    "# target 9"
   ]
  },
  {
   "cell_type": "code",
   "execution_count": 31,
   "metadata": {},
   "outputs": [],
   "source": [
    "current_target_name = 'target_9'"
   ]
  },
  {
   "cell_type": "code",
   "execution_count": 32,
   "metadata": {},
   "outputs": [],
   "source": [
    "df = pd.read_csv('../predictions/2019.11.01 - 00:32:25 by rozanecm.csv')\n",
    "\n",
    "test = test.merge(df.rename(columns={'target':current_target_name}), on='id')"
   ]
  },
  {
   "cell_type": "code",
   "execution_count": 33,
   "metadata": {},
   "outputs": [],
   "source": [
    "df = pd.read_csv('../predictions/on_train_data/rozanecm_approach_2_with_feat_eng')\n",
    "\n",
    "train = train.merge(df.rename(columns={'rozanecm_approach_2_with_feat_eng':current_target_name}), on='id')"
   ]
  },
  {
   "cell_type": "markdown",
   "metadata": {},
   "source": [
    "# target 10"
   ]
  },
  {
   "cell_type": "code",
   "execution_count": 34,
   "metadata": {},
   "outputs": [],
   "source": [
    "current_target_name = 'target_10'"
   ]
  },
  {
   "cell_type": "code",
   "execution_count": 35,
   "metadata": {},
   "outputs": [],
   "source": [
    "df = pd.read_csv('../predictions/2019.11.02 - 14:42:20 by rozanecm.csv')\n",
    "\n",
    "test = test.merge(df.rename(columns={'target':current_target_name}), on='id')"
   ]
  },
  {
   "cell_type": "code",
   "execution_count": 36,
   "metadata": {},
   "outputs": [],
   "source": [
    "df = pd.read_csv('../predictions/on_train_data/rozanecm_approach_3_with_feat_eng')\n",
    "\n",
    "train = train.merge(df.rename(columns={'rozanecm_approach_3_with_feat_eng':current_target_name}), on='id')"
   ]
  },
  {
   "cell_type": "markdown",
   "metadata": {},
   "source": [
    "# target 11"
   ]
  },
  {
   "cell_type": "code",
   "execution_count": 37,
   "metadata": {},
   "outputs": [],
   "source": [
    "current_target_name = 'target_11'"
   ]
  },
  {
   "cell_type": "code",
   "execution_count": 38,
   "metadata": {},
   "outputs": [],
   "source": [
    "df = pd.read_csv('../predictions/2019.11.02 - 17:01:06 by rozanecm.csv')\n",
    "\n",
    "test = test.merge(df.rename(columns={'target':current_target_name}), on='id')"
   ]
  },
  {
   "cell_type": "code",
   "execution_count": 39,
   "metadata": {},
   "outputs": [],
   "source": [
    "df = pd.read_csv('../predictions/on_train_data/rozanecm_approach_4_with_feat_eng')\n",
    "\n",
    "train = train.merge(df.rename(columns={'rozanecm_approach_4_with_feat_eng':current_target_name}), on='id')"
   ]
  },
  {
   "cell_type": "markdown",
   "metadata": {},
   "source": [
    "# target 12"
   ]
  },
  {
   "cell_type": "code",
   "execution_count": 40,
   "metadata": {},
   "outputs": [],
   "source": [
    "current_target_name = 'target_12'"
   ]
  },
  {
   "cell_type": "code",
   "execution_count": 41,
   "metadata": {},
   "outputs": [],
   "source": [
    "df = pd.read_csv('../predictions/2019.11.20 - 02_33_23 by rozanecm.csv')\n",
    "\n",
    "test = test.merge(df.rename(columns={'target':current_target_name}), on='id')"
   ]
  },
  {
   "cell_type": "code",
   "execution_count": 42,
   "metadata": {},
   "outputs": [],
   "source": [
    "df = pd.read_csv('../predictions/on_train_data/on_train_data_rozanecm_approach_16')\n",
    "\n",
    "train = train.merge(df.rename(columns={'rozanecm_approach_16':current_target_name}), on='id')"
   ]
  },
  {
   "cell_type": "markdown",
   "metadata": {},
   "source": [
    "# target 13"
   ]
  },
  {
   "cell_type": "code",
   "execution_count": 43,
   "metadata": {},
   "outputs": [],
   "source": [
    "current_target_name = 'target_13'"
   ]
  },
  {
   "cell_type": "code",
   "execution_count": 44,
   "metadata": {},
   "outputs": [],
   "source": [
    "df = pd.read_csv('../predictions/2019.11.20 - 19:09:38 by rozanecm.csv')\n",
    "\n",
    "test = test.merge(df.rename(columns={'target':current_target_name}), on='id')"
   ]
  },
  {
   "cell_type": "code",
   "execution_count": 45,
   "metadata": {},
   "outputs": [],
   "source": [
    "df = pd.read_csv('../predictions/on_train_data/rozanecm_approach_19')\n",
    "\n",
    "train = train.merge(df.rename(columns={'rozanecm_approach_19':current_target_name}), on='id')"
   ]
  },
  {
   "cell_type": "markdown",
   "metadata": {},
   "source": [
    "# target 14"
   ]
  },
  {
   "cell_type": "code",
   "execution_count": 46,
   "metadata": {},
   "outputs": [],
   "source": [
    "current_target_name = 'target_14'"
   ]
  },
  {
   "cell_type": "code",
   "execution_count": 47,
   "metadata": {},
   "outputs": [],
   "source": [
    "df = pd.read_csv('../predictions/2019.11.20 - 21:19:47 by rozanecm.csv')\n",
    "\n",
    "test = test.merge(df.rename(columns={'target':current_target_name}), on='id')"
   ]
  },
  {
   "cell_type": "code",
   "execution_count": 48,
   "metadata": {},
   "outputs": [],
   "source": [
    "df = pd.read_csv('../predictions/on_train_data/rozanecm_approach_20')\n",
    "\n",
    "train = train.merge(df.rename(columns={'rozanecm_approach_20':current_target_name}), on='id')"
   ]
  },
  {
   "cell_type": "markdown",
   "metadata": {},
   "source": [
    "# target 15"
   ]
  },
  {
   "cell_type": "code",
   "execution_count": 49,
   "metadata": {},
   "outputs": [],
   "source": [
    "current_target_name = 'target_15'"
   ]
  },
  {
   "cell_type": "code",
   "execution_count": 51,
   "metadata": {},
   "outputs": [],
   "source": [
    "df = pd.read_csv('../predictions/2019.11.21 - 15:06:51 by rozanecm.csv')\n",
    "\n",
    "test = test.merge(df.rename(columns={'target':current_target_name}), on='id')"
   ]
  },
  {
   "cell_type": "code",
   "execution_count": 52,
   "metadata": {},
   "outputs": [],
   "source": [
    "df = pd.read_csv('../predictions/on_train_data/rozanecm_approach_24')\n",
    "\n",
    "train = train.merge(df.rename(columns={'rozanecm_approach_24':current_target_name}), on='id')"
   ]
  },
  {
   "cell_type": "code",
   "execution_count": 53,
   "metadata": {},
   "outputs": [
    {
     "data": {
      "text/html": [
       "<div>\n",
       "<style scoped>\n",
       "    .dataframe tbody tr th:only-of-type {\n",
       "        vertical-align: middle;\n",
       "    }\n",
       "\n",
       "    .dataframe tbody tr th {\n",
       "        vertical-align: top;\n",
       "    }\n",
       "\n",
       "    .dataframe thead th {\n",
       "        text-align: right;\n",
       "    }\n",
       "</style>\n",
       "<table border=\"1\" class=\"dataframe\">\n",
       "  <thead>\n",
       "    <tr style=\"text-align: right;\">\n",
       "      <th></th>\n",
       "      <th>id</th>\n",
       "      <th>precio</th>\n",
       "      <th>target_1</th>\n",
       "      <th>target_2</th>\n",
       "      <th>target_3</th>\n",
       "      <th>target_4</th>\n",
       "      <th>target_5</th>\n",
       "      <th>target_6</th>\n",
       "      <th>target_7</th>\n",
       "      <th>target_8</th>\n",
       "      <th>target_9</th>\n",
       "      <th>target_10</th>\n",
       "      <th>target_11</th>\n",
       "      <th>target_12</th>\n",
       "      <th>target_13</th>\n",
       "      <th>target_14</th>\n",
       "      <th>target_15</th>\n",
       "    </tr>\n",
       "  </thead>\n",
       "  <tbody>\n",
       "    <tr>\n",
       "      <th>119957</th>\n",
       "      <td>90861</td>\n",
       "      <td>8500000.0</td>\n",
       "      <td>6817421.20</td>\n",
       "      <td>6241811.31</td>\n",
       "      <td>6445440.05</td>\n",
       "      <td>7034960.06</td>\n",
       "      <td>6.453535e+06</td>\n",
       "      <td>7.099025e+06</td>\n",
       "      <td>6.102944e+06</td>\n",
       "      <td>6.540225e+06</td>\n",
       "      <td>6.631328e+06</td>\n",
       "      <td>6.511665e+06</td>\n",
       "      <td>6.521652e+06</td>\n",
       "      <td>6.230034e+06</td>\n",
       "      <td>7.056376e+06</td>\n",
       "      <td>6.497787e+06</td>\n",
       "      <td>5.782561e+06</td>\n",
       "    </tr>\n",
       "    <tr>\n",
       "      <th>239301</th>\n",
       "      <td>142709</td>\n",
       "      <td>2500000.0</td>\n",
       "      <td>3012060.00</td>\n",
       "      <td>4223266.00</td>\n",
       "      <td>4385630.00</td>\n",
       "      <td>3945687.64</td>\n",
       "      <td>3.817324e+06</td>\n",
       "      <td>3.228664e+06</td>\n",
       "      <td>3.170411e+06</td>\n",
       "      <td>3.675696e+06</td>\n",
       "      <td>3.658384e+06</td>\n",
       "      <td>3.762283e+06</td>\n",
       "      <td>4.059090e+06</td>\n",
       "      <td>5.455528e+06</td>\n",
       "      <td>2.987330e+06</td>\n",
       "      <td>3.314404e+06</td>\n",
       "      <td>3.161123e+06</td>\n",
       "    </tr>\n",
       "    <tr>\n",
       "      <th>200498</th>\n",
       "      <td>6033</td>\n",
       "      <td>1450000.0</td>\n",
       "      <td>1321542.87</td>\n",
       "      <td>1390169.17</td>\n",
       "      <td>1364679.68</td>\n",
       "      <td>1318866.60</td>\n",
       "      <td>1.282150e+06</td>\n",
       "      <td>1.317844e+06</td>\n",
       "      <td>1.388794e+06</td>\n",
       "      <td>1.241059e+06</td>\n",
       "      <td>1.221121e+06</td>\n",
       "      <td>1.233036e+06</td>\n",
       "      <td>1.325965e+06</td>\n",
       "      <td>1.329208e+06</td>\n",
       "      <td>1.309183e+06</td>\n",
       "      <td>1.261903e+06</td>\n",
       "      <td>1.305241e+06</td>\n",
       "    </tr>\n",
       "    <tr>\n",
       "      <th>201822</th>\n",
       "      <td>268344</td>\n",
       "      <td>350000.0</td>\n",
       "      <td>447989.00</td>\n",
       "      <td>441874.14</td>\n",
       "      <td>432305.00</td>\n",
       "      <td>900893.29</td>\n",
       "      <td>5.330628e+05</td>\n",
       "      <td>4.521819e+05</td>\n",
       "      <td>3.994505e+05</td>\n",
       "      <td>4.571614e+05</td>\n",
       "      <td>4.155720e+05</td>\n",
       "      <td>7.286390e+05</td>\n",
       "      <td>7.883386e+05</td>\n",
       "      <td>4.311533e+05</td>\n",
       "      <td>4.241298e+05</td>\n",
       "      <td>4.085183e+05</td>\n",
       "      <td>4.517311e+05</td>\n",
       "    </tr>\n",
       "    <tr>\n",
       "      <th>189626</th>\n",
       "      <td>63658</td>\n",
       "      <td>2420000.0</td>\n",
       "      <td>2707410.00</td>\n",
       "      <td>2215062.00</td>\n",
       "      <td>2336090.00</td>\n",
       "      <td>2248937.90</td>\n",
       "      <td>2.858586e+06</td>\n",
       "      <td>2.623029e+06</td>\n",
       "      <td>2.404823e+06</td>\n",
       "      <td>2.485911e+06</td>\n",
       "      <td>2.465789e+06</td>\n",
       "      <td>2.971362e+06</td>\n",
       "      <td>2.887492e+06</td>\n",
       "      <td>2.400754e+06</td>\n",
       "      <td>2.172991e+06</td>\n",
       "      <td>2.237830e+06</td>\n",
       "      <td>2.528770e+06</td>\n",
       "    </tr>\n",
       "  </tbody>\n",
       "</table>\n",
       "</div>"
      ],
      "text/plain": [
       "            id     precio    target_1    target_2    target_3    target_4  \\\n",
       "119957   90861  8500000.0  6817421.20  6241811.31  6445440.05  7034960.06   \n",
       "239301  142709  2500000.0  3012060.00  4223266.00  4385630.00  3945687.64   \n",
       "200498    6033  1450000.0  1321542.87  1390169.17  1364679.68  1318866.60   \n",
       "201822  268344   350000.0   447989.00   441874.14   432305.00   900893.29   \n",
       "189626   63658  2420000.0  2707410.00  2215062.00  2336090.00  2248937.90   \n",
       "\n",
       "            target_5      target_6      target_7      target_8      target_9  \\\n",
       "119957  6.453535e+06  7.099025e+06  6.102944e+06  6.540225e+06  6.631328e+06   \n",
       "239301  3.817324e+06  3.228664e+06  3.170411e+06  3.675696e+06  3.658384e+06   \n",
       "200498  1.282150e+06  1.317844e+06  1.388794e+06  1.241059e+06  1.221121e+06   \n",
       "201822  5.330628e+05  4.521819e+05  3.994505e+05  4.571614e+05  4.155720e+05   \n",
       "189626  2.858586e+06  2.623029e+06  2.404823e+06  2.485911e+06  2.465789e+06   \n",
       "\n",
       "           target_10     target_11     target_12     target_13     target_14  \\\n",
       "119957  6.511665e+06  6.521652e+06  6.230034e+06  7.056376e+06  6.497787e+06   \n",
       "239301  3.762283e+06  4.059090e+06  5.455528e+06  2.987330e+06  3.314404e+06   \n",
       "200498  1.233036e+06  1.325965e+06  1.329208e+06  1.309183e+06  1.261903e+06   \n",
       "201822  7.286390e+05  7.883386e+05  4.311533e+05  4.241298e+05  4.085183e+05   \n",
       "189626  2.971362e+06  2.887492e+06  2.400754e+06  2.172991e+06  2.237830e+06   \n",
       "\n",
       "           target_15  \n",
       "119957  5.782561e+06  \n",
       "239301  3.161123e+06  \n",
       "200498  1.305241e+06  \n",
       "201822  4.517311e+05  \n",
       "189626  2.528770e+06  "
      ]
     },
     "execution_count": 53,
     "metadata": {},
     "output_type": "execute_result"
    }
   ],
   "source": [
    "train.sample(5)"
   ]
  },
  {
   "cell_type": "code",
   "execution_count": 54,
   "metadata": {},
   "outputs": [
    {
     "data": {
      "text/html": [
       "<div>\n",
       "<style scoped>\n",
       "    .dataframe tbody tr th:only-of-type {\n",
       "        vertical-align: middle;\n",
       "    }\n",
       "\n",
       "    .dataframe tbody tr th {\n",
       "        vertical-align: top;\n",
       "    }\n",
       "\n",
       "    .dataframe thead th {\n",
       "        text-align: right;\n",
       "    }\n",
       "</style>\n",
       "<table border=\"1\" class=\"dataframe\">\n",
       "  <thead>\n",
       "    <tr style=\"text-align: right;\">\n",
       "      <th></th>\n",
       "      <th>id</th>\n",
       "      <th>target_1</th>\n",
       "      <th>target_2</th>\n",
       "      <th>target_3</th>\n",
       "      <th>target_4</th>\n",
       "      <th>target_5</th>\n",
       "      <th>target_6</th>\n",
       "      <th>target_7</th>\n",
       "      <th>target_8</th>\n",
       "      <th>target_9</th>\n",
       "      <th>target_10</th>\n",
       "      <th>target_11</th>\n",
       "      <th>target_12</th>\n",
       "      <th>target_13</th>\n",
       "      <th>target_14</th>\n",
       "      <th>target_15</th>\n",
       "    </tr>\n",
       "  </thead>\n",
       "  <tbody>\n",
       "    <tr>\n",
       "      <th>12179</th>\n",
       "      <td>66340</td>\n",
       "      <td>577375.00</td>\n",
       "      <td>5.832340e+05</td>\n",
       "      <td>630574.45</td>\n",
       "      <td>611103.75</td>\n",
       "      <td>5.026366e+05</td>\n",
       "      <td>4.868478e+05</td>\n",
       "      <td>4.091498e+05</td>\n",
       "      <td>6.072883e+05</td>\n",
       "      <td>5.548740e+05</td>\n",
       "      <td>4.663476e+05</td>\n",
       "      <td>4.655120e+05</td>\n",
       "      <td>5.175288e+05</td>\n",
       "      <td>4.970131e+05</td>\n",
       "      <td>4.813942e+05</td>\n",
       "      <td>5.225642e+05</td>\n",
       "    </tr>\n",
       "    <tr>\n",
       "      <th>55838</th>\n",
       "      <td>198758</td>\n",
       "      <td>2554803.99</td>\n",
       "      <td>2.538380e+06</td>\n",
       "      <td>2900874.60</td>\n",
       "      <td>2761178.26</td>\n",
       "      <td>3.053986e+06</td>\n",
       "      <td>2.784484e+06</td>\n",
       "      <td>3.046558e+06</td>\n",
       "      <td>2.963933e+06</td>\n",
       "      <td>2.757013e+06</td>\n",
       "      <td>2.750556e+06</td>\n",
       "      <td>2.877128e+06</td>\n",
       "      <td>2.555055e+06</td>\n",
       "      <td>2.922267e+06</td>\n",
       "      <td>2.884816e+06</td>\n",
       "      <td>2.952609e+06</td>\n",
       "    </tr>\n",
       "    <tr>\n",
       "      <th>50749</th>\n",
       "      <td>242088</td>\n",
       "      <td>4354606.29</td>\n",
       "      <td>3.786732e+06</td>\n",
       "      <td>3795754.60</td>\n",
       "      <td>3768618.89</td>\n",
       "      <td>4.046817e+06</td>\n",
       "      <td>4.099090e+06</td>\n",
       "      <td>3.662897e+06</td>\n",
       "      <td>4.153507e+06</td>\n",
       "      <td>3.924125e+06</td>\n",
       "      <td>4.322630e+06</td>\n",
       "      <td>4.514270e+06</td>\n",
       "      <td>4.113283e+06</td>\n",
       "      <td>3.771581e+06</td>\n",
       "      <td>3.959116e+06</td>\n",
       "      <td>3.870308e+06</td>\n",
       "    </tr>\n",
       "    <tr>\n",
       "      <th>40775</th>\n",
       "      <td>68937</td>\n",
       "      <td>2538105.00</td>\n",
       "      <td>2.874130e+06</td>\n",
       "      <td>3140745.00</td>\n",
       "      <td>3196230.00</td>\n",
       "      <td>3.092602e+06</td>\n",
       "      <td>2.854353e+06</td>\n",
       "      <td>3.260883e+06</td>\n",
       "      <td>3.051965e+06</td>\n",
       "      <td>2.920825e+06</td>\n",
       "      <td>3.003314e+06</td>\n",
       "      <td>2.951703e+06</td>\n",
       "      <td>3.405800e+06</td>\n",
       "      <td>3.130203e+06</td>\n",
       "      <td>2.891600e+06</td>\n",
       "      <td>2.826006e+06</td>\n",
       "    </tr>\n",
       "    <tr>\n",
       "      <th>30384</th>\n",
       "      <td>258652</td>\n",
       "      <td>3674030.00</td>\n",
       "      <td>4.093815e+06</td>\n",
       "      <td>3546601.25</td>\n",
       "      <td>3867273.75</td>\n",
       "      <td>2.532484e+06</td>\n",
       "      <td>2.788392e+06</td>\n",
       "      <td>2.892220e+06</td>\n",
       "      <td>2.632240e+06</td>\n",
       "      <td>2.519751e+06</td>\n",
       "      <td>2.211960e+06</td>\n",
       "      <td>2.060282e+06</td>\n",
       "      <td>2.975192e+06</td>\n",
       "      <td>2.722036e+06</td>\n",
       "      <td>2.184725e+06</td>\n",
       "      <td>2.735955e+06</td>\n",
       "    </tr>\n",
       "  </tbody>\n",
       "</table>\n",
       "</div>"
      ],
      "text/plain": [
       "           id    target_1      target_2    target_3    target_4      target_5  \\\n",
       "12179   66340   577375.00  5.832340e+05   630574.45   611103.75  5.026366e+05   \n",
       "55838  198758  2554803.99  2.538380e+06  2900874.60  2761178.26  3.053986e+06   \n",
       "50749  242088  4354606.29  3.786732e+06  3795754.60  3768618.89  4.046817e+06   \n",
       "40775   68937  2538105.00  2.874130e+06  3140745.00  3196230.00  3.092602e+06   \n",
       "30384  258652  3674030.00  4.093815e+06  3546601.25  3867273.75  2.532484e+06   \n",
       "\n",
       "           target_6      target_7      target_8      target_9     target_10  \\\n",
       "12179  4.868478e+05  4.091498e+05  6.072883e+05  5.548740e+05  4.663476e+05   \n",
       "55838  2.784484e+06  3.046558e+06  2.963933e+06  2.757013e+06  2.750556e+06   \n",
       "50749  4.099090e+06  3.662897e+06  4.153507e+06  3.924125e+06  4.322630e+06   \n",
       "40775  2.854353e+06  3.260883e+06  3.051965e+06  2.920825e+06  3.003314e+06   \n",
       "30384  2.788392e+06  2.892220e+06  2.632240e+06  2.519751e+06  2.211960e+06   \n",
       "\n",
       "          target_11     target_12     target_13     target_14     target_15  \n",
       "12179  4.655120e+05  5.175288e+05  4.970131e+05  4.813942e+05  5.225642e+05  \n",
       "55838  2.877128e+06  2.555055e+06  2.922267e+06  2.884816e+06  2.952609e+06  \n",
       "50749  4.514270e+06  4.113283e+06  3.771581e+06  3.959116e+06  3.870308e+06  \n",
       "40775  2.951703e+06  3.405800e+06  3.130203e+06  2.891600e+06  2.826006e+06  \n",
       "30384  2.060282e+06  2.975192e+06  2.722036e+06  2.184725e+06  2.735955e+06  "
      ]
     },
     "execution_count": 54,
     "metadata": {},
     "output_type": "execute_result"
    }
   ],
   "source": [
    "test.sample(5)"
   ]
  }
 ],
 "metadata": {
  "kernelspec": {
   "display_name": "Python 3",
   "language": "python",
   "name": "python3"
  },
  "language_info": {
   "codemirror_mode": {
    "name": "ipython",
    "version": 3
   },
   "file_extension": ".py",
   "mimetype": "text/x-python",
   "name": "python",
   "nbconvert_exporter": "python",
   "pygments_lexer": "ipython3",
   "version": "3.5.2"
  }
 },
 "nbformat": 4,
 "nbformat_minor": 4
}
