{
 "cells": [
  {
   "cell_type": "code",
   "execution_count": 157,
   "metadata": {},
   "outputs": [],
   "source": [
    "import pandas as pd\n",
    "import numpy as np"
   ]
  },
  {
   "cell_type": "code",
   "execution_count": 158,
   "metadata": {},
   "outputs": [],
   "source": [
    "# This will allow you to see all column names & rows when you are doing .head(). None of the column name will be truncated.\n",
    "# source: https://stackoverflow.com/questions/49188960/how-to-show-all-of-columns-name-on-pandas-dataframe\n",
    "\n",
    "pd.set_option('display.max_columns', None)\n",
    "# pd.set_option('display.max_rows', None)"
   ]
  },
  {
   "cell_type": "code",
   "execution_count": 159,
   "metadata": {},
   "outputs": [],
   "source": [
    "# source: https://gist.github.com/rozanecm/38f2901c592bdffc40726cb0473318cf\n",
    "# Function which plays a beep of given duration and frequency.\n",
    "# Useful for when executing things that need a while to finish, to get notified.\n",
    "import os\n",
    "def beep(duration = 1, freq = 1500):\n",
    "    \"\"\" play tone of duration in seconds and freq in Hz. \"\"\"\n",
    "    os.system('play --no-show-progress --null --channels 1 synth %s sine %f' % (duration, freq))"
   ]
  },
  {
   "cell_type": "code",
   "execution_count": 160,
   "metadata": {},
   "outputs": [],
   "source": [
    "train = pd.read_csv('../data/train.csv', usecols=['id','precio'])\n",
    "test = pd.read_csv('../data/test.csv', usecols=['id'])"
   ]
  },
  {
   "cell_type": "markdown",
   "metadata": {},
   "source": [
    "# Agregando columnas de predicciones anteriores"
   ]
  },
  {
   "cell_type": "markdown",
   "metadata": {},
   "source": [
    "# target 1"
   ]
  },
  {
   "cell_type": "code",
   "execution_count": 161,
   "metadata": {},
   "outputs": [],
   "source": [
    "current_target_name = 'target_1'"
   ]
  },
  {
   "cell_type": "code",
   "execution_count": 162,
   "metadata": {},
   "outputs": [],
   "source": [
    "df = pd.read_csv('../predictions/2019.10.28 - 09:12:00 by rozanecm.csv')\n",
    "\n",
    "test = test.merge(df.rename(columns={'target':current_target_name}), on='id')"
   ]
  },
  {
   "cell_type": "code",
   "execution_count": 163,
   "metadata": {},
   "outputs": [],
   "source": [
    "df = pd.read_csv('../predictions/on_train_data/rozanecm_approach_1')\n",
    "\n",
    "train = train.merge(df.rename(columns={'approach_1':current_target_name}), on='id')"
   ]
  },
  {
   "cell_type": "markdown",
   "metadata": {},
   "source": [
    "# target 2"
   ]
  },
  {
   "cell_type": "code",
   "execution_count": 164,
   "metadata": {},
   "outputs": [],
   "source": [
    "current_target_name = 'target_2'"
   ]
  },
  {
   "cell_type": "code",
   "execution_count": 165,
   "metadata": {},
   "outputs": [],
   "source": [
    "df = pd.read_csv('../predictions/2019.10.28 - 12:03:46 by rozanecm.csv')\n",
    "\n",
    "test = test.merge(df.rename(columns={'target':current_target_name}), on='id')"
   ]
  },
  {
   "cell_type": "code",
   "execution_count": 166,
   "metadata": {},
   "outputs": [],
   "source": [
    "df = pd.read_csv('../predictions/on_train_data/rozanecm_approach_2')\n",
    "\n",
    "train = train.merge(df.rename(columns={'rozanecm_approach_2':current_target_name}), on='id')"
   ]
  },
  {
   "cell_type": "markdown",
   "metadata": {},
   "source": [
    "# target 3"
   ]
  },
  {
   "cell_type": "code",
   "execution_count": 167,
   "metadata": {},
   "outputs": [],
   "source": [
    "current_target_name = 'target_3'"
   ]
  },
  {
   "cell_type": "code",
   "execution_count": 168,
   "metadata": {},
   "outputs": [],
   "source": [
    "df = pd.read_csv('../predictions/2019.10.28 - 14:40:22 by rozanecm.csv')\n",
    "\n",
    "test = test.merge(df.rename(columns={'target':current_target_name}), on='id')"
   ]
  },
  {
   "cell_type": "code",
   "execution_count": 169,
   "metadata": {},
   "outputs": [],
   "source": [
    "df = pd.read_csv('../predictions/on_train_data/rozanecm_approach_3')\n",
    "\n",
    "train = train.merge(df.rename(columns={'rozanecm_approach_3':current_target_name}), on='id')"
   ]
  },
  {
   "cell_type": "markdown",
   "metadata": {},
   "source": [
    "# target 4"
   ]
  },
  {
   "cell_type": "code",
   "execution_count": 170,
   "metadata": {},
   "outputs": [],
   "source": [
    "current_target_name = 'target_4'"
   ]
  },
  {
   "cell_type": "code",
   "execution_count": 171,
   "metadata": {},
   "outputs": [],
   "source": [
    "df = pd.read_csv('../predictions/2019.10.28 - 16:36:13 by rozanecm.csv')\n",
    "\n",
    "test = test.merge(df.rename(columns={'target':current_target_name}), on='id')"
   ]
  },
  {
   "cell_type": "code",
   "execution_count": 172,
   "metadata": {},
   "outputs": [],
   "source": [
    "df = pd.read_csv('../predictions/on_train_data/rozanecm_approach_4')\n",
    "\n",
    "train = train.merge(df.rename(columns={'rozanecm_approach_4':current_target_name}), on='id')"
   ]
  },
  {
   "cell_type": "markdown",
   "metadata": {},
   "source": [
    "# target 5"
   ]
  },
  {
   "cell_type": "code",
   "execution_count": 173,
   "metadata": {},
   "outputs": [],
   "source": [
    "current_target_name = 'target_5'"
   ]
  },
  {
   "cell_type": "code",
   "execution_count": 174,
   "metadata": {},
   "outputs": [],
   "source": [
    "df = pd.read_csv('../predictions/2019.10.29 - 11:59:35 by rozanecm.csv')\n",
    "\n",
    "test = test.merge(df.rename(columns={'target':current_target_name}), on='id')"
   ]
  },
  {
   "cell_type": "code",
   "execution_count": 175,
   "metadata": {},
   "outputs": [],
   "source": [
    "df = pd.read_csv('../predictions/on_train_data/rozanecm_approach_7')\n",
    "\n",
    "train = train.merge(df.rename(columns={'rozanecm_approach_7':current_target_name}), on='id')"
   ]
  },
  {
   "cell_type": "markdown",
   "metadata": {},
   "source": [
    "# target 6"
   ]
  },
  {
   "cell_type": "code",
   "execution_count": 176,
   "metadata": {},
   "outputs": [],
   "source": [
    "current_target_name = 'target_6'"
   ]
  },
  {
   "cell_type": "code",
   "execution_count": 177,
   "metadata": {},
   "outputs": [],
   "source": [
    "df = pd.read_csv('../predictions/2019.10.29 - 13:19:02 by rozanecm.csv')\n",
    "\n",
    "test = test.merge(df.rename(columns={'target':current_target_name}), on='id')"
   ]
  },
  {
   "cell_type": "code",
   "execution_count": 178,
   "metadata": {},
   "outputs": [],
   "source": [
    "df = pd.read_csv('../predictions/on_train_data/rozanecm_approach_8')\n",
    "\n",
    "train = train.merge(df.rename(columns={'rozanecm_approach_8':current_target_name}), on='id')"
   ]
  },
  {
   "cell_type": "markdown",
   "metadata": {},
   "source": [
    "# target 7"
   ]
  },
  {
   "cell_type": "code",
   "execution_count": 179,
   "metadata": {},
   "outputs": [],
   "source": [
    "current_target_name = 'target_7'"
   ]
  },
  {
   "cell_type": "code",
   "execution_count": 180,
   "metadata": {},
   "outputs": [],
   "source": [
    "df = pd.read_csv('../predictions/2019.11.11 - 13:07:13 by rozanecm.csv')\n",
    "\n",
    "test = test.merge(df.rename(columns={'target':current_target_name}), on='id')"
   ]
  },
  {
   "cell_type": "code",
   "execution_count": 181,
   "metadata": {},
   "outputs": [],
   "source": [
    "df = pd.read_csv('../predictions/on_train_data/rozanecm_approach_10')\n",
    "\n",
    "train = train.merge(df.rename(columns={'rozanecm_approach_10':current_target_name}), on='id')"
   ]
  },
  {
   "cell_type": "markdown",
   "metadata": {},
   "source": [
    "# target 8"
   ]
  },
  {
   "cell_type": "code",
   "execution_count": 182,
   "metadata": {},
   "outputs": [],
   "source": [
    "current_target_name = 'target_8'"
   ]
  },
  {
   "cell_type": "code",
   "execution_count": 183,
   "metadata": {},
   "outputs": [],
   "source": [
    "df = pd.read_csv('../predictions/2019.10.31 - 20:26:47 by rozanecm.csv')\n",
    "\n",
    "test = test.merge(df.rename(columns={'target':current_target_name}), on='id')"
   ]
  },
  {
   "cell_type": "code",
   "execution_count": 184,
   "metadata": {},
   "outputs": [],
   "source": [
    "df = pd.read_csv('../predictions/on_train_data/rozanecm_approach_1_with_feat_eng')\n",
    "\n",
    "train = train.merge(df.rename(columns={'rozanecm_approach_1_with_feat_eng':current_target_name}), on='id')"
   ]
  },
  {
   "cell_type": "markdown",
   "metadata": {},
   "source": [
    "# target 9"
   ]
  },
  {
   "cell_type": "code",
   "execution_count": 185,
   "metadata": {},
   "outputs": [],
   "source": [
    "current_target_name = 'target_9'"
   ]
  },
  {
   "cell_type": "code",
   "execution_count": 186,
   "metadata": {},
   "outputs": [],
   "source": [
    "df = pd.read_csv('../predictions/2019.11.01 - 00:32:25 by rozanecm.csv')\n",
    "\n",
    "test = test.merge(df.rename(columns={'target':current_target_name}), on='id')"
   ]
  },
  {
   "cell_type": "code",
   "execution_count": 187,
   "metadata": {},
   "outputs": [],
   "source": [
    "df = pd.read_csv('../predictions/on_train_data/rozanecm_approach_2_with_feat_eng')\n",
    "\n",
    "train = train.merge(df.rename(columns={'rozanecm_approach_2_with_feat_eng':current_target_name}), on='id')"
   ]
  },
  {
   "cell_type": "markdown",
   "metadata": {},
   "source": [
    "# target 10"
   ]
  },
  {
   "cell_type": "code",
   "execution_count": 190,
   "metadata": {},
   "outputs": [],
   "source": [
    "current_target_name = 'target_10'"
   ]
  },
  {
   "cell_type": "code",
   "execution_count": 191,
   "metadata": {},
   "outputs": [],
   "source": [
    "df = pd.read_csv('../predictions/2019.11.02 - 14:42:20 by rozanecm.csv')\n",
    "\n",
    "test = test.merge(df.rename(columns={'target':current_target_name}), on='id')"
   ]
  },
  {
   "cell_type": "code",
   "execution_count": 192,
   "metadata": {},
   "outputs": [],
   "source": [
    "df = pd.read_csv('../predictions/on_train_data/rozanecm_approach_3_with_feat_eng')\n",
    "\n",
    "train = train.merge(df.rename(columns={'rozanecm_approach_3_with_feat_eng':current_target_name}), on='id')"
   ]
  },
  {
   "cell_type": "markdown",
   "metadata": {},
   "source": [
    "# target 11"
   ]
  },
  {
   "cell_type": "code",
   "execution_count": 195,
   "metadata": {},
   "outputs": [],
   "source": [
    "current_target_name = 'target_11'"
   ]
  },
  {
   "cell_type": "code",
   "execution_count": 196,
   "metadata": {},
   "outputs": [],
   "source": [
    "df = pd.read_csv('../predictions/2019.11.02 - 17:01:06 by rozanecm.csv')\n",
    "\n",
    "test = test.merge(df.rename(columns={'target':current_target_name}), on='id')"
   ]
  },
  {
   "cell_type": "code",
   "execution_count": 197,
   "metadata": {},
   "outputs": [],
   "source": [
    "df = pd.read_csv('../predictions/on_train_data/rozanecm_approach_4_with_feat_eng')\n",
    "\n",
    "train = train.merge(df.rename(columns={'rozanecm_approach_4_with_feat_eng':current_target_name}), on='id')"
   ]
  },
  {
   "cell_type": "code",
   "execution_count": 198,
   "metadata": {},
   "outputs": [
    {
     "data": {
      "text/html": [
       "<div>\n",
       "<style scoped>\n",
       "    .dataframe tbody tr th:only-of-type {\n",
       "        vertical-align: middle;\n",
       "    }\n",
       "\n",
       "    .dataframe tbody tr th {\n",
       "        vertical-align: top;\n",
       "    }\n",
       "\n",
       "    .dataframe thead th {\n",
       "        text-align: right;\n",
       "    }\n",
       "</style>\n",
       "<table border=\"1\" class=\"dataframe\">\n",
       "  <thead>\n",
       "    <tr style=\"text-align: right;\">\n",
       "      <th></th>\n",
       "      <th>id</th>\n",
       "      <th>precio</th>\n",
       "      <th>target_1</th>\n",
       "      <th>target_2</th>\n",
       "      <th>target_3</th>\n",
       "      <th>target_4</th>\n",
       "      <th>target_5</th>\n",
       "      <th>target_6</th>\n",
       "      <th>target_7</th>\n",
       "      <th>target_8</th>\n",
       "      <th>target_9</th>\n",
       "      <th>target_10</th>\n",
       "      <th>target_11</th>\n",
       "    </tr>\n",
       "  </thead>\n",
       "  <tbody>\n",
       "    <tr>\n",
       "      <th>126458</th>\n",
       "      <td>28464</td>\n",
       "      <td>471000.0</td>\n",
       "      <td>759271.76</td>\n",
       "      <td>656570.00</td>\n",
       "      <td>601815.00</td>\n",
       "      <td>600949.00</td>\n",
       "      <td>1.089961e+06</td>\n",
       "      <td>7.819835e+05</td>\n",
       "      <td>5.381746e+05</td>\n",
       "      <td>8.324297e+05</td>\n",
       "      <td>7.986150e+05</td>\n",
       "      <td>1.347776e+06</td>\n",
       "      <td>1.500826e+06</td>\n",
       "    </tr>\n",
       "    <tr>\n",
       "      <th>74049</th>\n",
       "      <td>249413</td>\n",
       "      <td>2023000.0</td>\n",
       "      <td>3413758.55</td>\n",
       "      <td>2285850.00</td>\n",
       "      <td>2216244.00</td>\n",
       "      <td>2297850.50</td>\n",
       "      <td>2.805857e+06</td>\n",
       "      <td>2.363216e+06</td>\n",
       "      <td>2.647281e+06</td>\n",
       "      <td>2.480255e+06</td>\n",
       "      <td>2.390869e+06</td>\n",
       "      <td>2.442077e+06</td>\n",
       "      <td>2.510067e+06</td>\n",
       "    </tr>\n",
       "    <tr>\n",
       "      <th>147273</th>\n",
       "      <td>15770</td>\n",
       "      <td>2850000.0</td>\n",
       "      <td>3858489.97</td>\n",
       "      <td>4597851.56</td>\n",
       "      <td>3691784.56</td>\n",
       "      <td>2997311.69</td>\n",
       "      <td>3.667415e+06</td>\n",
       "      <td>3.833308e+06</td>\n",
       "      <td>3.038193e+06</td>\n",
       "      <td>3.948726e+06</td>\n",
       "      <td>4.044190e+06</td>\n",
       "      <td>3.647058e+06</td>\n",
       "      <td>3.518070e+06</td>\n",
       "    </tr>\n",
       "    <tr>\n",
       "      <th>133965</th>\n",
       "      <td>249166</td>\n",
       "      <td>3500000.0</td>\n",
       "      <td>4260711.50</td>\n",
       "      <td>3449075.00</td>\n",
       "      <td>3435842.35</td>\n",
       "      <td>3634262.30</td>\n",
       "      <td>3.823474e+06</td>\n",
       "      <td>2.961942e+06</td>\n",
       "      <td>4.328655e+06</td>\n",
       "      <td>3.177916e+06</td>\n",
       "      <td>3.078986e+06</td>\n",
       "      <td>3.171895e+06</td>\n",
       "      <td>3.262914e+06</td>\n",
       "    </tr>\n",
       "    <tr>\n",
       "      <th>77306</th>\n",
       "      <td>107713</td>\n",
       "      <td>1330000.0</td>\n",
       "      <td>1684229.20</td>\n",
       "      <td>1692849.44</td>\n",
       "      <td>1510658.80</td>\n",
       "      <td>1574512.71</td>\n",
       "      <td>1.707651e+06</td>\n",
       "      <td>1.542752e+06</td>\n",
       "      <td>1.640728e+06</td>\n",
       "      <td>1.629959e+06</td>\n",
       "      <td>1.577601e+06</td>\n",
       "      <td>1.599067e+06</td>\n",
       "      <td>1.657272e+06</td>\n",
       "    </tr>\n",
       "  </tbody>\n",
       "</table>\n",
       "</div>"
      ],
      "text/plain": [
       "            id     precio    target_1    target_2    target_3    target_4  \\\n",
       "126458   28464   471000.0   759271.76   656570.00   601815.00   600949.00   \n",
       "74049   249413  2023000.0  3413758.55  2285850.00  2216244.00  2297850.50   \n",
       "147273   15770  2850000.0  3858489.97  4597851.56  3691784.56  2997311.69   \n",
       "133965  249166  3500000.0  4260711.50  3449075.00  3435842.35  3634262.30   \n",
       "77306   107713  1330000.0  1684229.20  1692849.44  1510658.80  1574512.71   \n",
       "\n",
       "            target_5      target_6      target_7      target_8      target_9  \\\n",
       "126458  1.089961e+06  7.819835e+05  5.381746e+05  8.324297e+05  7.986150e+05   \n",
       "74049   2.805857e+06  2.363216e+06  2.647281e+06  2.480255e+06  2.390869e+06   \n",
       "147273  3.667415e+06  3.833308e+06  3.038193e+06  3.948726e+06  4.044190e+06   \n",
       "133965  3.823474e+06  2.961942e+06  4.328655e+06  3.177916e+06  3.078986e+06   \n",
       "77306   1.707651e+06  1.542752e+06  1.640728e+06  1.629959e+06  1.577601e+06   \n",
       "\n",
       "           target_10     target_11  \n",
       "126458  1.347776e+06  1.500826e+06  \n",
       "74049   2.442077e+06  2.510067e+06  \n",
       "147273  3.647058e+06  3.518070e+06  \n",
       "133965  3.171895e+06  3.262914e+06  \n",
       "77306   1.599067e+06  1.657272e+06  "
      ]
     },
     "execution_count": 198,
     "metadata": {},
     "output_type": "execute_result"
    }
   ],
   "source": [
    "train.sample(5)"
   ]
  },
  {
   "cell_type": "code",
   "execution_count": 199,
   "metadata": {},
   "outputs": [
    {
     "data": {
      "text/html": [
       "<div>\n",
       "<style scoped>\n",
       "    .dataframe tbody tr th:only-of-type {\n",
       "        vertical-align: middle;\n",
       "    }\n",
       "\n",
       "    .dataframe tbody tr th {\n",
       "        vertical-align: top;\n",
       "    }\n",
       "\n",
       "    .dataframe thead th {\n",
       "        text-align: right;\n",
       "    }\n",
       "</style>\n",
       "<table border=\"1\" class=\"dataframe\">\n",
       "  <thead>\n",
       "    <tr style=\"text-align: right;\">\n",
       "      <th></th>\n",
       "      <th>id</th>\n",
       "      <th>target_1</th>\n",
       "      <th>target_2</th>\n",
       "      <th>target_3</th>\n",
       "      <th>target_4</th>\n",
       "      <th>target_5</th>\n",
       "      <th>target_6</th>\n",
       "      <th>target_7</th>\n",
       "      <th>target_8</th>\n",
       "      <th>target_9</th>\n",
       "      <th>target_10</th>\n",
       "      <th>target_11</th>\n",
       "    </tr>\n",
       "  </thead>\n",
       "  <tbody>\n",
       "    <tr>\n",
       "      <th>25312</th>\n",
       "      <td>53423</td>\n",
       "      <td>5124286.35</td>\n",
       "      <td>3633877.83</td>\n",
       "      <td>3884530.00</td>\n",
       "      <td>3873650.00</td>\n",
       "      <td>3.632427e+06</td>\n",
       "      <td>3.941035e+06</td>\n",
       "      <td>5.080269e+06</td>\n",
       "      <td>4.060535e+06</td>\n",
       "      <td>4.272999e+06</td>\n",
       "      <td>3.668574e+06</td>\n",
       "      <td>3.665012e+06</td>\n",
       "    </tr>\n",
       "    <tr>\n",
       "      <th>58072</th>\n",
       "      <td>35956</td>\n",
       "      <td>5618536.64</td>\n",
       "      <td>6131540.00</td>\n",
       "      <td>6276930.00</td>\n",
       "      <td>5347994.58</td>\n",
       "      <td>5.074804e+06</td>\n",
       "      <td>4.501539e+06</td>\n",
       "      <td>4.317678e+06</td>\n",
       "      <td>4.662868e+06</td>\n",
       "      <td>4.499533e+06</td>\n",
       "      <td>4.965376e+06</td>\n",
       "      <td>5.196314e+06</td>\n",
       "    </tr>\n",
       "    <tr>\n",
       "      <th>24081</th>\n",
       "      <td>118595</td>\n",
       "      <td>1429615.00</td>\n",
       "      <td>1496550.00</td>\n",
       "      <td>1568504.21</td>\n",
       "      <td>1619446.16</td>\n",
       "      <td>1.538809e+06</td>\n",
       "      <td>1.461497e+06</td>\n",
       "      <td>1.574683e+06</td>\n",
       "      <td>1.450821e+06</td>\n",
       "      <td>1.417596e+06</td>\n",
       "      <td>1.560948e+06</td>\n",
       "      <td>1.525989e+06</td>\n",
       "    </tr>\n",
       "    <tr>\n",
       "      <th>14792</th>\n",
       "      <td>82595</td>\n",
       "      <td>1384053.74</td>\n",
       "      <td>1233826.34</td>\n",
       "      <td>1333292.24</td>\n",
       "      <td>1299294.54</td>\n",
       "      <td>1.441860e+06</td>\n",
       "      <td>1.443115e+06</td>\n",
       "      <td>1.427813e+06</td>\n",
       "      <td>1.415507e+06</td>\n",
       "      <td>1.360903e+06</td>\n",
       "      <td>1.225944e+06</td>\n",
       "      <td>1.196725e+06</td>\n",
       "    </tr>\n",
       "    <tr>\n",
       "      <th>30628</th>\n",
       "      <td>11039</td>\n",
       "      <td>3870326.38</td>\n",
       "      <td>3904621.77</td>\n",
       "      <td>3979252.86</td>\n",
       "      <td>3785326.31</td>\n",
       "      <td>3.473849e+06</td>\n",
       "      <td>4.413964e+06</td>\n",
       "      <td>3.959820e+06</td>\n",
       "      <td>4.535565e+06</td>\n",
       "      <td>4.235490e+06</td>\n",
       "      <td>4.005194e+06</td>\n",
       "      <td>3.785199e+06</td>\n",
       "    </tr>\n",
       "  </tbody>\n",
       "</table>\n",
       "</div>"
      ],
      "text/plain": [
       "           id    target_1    target_2    target_3    target_4      target_5  \\\n",
       "25312   53423  5124286.35  3633877.83  3884530.00  3873650.00  3.632427e+06   \n",
       "58072   35956  5618536.64  6131540.00  6276930.00  5347994.58  5.074804e+06   \n",
       "24081  118595  1429615.00  1496550.00  1568504.21  1619446.16  1.538809e+06   \n",
       "14792   82595  1384053.74  1233826.34  1333292.24  1299294.54  1.441860e+06   \n",
       "30628   11039  3870326.38  3904621.77  3979252.86  3785326.31  3.473849e+06   \n",
       "\n",
       "           target_6      target_7      target_8      target_9     target_10  \\\n",
       "25312  3.941035e+06  5.080269e+06  4.060535e+06  4.272999e+06  3.668574e+06   \n",
       "58072  4.501539e+06  4.317678e+06  4.662868e+06  4.499533e+06  4.965376e+06   \n",
       "24081  1.461497e+06  1.574683e+06  1.450821e+06  1.417596e+06  1.560948e+06   \n",
       "14792  1.443115e+06  1.427813e+06  1.415507e+06  1.360903e+06  1.225944e+06   \n",
       "30628  4.413964e+06  3.959820e+06  4.535565e+06  4.235490e+06  4.005194e+06   \n",
       "\n",
       "          target_11  \n",
       "25312  3.665012e+06  \n",
       "58072  5.196314e+06  \n",
       "24081  1.525989e+06  \n",
       "14792  1.196725e+06  \n",
       "30628  3.785199e+06  "
      ]
     },
     "execution_count": 199,
     "metadata": {},
     "output_type": "execute_result"
    }
   ],
   "source": [
    "test.sample(5)"
   ]
  }
 ],
 "metadata": {
  "kernelspec": {
   "display_name": "Python 3",
   "language": "python",
   "name": "python3"
  },
  "language_info": {
   "codemirror_mode": {
    "name": "ipython",
    "version": 3
   },
   "file_extension": ".py",
   "mimetype": "text/x-python",
   "name": "python",
   "nbconvert_exporter": "python",
   "pygments_lexer": "ipython3",
   "version": "3.5.2"
  }
 },
 "nbformat": 4,
 "nbformat_minor": 4
}
