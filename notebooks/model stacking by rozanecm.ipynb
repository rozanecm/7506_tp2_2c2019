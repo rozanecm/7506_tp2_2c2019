{
 "cells": [
  {
   "cell_type": "code",
   "execution_count": 81,
   "metadata": {},
   "outputs": [],
   "source": [
    "import pandas as pd\n",
    "import numpy as np"
   ]
  },
  {
   "cell_type": "code",
   "execution_count": 82,
   "metadata": {},
   "outputs": [],
   "source": [
    "# This will allow you to see all column names & rows when you are doing .head(). None of the column name will be truncated.\n",
    "# source: https://stackoverflow.com/questions/49188960/how-to-show-all-of-columns-name-on-pandas-dataframe\n",
    "\n",
    "pd.set_option('display.max_columns', None)\n",
    "# pd.set_option('display.max_rows', None)"
   ]
  },
  {
   "cell_type": "code",
   "execution_count": 83,
   "metadata": {},
   "outputs": [],
   "source": [
    "# source: https://gist.github.com/rozanecm/38f2901c592bdffc40726cb0473318cf\n",
    "# Function which plays a beep of given duration and frequency.\n",
    "# Useful for when executing things that need a while to finish, to get notified.\n",
    "import os\n",
    "def beep(duration = 1, freq = 1500):\n",
    "    \"\"\" play tone of duration in seconds and freq in Hz. \"\"\"\n",
    "    os.system('play --no-show-progress --null --channels 1 synth %s sine %f' % (duration, freq))"
   ]
  },
  {
   "cell_type": "code",
   "execution_count": 84,
   "metadata": {},
   "outputs": [],
   "source": [
    "train = pd.read_csv('../data/train.csv', usecols=['id','precio'])\n",
    "test = pd.read_csv('../data/test.csv', usecols=['id'])"
   ]
  },
  {
   "cell_type": "markdown",
   "metadata": {},
   "source": [
    "# Agregando columnas de predicciones anteriores"
   ]
  },
  {
   "cell_type": "markdown",
   "metadata": {},
   "source": [
    "# target 1"
   ]
  },
  {
   "cell_type": "code",
   "execution_count": 85,
   "metadata": {},
   "outputs": [],
   "source": [
    "current_target_name = 'target_1'"
   ]
  },
  {
   "cell_type": "code",
   "execution_count": 86,
   "metadata": {},
   "outputs": [],
   "source": [
    "df = pd.read_csv('../predictions/2019.10.28 - 09:12:00 by rozanecm.csv')\n",
    "\n",
    "test = test.merge(df.rename(columns={'target':current_target_name}), on='id')"
   ]
  },
  {
   "cell_type": "code",
   "execution_count": 87,
   "metadata": {},
   "outputs": [],
   "source": [
    "df = pd.read_csv('../predictions/on_train_data/rozanecm_approach_1')\n",
    "\n",
    "train = train.merge(df.rename(columns={'approach_1':current_target_name}), on='id')"
   ]
  },
  {
   "cell_type": "markdown",
   "metadata": {},
   "source": [
    "# target 2"
   ]
  },
  {
   "cell_type": "code",
   "execution_count": 88,
   "metadata": {},
   "outputs": [],
   "source": [
    "current_target_name = 'target_2'"
   ]
  },
  {
   "cell_type": "code",
   "execution_count": 89,
   "metadata": {},
   "outputs": [],
   "source": [
    "df = pd.read_csv('../predictions/2019.10.28 - 12:03:46 by rozanecm.csv')\n",
    "\n",
    "test = test.merge(df.rename(columns={'target':current_target_name}), on='id')"
   ]
  },
  {
   "cell_type": "code",
   "execution_count": 90,
   "metadata": {},
   "outputs": [],
   "source": [
    "df = pd.read_csv('../predictions/on_train_data/rozanecm_approach_2')\n",
    "\n",
    "train = train.merge(df.rename(columns={'rozanecm_approach_2':current_target_name}), on='id')"
   ]
  },
  {
   "cell_type": "markdown",
   "metadata": {},
   "source": [
    "# target 3"
   ]
  },
  {
   "cell_type": "code",
   "execution_count": 91,
   "metadata": {},
   "outputs": [],
   "source": [
    "current_target_name = 'target_3'"
   ]
  },
  {
   "cell_type": "code",
   "execution_count": 92,
   "metadata": {},
   "outputs": [],
   "source": [
    "df = pd.read_csv('../predictions/2019.10.28 - 14:40:22 by rozanecm.csv')\n",
    "\n",
    "test = test.merge(df.rename(columns={'target':current_target_name}), on='id')"
   ]
  },
  {
   "cell_type": "code",
   "execution_count": 93,
   "metadata": {},
   "outputs": [],
   "source": [
    "df = pd.read_csv('../predictions/on_train_data/rozanecm_approach_3')\n",
    "\n",
    "train = train.merge(df.rename(columns={'rozanecm_approach_3':current_target_name}), on='id')"
   ]
  },
  {
   "cell_type": "markdown",
   "metadata": {},
   "source": [
    "# target 4"
   ]
  },
  {
   "cell_type": "code",
   "execution_count": 94,
   "metadata": {},
   "outputs": [],
   "source": [
    "current_target_name = 'target_4'"
   ]
  },
  {
   "cell_type": "code",
   "execution_count": 95,
   "metadata": {},
   "outputs": [],
   "source": [
    "df = pd.read_csv('../predictions/2019.10.28 - 16:36:13 by rozanecm.csv')\n",
    "\n",
    "test = test.merge(df.rename(columns={'target':current_target_name}), on='id')"
   ]
  },
  {
   "cell_type": "code",
   "execution_count": 96,
   "metadata": {},
   "outputs": [],
   "source": [
    "df = pd.read_csv('../predictions/on_train_data/rozanecm_approach_4')\n",
    "\n",
    "train = train.merge(df.rename(columns={'rozanecm_approach_4':current_target_name}), on='id')"
   ]
  },
  {
   "cell_type": "markdown",
   "metadata": {},
   "source": [
    "# target 5"
   ]
  },
  {
   "cell_type": "code",
   "execution_count": 97,
   "metadata": {},
   "outputs": [],
   "source": [
    "current_target_name = 'target_5'"
   ]
  },
  {
   "cell_type": "code",
   "execution_count": 98,
   "metadata": {},
   "outputs": [],
   "source": [
    "df = pd.read_csv('../predictions/2019.10.29 - 11:59:35 by rozanecm.csv')\n",
    "\n",
    "test = test.merge(df.rename(columns={'target':current_target_name}), on='id')"
   ]
  },
  {
   "cell_type": "code",
   "execution_count": 99,
   "metadata": {},
   "outputs": [],
   "source": [
    "df = pd.read_csv('../predictions/on_train_data/rozanecm_approach_7')\n",
    "\n",
    "train = train.merge(df.rename(columns={'rozanecm_approach_7':current_target_name}), on='id')"
   ]
  },
  {
   "cell_type": "markdown",
   "metadata": {},
   "source": [
    "# target 6"
   ]
  },
  {
   "cell_type": "code",
   "execution_count": 100,
   "metadata": {},
   "outputs": [],
   "source": [
    "current_target_name = 'target_6'"
   ]
  },
  {
   "cell_type": "code",
   "execution_count": 101,
   "metadata": {},
   "outputs": [],
   "source": [
    "df = pd.read_csv('../predictions/2019.10.29 - 13:19:02 by rozanecm.csv')\n",
    "\n",
    "test = test.merge(df.rename(columns={'target':current_target_name}), on='id')"
   ]
  },
  {
   "cell_type": "code",
   "execution_count": 102,
   "metadata": {},
   "outputs": [],
   "source": [
    "df = pd.read_csv('../predictions/on_train_data/rozanecm_approach_8')\n",
    "\n",
    "train = train.merge(df.rename(columns={'rozanecm_approach_8':current_target_name}), on='id')"
   ]
  },
  {
   "cell_type": "markdown",
   "metadata": {},
   "source": [
    "# target 7"
   ]
  },
  {
   "cell_type": "code",
   "execution_count": 103,
   "metadata": {},
   "outputs": [],
   "source": [
    "current_target_name = 'target_7'"
   ]
  },
  {
   "cell_type": "code",
   "execution_count": 104,
   "metadata": {},
   "outputs": [],
   "source": [
    "df = pd.read_csv('../predictions/2019.11.11 - 13:07:13 by rozanecm.csv')\n",
    "\n",
    "test = test.merge(df.rename(columns={'target':current_target_name}), on='id')"
   ]
  },
  {
   "cell_type": "code",
   "execution_count": 105,
   "metadata": {},
   "outputs": [],
   "source": [
    "df = pd.read_csv('../predictions/on_train_data/rozanecm_approach_10')\n",
    "\n",
    "train = train.merge(df.rename(columns={'rozanecm_approach_10':current_target_name}), on='id')"
   ]
  },
  {
   "cell_type": "markdown",
   "metadata": {},
   "source": [
    "# target 8"
   ]
  },
  {
   "cell_type": "code",
   "execution_count": 106,
   "metadata": {},
   "outputs": [],
   "source": [
    "current_target_name = 'target_8'"
   ]
  },
  {
   "cell_type": "code",
   "execution_count": 107,
   "metadata": {},
   "outputs": [],
   "source": [
    "df = pd.read_csv('../predictions/2019.10.31 - 20:26:47 by rozanecm.csv')\n",
    "\n",
    "test = test.merge(df.rename(columns={'target':current_target_name}), on='id')"
   ]
  },
  {
   "cell_type": "code",
   "execution_count": 108,
   "metadata": {},
   "outputs": [],
   "source": [
    "df = pd.read_csv('../predictions/on_train_data/rozanecm_approach_1_with_feat_eng')\n",
    "\n",
    "train = train.merge(df.rename(columns={'rozanecm_approach_1_with_feat_eng':current_target_name}), on='id')"
   ]
  },
  {
   "cell_type": "markdown",
   "metadata": {},
   "source": [
    "# target 9"
   ]
  },
  {
   "cell_type": "code",
   "execution_count": 109,
   "metadata": {},
   "outputs": [],
   "source": [
    "current_target_name = 'target_9'"
   ]
  },
  {
   "cell_type": "code",
   "execution_count": 110,
   "metadata": {},
   "outputs": [],
   "source": [
    "df = pd.read_csv('../predictions/2019.11.01 - 00:32:25 by rozanecm.csv')\n",
    "\n",
    "test = test.merge(df.rename(columns={'target':current_target_name}), on='id')"
   ]
  },
  {
   "cell_type": "code",
   "execution_count": 111,
   "metadata": {},
   "outputs": [],
   "source": [
    "df = pd.read_csv('../predictions/on_train_data/rozanecm_approach_2_with_feat_eng')\n",
    "\n",
    "train = train.merge(df.rename(columns={'rozanecm_approach_2_with_feat_eng':current_target_name}), on='id')"
   ]
  },
  {
   "cell_type": "markdown",
   "metadata": {},
   "source": [
    "# target 10"
   ]
  },
  {
   "cell_type": "code",
   "execution_count": 112,
   "metadata": {},
   "outputs": [],
   "source": [
    "current_target_name = 'target_10'"
   ]
  },
  {
   "cell_type": "code",
   "execution_count": 113,
   "metadata": {},
   "outputs": [],
   "source": [
    "df = pd.read_csv('../predictions/2019.11.02 - 14:42:20 by rozanecm.csv')\n",
    "\n",
    "test = test.merge(df.rename(columns={'target':current_target_name}), on='id')"
   ]
  },
  {
   "cell_type": "code",
   "execution_count": 114,
   "metadata": {},
   "outputs": [],
   "source": [
    "df = pd.read_csv('../predictions/on_train_data/rozanecm_approach_3_with_feat_eng')\n",
    "\n",
    "train = train.merge(df.rename(columns={'rozanecm_approach_3_with_feat_eng':current_target_name}), on='id')"
   ]
  },
  {
   "cell_type": "markdown",
   "metadata": {},
   "source": [
    "# target 11"
   ]
  },
  {
   "cell_type": "code",
   "execution_count": 115,
   "metadata": {},
   "outputs": [],
   "source": [
    "current_target_name = 'target_11'"
   ]
  },
  {
   "cell_type": "code",
   "execution_count": 116,
   "metadata": {},
   "outputs": [],
   "source": [
    "df = pd.read_csv('../predictions/2019.11.02 - 17:01:06 by rozanecm.csv')\n",
    "\n",
    "test = test.merge(df.rename(columns={'target':current_target_name}), on='id')"
   ]
  },
  {
   "cell_type": "code",
   "execution_count": 117,
   "metadata": {},
   "outputs": [],
   "source": [
    "df = pd.read_csv('../predictions/on_train_data/rozanecm_approach_4_with_feat_eng')\n",
    "\n",
    "train = train.merge(df.rename(columns={'rozanecm_approach_4_with_feat_eng':current_target_name}), on='id')"
   ]
  },
  {
   "cell_type": "markdown",
   "metadata": {},
   "source": [
    "# target 12"
   ]
  },
  {
   "cell_type": "code",
   "execution_count": 118,
   "metadata": {},
   "outputs": [],
   "source": [
    "current_target_name = 'target_12'"
   ]
  },
  {
   "cell_type": "code",
   "execution_count": 119,
   "metadata": {},
   "outputs": [],
   "source": [
    "df = pd.read_csv('../predictions/2019.11.20 - 02_33_23 by rozanecm.csv')\n",
    "\n",
    "test = test.merge(df.rename(columns={'target':current_target_name}), on='id')"
   ]
  },
  {
   "cell_type": "code",
   "execution_count": 120,
   "metadata": {},
   "outputs": [],
   "source": [
    "df = pd.read_csv('../predictions/on_train_data/on_train_data_rozanecm_approach_16')\n",
    "\n",
    "train = train.merge(df.rename(columns={'rozanecm_approach_16':current_target_name}), on='id')"
   ]
  },
  {
   "cell_type": "markdown",
   "metadata": {},
   "source": [
    "# target 13"
   ]
  },
  {
   "cell_type": "code",
   "execution_count": 121,
   "metadata": {},
   "outputs": [],
   "source": [
    "current_target_name = 'target_13'"
   ]
  },
  {
   "cell_type": "code",
   "execution_count": 122,
   "metadata": {},
   "outputs": [],
   "source": [
    "df = pd.read_csv('../predictions/2019.11.20 - 19:09:38 by rozanecm.csv')\n",
    "\n",
    "test = test.merge(df.rename(columns={'target':current_target_name}), on='id')"
   ]
  },
  {
   "cell_type": "code",
   "execution_count": 123,
   "metadata": {},
   "outputs": [],
   "source": [
    "df = pd.read_csv('../predictions/on_train_data/rozanecm_approach_19')\n",
    "\n",
    "train = train.merge(df.rename(columns={'rozanecm_approach_19':current_target_name}), on='id')"
   ]
  },
  {
   "cell_type": "markdown",
   "metadata": {},
   "source": [
    "# target 14"
   ]
  },
  {
   "cell_type": "code",
   "execution_count": 124,
   "metadata": {},
   "outputs": [],
   "source": [
    "current_target_name = 'target_14'"
   ]
  },
  {
   "cell_type": "code",
   "execution_count": 125,
   "metadata": {},
   "outputs": [],
   "source": [
    "df = pd.read_csv('../predictions/2019.11.20 - 21:19:47 by rozanecm.csv')\n",
    "\n",
    "test = test.merge(df.rename(columns={'target':current_target_name}), on='id')"
   ]
  },
  {
   "cell_type": "code",
   "execution_count": 126,
   "metadata": {},
   "outputs": [],
   "source": [
    "df = pd.read_csv('../predictions/on_train_data/rozanecm_approach_20')\n",
    "\n",
    "train = train.merge(df.rename(columns={'rozanecm_approach_20':current_target_name}), on='id')"
   ]
  },
  {
   "cell_type": "markdown",
   "metadata": {},
   "source": [
    "# target 15"
   ]
  },
  {
   "cell_type": "code",
   "execution_count": 127,
   "metadata": {},
   "outputs": [],
   "source": [
    "current_target_name = 'target_15'"
   ]
  },
  {
   "cell_type": "code",
   "execution_count": 128,
   "metadata": {},
   "outputs": [],
   "source": [
    "df = pd.read_csv('../predictions/2019.11.21 - 15:06:51 by rozanecm.csv')\n",
    "\n",
    "test = test.merge(df.rename(columns={'target':current_target_name}), on='id')"
   ]
  },
  {
   "cell_type": "code",
   "execution_count": 129,
   "metadata": {},
   "outputs": [],
   "source": [
    "df = pd.read_csv('../predictions/on_train_data/rozanecm_approach_24')\n",
    "\n",
    "train = train.merge(df.rename(columns={'rozanecm_approach_24':current_target_name}), on='id')"
   ]
  },
  {
   "cell_type": "markdown",
   "metadata": {},
   "source": [
    "# target 16"
   ]
  },
  {
   "cell_type": "code",
   "execution_count": 130,
   "metadata": {},
   "outputs": [],
   "source": [
    "current_target_name = 'target_16'"
   ]
  },
  {
   "cell_type": "code",
   "execution_count": 131,
   "metadata": {},
   "outputs": [],
   "source": [
    "df = pd.read_csv('../predictions/2019.11.28 - 00:25:43 by fcozza.csv')\n",
    "\n",
    "test = test.merge(df.rename(columns={'target':current_target_name}), on='id')"
   ]
  },
  {
   "cell_type": "code",
   "execution_count": 132,
   "metadata": {},
   "outputs": [],
   "source": [
    "df = pd.read_csv('../predictions/on_train_data/fcozza_approach_1')\n",
    "\n",
    "train = train.merge(df.rename(columns={'fcozza_approach_1':current_target_name}), on='id')"
   ]
  },
  {
   "cell_type": "markdown",
   "metadata": {},
   "source": [
    "# target 17"
   ]
  },
  {
   "cell_type": "code",
   "execution_count": 133,
   "metadata": {},
   "outputs": [],
   "source": [
    "current_target_name = 'target_17'"
   ]
  },
  {
   "cell_type": "code",
   "execution_count": 134,
   "metadata": {},
   "outputs": [],
   "source": [
    "df = pd.read_csv('../predictions/2019.11.28 - 00:40:14 by fcozza.csv')\n",
    "\n",
    "test = test.merge(df.rename(columns={'target':current_target_name}), on='id')"
   ]
  },
  {
   "cell_type": "code",
   "execution_count": 135,
   "metadata": {},
   "outputs": [],
   "source": [
    "df = pd.read_csv('../predictions/on_train_data/fcozza_approach_2')\n",
    "\n",
    "train = train.merge(df.rename(columns={'fcozza_approach_2':current_target_name}), on='id')"
   ]
  },
  {
   "cell_type": "code",
   "execution_count": 136,
   "metadata": {},
   "outputs": [
    {
     "data": {
      "text/html": [
       "<div>\n",
       "<style scoped>\n",
       "    .dataframe tbody tr th:only-of-type {\n",
       "        vertical-align: middle;\n",
       "    }\n",
       "\n",
       "    .dataframe tbody tr th {\n",
       "        vertical-align: top;\n",
       "    }\n",
       "\n",
       "    .dataframe thead th {\n",
       "        text-align: right;\n",
       "    }\n",
       "</style>\n",
       "<table border=\"1\" class=\"dataframe\">\n",
       "  <thead>\n",
       "    <tr style=\"text-align: right;\">\n",
       "      <th></th>\n",
       "      <th>id</th>\n",
       "      <th>precio</th>\n",
       "      <th>target_1</th>\n",
       "      <th>target_2</th>\n",
       "      <th>target_3</th>\n",
       "      <th>target_4</th>\n",
       "      <th>target_5</th>\n",
       "      <th>target_6</th>\n",
       "      <th>target_7</th>\n",
       "      <th>target_8</th>\n",
       "      <th>target_9</th>\n",
       "      <th>target_10</th>\n",
       "      <th>target_11</th>\n",
       "      <th>target_12</th>\n",
       "      <th>target_13</th>\n",
       "      <th>target_14</th>\n",
       "      <th>target_15</th>\n",
       "      <th>target_16</th>\n",
       "      <th>target_17</th>\n",
       "    </tr>\n",
       "  </thead>\n",
       "  <tbody>\n",
       "    <tr>\n",
       "      <th>6270</th>\n",
       "      <td>105756</td>\n",
       "      <td>4500000.0</td>\n",
       "      <td>3487039.74</td>\n",
       "      <td>4838902.91</td>\n",
       "      <td>4519591.34</td>\n",
       "      <td>5083299.58</td>\n",
       "      <td>4.321102e+06</td>\n",
       "      <td>4.603851e+06</td>\n",
       "      <td>1.856897e+06</td>\n",
       "      <td>4.988866e+06</td>\n",
       "      <td>5.024124e+06</td>\n",
       "      <td>4.837876e+06</td>\n",
       "      <td>4.728714e+06</td>\n",
       "      <td>4440725.82</td>\n",
       "      <td>4.048089e+06</td>\n",
       "      <td>4.063205e+06</td>\n",
       "      <td>4.355376e+06</td>\n",
       "      <td>3983505.0</td>\n",
       "      <td>4.230242e+06</td>\n",
       "    </tr>\n",
       "    <tr>\n",
       "      <th>63455</th>\n",
       "      <td>289355</td>\n",
       "      <td>4200000.0</td>\n",
       "      <td>5282473.09</td>\n",
       "      <td>6171075.88</td>\n",
       "      <td>5728474.16</td>\n",
       "      <td>5710684.48</td>\n",
       "      <td>5.264330e+06</td>\n",
       "      <td>5.621414e+06</td>\n",
       "      <td>5.285105e+06</td>\n",
       "      <td>5.220420e+06</td>\n",
       "      <td>5.336935e+06</td>\n",
       "      <td>4.857901e+06</td>\n",
       "      <td>4.951534e+06</td>\n",
       "      <td>6234419.32</td>\n",
       "      <td>4.409707e+06</td>\n",
       "      <td>5.132044e+06</td>\n",
       "      <td>4.572600e+06</td>\n",
       "      <td>6317128.5</td>\n",
       "      <td>5.440188e+06</td>\n",
       "    </tr>\n",
       "    <tr>\n",
       "      <th>191772</th>\n",
       "      <td>131239</td>\n",
       "      <td>1500000.0</td>\n",
       "      <td>4124523.00</td>\n",
       "      <td>4896027.19</td>\n",
       "      <td>4727425.00</td>\n",
       "      <td>4801243.10</td>\n",
       "      <td>4.740717e+06</td>\n",
       "      <td>4.244634e+06</td>\n",
       "      <td>3.661106e+06</td>\n",
       "      <td>4.968748e+06</td>\n",
       "      <td>5.018921e+06</td>\n",
       "      <td>4.791459e+06</td>\n",
       "      <td>4.800713e+06</td>\n",
       "      <td>4776200.00</td>\n",
       "      <td>4.272280e+06</td>\n",
       "      <td>3.950765e+06</td>\n",
       "      <td>4.355808e+06</td>\n",
       "      <td>4390630.0</td>\n",
       "      <td>4.228587e+06</td>\n",
       "    </tr>\n",
       "    <tr>\n",
       "      <th>36691</th>\n",
       "      <td>231229</td>\n",
       "      <td>4180000.0</td>\n",
       "      <td>2779630.00</td>\n",
       "      <td>3404264.01</td>\n",
       "      <td>3163734.01</td>\n",
       "      <td>3200186.50</td>\n",
       "      <td>3.318713e+06</td>\n",
       "      <td>3.547437e+06</td>\n",
       "      <td>3.163077e+06</td>\n",
       "      <td>3.244117e+06</td>\n",
       "      <td>3.235130e+06</td>\n",
       "      <td>3.384506e+06</td>\n",
       "      <td>3.335637e+06</td>\n",
       "      <td>3572408.02</td>\n",
       "      <td>3.318728e+06</td>\n",
       "      <td>3.226857e+06</td>\n",
       "      <td>3.239927e+06</td>\n",
       "      <td>3162197.0</td>\n",
       "      <td>3.192396e+06</td>\n",
       "    </tr>\n",
       "    <tr>\n",
       "      <th>194476</th>\n",
       "      <td>45599</td>\n",
       "      <td>4200000.0</td>\n",
       "      <td>5521184.76</td>\n",
       "      <td>3665928.91</td>\n",
       "      <td>3742690.00</td>\n",
       "      <td>3894160.00</td>\n",
       "      <td>3.756478e+06</td>\n",
       "      <td>4.239437e+06</td>\n",
       "      <td>4.519693e+06</td>\n",
       "      <td>4.068781e+06</td>\n",
       "      <td>4.121031e+06</td>\n",
       "      <td>3.732772e+06</td>\n",
       "      <td>3.657788e+06</td>\n",
       "      <td>3571388.00</td>\n",
       "      <td>3.744768e+06</td>\n",
       "      <td>4.027127e+06</td>\n",
       "      <td>3.720548e+06</td>\n",
       "      <td>4150428.0</td>\n",
       "      <td>3.773178e+06</td>\n",
       "    </tr>\n",
       "  </tbody>\n",
       "</table>\n",
       "</div>"
      ],
      "text/plain": [
       "            id     precio    target_1    target_2    target_3    target_4  \\\n",
       "6270    105756  4500000.0  3487039.74  4838902.91  4519591.34  5083299.58   \n",
       "63455   289355  4200000.0  5282473.09  6171075.88  5728474.16  5710684.48   \n",
       "191772  131239  1500000.0  4124523.00  4896027.19  4727425.00  4801243.10   \n",
       "36691   231229  4180000.0  2779630.00  3404264.01  3163734.01  3200186.50   \n",
       "194476   45599  4200000.0  5521184.76  3665928.91  3742690.00  3894160.00   \n",
       "\n",
       "            target_5      target_6      target_7      target_8      target_9  \\\n",
       "6270    4.321102e+06  4.603851e+06  1.856897e+06  4.988866e+06  5.024124e+06   \n",
       "63455   5.264330e+06  5.621414e+06  5.285105e+06  5.220420e+06  5.336935e+06   \n",
       "191772  4.740717e+06  4.244634e+06  3.661106e+06  4.968748e+06  5.018921e+06   \n",
       "36691   3.318713e+06  3.547437e+06  3.163077e+06  3.244117e+06  3.235130e+06   \n",
       "194476  3.756478e+06  4.239437e+06  4.519693e+06  4.068781e+06  4.121031e+06   \n",
       "\n",
       "           target_10     target_11   target_12     target_13     target_14  \\\n",
       "6270    4.837876e+06  4.728714e+06  4440725.82  4.048089e+06  4.063205e+06   \n",
       "63455   4.857901e+06  4.951534e+06  6234419.32  4.409707e+06  5.132044e+06   \n",
       "191772  4.791459e+06  4.800713e+06  4776200.00  4.272280e+06  3.950765e+06   \n",
       "36691   3.384506e+06  3.335637e+06  3572408.02  3.318728e+06  3.226857e+06   \n",
       "194476  3.732772e+06  3.657788e+06  3571388.00  3.744768e+06  4.027127e+06   \n",
       "\n",
       "           target_15  target_16     target_17  \n",
       "6270    4.355376e+06  3983505.0  4.230242e+06  \n",
       "63455   4.572600e+06  6317128.5  5.440188e+06  \n",
       "191772  4.355808e+06  4390630.0  4.228587e+06  \n",
       "36691   3.239927e+06  3162197.0  3.192396e+06  \n",
       "194476  3.720548e+06  4150428.0  3.773178e+06  "
      ]
     },
     "execution_count": 136,
     "metadata": {},
     "output_type": "execute_result"
    }
   ],
   "source": [
    "train.sample(5)"
   ]
  },
  {
   "cell_type": "code",
   "execution_count": 137,
   "metadata": {},
   "outputs": [
    {
     "data": {
      "text/html": [
       "<div>\n",
       "<style scoped>\n",
       "    .dataframe tbody tr th:only-of-type {\n",
       "        vertical-align: middle;\n",
       "    }\n",
       "\n",
       "    .dataframe tbody tr th {\n",
       "        vertical-align: top;\n",
       "    }\n",
       "\n",
       "    .dataframe thead th {\n",
       "        text-align: right;\n",
       "    }\n",
       "</style>\n",
       "<table border=\"1\" class=\"dataframe\">\n",
       "  <thead>\n",
       "    <tr style=\"text-align: right;\">\n",
       "      <th></th>\n",
       "      <th>id</th>\n",
       "      <th>target_1</th>\n",
       "      <th>target_2</th>\n",
       "      <th>target_3</th>\n",
       "      <th>target_4</th>\n",
       "      <th>target_5</th>\n",
       "      <th>target_6</th>\n",
       "      <th>target_7</th>\n",
       "      <th>target_8</th>\n",
       "      <th>target_9</th>\n",
       "      <th>target_10</th>\n",
       "      <th>target_11</th>\n",
       "      <th>target_12</th>\n",
       "      <th>target_13</th>\n",
       "      <th>target_14</th>\n",
       "      <th>target_15</th>\n",
       "      <th>target_16</th>\n",
       "      <th>target_17</th>\n",
       "    </tr>\n",
       "  </thead>\n",
       "  <tbody>\n",
       "    <tr>\n",
       "      <th>24380</th>\n",
       "      <td>153932</td>\n",
       "      <td>627239.94</td>\n",
       "      <td>484732.11</td>\n",
       "      <td>507052.67</td>\n",
       "      <td>469836.98</td>\n",
       "      <td>4.302885e+05</td>\n",
       "      <td>4.686745e+05</td>\n",
       "      <td>4.761451e+05</td>\n",
       "      <td>5.038487e+05</td>\n",
       "      <td>4.982325e+05</td>\n",
       "      <td>3.512234e+05</td>\n",
       "      <td>4.280618e+05</td>\n",
       "      <td>524496.46</td>\n",
       "      <td>4.487143e+05</td>\n",
       "      <td>4.577436e+05</td>\n",
       "      <td>4.838956e+05</td>\n",
       "      <td>494429.78</td>\n",
       "      <td>4.551231e+05</td>\n",
       "    </tr>\n",
       "    <tr>\n",
       "      <th>29629</th>\n",
       "      <td>220911</td>\n",
       "      <td>2228691.76</td>\n",
       "      <td>1874038.36</td>\n",
       "      <td>1772107.50</td>\n",
       "      <td>1789790.58</td>\n",
       "      <td>1.855069e+06</td>\n",
       "      <td>1.789558e+06</td>\n",
       "      <td>2.039158e+06</td>\n",
       "      <td>1.652640e+06</td>\n",
       "      <td>1.711110e+06</td>\n",
       "      <td>1.722093e+06</td>\n",
       "      <td>1.775475e+06</td>\n",
       "      <td>1314912.80</td>\n",
       "      <td>1.347046e+06</td>\n",
       "      <td>1.364961e+06</td>\n",
       "      <td>1.262858e+06</td>\n",
       "      <td>1752781.80</td>\n",
       "      <td>1.890854e+06</td>\n",
       "    </tr>\n",
       "    <tr>\n",
       "      <th>23864</th>\n",
       "      <td>50419</td>\n",
       "      <td>644696.00</td>\n",
       "      <td>616009.99</td>\n",
       "      <td>627019.70</td>\n",
       "      <td>601353.56</td>\n",
       "      <td>6.220470e+05</td>\n",
       "      <td>6.353987e+05</td>\n",
       "      <td>5.768462e+05</td>\n",
       "      <td>6.513078e+05</td>\n",
       "      <td>7.667712e+05</td>\n",
       "      <td>6.484745e+05</td>\n",
       "      <td>6.466077e+05</td>\n",
       "      <td>659959.98</td>\n",
       "      <td>5.988986e+05</td>\n",
       "      <td>6.107053e+05</td>\n",
       "      <td>5.837103e+05</td>\n",
       "      <td>727066.70</td>\n",
       "      <td>5.943797e+05</td>\n",
       "    </tr>\n",
       "    <tr>\n",
       "      <th>18592</th>\n",
       "      <td>48350</td>\n",
       "      <td>6300018.48</td>\n",
       "      <td>6871142.18</td>\n",
       "      <td>6510207.03</td>\n",
       "      <td>6646724.04</td>\n",
       "      <td>6.890724e+06</td>\n",
       "      <td>6.232710e+06</td>\n",
       "      <td>6.197160e+06</td>\n",
       "      <td>6.817185e+06</td>\n",
       "      <td>6.701318e+06</td>\n",
       "      <td>6.341936e+06</td>\n",
       "      <td>6.239297e+06</td>\n",
       "      <td>6354764.96</td>\n",
       "      <td>6.160502e+06</td>\n",
       "      <td>6.660584e+06</td>\n",
       "      <td>6.614652e+06</td>\n",
       "      <td>7018938.00</td>\n",
       "      <td>6.061215e+06</td>\n",
       "    </tr>\n",
       "    <tr>\n",
       "      <th>49616</th>\n",
       "      <td>212976</td>\n",
       "      <td>7417190.00</td>\n",
       "      <td>6066687.97</td>\n",
       "      <td>6212335.00</td>\n",
       "      <td>5994126.90</td>\n",
       "      <td>7.825460e+06</td>\n",
       "      <td>6.920402e+06</td>\n",
       "      <td>7.609064e+06</td>\n",
       "      <td>6.790188e+06</td>\n",
       "      <td>6.465105e+06</td>\n",
       "      <td>7.014811e+06</td>\n",
       "      <td>6.990305e+06</td>\n",
       "      <td>5828944.02</td>\n",
       "      <td>6.883808e+06</td>\n",
       "      <td>6.737379e+06</td>\n",
       "      <td>7.681981e+06</td>\n",
       "      <td>8349625.00</td>\n",
       "      <td>7.456062e+06</td>\n",
       "    </tr>\n",
       "  </tbody>\n",
       "</table>\n",
       "</div>"
      ],
      "text/plain": [
       "           id    target_1    target_2    target_3    target_4      target_5  \\\n",
       "24380  153932   627239.94   484732.11   507052.67   469836.98  4.302885e+05   \n",
       "29629  220911  2228691.76  1874038.36  1772107.50  1789790.58  1.855069e+06   \n",
       "23864   50419   644696.00   616009.99   627019.70   601353.56  6.220470e+05   \n",
       "18592   48350  6300018.48  6871142.18  6510207.03  6646724.04  6.890724e+06   \n",
       "49616  212976  7417190.00  6066687.97  6212335.00  5994126.90  7.825460e+06   \n",
       "\n",
       "           target_6      target_7      target_8      target_9     target_10  \\\n",
       "24380  4.686745e+05  4.761451e+05  5.038487e+05  4.982325e+05  3.512234e+05   \n",
       "29629  1.789558e+06  2.039158e+06  1.652640e+06  1.711110e+06  1.722093e+06   \n",
       "23864  6.353987e+05  5.768462e+05  6.513078e+05  7.667712e+05  6.484745e+05   \n",
       "18592  6.232710e+06  6.197160e+06  6.817185e+06  6.701318e+06  6.341936e+06   \n",
       "49616  6.920402e+06  7.609064e+06  6.790188e+06  6.465105e+06  7.014811e+06   \n",
       "\n",
       "          target_11   target_12     target_13     target_14     target_15  \\\n",
       "24380  4.280618e+05   524496.46  4.487143e+05  4.577436e+05  4.838956e+05   \n",
       "29629  1.775475e+06  1314912.80  1.347046e+06  1.364961e+06  1.262858e+06   \n",
       "23864  6.466077e+05   659959.98  5.988986e+05  6.107053e+05  5.837103e+05   \n",
       "18592  6.239297e+06  6354764.96  6.160502e+06  6.660584e+06  6.614652e+06   \n",
       "49616  6.990305e+06  5828944.02  6.883808e+06  6.737379e+06  7.681981e+06   \n",
       "\n",
       "        target_16     target_17  \n",
       "24380   494429.78  4.551231e+05  \n",
       "29629  1752781.80  1.890854e+06  \n",
       "23864   727066.70  5.943797e+05  \n",
       "18592  7018938.00  6.061215e+06  \n",
       "49616  8349625.00  7.456062e+06  "
      ]
     },
     "execution_count": 137,
     "metadata": {},
     "output_type": "execute_result"
    }
   ],
   "source": [
    "test.sample(5)"
   ]
  },
  {
   "cell_type": "code",
   "execution_count": null,
   "metadata": {},
   "outputs": [],
   "source": []
  },
  {
   "cell_type": "code",
   "execution_count": null,
   "metadata": {},
   "outputs": [],
   "source": []
  }
 ],
 "metadata": {
  "kernelspec": {
   "display_name": "Python 3",
   "language": "python",
   "name": "python3"
  },
  "language_info": {
   "codemirror_mode": {
    "name": "ipython",
    "version": 3
   },
   "file_extension": ".py",
   "mimetype": "text/x-python",
   "name": "python",
   "nbconvert_exporter": "python",
   "pygments_lexer": "ipython3",
   "version": "3.7.0"
  }
 },
 "nbformat": 4,
 "nbformat_minor": 4
}
