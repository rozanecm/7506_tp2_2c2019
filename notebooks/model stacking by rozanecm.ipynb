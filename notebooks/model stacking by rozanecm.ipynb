{
 "cells": [
  {
   "cell_type": "code",
   "execution_count": 2,
   "metadata": {},
   "outputs": [],
   "source": [
    "import pandas as pd\n",
    "import numpy as np"
   ]
  },
  {
   "cell_type": "code",
   "execution_count": 3,
   "metadata": {},
   "outputs": [],
   "source": [
    "# This will allow you to see all column names & rows when you are doing .head(). None of the column name will be truncated.\n",
    "# source: https://stackoverflow.com/questions/49188960/how-to-show-all-of-columns-name-on-pandas-dataframe\n",
    "\n",
    "pd.set_option('display.max_columns', None)\n",
    "# pd.set_option('display.max_rows', None)"
   ]
  },
  {
   "cell_type": "code",
   "execution_count": 4,
   "metadata": {},
   "outputs": [],
   "source": [
    "# source: https://gist.github.com/rozanecm/38f2901c592bdffc40726cb0473318cf\n",
    "# Function which plays a beep of given duration and frequency.\n",
    "# Useful for when executing things that need a while to finish, to get notified.\n",
    "import os\n",
    "def beep(duration = 1, freq = 1500):\n",
    "    \"\"\" play tone of duration in seconds and freq in Hz. \"\"\"\n",
    "    os.system('play --no-show-progress --null --channels 1 synth %s sine %f' % (duration, freq))"
   ]
  },
  {
   "cell_type": "code",
   "execution_count": 5,
   "metadata": {},
   "outputs": [],
   "source": [
    "train = pd.read_csv('../data/train.csv', usecols=['id','precio'])\n",
    "test = pd.read_csv('../data/test.csv', usecols=['id'])"
   ]
  },
  {
   "cell_type": "markdown",
   "metadata": {},
   "source": [
    "# Agregando columnas de predicciones anteriores"
   ]
  },
  {
   "cell_type": "markdown",
   "metadata": {},
   "source": [
    "# target 1 - rf"
   ]
  },
  {
   "cell_type": "code",
   "execution_count": 6,
   "metadata": {},
   "outputs": [],
   "source": [
    "current_target_name = 'target_1'"
   ]
  },
  {
   "cell_type": "code",
   "execution_count": 7,
   "metadata": {},
   "outputs": [],
   "source": [
    "df = pd.read_csv('../predictions/2019.10.28 - 09:12:00 by rozanecm.csv')\n",
    "\n",
    "test = test.merge(df.rename(columns={'target':current_target_name}), on='id')"
   ]
  },
  {
   "cell_type": "code",
   "execution_count": 8,
   "metadata": {},
   "outputs": [],
   "source": [
    "df = pd.read_csv('../predictions/on_train_data/rozanecm_approach_1')\n",
    "\n",
    "train = train.merge(df.rename(columns={'approach_1':current_target_name}), on='id')"
   ]
  },
  {
   "cell_type": "markdown",
   "metadata": {},
   "source": [
    "# target 2 - rf + one hot + svd"
   ]
  },
  {
   "cell_type": "code",
   "execution_count": 9,
   "metadata": {},
   "outputs": [],
   "source": [
    "current_target_name = 'target_2'"
   ]
  },
  {
   "cell_type": "code",
   "execution_count": 10,
   "metadata": {},
   "outputs": [],
   "source": [
    "df = pd.read_csv('../predictions/2019.10.28 - 12:03:46 by rozanecm.csv')\n",
    "\n",
    "test = test.merge(df.rename(columns={'target':current_target_name}), on='id')"
   ]
  },
  {
   "cell_type": "code",
   "execution_count": 11,
   "metadata": {},
   "outputs": [],
   "source": [
    "df = pd.read_csv('../predictions/on_train_data/rozanecm_approach_2')\n",
    "\n",
    "train = train.merge(df.rename(columns={'rozanecm_approach_2':current_target_name}), on='id')"
   ]
  },
  {
   "cell_type": "markdown",
   "metadata": {},
   "source": [
    "# target 3 - rf + one hashing vectorizer + svd"
   ]
  },
  {
   "cell_type": "code",
   "execution_count": 12,
   "metadata": {},
   "outputs": [],
   "source": [
    "current_target_name = 'target_3'"
   ]
  },
  {
   "cell_type": "code",
   "execution_count": 13,
   "metadata": {},
   "outputs": [],
   "source": [
    "df = pd.read_csv('../predictions/2019.10.28 - 14:40:22 by rozanecm.csv')\n",
    "\n",
    "test = test.merge(df.rename(columns={'target':current_target_name}), on='id')"
   ]
  },
  {
   "cell_type": "code",
   "execution_count": 14,
   "metadata": {},
   "outputs": [],
   "source": [
    "df = pd.read_csv('../predictions/on_train_data/rozanecm_approach_3')\n",
    "\n",
    "train = train.merge(df.rename(columns={'rozanecm_approach_3':current_target_name}), on='id')"
   ]
  },
  {
   "cell_type": "markdown",
   "metadata": {},
   "source": [
    "# target 4 - rf + stopwords"
   ]
  },
  {
   "cell_type": "code",
   "execution_count": 15,
   "metadata": {},
   "outputs": [],
   "source": [
    "current_target_name = 'target_4'"
   ]
  },
  {
   "cell_type": "code",
   "execution_count": 16,
   "metadata": {},
   "outputs": [],
   "source": [
    "df = pd.read_csv('../predictions/2019.10.28 - 16:36:13 by rozanecm.csv')\n",
    "\n",
    "test = test.merge(df.rename(columns={'target':current_target_name}), on='id')"
   ]
  },
  {
   "cell_type": "code",
   "execution_count": 17,
   "metadata": {},
   "outputs": [],
   "source": [
    "df = pd.read_csv('../predictions/on_train_data/rozanecm_approach_4')\n",
    "\n",
    "train = train.merge(df.rename(columns={'rozanecm_approach_4':current_target_name}), on='id')"
   ]
  },
  {
   "cell_type": "markdown",
   "metadata": {},
   "source": [
    "# target 5 -lightgbm"
   ]
  },
  {
   "cell_type": "code",
   "execution_count": 18,
   "metadata": {},
   "outputs": [],
   "source": [
    "current_target_name = 'target_5'"
   ]
  },
  {
   "cell_type": "code",
   "execution_count": 19,
   "metadata": {},
   "outputs": [],
   "source": [
    "df = pd.read_csv('../predictions/2019.10.29 - 11:59:35 by rozanecm.csv')\n",
    "\n",
    "test = test.merge(df.rename(columns={'target':current_target_name}), on='id')"
   ]
  },
  {
   "cell_type": "code",
   "execution_count": 20,
   "metadata": {},
   "outputs": [],
   "source": [
    "df = pd.read_csv('../predictions/on_train_data/rozanecm_approach_7')\n",
    "\n",
    "train = train.merge(df.rename(columns={'rozanecm_approach_7':current_target_name}), on='id')"
   ]
  },
  {
   "cell_type": "markdown",
   "metadata": {},
   "source": [
    "# target 6 - lightgbm with grid search"
   ]
  },
  {
   "cell_type": "code",
   "execution_count": 21,
   "metadata": {},
   "outputs": [],
   "source": [
    "current_target_name = 'target_6'"
   ]
  },
  {
   "cell_type": "code",
   "execution_count": 22,
   "metadata": {},
   "outputs": [],
   "source": [
    "df = pd.read_csv('../predictions/2019.10.29 - 13:19:02 by rozanecm.csv')\n",
    "\n",
    "test = test.merge(df.rename(columns={'target':current_target_name}), on='id')"
   ]
  },
  {
   "cell_type": "code",
   "execution_count": 23,
   "metadata": {},
   "outputs": [],
   "source": [
    "df = pd.read_csv('../predictions/on_train_data/rozanecm_approach_8')\n",
    "\n",
    "train = train.merge(df.rename(columns={'rozanecm_approach_8':current_target_name}), on='id')"
   ]
  },
  {
   "cell_type": "markdown",
   "metadata": {},
   "source": [
    "# target 7 - lightgbm with grid search"
   ]
  },
  {
   "cell_type": "code",
   "execution_count": 24,
   "metadata": {},
   "outputs": [],
   "source": [
    "current_target_name = 'target_7'"
   ]
  },
  {
   "cell_type": "code",
   "execution_count": 25,
   "metadata": {},
   "outputs": [],
   "source": [
    "df = pd.read_csv('../predictions/2019.11.11 - 13:07:13 by rozanecm.csv')\n",
    "\n",
    "test = test.merge(df.rename(columns={'target':current_target_name}), on='id')"
   ]
  },
  {
   "cell_type": "code",
   "execution_count": 26,
   "metadata": {},
   "outputs": [],
   "source": [
    "df = pd.read_csv('../predictions/on_train_data/rozanecm_approach_10')\n",
    "\n",
    "train = train.merge(df.rename(columns={'rozanecm_approach_10':current_target_name}), on='id')"
   ]
  },
  {
   "cell_type": "markdown",
   "metadata": {},
   "source": [
    "# target 8 - lightgbm grid search + feat eng"
   ]
  },
  {
   "cell_type": "code",
   "execution_count": 27,
   "metadata": {},
   "outputs": [],
   "source": [
    "current_target_name = 'target_8'"
   ]
  },
  {
   "cell_type": "code",
   "execution_count": 28,
   "metadata": {},
   "outputs": [],
   "source": [
    "df = pd.read_csv('../predictions/2019.10.31 - 20:26:47 by rozanecm.csv')\n",
    "\n",
    "test = test.merge(df.rename(columns={'target':current_target_name}), on='id')"
   ]
  },
  {
   "cell_type": "code",
   "execution_count": 29,
   "metadata": {},
   "outputs": [],
   "source": [
    "df = pd.read_csv('../predictions/on_train_data/rozanecm_approach_1_with_feat_eng')\n",
    "\n",
    "train = train.merge(df.rename(columns={'rozanecm_approach_1_with_feat_eng':current_target_name}), on='id')"
   ]
  },
  {
   "cell_type": "markdown",
   "metadata": {},
   "source": [
    "# target 9 - light gbm grid search all train set + feat eng"
   ]
  },
  {
   "cell_type": "code",
   "execution_count": 30,
   "metadata": {},
   "outputs": [],
   "source": [
    "current_target_name = 'target_9'"
   ]
  },
  {
   "cell_type": "code",
   "execution_count": 31,
   "metadata": {},
   "outputs": [],
   "source": [
    "df = pd.read_csv('../predictions/2019.11.02 - 14:42:20 by rozanecm.csv')\n",
    "\n",
    "test = test.merge(df.rename(columns={'target':current_target_name}), on='id')"
   ]
  },
  {
   "cell_type": "code",
   "execution_count": 32,
   "metadata": {},
   "outputs": [],
   "source": [
    "df = pd.read_csv('../predictions/on_train_data/rozanecm_approach_3_with_feat_eng')\n",
    "\n",
    "train = train.merge(df.rename(columns={'rozanecm_approach_3_with_feat_eng':current_target_name}), on='id')"
   ]
  },
  {
   "cell_type": "markdown",
   "metadata": {},
   "source": [
    "# target 10 - feat selection rf y lightgbm grid search"
   ]
  },
  {
   "cell_type": "code",
   "execution_count": 33,
   "metadata": {},
   "outputs": [],
   "source": [
    "current_target_name = 'target_10'"
   ]
  },
  {
   "cell_type": "code",
   "execution_count": 34,
   "metadata": {},
   "outputs": [],
   "source": [
    "df = pd.read_csv('../predictions/2019.11.02 - 17:01:06 by rozanecm.csv')\n",
    "\n",
    "test = test.merge(df.rename(columns={'target':current_target_name}), on='id')"
   ]
  },
  {
   "cell_type": "code",
   "execution_count": 35,
   "metadata": {},
   "outputs": [],
   "source": [
    "df = pd.read_csv('../predictions/on_train_data/rozanecm_approach_4_with_feat_eng')\n",
    "\n",
    "train = train.merge(df.rename(columns={'rozanecm_approach_4_with_feat_eng':current_target_name}), on='id')"
   ]
  },
  {
   "cell_type": "markdown",
   "metadata": {},
   "source": [
    "# target 11 - ?"
   ]
  },
  {
   "cell_type": "code",
   "execution_count": 36,
   "metadata": {},
   "outputs": [],
   "source": [
    "current_target_name = 'target_11'"
   ]
  },
  {
   "cell_type": "code",
   "execution_count": 37,
   "metadata": {},
   "outputs": [],
   "source": [
    "df = pd.read_csv('../predictions/2019.11.20 - 02_33_23 by rozanecm.csv')\n",
    "\n",
    "test = test.merge(df.rename(columns={'target':current_target_name}), on='id')"
   ]
  },
  {
   "cell_type": "code",
   "execution_count": 38,
   "metadata": {},
   "outputs": [],
   "source": [
    "df = pd.read_csv('../predictions/on_train_data/on_train_data_rozanecm_approach_16')\n",
    "\n",
    "train = train.merge(df.rename(columns={'rozanecm_approach_16':current_target_name}), on='id')"
   ]
  },
  {
   "cell_type": "markdown",
   "metadata": {},
   "source": [
    "# target 12 - lightgbm log precio"
   ]
  },
  {
   "cell_type": "code",
   "execution_count": 39,
   "metadata": {},
   "outputs": [],
   "source": [
    "current_target_name = 'target_12'"
   ]
  },
  {
   "cell_type": "code",
   "execution_count": 40,
   "metadata": {},
   "outputs": [],
   "source": [
    "df = pd.read_csv('../predictions/2019.11.20 - 19:09:38 by rozanecm.csv')\n",
    "\n",
    "test = test.merge(df.rename(columns={'target':current_target_name}), on='id')"
   ]
  },
  {
   "cell_type": "code",
   "execution_count": 41,
   "metadata": {},
   "outputs": [],
   "source": [
    "df = pd.read_csv('../predictions/on_train_data/rozanecm_approach_19')\n",
    "\n",
    "train = train.merge(df.rename(columns={'rozanecm_approach_19':current_target_name}), on='id')"
   ]
  },
  {
   "cell_type": "markdown",
   "metadata": {},
   "source": [
    "# target 13 - lightgbm log precio y skewed features"
   ]
  },
  {
   "cell_type": "code",
   "execution_count": 42,
   "metadata": {},
   "outputs": [],
   "source": [
    "current_target_name = 'target_13'"
   ]
  },
  {
   "cell_type": "code",
   "execution_count": 43,
   "metadata": {},
   "outputs": [],
   "source": [
    "df = pd.read_csv('../predictions/2019.11.20 - 21:19:47 by rozanecm.csv')\n",
    "\n",
    "test = test.merge(df.rename(columns={'target':current_target_name}), on='id')"
   ]
  },
  {
   "cell_type": "code",
   "execution_count": 44,
   "metadata": {},
   "outputs": [],
   "source": [
    "df = pd.read_csv('../predictions/on_train_data/rozanecm_approach_20')\n",
    "\n",
    "train = train.merge(df.rename(columns={'rozanecm_approach_20':current_target_name}), on='id')"
   ]
  },
  {
   "cell_type": "markdown",
   "metadata": {},
   "source": [
    "# target 14 - lightgbm new features"
   ]
  },
  {
   "cell_type": "code",
   "execution_count": 45,
   "metadata": {},
   "outputs": [],
   "source": [
    "current_target_name = 'target_14'"
   ]
  },
  {
   "cell_type": "code",
   "execution_count": 46,
   "metadata": {},
   "outputs": [],
   "source": [
    "df = pd.read_csv('../predictions/2019.11.21 - 15:06:51 by rozanecm.csv')\n",
    "\n",
    "test = test.merge(df.rename(columns={'target':current_target_name}), on='id')"
   ]
  },
  {
   "cell_type": "code",
   "execution_count": 47,
   "metadata": {},
   "outputs": [],
   "source": [
    "df = pd.read_csv('../predictions/on_train_data/rozanecm_approach_24')\n",
    "\n",
    "train = train.merge(df.rename(columns={'rozanecm_approach_24':current_target_name}), on='id')"
   ]
  },
  {
   "cell_type": "markdown",
   "metadata": {},
   "source": [
    "# target 15 - xgboost tunned "
   ]
  },
  {
   "cell_type": "code",
   "execution_count": 48,
   "metadata": {},
   "outputs": [],
   "source": [
    "current_target_name = 'target_15'"
   ]
  },
  {
   "cell_type": "code",
   "execution_count": 49,
   "metadata": {},
   "outputs": [],
   "source": [
    "df = pd.read_csv('../predictions/2019.11.28 - 00:25:43 by fcozza.csv')\n",
    "\n",
    "test = test.merge(df.rename(columns={'target':current_target_name}), on='id')"
   ]
  },
  {
   "cell_type": "code",
   "execution_count": 50,
   "metadata": {},
   "outputs": [],
   "source": [
    "df = pd.read_csv('../predictions/on_train_data/fcozza_approach_1')\n",
    "\n",
    "train = train.merge(df.rename(columns={'fcozza_approach_1':current_target_name}), on='id')"
   ]
  },
  {
   "cell_type": "markdown",
   "metadata": {},
   "source": [
    "# target 16 - lightgbm with features desc"
   ]
  },
  {
   "cell_type": "code",
   "execution_count": 51,
   "metadata": {},
   "outputs": [],
   "source": [
    "current_target_name = 'target_16'"
   ]
  },
  {
   "cell_type": "code",
   "execution_count": 52,
   "metadata": {},
   "outputs": [],
   "source": [
    "df = pd.read_csv('../predictions/2019.11.28 - 00:40:14 by fcozza.csv')\n",
    "\n",
    "test = test.merge(df.rename(columns={'target':current_target_name}), on='id')"
   ]
  },
  {
   "cell_type": "code",
   "execution_count": 53,
   "metadata": {},
   "outputs": [],
   "source": [
    "df = pd.read_csv('../predictions/on_train_data/fcozza_approach_2')\n",
    "\n",
    "train = train.merge(df.rename(columns={'fcozza_approach_2':current_target_name}), on='id')"
   ]
  },
  {
   "cell_type": "code",
   "execution_count": 54,
   "metadata": {},
   "outputs": [
    {
     "data": {
      "text/html": [
       "<div>\n",
       "<style scoped>\n",
       "    .dataframe tbody tr th:only-of-type {\n",
       "        vertical-align: middle;\n",
       "    }\n",
       "\n",
       "    .dataframe tbody tr th {\n",
       "        vertical-align: top;\n",
       "    }\n",
       "\n",
       "    .dataframe thead th {\n",
       "        text-align: right;\n",
       "    }\n",
       "</style>\n",
       "<table border=\"1\" class=\"dataframe\">\n",
       "  <thead>\n",
       "    <tr style=\"text-align: right;\">\n",
       "      <th></th>\n",
       "      <th>id</th>\n",
       "      <th>precio</th>\n",
       "      <th>target_1</th>\n",
       "      <th>target_2</th>\n",
       "      <th>target_3</th>\n",
       "      <th>target_4</th>\n",
       "      <th>target_5</th>\n",
       "      <th>target_6</th>\n",
       "      <th>target_7</th>\n",
       "      <th>target_8</th>\n",
       "      <th>target_9</th>\n",
       "      <th>target_10</th>\n",
       "      <th>target_11</th>\n",
       "      <th>target_12</th>\n",
       "      <th>target_13</th>\n",
       "      <th>target_14</th>\n",
       "      <th>target_15</th>\n",
       "      <th>target_16</th>\n",
       "    </tr>\n",
       "  </thead>\n",
       "  <tbody>\n",
       "    <tr>\n",
       "      <th>80680</th>\n",
       "      <td>145238</td>\n",
       "      <td>450000.0</td>\n",
       "      <td>558938.00</td>\n",
       "      <td>429784.32</td>\n",
       "      <td>478398.32</td>\n",
       "      <td>463468.41</td>\n",
       "      <td>3.149704e+05</td>\n",
       "      <td>5.024959e+05</td>\n",
       "      <td>6.445610e+05</td>\n",
       "      <td>5.499571e+05</td>\n",
       "      <td>4.175865e+05</td>\n",
       "      <td>3.813450e+05</td>\n",
       "      <td>485027.82</td>\n",
       "      <td>4.207705e+05</td>\n",
       "      <td>4.177995e+05</td>\n",
       "      <td>4.847474e+05</td>\n",
       "      <td>384442.47</td>\n",
       "      <td>4.191117e+05</td>\n",
       "    </tr>\n",
       "    <tr>\n",
       "      <th>36280</th>\n",
       "      <td>234110</td>\n",
       "      <td>4900000.0</td>\n",
       "      <td>3783732.50</td>\n",
       "      <td>3880796.66</td>\n",
       "      <td>3562984.30</td>\n",
       "      <td>3057828.94</td>\n",
       "      <td>5.596974e+06</td>\n",
       "      <td>4.015077e+06</td>\n",
       "      <td>3.846916e+06</td>\n",
       "      <td>4.473637e+06</td>\n",
       "      <td>4.898665e+06</td>\n",
       "      <td>5.245127e+06</td>\n",
       "      <td>4790384.30</td>\n",
       "      <td>4.102359e+06</td>\n",
       "      <td>2.958939e+06</td>\n",
       "      <td>4.235564e+06</td>\n",
       "      <td>4371546.00</td>\n",
       "      <td>3.625657e+06</td>\n",
       "    </tr>\n",
       "    <tr>\n",
       "      <th>237874</th>\n",
       "      <td>45838</td>\n",
       "      <td>483408.0</td>\n",
       "      <td>1678065.79</td>\n",
       "      <td>1177733.40</td>\n",
       "      <td>961269.95</td>\n",
       "      <td>876893.92</td>\n",
       "      <td>1.104367e+06</td>\n",
       "      <td>1.128873e+06</td>\n",
       "      <td>1.479939e+06</td>\n",
       "      <td>8.876117e+05</td>\n",
       "      <td>9.318925e+05</td>\n",
       "      <td>1.121043e+06</td>\n",
       "      <td>926131.82</td>\n",
       "      <td>9.398108e+05</td>\n",
       "      <td>8.414650e+05</td>\n",
       "      <td>1.013984e+06</td>\n",
       "      <td>1115303.60</td>\n",
       "      <td>1.054017e+06</td>\n",
       "    </tr>\n",
       "    <tr>\n",
       "      <th>67864</th>\n",
       "      <td>275220</td>\n",
       "      <td>4100000.0</td>\n",
       "      <td>4153799.06</td>\n",
       "      <td>4901911.03</td>\n",
       "      <td>4614806.88</td>\n",
       "      <td>4905254.77</td>\n",
       "      <td>5.455862e+06</td>\n",
       "      <td>5.473056e+06</td>\n",
       "      <td>5.008879e+06</td>\n",
       "      <td>5.115084e+06</td>\n",
       "      <td>5.399457e+06</td>\n",
       "      <td>5.367999e+06</td>\n",
       "      <td>4675449.28</td>\n",
       "      <td>4.637371e+06</td>\n",
       "      <td>5.409178e+06</td>\n",
       "      <td>4.975540e+06</td>\n",
       "      <td>5214855.50</td>\n",
       "      <td>5.256839e+06</td>\n",
       "    </tr>\n",
       "    <tr>\n",
       "      <th>58677</th>\n",
       "      <td>233153</td>\n",
       "      <td>370000.0</td>\n",
       "      <td>639323.66</td>\n",
       "      <td>497730.00</td>\n",
       "      <td>426050.10</td>\n",
       "      <td>462806.00</td>\n",
       "      <td>4.973153e+05</td>\n",
       "      <td>4.687501e+05</td>\n",
       "      <td>4.690275e+05</td>\n",
       "      <td>4.343512e+05</td>\n",
       "      <td>5.778027e+05</td>\n",
       "      <td>5.456359e+05</td>\n",
       "      <td>544100.00</td>\n",
       "      <td>4.616930e+05</td>\n",
       "      <td>4.475545e+05</td>\n",
       "      <td>4.657298e+05</td>\n",
       "      <td>533312.30</td>\n",
       "      <td>4.544946e+05</td>\n",
       "    </tr>\n",
       "  </tbody>\n",
       "</table>\n",
       "</div>"
      ],
      "text/plain": [
       "            id     precio    target_1    target_2    target_3    target_4  \\\n",
       "80680   145238   450000.0   558938.00   429784.32   478398.32   463468.41   \n",
       "36280   234110  4900000.0  3783732.50  3880796.66  3562984.30  3057828.94   \n",
       "237874   45838   483408.0  1678065.79  1177733.40   961269.95   876893.92   \n",
       "67864   275220  4100000.0  4153799.06  4901911.03  4614806.88  4905254.77   \n",
       "58677   233153   370000.0   639323.66   497730.00   426050.10   462806.00   \n",
       "\n",
       "            target_5      target_6      target_7      target_8      target_9  \\\n",
       "80680   3.149704e+05  5.024959e+05  6.445610e+05  5.499571e+05  4.175865e+05   \n",
       "36280   5.596974e+06  4.015077e+06  3.846916e+06  4.473637e+06  4.898665e+06   \n",
       "237874  1.104367e+06  1.128873e+06  1.479939e+06  8.876117e+05  9.318925e+05   \n",
       "67864   5.455862e+06  5.473056e+06  5.008879e+06  5.115084e+06  5.399457e+06   \n",
       "58677   4.973153e+05  4.687501e+05  4.690275e+05  4.343512e+05  5.778027e+05   \n",
       "\n",
       "           target_10   target_11     target_12     target_13     target_14  \\\n",
       "80680   3.813450e+05   485027.82  4.207705e+05  4.177995e+05  4.847474e+05   \n",
       "36280   5.245127e+06  4790384.30  4.102359e+06  2.958939e+06  4.235564e+06   \n",
       "237874  1.121043e+06   926131.82  9.398108e+05  8.414650e+05  1.013984e+06   \n",
       "67864   5.367999e+06  4675449.28  4.637371e+06  5.409178e+06  4.975540e+06   \n",
       "58677   5.456359e+05   544100.00  4.616930e+05  4.475545e+05  4.657298e+05   \n",
       "\n",
       "         target_15     target_16  \n",
       "80680    384442.47  4.191117e+05  \n",
       "36280   4371546.00  3.625657e+06  \n",
       "237874  1115303.60  1.054017e+06  \n",
       "67864   5214855.50  5.256839e+06  \n",
       "58677    533312.30  4.544946e+05  "
      ]
     },
     "execution_count": 54,
     "metadata": {},
     "output_type": "execute_result"
    }
   ],
   "source": [
    "train.sample(5)"
   ]
  },
  {
   "cell_type": "code",
   "execution_count": 55,
   "metadata": {},
   "outputs": [
    {
     "data": {
      "text/html": [
       "<div>\n",
       "<style scoped>\n",
       "    .dataframe tbody tr th:only-of-type {\n",
       "        vertical-align: middle;\n",
       "    }\n",
       "\n",
       "    .dataframe tbody tr th {\n",
       "        vertical-align: top;\n",
       "    }\n",
       "\n",
       "    .dataframe thead th {\n",
       "        text-align: right;\n",
       "    }\n",
       "</style>\n",
       "<table border=\"1\" class=\"dataframe\">\n",
       "  <thead>\n",
       "    <tr style=\"text-align: right;\">\n",
       "      <th></th>\n",
       "      <th>id</th>\n",
       "      <th>target_1</th>\n",
       "      <th>target_2</th>\n",
       "      <th>target_3</th>\n",
       "      <th>target_4</th>\n",
       "      <th>target_5</th>\n",
       "      <th>target_6</th>\n",
       "      <th>target_7</th>\n",
       "      <th>target_8</th>\n",
       "      <th>target_9</th>\n",
       "      <th>target_10</th>\n",
       "      <th>target_11</th>\n",
       "      <th>target_12</th>\n",
       "      <th>target_13</th>\n",
       "      <th>target_14</th>\n",
       "      <th>target_15</th>\n",
       "      <th>target_16</th>\n",
       "    </tr>\n",
       "  </thead>\n",
       "  <tbody>\n",
       "    <tr>\n",
       "      <th>58373</th>\n",
       "      <td>299412</td>\n",
       "      <td>6966900.00</td>\n",
       "      <td>9008572.15</td>\n",
       "      <td>7985423.41</td>\n",
       "      <td>8507593.63</td>\n",
       "      <td>9.697747e+06</td>\n",
       "      <td>1.065353e+07</td>\n",
       "      <td>8.488759e+06</td>\n",
       "      <td>1.039705e+07</td>\n",
       "      <td>9.093383e+06</td>\n",
       "      <td>9.531689e+06</td>\n",
       "      <td>7760203.20</td>\n",
       "      <td>1.066455e+07</td>\n",
       "      <td>9.201273e+06</td>\n",
       "      <td>8.052020e+06</td>\n",
       "      <td>10236398.00</td>\n",
       "      <td>9.671101e+06</td>\n",
       "    </tr>\n",
       "    <tr>\n",
       "      <th>36156</th>\n",
       "      <td>119438</td>\n",
       "      <td>2477249.32</td>\n",
       "      <td>2161616.92</td>\n",
       "      <td>2596499.48</td>\n",
       "      <td>2822494.56</td>\n",
       "      <td>2.306142e+06</td>\n",
       "      <td>2.494597e+06</td>\n",
       "      <td>2.393957e+06</td>\n",
       "      <td>2.268880e+06</td>\n",
       "      <td>2.197129e+06</td>\n",
       "      <td>2.402556e+06</td>\n",
       "      <td>2993213.32</td>\n",
       "      <td>2.143402e+06</td>\n",
       "      <td>1.756238e+06</td>\n",
       "      <td>1.740281e+06</td>\n",
       "      <td>2086310.20</td>\n",
       "      <td>1.882630e+06</td>\n",
       "    </tr>\n",
       "    <tr>\n",
       "      <th>49678</th>\n",
       "      <td>162983</td>\n",
       "      <td>1597519.64</td>\n",
       "      <td>1748865.35</td>\n",
       "      <td>1821840.89</td>\n",
       "      <td>1943187.90</td>\n",
       "      <td>1.754633e+06</td>\n",
       "      <td>2.098971e+06</td>\n",
       "      <td>1.912594e+06</td>\n",
       "      <td>2.335944e+06</td>\n",
       "      <td>2.090533e+06</td>\n",
       "      <td>2.196340e+06</td>\n",
       "      <td>1950024.14</td>\n",
       "      <td>2.042203e+06</td>\n",
       "      <td>1.762154e+06</td>\n",
       "      <td>1.736112e+06</td>\n",
       "      <td>1849064.00</td>\n",
       "      <td>1.593027e+06</td>\n",
       "    </tr>\n",
       "    <tr>\n",
       "      <th>39853</th>\n",
       "      <td>240472</td>\n",
       "      <td>474360.00</td>\n",
       "      <td>506964.62</td>\n",
       "      <td>481911.91</td>\n",
       "      <td>488026.91</td>\n",
       "      <td>5.475543e+05</td>\n",
       "      <td>5.440807e+05</td>\n",
       "      <td>5.029754e+05</td>\n",
       "      <td>6.016183e+05</td>\n",
       "      <td>6.143138e+05</td>\n",
       "      <td>6.300017e+05</td>\n",
       "      <td>613805.00</td>\n",
       "      <td>4.855707e+05</td>\n",
       "      <td>5.159761e+05</td>\n",
       "      <td>5.390324e+05</td>\n",
       "      <td>591553.25</td>\n",
       "      <td>5.047034e+05</td>\n",
       "    </tr>\n",
       "    <tr>\n",
       "      <th>41302</th>\n",
       "      <td>30922</td>\n",
       "      <td>2313900.00</td>\n",
       "      <td>2027040.00</td>\n",
       "      <td>2298490.00</td>\n",
       "      <td>2144940.75</td>\n",
       "      <td>2.017889e+06</td>\n",
       "      <td>1.698893e+06</td>\n",
       "      <td>1.908342e+06</td>\n",
       "      <td>1.720670e+06</td>\n",
       "      <td>1.869040e+06</td>\n",
       "      <td>1.734668e+06</td>\n",
       "      <td>1853880.00</td>\n",
       "      <td>1.714709e+06</td>\n",
       "      <td>1.862020e+06</td>\n",
       "      <td>1.952332e+06</td>\n",
       "      <td>2017424.20</td>\n",
       "      <td>1.920777e+06</td>\n",
       "    </tr>\n",
       "  </tbody>\n",
       "</table>\n",
       "</div>"
      ],
      "text/plain": [
       "           id    target_1    target_2    target_3    target_4      target_5  \\\n",
       "58373  299412  6966900.00  9008572.15  7985423.41  8507593.63  9.697747e+06   \n",
       "36156  119438  2477249.32  2161616.92  2596499.48  2822494.56  2.306142e+06   \n",
       "49678  162983  1597519.64  1748865.35  1821840.89  1943187.90  1.754633e+06   \n",
       "39853  240472   474360.00   506964.62   481911.91   488026.91  5.475543e+05   \n",
       "41302   30922  2313900.00  2027040.00  2298490.00  2144940.75  2.017889e+06   \n",
       "\n",
       "           target_6      target_7      target_8      target_9     target_10  \\\n",
       "58373  1.065353e+07  8.488759e+06  1.039705e+07  9.093383e+06  9.531689e+06   \n",
       "36156  2.494597e+06  2.393957e+06  2.268880e+06  2.197129e+06  2.402556e+06   \n",
       "49678  2.098971e+06  1.912594e+06  2.335944e+06  2.090533e+06  2.196340e+06   \n",
       "39853  5.440807e+05  5.029754e+05  6.016183e+05  6.143138e+05  6.300017e+05   \n",
       "41302  1.698893e+06  1.908342e+06  1.720670e+06  1.869040e+06  1.734668e+06   \n",
       "\n",
       "        target_11     target_12     target_13     target_14    target_15  \\\n",
       "58373  7760203.20  1.066455e+07  9.201273e+06  8.052020e+06  10236398.00   \n",
       "36156  2993213.32  2.143402e+06  1.756238e+06  1.740281e+06   2086310.20   \n",
       "49678  1950024.14  2.042203e+06  1.762154e+06  1.736112e+06   1849064.00   \n",
       "39853   613805.00  4.855707e+05  5.159761e+05  5.390324e+05    591553.25   \n",
       "41302  1853880.00  1.714709e+06  1.862020e+06  1.952332e+06   2017424.20   \n",
       "\n",
       "          target_16  \n",
       "58373  9.671101e+06  \n",
       "36156  1.882630e+06  \n",
       "49678  1.593027e+06  \n",
       "39853  5.047034e+05  \n",
       "41302  1.920777e+06  "
      ]
     },
     "execution_count": 55,
     "metadata": {},
     "output_type": "execute_result"
    }
   ],
   "source": [
    "test.sample(5)"
   ]
  },
  {
   "cell_type": "code",
   "execution_count": 56,
   "metadata": {},
   "outputs": [],
   "source": [
    "import lightgbm as lgb\n",
    "\n",
    "model = lgb.LGBMRegressor(boosting_type='gbdt', class_weight=None, colsample_bytree=1.0,\n",
    "                                  importance_type='split', learning_rate=0.05, max_depth=75,\n",
    "                                  min_child_samples=20, min_child_weight=0.001, min_split_gain=0.0,\n",
    "                                  n_estimators=200, n_jobs=-1, num_leaves=1200, objective=None,\n",
    "                                  random_state=None, reg_alpha=0.0, reg_lambda=0.0, silent=False,\n",
    "                                  subsample=1.0, subsample_for_bin=200000, subsample_freq=0)"
   ]
  },
  {
   "cell_type": "code",
   "execution_count": 57,
   "metadata": {},
   "outputs": [],
   "source": [
    "X = train.drop(['id','precio'], axis=1) #set de datos\n",
    "y = train['precio'] #target"
   ]
  },
  {
   "cell_type": "code",
   "execution_count": 58,
   "metadata": {},
   "outputs": [],
   "source": [
    "model = model.fit(X, y)"
   ]
  },
  {
   "cell_type": "code",
   "execution_count": 60,
   "metadata": {},
   "outputs": [],
   "source": [
    "y_pred = model.predict(test)"
   ]
  },
  {
   "cell_type": "code",
   "execution_count": 62,
   "metadata": {},
   "outputs": [],
   "source": [
    "df = pd.DataFrame(data={'id':test['id'], 'target':y_pred})"
   ]
  },
  {
   "cell_type": "code",
   "execution_count": 86,
   "metadata": {},
   "outputs": [],
   "source": [
    "# To save predictions.\n",
    "# There must be a directory ../predictions for this to work as expected.\n",
    "# source: https://gist.github.com/rozanecm/ee8333741db42b10158b3e0aff3f22aa\n",
    "import time\n",
    "def _get_filename(my_name, timestamp):\n",
    "    return \"../predictions/\" + timestamp + \" by \" + my_name + \".csv\"\n",
    "\n",
    "def _save_description(authors_name, timestamp, submission_description):\n",
    "    f = open(\"../predictions/\" + authors_name + \".txt\",\"a\")\n",
    "    f.write(timestamp + \": \" + submission_description + '\\n')\n",
    "    f.close()\n",
    "\n",
    "def save_submission(submission_df, authors_name=\"fcozza\", description = \"no description.\", index=False, header=True):\n",
    "    timestamp = time.strftime(\"%Y.%m.%d - %H:%M:%S\")\n",
    "    submission_df.to_csv(_get_filename(authors_name, timestamp), index=index, header=header)\n",
    "    _save_description(authors_name, timestamp, description)"
   ]
  },
  {
   "cell_type": "code",
   "execution_count": 64,
   "metadata": {},
   "outputs": [],
   "source": [
    "description = \"Stacking approach with all targets\"\n",
    "save_submission(df, description=description)"
   ]
  },
  {
   "cell_type": "markdown",
   "metadata": {},
   "source": [
    "# Light gbm with grid search for stacking"
   ]
  },
  {
   "cell_type": "markdown",
   "metadata": {},
   "source": [
    "## Entrenamiento local"
   ]
  },
  {
   "cell_type": "code",
   "execution_count": 65,
   "metadata": {},
   "outputs": [],
   "source": [
    "train['precio_log'] = np.log(train['precio'])"
   ]
  },
  {
   "cell_type": "code",
   "execution_count": 66,
   "metadata": {},
   "outputs": [],
   "source": [
    "X = train.drop(['id','precio','precio_log'], axis=1) #set de datos\n",
    "y = train['precio_log'] #target"
   ]
  },
  {
   "cell_type": "code",
   "execution_count": 67,
   "metadata": {},
   "outputs": [],
   "source": [
    "seed = 42"
   ]
  },
  {
   "cell_type": "code",
   "execution_count": 68,
   "metadata": {},
   "outputs": [],
   "source": [
    "from sklearn.model_selection import train_test_split\n",
    "X_train, X_test, y_train, y_test = train_test_split(X, y, test_size=0.33, random_state=seed)"
   ]
  },
  {
   "cell_type": "code",
   "execution_count": 69,
   "metadata": {},
   "outputs": [],
   "source": [
    "from sklearn.model_selection import GridSearchCV\n",
    "import lightgbm as lgb\n",
    "gbm = lgb.LGBMRegressor(silent=False)\n",
    "\n",
    "param_dist = {\"boosting_type\":['gbdt','dart'],\n",
    "              \"max_depth\": [25,50,75],\n",
    "              \"learning_rate\" : [0.001,0.01,0.05,0.1],\n",
    "              \"num_leaves\": [300,900,1200],\n",
    "              \"n_estimators\": [50,100,200],\n",
    "             }\n",
    "\n",
    "grid_search = GridSearchCV(gbm, n_jobs=-1, param_grid=param_dist, cv = 3, scoring=\"neg_mean_absolute_error\", verbose=5)"
   ]
  },
  {
   "cell_type": "code",
   "execution_count": 71,
   "metadata": {},
   "outputs": [
    {
     "name": "stdout",
     "output_type": "stream",
     "text": [
      "Fitting 3 folds for each of 216 candidates, totalling 648 fits\n"
     ]
    },
    {
     "name": "stderr",
     "output_type": "stream",
     "text": [
      "[Parallel(n_jobs=-1)]: Using backend LokyBackend with 8 concurrent workers.\n",
      "[Parallel(n_jobs=-1)]: Done   2 tasks      | elapsed:    6.5s\n",
      "[Parallel(n_jobs=-1)]: Done  56 tasks      | elapsed:  2.5min\n",
      "[Parallel(n_jobs=-1)]: Done 146 tasks      | elapsed:  6.4min\n",
      "[Parallel(n_jobs=-1)]: Done 272 tasks      | elapsed: 11.2min\n",
      "[Parallel(n_jobs=-1)]: Done 434 tasks      | elapsed: 19.4min\n",
      "[Parallel(n_jobs=-1)]: Done 632 tasks      | elapsed: 30.9min\n",
      "[Parallel(n_jobs=-1)]: Done 648 out of 648 | elapsed: 32.3min finished\n"
     ]
    },
    {
     "data": {
      "text/plain": [
       "LGBMRegressor(boosting_type='gbdt', class_weight=None, colsample_bytree=1.0,\n",
       "              importance_type='split', learning_rate=0.05, max_depth=50,\n",
       "              min_child_samples=20, min_child_weight=0.001, min_split_gain=0.0,\n",
       "              n_estimators=100, n_jobs=-1, num_leaves=300, objective=None,\n",
       "              random_state=None, reg_alpha=0.0, reg_lambda=0.0, silent=False,\n",
       "              subsample=1.0, subsample_for_bin=200000, subsample_freq=0)"
      ]
     },
     "execution_count": 71,
     "metadata": {},
     "output_type": "execute_result"
    }
   ],
   "source": [
    "grid_search.fit(X_train,y_train)\n",
    "grid_search.best_estimator_"
   ]
  },
  {
   "cell_type": "code",
   "execution_count": 75,
   "metadata": {},
   "outputs": [],
   "source": [
    "from sklearn.model_selection import GridSearchCV\n",
    "import lightgbm as lgb\n",
    "\n",
    "gbm_optimized = grid_search.best_estimator_"
   ]
  },
  {
   "cell_type": "code",
   "execution_count": 76,
   "metadata": {},
   "outputs": [
    {
     "data": {
      "text/plain": [
       "LGBMRegressor(boosting_type='gbdt', class_weight=None, colsample_bytree=1.0,\n",
       "              importance_type='split', learning_rate=0.05, max_depth=50,\n",
       "              min_child_samples=20, min_child_weight=0.001, min_split_gain=0.0,\n",
       "              n_estimators=100, n_jobs=-1, num_leaves=300, objective=None,\n",
       "              random_state=None, reg_alpha=0.0, reg_lambda=0.0, silent=False,\n",
       "              subsample=1.0, subsample_for_bin=200000, subsample_freq=0)"
      ]
     },
     "execution_count": 76,
     "metadata": {},
     "output_type": "execute_result"
    }
   ],
   "source": [
    "gbm_optimized.fit(X_train, y_train, sample_weight=None, init_score=None, eval_set=[(X_test,y_test)], eval_names=None,\n",
    "            eval_sample_weight=None, eval_init_score=None, eval_metric='mae', early_stopping_rounds=10,\n",
    "            verbose=False, feature_name='auto', callbacks=None)"
   ]
  },
  {
   "cell_type": "code",
   "execution_count": 78,
   "metadata": {},
   "outputs": [
    {
     "name": "stdout",
     "output_type": "stream",
     "text": [
      "0.20801137033494807\n"
     ]
    }
   ],
   "source": [
    "y_scores = gbm_optimized.predict(X_test, num_iteration=gbm_optimized.best_iteration_)\n",
    "\n",
    "from sklearn.metrics import mean_absolute_error\n",
    "\n",
    "print(mean_absolute_error(y_test, y_scores))"
   ]
  },
  {
   "cell_type": "code",
   "execution_count": 79,
   "metadata": {},
   "outputs": [
    {
     "name": "stdout",
     "output_type": "stream",
     "text": [
      "508585.97258401546\n"
     ]
    }
   ],
   "source": [
    "print(mean_absolute_error(np.exp(y_test), np.exp(y_scores)))"
   ]
  },
  {
   "cell_type": "markdown",
   "metadata": {},
   "source": [
    "## Entrenamiento con todos los datos para obtener predicciones a subir"
   ]
  },
  {
   "cell_type": "code",
   "execution_count": 80,
   "metadata": {},
   "outputs": [
    {
     "data": {
      "text/plain": [
       "LGBMRegressor(boosting_type='gbdt', class_weight=None, colsample_bytree=1.0,\n",
       "              importance_type='split', learning_rate=0.05, max_depth=50,\n",
       "              min_child_samples=20, min_child_weight=0.001, min_split_gain=0.0,\n",
       "              n_estimators=100, n_jobs=-1, num_leaves=300, objective=None,\n",
       "              random_state=None, reg_alpha=0.0, reg_lambda=0.0, silent=False,\n",
       "              subsample=1.0, subsample_for_bin=200000, subsample_freq=0)"
      ]
     },
     "execution_count": 80,
     "metadata": {},
     "output_type": "execute_result"
    }
   ],
   "source": [
    "gbm_optimized.fit(X,y, sample_weight=None, init_score=None, eval_set=None, eval_names=None,\n",
    "            eval_sample_weight=None, eval_init_score=None, eval_metric='mae', early_stopping_rounds=None,\n",
    "            verbose=False, feature_name='auto', callbacks=None)"
   ]
  },
  {
   "cell_type": "code",
   "execution_count": 82,
   "metadata": {},
   "outputs": [],
   "source": [
    "# prediciendo valores posta...\n",
    "predictions = gbm_optimized.predict(test.drop(['id'],axis=1), num_iteration=gbm_optimized.best_iteration_)"
   ]
  },
  {
   "cell_type": "code",
   "execution_count": 83,
   "metadata": {},
   "outputs": [],
   "source": [
    "exp_predictions = np.exp(predictions)"
   ]
  },
  {
   "cell_type": "code",
   "execution_count": 84,
   "metadata": {},
   "outputs": [],
   "source": [
    "df = pd.DataFrame(data={'id':test['id'], 'target':exp_predictions})"
   ]
  },
  {
   "cell_type": "code",
   "execution_count": 87,
   "metadata": {},
   "outputs": [],
   "source": [
    "description = \"Stacking apporach with all targets with grid search\"\n",
    "save_submission(df, description=description)"
   ]
  },
  {
   "cell_type": "markdown",
   "metadata": {},
   "source": [
    "# Stacking solo para los mejores scores y sin relacion entre ellos"
   ]
  },
  {
   "cell_type": "markdown",
   "metadata": {},
   "source": [
    "# target 2 - rf + one hot + svd"
   ]
  },
  {
   "cell_type": "code",
   "execution_count": 69,
   "metadata": {},
   "outputs": [],
   "source": [
    "current_target_name = 'target_2'"
   ]
  },
  {
   "cell_type": "code",
   "execution_count": 70,
   "metadata": {},
   "outputs": [],
   "source": [
    "df = pd.read_csv('../predictions/2019.10.28 - 12:03:46 by rozanecm.csv')\n",
    "\n",
    "test = test.merge(df.rename(columns={'target':current_target_name}), on='id')"
   ]
  },
  {
   "cell_type": "code",
   "execution_count": 71,
   "metadata": {},
   "outputs": [],
   "source": [
    "df = pd.read_csv('../predictions/on_train_data/rozanecm_approach_2')\n",
    "\n",
    "train = train.merge(df.rename(columns={'rozanecm_approach_2':current_target_name}), on='id')"
   ]
  },
  {
   "cell_type": "markdown",
   "metadata": {},
   "source": [
    "# target 15 - xgboost tunned "
   ]
  },
  {
   "cell_type": "code",
   "execution_count": 72,
   "metadata": {},
   "outputs": [],
   "source": [
    "current_target_name = 'target_15'"
   ]
  },
  {
   "cell_type": "code",
   "execution_count": 73,
   "metadata": {},
   "outputs": [],
   "source": [
    "df = pd.read_csv('../predictions/2019.11.28 - 00:25:43 by fcozza.csv')\n",
    "\n",
    "test = test.merge(df.rename(columns={'target':current_target_name}), on='id')"
   ]
  },
  {
   "cell_type": "code",
   "execution_count": 74,
   "metadata": {},
   "outputs": [],
   "source": [
    "df = pd.read_csv('../predictions/on_train_data/fcozza_approach_1')\n",
    "\n",
    "train = train.merge(df.rename(columns={'fcozza_approach_1':current_target_name}), on='id')"
   ]
  },
  {
   "cell_type": "markdown",
   "metadata": {},
   "source": [
    "# target 16 - lightgbm with features desc"
   ]
  },
  {
   "cell_type": "code",
   "execution_count": 75,
   "metadata": {},
   "outputs": [],
   "source": [
    "current_target_name = 'target_16'"
   ]
  },
  {
   "cell_type": "code",
   "execution_count": 76,
   "metadata": {},
   "outputs": [],
   "source": [
    "df = pd.read_csv('../predictions/2019.11.28 - 00:40:14 by fcozza.csv')\n",
    "\n",
    "test = test.merge(df.rename(columns={'target':current_target_name}), on='id')"
   ]
  },
  {
   "cell_type": "code",
   "execution_count": 77,
   "metadata": {},
   "outputs": [],
   "source": [
    "df = pd.read_csv('../predictions/on_train_data/fcozza_approach_2')\n",
    "\n",
    "train = train.merge(df.rename(columns={'fcozza_approach_2':current_target_name}), on='id')"
   ]
  },
  {
   "cell_type": "code",
   "execution_count": 78,
   "metadata": {},
   "outputs": [
    {
     "data": {
      "text/html": [
       "<div>\n",
       "<style scoped>\n",
       "    .dataframe tbody tr th:only-of-type {\n",
       "        vertical-align: middle;\n",
       "    }\n",
       "\n",
       "    .dataframe tbody tr th {\n",
       "        vertical-align: top;\n",
       "    }\n",
       "\n",
       "    .dataframe thead th {\n",
       "        text-align: right;\n",
       "    }\n",
       "</style>\n",
       "<table border=\"1\" class=\"dataframe\">\n",
       "  <thead>\n",
       "    <tr style=\"text-align: right;\">\n",
       "      <th></th>\n",
       "      <th>id</th>\n",
       "      <th>precio</th>\n",
       "      <th>target_2</th>\n",
       "      <th>target_15</th>\n",
       "      <th>target_16</th>\n",
       "    </tr>\n",
       "  </thead>\n",
       "  <tbody>\n",
       "    <tr>\n",
       "      <th>205439</th>\n",
       "      <td>152170</td>\n",
       "      <td>1200000.0</td>\n",
       "      <td>1.690990e+06</td>\n",
       "      <td>1444150.9</td>\n",
       "      <td>1.451783e+06</td>\n",
       "    </tr>\n",
       "    <tr>\n",
       "      <th>237661</th>\n",
       "      <td>30682</td>\n",
       "      <td>2550000.0</td>\n",
       "      <td>3.931180e+06</td>\n",
       "      <td>3782170.8</td>\n",
       "      <td>3.765694e+06</td>\n",
       "    </tr>\n",
       "    <tr>\n",
       "      <th>115305</th>\n",
       "      <td>268547</td>\n",
       "      <td>1230000.0</td>\n",
       "      <td>1.175270e+06</td>\n",
       "      <td>1262148.2</td>\n",
       "      <td>1.228714e+06</td>\n",
       "    </tr>\n",
       "    <tr>\n",
       "      <th>190238</th>\n",
       "      <td>16015</td>\n",
       "      <td>2550000.0</td>\n",
       "      <td>4.657736e+06</td>\n",
       "      <td>4068437.2</td>\n",
       "      <td>3.233715e+06</td>\n",
       "    </tr>\n",
       "    <tr>\n",
       "      <th>238016</th>\n",
       "      <td>44936</td>\n",
       "      <td>2290000.0</td>\n",
       "      <td>2.580847e+06</td>\n",
       "      <td>2821843.2</td>\n",
       "      <td>2.789336e+06</td>\n",
       "    </tr>\n",
       "  </tbody>\n",
       "</table>\n",
       "</div>"
      ],
      "text/plain": [
       "            id     precio      target_2  target_15     target_16\n",
       "205439  152170  1200000.0  1.690990e+06  1444150.9  1.451783e+06\n",
       "237661   30682  2550000.0  3.931180e+06  3782170.8  3.765694e+06\n",
       "115305  268547  1230000.0  1.175270e+06  1262148.2  1.228714e+06\n",
       "190238   16015  2550000.0  4.657736e+06  4068437.2  3.233715e+06\n",
       "238016   44936  2290000.0  2.580847e+06  2821843.2  2.789336e+06"
      ]
     },
     "execution_count": 78,
     "metadata": {},
     "output_type": "execute_result"
    }
   ],
   "source": [
    "train.sample(5)"
   ]
  },
  {
   "cell_type": "code",
   "execution_count": 79,
   "metadata": {},
   "outputs": [
    {
     "data": {
      "text/html": [
       "<div>\n",
       "<style scoped>\n",
       "    .dataframe tbody tr th:only-of-type {\n",
       "        vertical-align: middle;\n",
       "    }\n",
       "\n",
       "    .dataframe tbody tr th {\n",
       "        vertical-align: top;\n",
       "    }\n",
       "\n",
       "    .dataframe thead th {\n",
       "        text-align: right;\n",
       "    }\n",
       "</style>\n",
       "<table border=\"1\" class=\"dataframe\">\n",
       "  <thead>\n",
       "    <tr style=\"text-align: right;\">\n",
       "      <th></th>\n",
       "      <th>id</th>\n",
       "      <th>target_2</th>\n",
       "      <th>target_15</th>\n",
       "      <th>target_16</th>\n",
       "    </tr>\n",
       "  </thead>\n",
       "  <tbody>\n",
       "    <tr>\n",
       "      <th>43000</th>\n",
       "      <td>6705</td>\n",
       "      <td>1619015.69</td>\n",
       "      <td>1506820.10</td>\n",
       "      <td>1.105231e+06</td>\n",
       "    </tr>\n",
       "    <tr>\n",
       "      <th>35520</th>\n",
       "      <td>241317</td>\n",
       "      <td>1402112.16</td>\n",
       "      <td>1640528.80</td>\n",
       "      <td>1.295102e+06</td>\n",
       "    </tr>\n",
       "    <tr>\n",
       "      <th>19845</th>\n",
       "      <td>16742</td>\n",
       "      <td>2096175.00</td>\n",
       "      <td>2539204.50</td>\n",
       "      <td>2.132457e+06</td>\n",
       "    </tr>\n",
       "    <tr>\n",
       "      <th>21255</th>\n",
       "      <td>148426</td>\n",
       "      <td>1122573.69</td>\n",
       "      <td>352916.53</td>\n",
       "      <td>6.678901e+05</td>\n",
       "    </tr>\n",
       "    <tr>\n",
       "      <th>29479</th>\n",
       "      <td>74444</td>\n",
       "      <td>1780578.11</td>\n",
       "      <td>1850491.50</td>\n",
       "      <td>1.750497e+06</td>\n",
       "    </tr>\n",
       "  </tbody>\n",
       "</table>\n",
       "</div>"
      ],
      "text/plain": [
       "           id    target_2   target_15     target_16\n",
       "43000    6705  1619015.69  1506820.10  1.105231e+06\n",
       "35520  241317  1402112.16  1640528.80  1.295102e+06\n",
       "19845   16742  2096175.00  2539204.50  2.132457e+06\n",
       "21255  148426  1122573.69   352916.53  6.678901e+05\n",
       "29479   74444  1780578.11  1850491.50  1.750497e+06"
      ]
     },
     "execution_count": 79,
     "metadata": {},
     "output_type": "execute_result"
    }
   ],
   "source": [
    "test.sample(5)"
   ]
  },
  {
   "cell_type": "code",
   "execution_count": 80,
   "metadata": {},
   "outputs": [],
   "source": [
    "import lightgbm as lgb\n",
    "\n",
    "model = lgb.LGBMRegressor(boosting_type='gbdt', class_weight=None, colsample_bytree=1.0,\n",
    "                                  importance_type='split', learning_rate=0.05, max_depth=75,\n",
    "                                  min_child_samples=20, min_child_weight=0.001, min_split_gain=0.0,\n",
    "                                  n_estimators=200, n_jobs=-1, num_leaves=1200, objective=None,\n",
    "                                  random_state=None, reg_alpha=0.0, reg_lambda=0.0, silent=False,\n",
    "                                  subsample=1.0, subsample_for_bin=200000, subsample_freq=0)"
   ]
  },
  {
   "cell_type": "code",
   "execution_count": 81,
   "metadata": {},
   "outputs": [],
   "source": [
    "X = train.drop(['precio'], axis=1) #set de datos\n",
    "y = train['precio'] #target"
   ]
  },
  {
   "cell_type": "code",
   "execution_count": 82,
   "metadata": {},
   "outputs": [],
   "source": [
    "model = model.fit(X, y)"
   ]
  },
  {
   "cell_type": "code",
   "execution_count": 83,
   "metadata": {},
   "outputs": [],
   "source": [
    "y_pred = model.predict(test)"
   ]
  },
  {
   "cell_type": "code",
   "execution_count": 84,
   "metadata": {},
   "outputs": [],
   "source": [
    "# To save predictions.\n",
    "# There must be a directory ../predictions for this to work as expected.\n",
    "# source: https://gist.github.com/rozanecm/ee8333741db42b10158b3e0aff3f22aa\n",
    "import time\n",
    "def _get_filename(my_name, timestamp):\n",
    "    return \"../predictions/\" + timestamp + \" by \" + my_name + \".csv\"\n",
    "\n",
    "def _save_description(authors_name, timestamp, submission_description):\n",
    "    f = open(\"../predictions/\" + authors_name + \".txt\",\"a\")\n",
    "    f.write(timestamp + \": \" + submission_description + '\\n')\n",
    "    f.close()\n",
    "\n",
    "def save_submission(submission_df, authors_name=\"fcozza\", description = \"no description.\", index=False, header=True):\n",
    "    timestamp = time.strftime(\"%Y.%m.%d - %H:%M:%S\")\n",
    "    submission_df.to_csv(_get_filename(authors_name, timestamp), index=index, header=header)\n",
    "    _save_description(authors_name, timestamp, description)"
   ]
  },
  {
   "cell_type": "code",
   "execution_count": 85,
   "metadata": {},
   "outputs": [],
   "source": [
    "df = pd.DataFrame(data={'id':test['id'], 'target':y_pred})"
   ]
  },
  {
   "cell_type": "code",
   "execution_count": 86,
   "metadata": {},
   "outputs": [],
   "source": [
    "description = \"Stacking approach with selected targets\"\n",
    "save_submission(df, description=description)"
   ]
  },
  {
   "cell_type": "markdown",
   "metadata": {},
   "source": [
    "# No mejora, es mejor usar todos los targets"
   ]
  },
  {
   "cell_type": "markdown",
   "metadata": {},
   "source": [
    "## Red neuronal (a testear)"
   ]
  },
  {
   "cell_type": "code",
   "execution_count": 18,
   "metadata": {},
   "outputs": [],
   "source": [
    "train['precio_log'] = np.log(train['precio'])"
   ]
  },
  {
   "cell_type": "code",
   "execution_count": 19,
   "metadata": {},
   "outputs": [],
   "source": [
    "X = train.drop(['id','fecha','titulo', 'descripcion', 'direccion','precio', 'precio_log'], axis=1) #set de datos\n",
    "y = train['precio_log'] #target"
   ]
  },
  {
   "cell_type": "code",
   "execution_count": 20,
   "metadata": {},
   "outputs": [],
   "source": [
    "from sklearn.model_selection import train_test_split\n",
    "X_train, X_test, y_train, y_test = train_test_split(X, y, test_size=0.33, random_state=seed)"
   ]
  },
  {
   "cell_type": "code",
   "execution_count": 21,
   "metadata": {},
   "outputs": [
    {
     "name": "stderr",
     "output_type": "stream",
     "text": [
      "Using TensorFlow backend.\n"
     ]
    }
   ],
   "source": [
    "from keras.models import Sequential\n",
    "from keras.layers import Dense\n",
    "from keras.wrappers.scikit_learn import KerasRegressor"
   ]
  },
  {
   "cell_type": "code",
   "execution_count": 22,
   "metadata": {},
   "outputs": [],
   "source": [
    "from keras.callbacks import ModelCheckpoint\n",
    "from keras.models import Sequential\n",
    "from keras.layers import Dense, Activation, Flatten"
   ]
  },
  {
   "cell_type": "code",
   "execution_count": 23,
   "metadata": {},
   "outputs": [],
   "source": [
    "checkpoint_name = 'Weights-{epoch:03d}--{val_loss:.5f}.hdf5' \n",
    "checkpoint = ModelCheckpoint(checkpoint_name, monitor='val_loss', verbose = 1, save_best_only = True, mode ='auto')\n",
    "callbacks_list = [checkpoint]"
   ]
  },
  {
   "cell_type": "code",
   "execution_count": 1,
   "metadata": {},
   "outputs": [],
   "source": [
    "# define base model\n",
    "def baseline_model():\n",
    "    NN_model = Sequential()\n",
    "    \n",
    "    # The Input Layer :\n",
    "    NN_model.add(Dense(128, kernel_initializer='normal',input_dim = 83, activation='relu'))\n",
    "\n",
    "    # The Hidden Layers :\n",
    "    NN_model.add(Dense(256, kernel_initializer='normal',activation='relu'))\n",
    "    NN_model.add(Dense(256, kernel_initializer='normal',activation='softmax'))\n",
    "    NN_model.add(Dense(256, kernel_initializer='normal',activation='sigmoid'))\n",
    "\n",
    "    # The Output Layer :\n",
    "    NN_model.add(Dense(1, kernel_initializer='normal',activation='linear'))\n",
    "\n",
    "    # Compile the network :\n",
    "    NN_model.compile(loss='mean_absolute_error', optimizer='adam', metrics=['mean_absolute_error'])\n",
    "    return NN_model"
   ]
  },
  {
   "cell_type": "code",
   "execution_count": 43,
   "metadata": {},
   "outputs": [],
   "source": [
    "checkpoint_name = 'Weights-{epoch:03d}--{val_loss:.5f}.hdf5' \n",
    "checkpoint = ModelCheckpoint(checkpoint_name, monitor='val_loss', verbose = 1, save_best_only = True, mode ='auto')\n",
    "callbacks_list = [checkpoint]"
   ]
  },
  {
   "cell_type": "code",
   "execution_count": 44,
   "metadata": {},
   "outputs": [],
   "source": [
    "# evaluate model\n",
    "estimator = KerasRegressor(build_fn=baseline_model, epochs=500, batch_size=32, validation_split = 0.2, callbacks=callbacks_list)"
   ]
  },
  {
   "cell_type": "code",
   "execution_count": null,
   "metadata": {},
   "outputs": [],
   "source": []
  }
 ],
 "metadata": {
  "kernelspec": {
   "display_name": "Python 3",
   "language": "python",
   "name": "python3"
  },
  "language_info": {
   "codemirror_mode": {
    "name": "ipython",
    "version": 3
   },
   "file_extension": ".py",
   "mimetype": "text/x-python",
   "name": "python",
   "nbconvert_exporter": "python",
   "pygments_lexer": "ipython3",
   "version": "3.7.0"
  }
 },
 "nbformat": 4,
 "nbformat_minor": 4
}
