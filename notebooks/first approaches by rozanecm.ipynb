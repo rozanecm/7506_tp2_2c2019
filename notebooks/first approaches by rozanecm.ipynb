{
 "cells": [
  {
   "cell_type": "code",
   "execution_count": 1,
   "metadata": {},
   "outputs": [],
   "source": [
    "import pandas as pd\n",
    "import numpy as np"
   ]
  },
  {
   "cell_type": "code",
   "execution_count": 2,
   "metadata": {},
   "outputs": [],
   "source": [
    "# This will allow you to see all column names & rows when you are doing .head(). None of the column name will be truncated.\n",
    "# source: https://stackoverflow.com/questions/49188960/how-to-show-all-of-columns-name-on-pandas-dataframe\n",
    "\n",
    "pd.set_option('display.max_columns', None)\n",
    "# pd.set_option('display.max_rows', None)"
   ]
  },
  {
   "cell_type": "code",
   "execution_count": 3,
   "metadata": {},
   "outputs": [],
   "source": [
    "# source: https://gist.github.com/rozanecm/38f2901c592bdffc40726cb0473318cf\n",
    "# Function which plays a beep of given duration and frequency.\n",
    "# Useful for when executing things that need a while to finish, to get notified.\n",
    "import os\n",
    "def beep(duration = 1, freq = 1500):\n",
    "    \"\"\" play tone of duration in seconds and freq in Hz. \"\"\"\n",
    "    os.system('play --no-show-progress --null --channels 1 synth %s sine %f' % (duration, freq))"
   ]
  },
  {
   "cell_type": "code",
   "execution_count": 4,
   "metadata": {},
   "outputs": [],
   "source": [
    "train = pd.read_csv('../data/train.csv', dtype={'tipodepropiedad':'category', 'ciudad':'category', 'provincia':'category', 'id':'int32', 'antiguedad':'float16', 'habitaciones':'float16', 'garages':'float16', 'banos':'float16', 'metroscubiertos':'float16', 'metrostotales':'float16', 'idzona':'float16', 'lat':'float16', 'lng':'float16', 'gimnasio':'bool', 'usosmultiples':'bool', 'piscina':'bool', 'escuelascercanas':'bool', 'centroscomercialescercanos':'bool'}, parse_dates=['fecha']\n",
    "#                     , nrows=1000\n",
    "                   )\n",
    "test = pd.read_csv('../data/test.csv', dtype={'tipodepropiedad':'category', 'ciudad':'category', 'provincia':'category', 'id':'int32', 'antiguedad':'float16', 'habitaciones':'float16', 'garages':'float16', 'banos':'float16', 'metroscubiertos':'float16', 'metrostotales':'float16', 'idzona':'float16', 'lat':'float16', 'lng':'float16', 'gimnasio':'bool', 'usosmultiples':'bool', 'piscina':'bool', 'escuelascercanas':'bool', 'centroscomercialescercanos':'bool'}, parse_dates=['fecha'])\n",
    "sample_submission = pd.read_csv('../data/ejemploRespuesta.csv')"
   ]
  },
  {
   "cell_type": "code",
   "execution_count": 5,
   "metadata": {},
   "outputs": [],
   "source": [
    "rescued_coords = pd.read_csv('../data/rescueLatLongs.csv')\n",
    "precios_en_dolares = pd.read_csv('../data/precios_en_dolares.csv')"
   ]
  },
  {
   "cell_type": "code",
   "execution_count": 6,
   "metadata": {},
   "outputs": [
    {
     "data": {
      "text/html": [
       "<div>\n",
       "<style scoped>\n",
       "    .dataframe tbody tr th:only-of-type {\n",
       "        vertical-align: middle;\n",
       "    }\n",
       "\n",
       "    .dataframe tbody tr th {\n",
       "        vertical-align: top;\n",
       "    }\n",
       "\n",
       "    .dataframe thead th {\n",
       "        text-align: right;\n",
       "    }\n",
       "</style>\n",
       "<table border=\"1\" class=\"dataframe\">\n",
       "  <thead>\n",
       "    <tr style=\"text-align: right;\">\n",
       "      <th></th>\n",
       "      <th>id</th>\n",
       "      <th>titulo</th>\n",
       "      <th>descripcion</th>\n",
       "      <th>tipodepropiedad</th>\n",
       "      <th>direccion</th>\n",
       "      <th>ciudad</th>\n",
       "      <th>provincia</th>\n",
       "      <th>antiguedad</th>\n",
       "      <th>habitaciones</th>\n",
       "      <th>garages</th>\n",
       "      <th>banos</th>\n",
       "      <th>metroscubiertos</th>\n",
       "      <th>metrostotales</th>\n",
       "      <th>idzona</th>\n",
       "      <th>lat</th>\n",
       "      <th>lon</th>\n",
       "      <th>fecha</th>\n",
       "      <th>gimnasio</th>\n",
       "      <th>usosmultiples</th>\n",
       "      <th>piscina</th>\n",
       "      <th>escuelascercanas</th>\n",
       "      <th>centroscomercialescercanos</th>\n",
       "      <th>precio</th>\n",
       "    </tr>\n",
       "  </thead>\n",
       "  <tbody>\n",
       "    <tr>\n",
       "      <th>0</th>\n",
       "      <td>254099</td>\n",
       "      <td>depto. tipo a-402</td>\n",
       "      <td>depto. interior de 80.15m2, consta de sala com...</td>\n",
       "      <td>Apartamento</td>\n",
       "      <td>Avenida Division del Norte 2005</td>\n",
       "      <td>Benito Juárez</td>\n",
       "      <td>Distrito Federal</td>\n",
       "      <td>NaN</td>\n",
       "      <td>2.0</td>\n",
       "      <td>1.0</td>\n",
       "      <td>2.0</td>\n",
       "      <td>80.0</td>\n",
       "      <td>80.0</td>\n",
       "      <td>23536.0</td>\n",
       "      <td>31.733330</td>\n",
       "      <td>-106.48333</td>\n",
       "      <td>2015-08-23</td>\n",
       "      <td>False</td>\n",
       "      <td>False</td>\n",
       "      <td>False</td>\n",
       "      <td>False</td>\n",
       "      <td>False</td>\n",
       "      <td>2273000.0</td>\n",
       "    </tr>\n",
       "    <tr>\n",
       "      <th>1</th>\n",
       "      <td>53461</td>\n",
       "      <td>condominio horizontal en venta</td>\n",
       "      <td>&lt;p&gt;entre sonora y guerrero, atr&amp;aacute;s del h...</td>\n",
       "      <td>Casa en condominio</td>\n",
       "      <td>AV. MEXICO</td>\n",
       "      <td>La Magdalena Contreras</td>\n",
       "      <td>Distrito Federal</td>\n",
       "      <td>10.0</td>\n",
       "      <td>3.0</td>\n",
       "      <td>2.0</td>\n",
       "      <td>2.0</td>\n",
       "      <td>268.0</td>\n",
       "      <td>180.0</td>\n",
       "      <td>24512.0</td>\n",
       "      <td>19.312500</td>\n",
       "      <td>-99.25000</td>\n",
       "      <td>2013-06-28</td>\n",
       "      <td>False</td>\n",
       "      <td>False</td>\n",
       "      <td>False</td>\n",
       "      <td>True</td>\n",
       "      <td>True</td>\n",
       "      <td>3600000.0</td>\n",
       "    </tr>\n",
       "    <tr>\n",
       "      <th>2</th>\n",
       "      <td>247984</td>\n",
       "      <td>casa en venta urbi 3 recamaras tonala</td>\n",
       "      <td>descripcion \\nla mejor ubicacion residencial e...</td>\n",
       "      <td>Casa</td>\n",
       "      <td>Urbi Tonala</td>\n",
       "      <td>Tonalá</td>\n",
       "      <td>Jalisco</td>\n",
       "      <td>5.0</td>\n",
       "      <td>3.0</td>\n",
       "      <td>2.0</td>\n",
       "      <td>2.0</td>\n",
       "      <td>144.0</td>\n",
       "      <td>166.0</td>\n",
       "      <td>48544.0</td>\n",
       "      <td>NaN</td>\n",
       "      <td>NaN</td>\n",
       "      <td>2015-10-17</td>\n",
       "      <td>False</td>\n",
       "      <td>False</td>\n",
       "      <td>False</td>\n",
       "      <td>False</td>\n",
       "      <td>False</td>\n",
       "      <td>1200000.0</td>\n",
       "    </tr>\n",
       "    <tr>\n",
       "      <th>3</th>\n",
       "      <td>209067</td>\n",
       "      <td>casa sola en toluca zinacantepec con credito i...</td>\n",
       "      <td>casa en privada con caseta de vigilancia casas...</td>\n",
       "      <td>Casa</td>\n",
       "      <td>IGNACIO MANUEL ALTAMIRANO 128</td>\n",
       "      <td>Zinacantepec</td>\n",
       "      <td>Edo. de México</td>\n",
       "      <td>1.0</td>\n",
       "      <td>2.0</td>\n",
       "      <td>1.0</td>\n",
       "      <td>1.0</td>\n",
       "      <td>63.0</td>\n",
       "      <td>67.0</td>\n",
       "      <td>53664.0</td>\n",
       "      <td>19.296875</td>\n",
       "      <td>-99.68750</td>\n",
       "      <td>2012-03-09</td>\n",
       "      <td>False</td>\n",
       "      <td>False</td>\n",
       "      <td>False</td>\n",
       "      <td>True</td>\n",
       "      <td>True</td>\n",
       "      <td>650000.0</td>\n",
       "    </tr>\n",
       "    <tr>\n",
       "      <th>4</th>\n",
       "      <td>185997</td>\n",
       "      <td>paseos del sol</td>\n",
       "      <td>bonito departamento en excelentes condiciones ...</td>\n",
       "      <td>Apartamento</td>\n",
       "      <td>PASEOS DEL SOL</td>\n",
       "      <td>Zapopan</td>\n",
       "      <td>Jalisco</td>\n",
       "      <td>10.0</td>\n",
       "      <td>2.0</td>\n",
       "      <td>1.0</td>\n",
       "      <td>1.0</td>\n",
       "      <td>95.0</td>\n",
       "      <td>95.0</td>\n",
       "      <td>47840.0</td>\n",
       "      <td>20.723560</td>\n",
       "      <td>-103.38479</td>\n",
       "      <td>2016-06-07</td>\n",
       "      <td>False</td>\n",
       "      <td>False</td>\n",
       "      <td>False</td>\n",
       "      <td>False</td>\n",
       "      <td>False</td>\n",
       "      <td>1150000.0</td>\n",
       "    </tr>\n",
       "  </tbody>\n",
       "</table>\n",
       "</div>"
      ],
      "text/plain": [
       "       id                                             titulo  \\\n",
       "0  254099                                  depto. tipo a-402   \n",
       "1   53461                     condominio horizontal en venta   \n",
       "2  247984              casa en venta urbi 3 recamaras tonala   \n",
       "3  209067  casa sola en toluca zinacantepec con credito i...   \n",
       "4  185997                                     paseos del sol   \n",
       "\n",
       "                                         descripcion     tipodepropiedad  \\\n",
       "0  depto. interior de 80.15m2, consta de sala com...         Apartamento   \n",
       "1  <p>entre sonora y guerrero, atr&aacute;s del h...  Casa en condominio   \n",
       "2  descripcion \\nla mejor ubicacion residencial e...                Casa   \n",
       "3  casa en privada con caseta de vigilancia casas...                Casa   \n",
       "4  bonito departamento en excelentes condiciones ...         Apartamento   \n",
       "\n",
       "                         direccion                  ciudad         provincia  \\\n",
       "0  Avenida Division del Norte 2005           Benito Juárez  Distrito Federal   \n",
       "1                       AV. MEXICO  La Magdalena Contreras  Distrito Federal   \n",
       "2                      Urbi Tonala                  Tonalá           Jalisco   \n",
       "3    IGNACIO MANUEL ALTAMIRANO 128            Zinacantepec    Edo. de México   \n",
       "4                  PASEOS DEL SOL                  Zapopan           Jalisco   \n",
       "\n",
       "   antiguedad  habitaciones  garages  banos  metroscubiertos  metrostotales  \\\n",
       "0         NaN           2.0      1.0    2.0             80.0           80.0   \n",
       "1        10.0           3.0      2.0    2.0            268.0          180.0   \n",
       "2         5.0           3.0      2.0    2.0            144.0          166.0   \n",
       "3         1.0           2.0      1.0    1.0             63.0           67.0   \n",
       "4        10.0           2.0      1.0    1.0             95.0           95.0   \n",
       "\n",
       "    idzona        lat        lon      fecha  gimnasio  usosmultiples  piscina  \\\n",
       "0  23536.0  31.733330 -106.48333 2015-08-23     False          False    False   \n",
       "1  24512.0  19.312500  -99.25000 2013-06-28     False          False    False   \n",
       "2  48544.0        NaN        NaN 2015-10-17     False          False    False   \n",
       "3  53664.0  19.296875  -99.68750 2012-03-09     False          False    False   \n",
       "4  47840.0  20.723560 -103.38479 2016-06-07     False          False    False   \n",
       "\n",
       "   escuelascercanas  centroscomercialescercanos     precio  \n",
       "0             False                       False  2273000.0  \n",
       "1              True                        True  3600000.0  \n",
       "2             False                       False  1200000.0  \n",
       "3              True                        True   650000.0  \n",
       "4             False                       False  1150000.0  "
      ]
     },
     "execution_count": 6,
     "metadata": {},
     "output_type": "execute_result"
    }
   ],
   "source": [
    "# mergeamos con coords. extra obtenidas en tp1.\n",
    "train = train.merge(rescued_coords.drop('Unnamed: 0', axis=1), how='left', on='id')\n",
    "train['lat_x'] = train.apply(lambda x: x['lat_y'] if pd.isna(x['lat_x']) else x['lat_x'], axis=1)\n",
    "train['lng_x'] = train.apply(lambda x: x['lng_y'] if pd.isna(x['lng_x']) else x['lng_x'], axis=1)\n",
    "train.drop(['lat_y','lng_y'], axis=1, inplace=True)\n",
    "train.rename(columns={'lat_x':'lat','lng_x':'lon'}, inplace=True)\n",
    "\n",
    "# por consistencia, para que ambos datasets tengan mismos nombres\n",
    "test.rename(columns={'lng':'lon'}, inplace=True)\n",
    "train.head()"
   ]
  },
  {
   "cell_type": "code",
   "execution_count": 7,
   "metadata": {},
   "outputs": [],
   "source": [
    "# inf. values don't make sense. I think it's preferable to treat them as nans directly.\n",
    "train.replace([np.inf, -np.inf], np.nan, inplace=True)\n",
    "test.replace([np.inf, -np.inf], np.nan, inplace=True)"
   ]
  },
  {
   "cell_type": "markdown",
   "metadata": {},
   "source": [
    "# Agregamos features que ya hemos creado para analisis de tp1"
   ]
  },
  {
   "cell_type": "code",
   "execution_count": 8,
   "metadata": {},
   "outputs": [],
   "source": [
    "def contar_amenities(row):\n",
    "    return row['gimnasio'] + row['usosmultiples'] + row['piscina'] + row['escuelascercanas'] + row['centroscomercialescercanos']"
   ]
  },
  {
   "cell_type": "code",
   "execution_count": 9,
   "metadata": {},
   "outputs": [],
   "source": [
    "train['cant_amenities'] = train.apply(lambda x: contar_amenities(x), axis=1)\n",
    "test['cant_amenities'] = test.apply(lambda x: contar_amenities(x), axis=1)"
   ]
  },
  {
   "cell_type": "code",
   "execution_count": 10,
   "metadata": {},
   "outputs": [],
   "source": [
    "def feature_fechas(df):\n",
    "    # Para entender lo de los senos y cosenos: https://ianlondon.github.io/blog/encoding-cyclical-features-24hour-time/\n",
    "    df['year'] = df['fecha'].dt.year\n",
    "    df['month'] = df['fecha'].dt.month\n",
    "    df['day'] = df['fecha'].dt.day\n",
    "    df['sin_month'] = np.sin(2*np.pi*df['month']/12)\n",
    "    df['cos_month'] = np.cos(2*np.pi*df['month']/12)\n",
    "    # tomo cant. de dias en mes: 31 en todos los casos. Para esto deberia servir bastante bien igual.\n",
    "    df['sin_day'] = np.sin(2*np.pi*df['day']/31)\n",
    "    df['cos_day'] = np.cos(2*np.pi*df['day']/31)\n",
    "    \n",
    "    # no necesito mas las cols. originales de month y day.\n",
    "    df.drop(['month','day'], axis=1, inplace=True)\n",
    "    \n",
    "feature_fechas(train)\n",
    "feature_fechas(test)"
   ]
  },
  {
   "cell_type": "code",
   "execution_count": 11,
   "metadata": {},
   "outputs": [],
   "source": [
    "palabras_avenida = ['avenida', 'av']\n",
    "train['es_avenida'] = train['direccion'].fillna('no info').apply(lambda x: any(avenida_indicator in x.lower() for avenida_indicator in palabras_avenida))\n",
    "test['es_avenida'] = test['direccion'].fillna('no info').apply(lambda x: any(avenida_indicator in x.lower() for avenida_indicator in palabras_avenida))"
   ]
  },
  {
   "cell_type": "markdown",
   "metadata": {},
   "source": [
    "# * Fin agregado de features de tp1 *"
   ]
  },
  {
   "cell_type": "markdown",
   "metadata": {},
   "source": [
    "El sample submission no tiene header. **Ojo con eso al guardar la submission.** Hagamos la funcion para guardar submissions ahora, para evitar problemas a futuro y despreocuparnos."
   ]
  },
  {
   "cell_type": "code",
   "execution_count": 12,
   "metadata": {},
   "outputs": [],
   "source": [
    "# To save predictions.\n",
    "# There must be a directory ../predictions for this to work as expected.\n",
    "# source: https://gist.github.com/rozanecm/ee8333741db42b10158b3e0aff3f22aa\n",
    "import time\n",
    "def _get_filename(my_name, timestamp):\n",
    "    return \"../predictions/\" + timestamp + \" by \" + my_name + \".csv\"\n",
    "\n",
    "def _save_description(authors_name, timestamp, submission_description):\n",
    "    f = open(\"../predictions/\" + authors_name + \".txt\",\"a\")\n",
    "    f.write(timestamp + \": \" + submission_description + '\\n')\n",
    "    f.close()\n",
    "\n",
    "def save_submission(submission_df, authors_name=\"rozanecm\", description = \"no description.\", index=False, header=True):\n",
    "    timestamp = time.strftime(\"%Y.%m.%d - %H:%M:%S\")\n",
    "    submission_df.to_csv(_get_filename(authors_name, timestamp), index=index, header=header)\n",
    "    _save_description(authors_name, timestamp, description)"
   ]
  },
  {
   "cell_type": "code",
   "execution_count": 13,
   "metadata": {},
   "outputs": [],
   "source": [
    "# Define a seed, so all algorithms that accept a seed, take the same, for consistency reasons,\n",
    "# so everything can be replicated without problems random state\n",
    "seed=42"
   ]
  },
  {
   "cell_type": "code",
   "execution_count": 14,
   "metadata": {},
   "outputs": [],
   "source": [
    "from sklearn.model_selection import train_test_split\n",
    "X_train, X_test, y_train, y_test = train_test_split(train.drop('precio', axis=1), train['precio'], test_size=0.33, random_state=seed)"
   ]
  },
  {
   "cell_type": "markdown",
   "metadata": {},
   "source": [
    "# Approach 1"
   ]
  },
  {
   "cell_type": "markdown",
   "metadata": {},
   "source": [
    "## Entrenamiento local"
   ]
  },
  {
   "cell_type": "code",
   "execution_count": 14,
   "metadata": {},
   "outputs": [
    {
     "name": "stdout",
     "output_type": "stream",
     "text": [
      "[Pipeline] ......... (step 1 of 2) Processing col_trans, total=   2.0s\n",
      "[Pipeline] ............... (step 2 of 2) Processing rfr, total= 1.3min\n",
      "773329.9676150936\n"
     ]
    }
   ],
   "source": [
    "# source: https://gist.github.com/rozanecm/ee8333741db42b10158b3e0aff3f22aa\n",
    "cat_columns = ['tipodepropiedad','ciudad','provincia']\n",
    "\n",
    "num_columns = [\n",
    "#     'id',\n",
    "    \"antiguedad\",\"habitaciones\",'garages',\n",
    "    'banos','metroscubiertos', 'metrostotales','idzona',\n",
    "    'lat', 'lon', 'cant_amenities',\n",
    "    'year','sin_month','cos_month', 'sin_day', 'cos_day']\n",
    "\n",
    "bool_columns = ['gimnasio','usosmultiples','piscina','escuelascercanas','centroscomercialescercanos','es_avenida']\n",
    "\n",
    "text_columns = ['titulo'\n",
    "#                 ,'descripcion'\n",
    "#                 ,'direccion'\n",
    "               ]\n",
    "\n",
    "from sklearn.pipeline import Pipeline\n",
    "from sklearn.compose import ColumnTransformer\n",
    "\n",
    "from sklearn.impute import SimpleImputer\n",
    "from sklearn.preprocessing import OneHotEncoder\n",
    "from sklearn.preprocessing import StandardScaler\n",
    "from sklearn.feature_extraction.text import HashingVectorizer\n",
    "\n",
    "transformers = []\n",
    "\n",
    "# transformers.append((\"cat\",\n",
    "#                      Pipeline(steps=[\n",
    "#                          (\"category_imputer\", SimpleImputer(strategy='constant', fill_value=\"\")),\n",
    "#                          (\"one_hot\", OneHotEncoder(handle_unknown='ignore')),\n",
    "#                      ]),\n",
    "#                      cat_columns))\n",
    "\n",
    "transformers.append((\"num\",\n",
    "                     Pipeline(steps=[\n",
    "                         (\"num_imputer\", SimpleImputer(strategy='most_frequent',verbose=1)),\n",
    "                         (\"num_transformer\", StandardScaler())\n",
    "                     ]),\n",
    "                   num_columns))\n",
    "\n",
    "transformers.append((\"bool\",\n",
    "                    Pipeline(steps=[\n",
    "                        (\"bool_imputer\", SimpleImputer(strategy='most_frequent')),\n",
    "                    ]),\n",
    "                     bool_columns))\n",
    "\n",
    "# The reason this for is necessary is because text transformers take an array-like parameter.\n",
    "# If we pass a list of columns, then the transformer will receive a dataframe, and that will result in error.\n",
    "# If you don't want to process all the text columns with the same pipeline, you'll have to define\n",
    "# a different pipelines for each, and pass a different list for each of the pipelines.\n",
    "# for col in text_columns_titulo:\n",
    "# for col in text_columns:\n",
    "#     # First, fill empty texts with an empty string.\n",
    "#     X_train[col] = X_train[col].fillna(\"\")\n",
    "#     X_test[col] = X_test[col].fillna(\"\")\n",
    "#     transformer_name = \"text_\" + col\n",
    "#     transformers.append((transformer_name,\n",
    "#                         Pipeline(steps=[\n",
    "#     #                         (\"text_imputer\", SimpleImputer(strategy='constant', fill_value=\"\")),\n",
    "#                             (\"hashing_vectorizer\", HashingVectorizer(decode_error='replace', strip_accents='ascii', \n",
    "# #                                                                      ngram_range=(2,5)\n",
    "#                                                                     )),\n",
    "#     #                         se podria agregar una svd.... o alguna proyeccion... \n",
    "#                         ]),\n",
    "#                          col))\n",
    "\n",
    "my_col_transformer = ColumnTransformer(transformers, remainder='drop', sparse_threshold=0.3, \n",
    "                                       n_jobs=-1, \n",
    "                                       transformer_weights=None)\n",
    "\n",
    "steps = []\n",
    "\n",
    "steps.append((\"col_trans\", my_col_transformer))\n",
    "\n",
    "from sklearn.ensemble import RandomForestRegressor\n",
    "steps.append((\"rfr\", RandomForestRegressor(n_estimators=100,\n",
    "    n_jobs=-1,\n",
    "    random_state=seed)))\n",
    "\n",
    "my_pipe = Pipeline(steps, verbose=True)\n",
    "\n",
    "# .replace is introduced because algorithms need numbers; booleans don't make it.\n",
    "my_pipe.fit(X_train.replace({True:1,False:0}), y_train)\n",
    "\n",
    "y_scores = my_pipe.predict(X_test.replace({True:1,False:0}))\n",
    "\n",
    "from sklearn.metrics import mean_absolute_error\n",
    "\n",
    "print(mean_absolute_error(y_test, y_scores))"
   ]
  },
  {
   "cell_type": "markdown",
   "metadata": {},
   "source": [
    "## Entrenamiento con todos los datos para obtener predicciones a subir"
   ]
  },
  {
   "cell_type": "code",
   "execution_count": 15,
   "metadata": {},
   "outputs": [
    {
     "name": "stdout",
     "output_type": "stream",
     "text": [
      "[Pipeline] ......... (step 1 of 2) Processing col_trans, total=   2.3s\n",
      "[Pipeline] ............... (step 2 of 2) Processing rfr, total= 2.2min\n"
     ]
    }
   ],
   "source": [
    "my_pipe.fit(train.drop(['precio'], axis=1).replace({True:1,False:0}), train['precio'])\n",
    "\n",
    "# prediciendo valores posta...\n",
    "predictions = my_pipe.predict(test.replace({True:1,False:0}))"
   ]
  },
  {
   "cell_type": "code",
   "execution_count": 16,
   "metadata": {},
   "outputs": [],
   "source": [
    "df = pd.DataFrame(data={'id':test['id'], 'target':predictions})"
   ]
  },
  {
   "cell_type": "code",
   "execution_count": 85,
   "metadata": {},
   "outputs": [],
   "source": [
    "# save_submission(df, description=\"first approach. Not taking any text atts. Random forest.\")"
   ]
  },
  {
   "cell_type": "code",
   "execution_count": 17,
   "metadata": {},
   "outputs": [],
   "source": [
    "description = \"repeat first approach. This time, train with all the data. On previous runs, I trianed only with X_test, which is a part of the whole given train set.\"\n",
    "save_submission(df, description=description)"
   ]
  },
  {
   "cell_type": "code",
   "execution_count": 19,
   "metadata": {},
   "outputs": [],
   "source": [
    "beep()"
   ]
  },
  {
   "cell_type": "markdown",
   "metadata": {},
   "source": [
    "## Obtengamos prediccionse para todas las propiedades en nuestro train set"
   ]
  },
  {
   "cell_type": "code",
   "execution_count": 34,
   "metadata": {},
   "outputs": [
    {
     "name": "stdout",
     "output_type": "stream",
     "text": [
      "in loop 1\n",
      "[Pipeline] ......... (step 1 of 2) Processing col_trans, total=   1.9s\n",
      "[Pipeline] ............... (step 2 of 2) Processing rfr, total= 1.2min\n",
      "773727.6079705233\n",
      "in loop 1\n",
      "[Pipeline] ......... (step 1 of 2) Processing col_trans, total=   2.6s\n",
      "[Pipeline] ............... (step 2 of 2) Processing rfr, total= 1.5min\n",
      "768614.1229419869\n",
      "in loop 1\n",
      "[Pipeline] ......... (step 1 of 2) Processing col_trans, total=   2.8s\n",
      "[Pipeline] ............... (step 2 of 2) Processing rfr, total= 1.5min\n",
      "765473.7160576448\n"
     ]
    }
   ],
   "source": [
    "from sklearn.model_selection import KFold\n",
    "kf = KFold(n_splits=3, shuffle=True, random_state=seed)\n",
    "\n",
    "df = pd.DataFrame([])\n",
    "\n",
    "for train_index, test_index in kf.split(train):\n",
    "    # for loop copied from docs: https://scikit-learn.org/stable/modules/generated/sklearn.model_selection.KFold.html#sklearn.model_selection.KFold\n",
    "    X_train2, X_test2 = train.drop(['precio'],axis=1).iloc[train_index], train.drop(['precio'],axis=1).iloc[test_index]\n",
    "    y_train2, y_test2 = train['precio'][train_index], train['precio'][test_index]\n",
    "    \n",
    "    my_pipe.fit(X_train2.replace({True:1,False:0}), y_train2)\n",
    "    y_scores = my_pipe.predict(X_test2.replace({True:1,False:0}))\n",
    "    \n",
    "    print(mean_absolute_error(y_test2, y_scores))\n",
    "    \n",
    "    df = df.append(pd.DataFrame(data={'id':X_test2['id'], 'approach_1':y_scores}))\n",
    "\n",
    "df.to_csv('../predictions/on_train_data/approach_1',index=False, header=True)"
   ]
  },
  {
   "cell_type": "code",
   "execution_count": 35,
   "metadata": {},
   "outputs": [],
   "source": [
    "beep()"
   ]
  },
  {
   "cell_type": "markdown",
   "metadata": {},
   "source": [
    "# Approach 2"
   ]
  },
  {
   "cell_type": "markdown",
   "metadata": {},
   "source": [
    "### Estudio var cat.: tipodepropiedad"
   ]
  },
  {
   "cell_type": "code",
   "execution_count": 102,
   "metadata": {},
   "outputs": [],
   "source": [
    "enc = OneHotEncoder(handle_unknown='ignore')\n",
    "aux = enc.fit_transform(train[['tipodepropiedad']].dropna())"
   ]
  },
  {
   "cell_type": "code",
   "execution_count": 103,
   "metadata": {},
   "outputs": [
    {
     "data": {
      "text/plain": [
       "TruncatedSVD(algorithm='randomized', n_components=22, n_iter=7, random_state=42,\n",
       "             tol=0.0)"
      ]
     },
     "execution_count": 103,
     "metadata": {},
     "output_type": "execute_result"
    }
   ],
   "source": [
    "from sklearn.decomposition import TruncatedSVD\n",
    "svd = TruncatedSVD(n_components=22, n_iter=7, random_state=42)\n",
    "svd.fit(aux)"
   ]
  },
  {
   "cell_type": "code",
   "execution_count": 118,
   "metadata": {},
   "outputs": [
    {
     "name": "stdout",
     "output_type": "stream",
     "text": [
      "current singular value: 376.4531843397733\n",
      "accumulated energy (%) till singular value n. 1 : 0.3058768243388757\n",
      "\n",
      "current singular value: 239.45980873630234\n",
      "accumulated energy (%) till singular value n. 2 : 0.5004433970231067\n",
      "\n",
      "current singular value: 138.91364223860808\n",
      "accumulated energy (%) till singular value n. 3 : 0.613313909248451\n",
      "\n",
      "current singular value: 99.72462083154932\n",
      "accumulated energy (%) till singular value n. 4 : 0.6943424450592185\n",
      "\n",
      "current singular value: 55.27205442173929\n",
      "accumulated energy (%) till singular value n. 5 : 0.7392522537273476\n",
      "\n",
      "current singular value: 41.72529209005007\n",
      "accumulated energy (%) till singular value n. 6 : 0.7731550080937372\n",
      "\n",
      "current singular value: 37.49666651850506\n",
      "accumulated energy (%) till singular value n. 7 : 0.803621907445616\n",
      "\n",
      "current singular value: 37.36308338453927\n",
      "accumulated energy (%) till singular value n. 8 : 0.8339802674451864\n",
      "\n",
      "current singular value: 36.41428291206578\n",
      "accumulated energy (%) till singular value n. 9 : 0.8635677053553066\n",
      "\n",
      "current singular value: 26.608269391300304\n",
      "accumulated energy (%) till singular value n. 10 : 0.8851875329491102\n",
      "\n",
      "current singular value: 19.874606914351688\n",
      "accumulated energy (%) till singular value n. 11 : 0.9013361057354106\n",
      "\n",
      "current singular value: 18.520259177452026\n",
      "accumulated energy (%) till singular value n. 12 : 0.9163842400022707\n",
      "\n",
      "current singular value: 18.439088914585724\n",
      "accumulated energy (%) till singular value n. 13 : 0.931366421573632\n",
      "\n",
      "current singular value: 14.142135623730942\n",
      "accumulated energy (%) till singular value n. 14 : 0.9428572302954203\n",
      "\n",
      "current singular value: 13.038404810405304\n",
      "accumulated energy (%) till singular value n. 15 : 0.9534512324814982\n",
      "\n",
      "current singular value: 12.845232578665106\n",
      "accumulated energy (%) till singular value n. 16 : 0.9638882778101151\n",
      "\n",
      "current singular value: 11.874342087037896\n",
      "accumulated energy (%) till singular value n. 17 : 0.9735364524033692\n",
      "\n",
      "current singular value: 11.57583690279022\n",
      "accumulated energy (%) till singular value n. 18 : 0.9829420847055638\n",
      "\n",
      "current singular value: 8.717797887081346\n",
      "accumulated energy (%) till singular value n. 19 : 0.9900254949245669\n",
      "\n",
      "current singular value: 5.56776436283002\n",
      "accumulated energy (%) till singular value n. 20 : 0.9945494308422732\n",
      "\n",
      "current singular value: 4.472135954999584\n",
      "accumulated energy (%) till singular value n. 21 : 0.9981831436140912\n",
      "\n",
      "current singular value: 2.23606797749979\n",
      "accumulated energy (%) till singular value n. 22 : 1.0000000000000002\n",
      "\n"
     ]
    }
   ],
   "source": [
    "total_energy = np.sum(svd.singular_values_)\n",
    "accumulated_energy = 0\n",
    "i = 1\n",
    "for singular_value in svd.singular_values_:\n",
    "    accumulated_energy += singular_value\n",
    "    print('current singular value:', singular_value)\n",
    "    print(\"accumulated energy (%) till singular value n.\", i, \":\", accumulated_energy/total_energy)\n",
    "    print(\"\")\n",
    "    i += 1"
   ]
  },
  {
   "cell_type": "markdown",
   "metadata": {},
   "source": [
    "Con el 11avo vs se retiene el 90% de la energia de la matriz, que es lo recomendado por Leskovec et al en su libro MMDS. Sin embargo, con el metodo grafico, se observa un codo con 6 valores ya. A pesar de esto, se elige 11 porque alli hay una especia de segundo codo, aunque un poco menor."
   ]
  },
  {
   "cell_type": "code",
   "execution_count": 101,
   "metadata": {},
   "outputs": [
    {
     "data": {
      "image/png": "[encoded data removed]",
      "text/plain": [
       "<Figure size 1152x648 with 1 Axes>"
      ]
     },
     "metadata": {
      "needs_background": "light"
     },
     "output_type": "display_data"
    }
   ],
   "source": [
    "import matplotlib.pyplot as plt\n",
    "plt.figure(figsize=(16,9))\n",
    "plt.plot(svd.singular_values_)\n",
    "plt.show()"
   ]
  },
  {
   "cell_type": "markdown",
   "metadata": {},
   "source": [
    "### Estudio var cat.: provincia"
   ]
  },
  {
   "cell_type": "code",
   "execution_count": 119,
   "metadata": {},
   "outputs": [],
   "source": [
    "enc = OneHotEncoder(handle_unknown='ignore')\n",
    "aux = enc.fit_transform(train[['provincia']].dropna())"
   ]
  },
  {
   "cell_type": "code",
   "execution_count": 120,
   "metadata": {},
   "outputs": [
    {
     "data": {
      "text/plain": [
       "<239845x32 sparse matrix of type '<class 'numpy.float64'>'\n",
       "\twith 239845 stored elements in Compressed Sparse Row format>"
      ]
     },
     "execution_count": 120,
     "metadata": {},
     "output_type": "execute_result"
    }
   ],
   "source": [
    "aux"
   ]
  },
  {
   "cell_type": "code",
   "execution_count": 122,
   "metadata": {},
   "outputs": [
    {
     "data": {
      "text/plain": [
       "TruncatedSVD(algorithm='randomized', n_components=31, n_iter=7, random_state=42,\n",
       "             tol=0.0)"
      ]
     },
     "execution_count": 122,
     "metadata": {},
     "output_type": "execute_result"
    }
   ],
   "source": [
    "from sklearn.decomposition import TruncatedSVD\n",
    "# me quedo con todas las componentes para poder analizar cuantas dimensiones conviene retener\n",
    "svd = TruncatedSVD(n_components=31, n_iter=7, random_state=42)\n",
    "svd.fit(aux)"
   ]
  },
  {
   "cell_type": "code",
   "execution_count": 123,
   "metadata": {},
   "outputs": [
    {
     "name": "stdout",
     "output_type": "stream",
     "text": [
      "current singular value: 242.46649253054727\n",
      "accumulated energy (%) till singular value n. 1 : 0.1086471680396908\n",
      "\n",
      "current singular value: 203.97793998381113\n",
      "accumulated energy (%) till singular value n. 2 : 0.20004794383562494\n",
      "\n",
      "current singular value: 145.7326318982503\n",
      "accumulated energy (%) till singular value n. 3 : 0.2653494936764584\n",
      "\n",
      "current singular value: 130.33802208101685\n",
      "accumulated energy (%) till singular value n. 4 : 0.3237528501122475\n",
      "\n",
      "current singular value: 123.79014500352044\n",
      "accumulated energy (%) till singular value n. 5 : 0.37922215865664666\n",
      "\n",
      "current singular value: 102.08329931973996\n",
      "accumulated energy (%) till singular value n. 6 : 0.42496481472216685\n",
      "\n",
      "current singular value: 91.90756225686378\n",
      "accumulated energy (%) till singular value n. 7 : 0.4661478097678917\n",
      "\n",
      "current singular value: 89.03931715819687\n",
      "accumulated energy (%) till singular value n. 8 : 0.5060455686394899\n",
      "\n",
      "current singular value: 85.65628990331258\n",
      "accumulated energy (%) till singular value n. 9 : 0.5444274218417802\n",
      "\n",
      "current singular value: 75.90783885739819\n",
      "accumulated energy (%) till singular value n. 10 : 0.5784410772454458\n",
      "\n",
      "current singular value: 68.96375859826308\n",
      "accumulated energy (%) till singular value n. 11 : 0.6093431494900475\n",
      "\n",
      "current singular value: 67.74953874381443\n",
      "accumulated energy (%) till singular value n. 12 : 0.6397011401702789\n",
      "\n",
      "current singular value: 60.786511661715735\n",
      "accumulated energy (%) till singular value n. 13 : 0.6669390577816164\n",
      "\n",
      "current singular value: 56.74504383644422\n",
      "accumulated energy (%) till singular value n. 14 : 0.6923660281179035\n",
      "\n",
      "current singular value: 54.66260147486631\n",
      "accumulated energy (%) till singular value n. 15 : 0.7168598737868188\n",
      "\n",
      "current singular value: 53.478967828483476\n",
      "accumulated energy (%) till singular value n. 16 : 0.740823343310421\n",
      "\n",
      "current singular value: 51.74939613174271\n",
      "accumulated energy (%) till singular value n. 17 : 0.7640118065029985\n",
      "\n",
      "current singular value: 50.20956084253197\n",
      "accumulated energy (%) till singular value n. 18 : 0.7865102826310779\n",
      "\n",
      "current singular value: 49.70915408654644\n",
      "accumulated energy (%) till singular value n. 19 : 0.8087845307582556\n",
      "\n",
      "current singular value: 47.989582202807554\n",
      "accumulated energy (%) till singular value n. 20 : 0.8302882533853567\n",
      "\n",
      "current singular value: 47.696960070847204\n",
      "accumulated energy (%) till singular value n. 21 : 0.8516608545300155\n",
      "\n",
      "current singular value: 42.49705872175141\n",
      "accumulated energy (%) till singular value n. 22 : 0.8707034242143732\n",
      "\n",
      "current singular value: 41.86884283091639\n",
      "accumulated energy (%) till singular value n. 23 : 0.8894644957142006\n",
      "\n",
      "current singular value: 41.231056256176466\n",
      "accumulated energy (%) till singular value n. 24 : 0.9079397804876396\n",
      "\n",
      "current singular value: 36.76955262170006\n",
      "accumulated energy (%) till singular value n. 25 : 0.9244159035211378\n",
      "\n",
      "current singular value: 33.555923471125126\n",
      "accumulated energy (%) till singular value n. 26 : 0.9394520267315851\n",
      "\n",
      "current singular value: 31.749015732774453\n",
      "accumulated energy (%) till singular value n. 27 : 0.9536784899901277\n",
      "\n",
      "current singular value: 31.527765540868987\n",
      "accumulated energy (%) till singular value n. 28 : 0.9678058129240511\n",
      "\n",
      "current singular value: 28.965496715920363\n",
      "accumulated energy (%) till singular value n. 29 : 0.980785005043355\n",
      "\n",
      "current singular value: 26.6645832519472\n",
      "accumulated energy (%) till singular value n. 30 : 0.9927331774569829\n",
      "\n",
      "current singular value: 16.21727474022695\n",
      "accumulated energy (%) till singular value n. 31 : 1.0\n",
      "\n"
     ]
    }
   ],
   "source": [
    "total_energy = np.sum(svd.singular_values_)\n",
    "accumulated_energy = 0\n",
    "i = 1\n",
    "for singular_value in svd.singular_values_:\n",
    "    accumulated_energy += singular_value\n",
    "    print('current singular value:', singular_value)\n",
    "    print(\"accumulated energy (%) till singular value n.\", i, \":\", accumulated_energy/total_energy)\n",
    "    print(\"\")\n",
    "    i += 1"
   ]
  },
  {
   "cell_type": "code",
   "execution_count": 124,
   "metadata": {},
   "outputs": [
    {
     "data": {
      "image/png": "[encoded data removed]",
      "text/plain": [
       "<Figure size 1152x648 with 1 Axes>"
      ]
     },
     "metadata": {
      "needs_background": "light"
     },
     "output_type": "display_data"
    }
   ],
   "source": [
    "import matplotlib.pyplot as plt\n",
    "plt.figure(figsize=(16,9))\n",
    "plt.plot(svd.singular_values_)\n",
    "plt.show()"
   ]
  },
  {
   "cell_type": "markdown",
   "metadata": {},
   "source": [
    "Segun las cuentas deberiamos retener 24 vs para retener el 90% de la energia. Como el total es 32, este nro. parece ser un poco excesivo. Por el metodo grafico se decide tomar nuevamente 11."
   ]
  },
  {
   "cell_type": "markdown",
   "metadata": {},
   "source": [
    "### Estudio var cat.: ciudad"
   ]
  },
  {
   "cell_type": "code",
   "execution_count": 15,
   "metadata": {},
   "outputs": [],
   "source": [
    "from sklearn.preprocessing import OneHotEncoder\n",
    "enc = OneHotEncoder(handle_unknown='ignore')\n",
    "aux = enc.fit_transform(train[['ciudad']].dropna())"
   ]
  },
  {
   "cell_type": "code",
   "execution_count": 16,
   "metadata": {},
   "outputs": [
    {
     "data": {
      "text/plain": [
       "<239628x875 sparse matrix of type '<class 'numpy.float64'>'\n",
       "\twith 239628 stored elements in Compressed Sparse Row format>"
      ]
     },
     "execution_count": 16,
     "metadata": {},
     "output_type": "execute_result"
    }
   ],
   "source": [
    "aux"
   ]
  },
  {
   "cell_type": "markdown",
   "metadata": {},
   "source": [
    "Como no se puede calcular la svd de todos los componentes para obtener los valores singulares, se elige tomar 100 dimensiones."
   ]
  },
  {
   "cell_type": "markdown",
   "metadata": {},
   "source": [
    "## Entrenamiento local"
   ]
  },
  {
   "cell_type": "code",
   "execution_count": 22,
   "metadata": {},
   "outputs": [
    {
     "name": "stdout",
     "output_type": "stream",
     "text": [
      "[Pipeline] ......... (step 1 of 2) Processing col_trans, total=   5.4s\n",
      "[Pipeline] ............... (step 2 of 2) Processing rfr, total= 2.7min\n",
      "619151.4739815602\n"
     ]
    }
   ],
   "source": [
    "# source: https://gist.github.com/rozanecm/ee8333741db42b10158b3e0aff3f22aa\n",
    "small_size_cat_columns = ['tipodepropiedad','provincia']\n",
    "large_size_cat_columns = ['ciudad']\n",
    "\n",
    "num_columns = [\n",
    "#     'id',\n",
    "    \"antiguedad\",\"habitaciones\",'garages',\n",
    "    'banos','metroscubiertos', 'metrostotales','idzona',\n",
    "    'lat', 'lon', 'cant_amenities',\n",
    "    'year','sin_month','cos_month', 'sin_day', 'cos_day']\n",
    "\n",
    "bool_columns = ['gimnasio','usosmultiples','piscina','escuelascercanas','centroscomercialescercanos','es_avenida']\n",
    "\n",
    "text_columns = ['titulo'\n",
    "#                 ,'descripcion'\n",
    "#                 ,'direccion'\n",
    "               ]\n",
    "\n",
    "from sklearn.pipeline import Pipeline\n",
    "from sklearn.compose import ColumnTransformer\n",
    "\n",
    "from sklearn.impute import SimpleImputer\n",
    "from sklearn.preprocessing import OneHotEncoder\n",
    "from sklearn.preprocessing import StandardScaler\n",
    "from sklearn.feature_extraction.text import HashingVectorizer\n",
    "from sklearn.decomposition import TruncatedSVD\n",
    "\n",
    "transformers = []\n",
    "\n",
    "transformers.append((\"small_cat\",\n",
    "                     Pipeline(steps=[\n",
    "                         (\"category_imputer\", SimpleImputer(strategy='constant', fill_value=\"\")),\n",
    "                         (\"one_hot\", OneHotEncoder(handle_unknown='ignore')),\n",
    "                         (\"svd\", TruncatedSVD(n_components=11, n_iter=7, random_state=seed))\n",
    "                     ]),\n",
    "                     small_size_cat_columns))\n",
    "\n",
    "transformers.append((\"large_cat\",\n",
    "                     Pipeline(steps=[\n",
    "                         (\"category_imputer\", SimpleImputer(strategy='constant', fill_value=\"\")),\n",
    "                         (\"one_hot\", OneHotEncoder(handle_unknown='ignore')),\n",
    "                         (\"svd\", TruncatedSVD(n_components=25, n_iter=7, random_state=seed))\n",
    "                     ]),\n",
    "                     large_size_cat_columns))\n",
    "\n",
    "transformers.append((\"num\",\n",
    "                     Pipeline(steps=[\n",
    "                         (\"num_imputer\", SimpleImputer(strategy='most_frequent',verbose=1)),\n",
    "                         (\"num_transformer\", StandardScaler())\n",
    "                     ]),\n",
    "                   num_columns))\n",
    "\n",
    "transformers.append((\"bool\",\n",
    "                    Pipeline(steps=[\n",
    "                        (\"bool_imputer\", SimpleImputer(strategy='most_frequent')),\n",
    "                    ]),\n",
    "                     bool_columns))\n",
    "\n",
    "# The reason this for is necessary is because text transformers take an array-like parameter.\n",
    "# If we pass a list of columns, then the transformer will receive a dataframe, and that will result in error.\n",
    "# If you don't want to process all the text columns with the same pipeline, you'll have to define\n",
    "# a different pipelines for each, and pass a different list for each of the pipelines.\n",
    "# for col in text_columns_titulo:\n",
    "# for col in text_columns:\n",
    "#     # First, fill empty texts with an empty string.\n",
    "#     X_train[col] = X_train[col].fillna(\"\")\n",
    "#     X_test[col] = X_test[col].fillna(\"\")\n",
    "#     transformer_name = \"text_\" + col\n",
    "#     transformers.append((transformer_name,\n",
    "#                         Pipeline(steps=[\n",
    "#     #                         (\"text_imputer\", SimpleImputer(strategy='constant', fill_value=\"\")),\n",
    "#                             (\"hashing_vectorizer\", HashingVectorizer(decode_error='replace', strip_accents='ascii', \n",
    "# #                                                                      ngram_range=(2,5)\n",
    "#                                                                     )),\n",
    "#     #                         se podria agregar una svd.... o alguna proyeccion... \n",
    "#                         ]),\n",
    "#                          col))\n",
    "\n",
    "my_col_transformer = ColumnTransformer(transformers, remainder='drop', sparse_threshold=0.3, \n",
    "                                       n_jobs=-1, \n",
    "                                       transformer_weights=None)\n",
    "\n",
    "steps = []\n",
    "\n",
    "steps.append((\"col_trans\", my_col_transformer))\n",
    "\n",
    "from sklearn.ensemble import RandomForestRegressor\n",
    "steps.append((\"rfr\", RandomForestRegressor(n_estimators=100,\n",
    "    n_jobs=-1,\n",
    "    random_state=seed)))\n",
    "\n",
    "my_pipe = Pipeline(steps, verbose=True)\n",
    "\n",
    "# .replace is introduced because algorithms need numbers; booleans don't make it.\n",
    "my_pipe.fit(X_train.replace({True:1,False:0}), y_train)\n",
    "\n",
    "y_scores = my_pipe.predict(X_test.replace({True:1,False:0}))\n",
    "\n",
    "from sklearn.metrics import mean_absolute_error\n",
    "\n",
    "print(mean_absolute_error(y_test, y_scores))"
   ]
  },
  {
   "cell_type": "code",
   "execution_count": 23,
   "metadata": {},
   "outputs": [],
   "source": [
    "beep()"
   ]
  },
  {
   "cell_type": "markdown",
   "metadata": {},
   "source": [
    "## Entrenamiento con todos los datos para obtener predicciones a subir"
   ]
  },
  {
   "cell_type": "code",
   "execution_count": 24,
   "metadata": {},
   "outputs": [
    {
     "name": "stdout",
     "output_type": "stream",
     "text": [
      "[Pipeline] ......... (step 1 of 2) Processing col_trans, total=   6.6s\n",
      "[Pipeline] ............... (step 2 of 2) Processing rfr, total= 4.6min\n"
     ]
    }
   ],
   "source": [
    "my_pipe.fit(train.drop(['precio'], axis=1).replace({True:1,False:0}), train['precio'])\n",
    "\n",
    "# prediciendo valores posta...\n",
    "predictions = my_pipe.predict(test.replace({True:1,False:0}))"
   ]
  },
  {
   "cell_type": "code",
   "execution_count": 25,
   "metadata": {},
   "outputs": [],
   "source": [
    "df = pd.DataFrame(data={'id':test['id'], 'target':predictions})"
   ]
  },
  {
   "cell_type": "code",
   "execution_count": 26,
   "metadata": {},
   "outputs": [],
   "source": [
    "description = \"Second approach. Same as previous, but adding categorical features with one hot encoding + svd dim. red., to 11 dimensions in the small cases, and to 100 in the larger one. Algorithm is same as previously.\"\n",
    "save_submission(df, description=description)"
   ]
  },
  {
   "cell_type": "code",
   "execution_count": 27,
   "metadata": {},
   "outputs": [],
   "source": [
    "beep()"
   ]
  },
  {
   "cell_type": "markdown",
   "metadata": {},
   "source": [
    "## Obtengamos prediccionse para todas las propiedades en nuestro train set"
   ]
  },
  {
   "cell_type": "code",
   "execution_count": 29,
   "metadata": {},
   "outputs": [
    {
     "name": "stdout",
     "output_type": "stream",
     "text": [
      "[Pipeline] ......... (step 1 of 2) Processing col_trans, total=   5.5s\n",
      "[Pipeline] ............... (step 2 of 2) Processing rfr, total= 3.1min\n",
      "613617.4667506837\n",
      "[Pipeline] ......... (step 1 of 2) Processing col_trans, total=   8.0s\n",
      "[Pipeline] ............... (step 2 of 2) Processing rfr, total= 3.0min\n",
      "619893.2199777354\n",
      "[Pipeline] ......... (step 1 of 2) Processing col_trans, total=   5.7s\n",
      "[Pipeline] ............... (step 2 of 2) Processing rfr, total= 3.0min\n",
      "611674.0503883368\n"
     ]
    }
   ],
   "source": [
    "from sklearn.model_selection import KFold\n",
    "kf = KFold(n_splits=3, shuffle=True, random_state=seed)\n",
    "\n",
    "df = pd.DataFrame([])\n",
    "\n",
    "# UPDATE THIS VALUE\n",
    "approach_numer = \"rozanecm_approach_2\"\n",
    "\n",
    "for train_index, test_index in kf.split(train):\n",
    "    # for loop copied from docs: https://scikit-learn.org/stable/modules/generated/sklearn.model_selection.KFold.html#sklearn.model_selection.KFold\n",
    "    X_train2, X_test2 = train.drop(['precio'],axis=1).iloc[train_index], train.drop(['precio'],axis=1).iloc[test_index]\n",
    "    y_train2, y_test2 = train['precio'][train_index], train['precio'][test_index]\n",
    "    \n",
    "    my_pipe.fit(X_train2.replace({True:1,False:0}), y_train2)\n",
    "    y_scores = my_pipe.predict(X_test2.replace({True:1,False:0}))\n",
    "    \n",
    "    print(mean_absolute_error(y_test2, y_scores))\n",
    "    \n",
    "    df = df.append(pd.DataFrame(data={'id':X_test2['id'], approach_numer:y_scores}))\n",
    "\n",
    "df.to_csv(\"../predictions/on_train_data/\" + approach_numer, index=False, header=True)"
   ]
  },
  {
   "cell_type": "code",
   "execution_count": 30,
   "metadata": {},
   "outputs": [],
   "source": [
    "beep()"
   ]
  },
  {
   "cell_type": "markdown",
   "metadata": {},
   "source": [
    "# Approach 3. Texto."
   ]
  },
  {
   "cell_type": "markdown",
   "metadata": {},
   "source": [
    "## Entrenamiento local"
   ]
  },
  {
   "cell_type": "code",
   "execution_count": 17,
   "metadata": {},
   "outputs": [
    {
     "name": "stdout",
     "output_type": "stream",
     "text": [
      "[Pipeline] ......... (step 1 of 2) Processing col_trans, total= 1.0min\n",
      "[Pipeline] ............... (step 2 of 2) Processing rfr, total=14.4min\n",
      "632879.1185852172\n"
     ]
    }
   ],
   "source": [
    "# source: https://gist.github.com/rozanecm/ee8333741db42b10158b3e0aff3f22aa\n",
    "small_size_cat_columns = ['tipodepropiedad','provincia']\n",
    "large_size_cat_columns = ['ciudad']\n",
    "\n",
    "num_columns = [\n",
    "#     'id',\n",
    "    \"antiguedad\",\"habitaciones\",'garages',\n",
    "    'banos','metroscubiertos', 'metrostotales','idzona',\n",
    "    'lat', 'lon', 'cant_amenities',\n",
    "    'year','sin_month','cos_month', 'sin_day', 'cos_day']\n",
    "\n",
    "bool_columns = ['gimnasio','usosmultiples','piscina','escuelascercanas','centroscomercialescercanos','es_avenida']\n",
    "\n",
    "text_columns = ['titulo'\n",
    "                ,'descripcion'\n",
    "                ,'direccion'\n",
    "               ]\n",
    "\n",
    "from sklearn.pipeline import Pipeline\n",
    "from sklearn.compose import ColumnTransformer\n",
    "\n",
    "from sklearn.impute import SimpleImputer\n",
    "from sklearn.preprocessing import OneHotEncoder\n",
    "from sklearn.preprocessing import StandardScaler\n",
    "from sklearn.feature_extraction.text import HashingVectorizer\n",
    "from sklearn.decomposition import TruncatedSVD\n",
    "\n",
    "transformers = []\n",
    "\n",
    "transformers.append((\"small_cat\",\n",
    "                     Pipeline(steps=[\n",
    "                         (\"category_imputer\", SimpleImputer(strategy='constant', fill_value=\"\")),\n",
    "                         (\"one_hot\", OneHotEncoder(handle_unknown='ignore')),\n",
    "                         (\"svd\", TruncatedSVD(n_components=11, n_iter=7, random_state=seed))\n",
    "                     ]),\n",
    "                     small_size_cat_columns))\n",
    "\n",
    "transformers.append((\"large_cat\",\n",
    "                     Pipeline(steps=[\n",
    "                         (\"category_imputer\", SimpleImputer(strategy='constant', fill_value=\"\")),\n",
    "                         (\"one_hot\", OneHotEncoder(handle_unknown='ignore')),\n",
    "                         (\"svd\", TruncatedSVD(n_components=25, n_iter=7, random_state=seed))\n",
    "                     ]),\n",
    "                     large_size_cat_columns))\n",
    "\n",
    "transformers.append((\"num\",\n",
    "                     Pipeline(steps=[\n",
    "                         (\"num_imputer\", SimpleImputer(strategy='most_frequent',verbose=1)),\n",
    "                         (\"num_transformer\", StandardScaler())\n",
    "                     ]),\n",
    "                   num_columns))\n",
    "\n",
    "transformers.append((\"bool\",\n",
    "                    Pipeline(steps=[\n",
    "                        (\"bool_imputer\", SimpleImputer(strategy='most_frequent')),\n",
    "                    ]),\n",
    "                     bool_columns))\n",
    "\n",
    "# The reason this for is necessary is because text transformers take an array-like parameter.\n",
    "# If we pass a list of columns, then the transformer will receive a dataframe, and that will result in error.\n",
    "# If you don't want to process all the text columns with the same pipeline, you'll have to define\n",
    "# a different pipelines for each, and pass a different list for each of the pipelines.\n",
    "# for col in text_columns_titulo:\n",
    "for col in text_columns:\n",
    "    # First, fill empty texts with an empty string.\n",
    "    X_train[col] = X_train[col].fillna(\"\")\n",
    "    X_test[col] = X_test[col].fillna(\"\")\n",
    "    train[col] = train[col].fillna(\"\")\n",
    "    test[col] = test[col].fillna(\"\")\n",
    "    transformer_name = \"text_\" + col\n",
    "    transformers.append((transformer_name,\n",
    "                        Pipeline(steps=[\n",
    "#                             (\"text_imputer\", SimpleImputer(strategy='constant', fill_value=\"\")),\n",
    "                            (\"hashing_vectorizer\", HashingVectorizer(decode_error='replace', strip_accents='ascii', \n",
    "#                                                                      ngram_range=(2,5)\n",
    "                                                                    )),\n",
    "                            (\"svd\", TruncatedSVD(n_components=20, n_iter=7, random_state=seed))\n",
    "    #                         se podria agregar una svd.... o alguna proyeccion... \n",
    "                        ]),\n",
    "                         col))\n",
    "\n",
    "my_col_transformer = ColumnTransformer(transformers, remainder='drop', sparse_threshold=0.3, \n",
    "                                       n_jobs=-1, \n",
    "                                       transformer_weights=None)\n",
    "\n",
    "steps = []\n",
    "\n",
    "steps.append((\"col_trans\", my_col_transformer))\n",
    "\n",
    "from sklearn.ensemble import RandomForestRegressor\n",
    "steps.append((\"rfr\", RandomForestRegressor(n_estimators=100,\n",
    "    n_jobs=-1,\n",
    "    random_state=seed)))\n",
    "\n",
    "my_pipe = Pipeline(steps, verbose=True)\n",
    "\n",
    "# .replace is introduced because algorithms need numbers; booleans don't make it.\n",
    "my_pipe.fit(X_train.replace({True:1,False:0}), y_train)\n",
    "\n",
    "y_scores = my_pipe.predict(X_test.replace({True:1,False:0}))\n",
    "\n",
    "from sklearn.metrics import mean_absolute_error\n",
    "\n",
    "print(mean_absolute_error(y_test, y_scores))"
   ]
  },
  {
   "cell_type": "code",
   "execution_count": 18,
   "metadata": {},
   "outputs": [],
   "source": [
    "beep()"
   ]
  },
  {
   "cell_type": "markdown",
   "metadata": {},
   "source": [
    "## Entrenamiento con todos los datos para obtener predicciones a subir"
   ]
  },
  {
   "cell_type": "code",
   "execution_count": 20,
   "metadata": {},
   "outputs": [],
   "source": [
    "del X_train\n",
    "del X_test\n",
    "del y_train\n",
    "del y_test"
   ]
  },
  {
   "cell_type": "code",
   "execution_count": 21,
   "metadata": {},
   "outputs": [
    {
     "name": "stdout",
     "output_type": "stream",
     "text": [
      "[Pipeline] ......... (step 1 of 2) Processing col_trans, total= 1.5min\n",
      "[Pipeline] ............... (step 2 of 2) Processing rfr, total=19.3min\n"
     ]
    }
   ],
   "source": [
    "my_pipe.fit(train.drop(['precio'], axis=1).replace({True:1,False:0}), train['precio'])\n",
    "\n",
    "# prediciendo valores posta...\n",
    "predictions = my_pipe.predict(test.replace({True:1,False:0}))"
   ]
  },
  {
   "cell_type": "code",
   "execution_count": 22,
   "metadata": {},
   "outputs": [],
   "source": [
    "df = pd.DataFrame(data={'id':test['id'], 'target':predictions})"
   ]
  },
  {
   "cell_type": "code",
   "execution_count": 23,
   "metadata": {},
   "outputs": [],
   "source": [
    "description = \"Third approach. Same as previous, but adding text features with one hashing vectorizer + svd dim. red. Algorithm is same as previously.\"\n",
    "save_submission(df, description=description)"
   ]
  },
  {
   "cell_type": "code",
   "execution_count": 24,
   "metadata": {},
   "outputs": [],
   "source": [
    "beep()"
   ]
  },
  {
   "cell_type": "markdown",
   "metadata": {},
   "source": [
    "## Obtengamos prediccionse para todas las propiedades en nuestro train set"
   ]
  },
  {
   "cell_type": "code",
   "execution_count": 25,
   "metadata": {},
   "outputs": [
    {
     "name": "stdout",
     "output_type": "stream",
     "text": [
      "[Pipeline] ......... (step 1 of 2) Processing col_trans, total= 2.6min\n",
      "[Pipeline] ............... (step 2 of 2) Processing rfr, total=14.1min\n",
      "627943.7597431771\n",
      "[Pipeline] ......... (step 1 of 2) Processing col_trans, total= 1.7min\n",
      "[Pipeline] ............... (step 2 of 2) Processing rfr, total=12.8min\n",
      "633384.3494840289\n",
      "[Pipeline] ......... (step 1 of 2) Processing col_trans, total= 1.3min\n",
      "[Pipeline] ............... (step 2 of 2) Processing rfr, total=12.2min\n",
      "624686.8034252054\n"
     ]
    }
   ],
   "source": [
    "from sklearn.model_selection import KFold\n",
    "kf = KFold(n_splits=3, shuffle=True, random_state=seed)\n",
    "\n",
    "df = pd.DataFrame([])\n",
    "\n",
    "# UPDATE THIS VALUE\n",
    "approach_numer = \"rozanecm_approach_3\"\n",
    "\n",
    "for train_index, test_index in kf.split(train):\n",
    "    # for loop copied from docs: https://scikit-learn.org/stable/modules/generated/sklearn.model_selection.KFold.html#sklearn.model_selection.KFold\n",
    "    X_train2, X_test2 = train.drop(['precio'],axis=1).iloc[train_index], train.drop(['precio'],axis=1).iloc[test_index]\n",
    "    y_train2, y_test2 = train['precio'][train_index], train['precio'][test_index]\n",
    "    \n",
    "    my_pipe.fit(X_train2.replace({True:1,False:0}), y_train2)\n",
    "    y_scores = my_pipe.predict(X_test2.replace({True:1,False:0}))\n",
    "    \n",
    "    print(mean_absolute_error(y_test2, y_scores))\n",
    "    \n",
    "    df = df.append(pd.DataFrame(data={'id':X_test2['id'], approach_numer:y_scores}))\n",
    "\n",
    "df.to_csv(\"../predictions/on_train_data/\" + approach_numer, index=False, header=True)"
   ]
  },
  {
   "cell_type": "code",
   "execution_count": 30,
   "metadata": {},
   "outputs": [],
   "source": [
    "beep()"
   ]
  }
 ],
 "metadata": {
  "kernelspec": {
   "display_name": "Python 3",
   "language": "python",
   "name": "python3"
  },
  "language_info": {
   "codemirror_mode": {
    "name": "ipython",
    "version": 3
   },
   "file_extension": ".py",
   "mimetype": "text/x-python",
   "name": "python",
   "nbconvert_exporter": "python",
   "pygments_lexer": "ipython3",
   "version": "3.5.2"
  }
 },
 "nbformat": 4,
 "nbformat_minor": 4
}
