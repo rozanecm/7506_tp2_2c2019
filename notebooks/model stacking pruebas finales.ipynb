{
 "cells": [
  {
   "cell_type": "code",
   "execution_count": 1,
   "metadata": {},
   "outputs": [],
   "source": [
    "import pandas as pd\n",
    "import numpy as np"
   ]
  },
  {
   "cell_type": "code",
   "execution_count": 2,
   "metadata": {},
   "outputs": [],
   "source": [
    "# This will allow you to see all column names & rows when you are doing .head(). None of the column name will be truncated.\n",
    "# source: https://stackoverflow.com/questions/49188960/how-to-show-all-of-columns-name-on-pandas-dataframe\n",
    "\n",
    "pd.set_option('display.max_columns', None)\n",
    "# pd.set_option('display.max_rows', None)"
   ]
  },
  {
   "cell_type": "code",
   "execution_count": 3,
   "metadata": {},
   "outputs": [],
   "source": [
    "# source: https://gist.github.com/rozanecm/38f2901c592bdffc40726cb0473318cf\n",
    "# Function which plays a beep of given duration and frequency.\n",
    "# Useful for when executing things that need a while to finish, to get notified.\n",
    "import os\n",
    "def beep(duration = 1, freq = 1500):\n",
    "    \"\"\" play tone of duration in seconds and freq in Hz. \"\"\"\n",
    "    os.system('play --no-show-progress --null --channels 1 synth %s sine %f' % (duration, freq))"
   ]
  },
  {
   "cell_type": "code",
   "execution_count": 4,
   "metadata": {},
   "outputs": [],
   "source": [
    "train = pd.read_csv('../data/train.csv', usecols=['id','precio'])\n",
    "test = pd.read_csv('../data/test.csv', usecols=['id'])"
   ]
  },
  {
   "cell_type": "code",
   "execution_count": 5,
   "metadata": {},
   "outputs": [],
   "source": [
    "# To save predictions.\n",
    "# There must be a directory ../predictions for this to work as expected.\n",
    "# source: https://gist.github.com/rozanecm/ee8333741db42b10158b3e0aff3f22aa\n",
    "import time\n",
    "def _get_filename(my_name, timestamp):\n",
    "    return \"../predictions/last_pred/\" + timestamp + \" by \" + my_name + \".csv\"\n",
    "\n",
    "def _save_description(authors_name, timestamp, submission_description):\n",
    "    f = open(\"../predictions/last_pred/\" + authors_name + \".txt\",\"a\")\n",
    "    f.write(timestamp + \": \" + submission_description + '\\n')\n",
    "    f.close()\n",
    "\n",
    "def save_submission(submission_df, authors_name=\"fcozza\", description = \"no description.\", index=False, header=True):\n",
    "    timestamp = time.strftime(\"%Y.%m.%d - %H:%M:%S\")\n",
    "    submission_df.to_csv(_get_filename(authors_name, timestamp), index=index, header=header)\n",
    "    _save_description(authors_name, timestamp, description)"
   ]
  },
  {
   "cell_type": "markdown",
   "metadata": {},
   "source": [
    "# Agregando columnas de predicciones anteriores"
   ]
  },
  {
   "cell_type": "markdown",
   "metadata": {},
   "source": [
    "# target 1 - rf"
   ]
  },
  {
   "cell_type": "code",
   "execution_count": 6,
   "metadata": {},
   "outputs": [],
   "source": [
    "current_target_name = 'target_1'"
   ]
  },
  {
   "cell_type": "code",
   "execution_count": 7,
   "metadata": {},
   "outputs": [],
   "source": [
    "df = pd.read_csv('../predictions/last_pred/2019.12.02 - 00:42:40 by fcozza.csv')\n",
    "\n",
    "test = test.merge(df.rename(columns={'target':current_target_name}), on='id')"
   ]
  },
  {
   "cell_type": "code",
   "execution_count": 8,
   "metadata": {},
   "outputs": [],
   "source": [
    "df = pd.read_csv('../predictions/last_train_data/fcozza_target_1')"
   ]
  },
  {
   "cell_type": "code",
   "execution_count": 9,
   "metadata": {},
   "outputs": [],
   "source": [
    "train = train.merge(df.rename(columns={'approach_1':current_target_name}), on='id')"
   ]
  },
  {
   "cell_type": "markdown",
   "metadata": {},
   "source": [
    "# target 2 - rf + one hot + svd"
   ]
  },
  {
   "cell_type": "code",
   "execution_count": 10,
   "metadata": {},
   "outputs": [],
   "source": [
    "current_target_name = 'target_2'"
   ]
  },
  {
   "cell_type": "code",
   "execution_count": 11,
   "metadata": {},
   "outputs": [],
   "source": [
    "df = pd.read_csv('../predictions/last_pred/2019.12.02 - 00:54:05 by fcozza.csv')\n",
    "\n",
    "test = test.merge(df.rename(columns={'target':current_target_name}), on='id')"
   ]
  },
  {
   "cell_type": "code",
   "execution_count": 12,
   "metadata": {},
   "outputs": [],
   "source": [
    "df = pd.read_csv('../predictions/last_train_data/fcozza_target_2')"
   ]
  },
  {
   "cell_type": "code",
   "execution_count": 13,
   "metadata": {},
   "outputs": [],
   "source": [
    "train = train.merge(df.rename(columns={'approach_1':current_target_name}), on='id')"
   ]
  },
  {
   "cell_type": "markdown",
   "metadata": {},
   "source": [
    "# target 3 - rf + one hashing vectorizer + svd"
   ]
  },
  {
   "cell_type": "code",
   "execution_count": 14,
   "metadata": {},
   "outputs": [],
   "source": [
    "current_target_name = 'target_3'"
   ]
  },
  {
   "cell_type": "code",
   "execution_count": 15,
   "metadata": {},
   "outputs": [],
   "source": [
    "df = pd.read_csv('../predictions/last_pred/2019.12.02 - 01:13:36 by fcozza.csv')\n",
    "\n",
    "test = test.merge(df.rename(columns={'target':current_target_name}), on='id')"
   ]
  },
  {
   "cell_type": "code",
   "execution_count": 16,
   "metadata": {},
   "outputs": [],
   "source": [
    "df = pd.read_csv('../predictions/last_train_data/fcozza_target_3')"
   ]
  },
  {
   "cell_type": "code",
   "execution_count": 17,
   "metadata": {},
   "outputs": [],
   "source": [
    "train = train.merge(df.rename(columns={'approach_1':current_target_name}), on='id')"
   ]
  },
  {
   "cell_type": "markdown",
   "metadata": {},
   "source": [
    "# target 4 - rf + stopwords"
   ]
  },
  {
   "cell_type": "code",
   "execution_count": 18,
   "metadata": {},
   "outputs": [],
   "source": [
    "current_target_name = 'target_4'"
   ]
  },
  {
   "cell_type": "code",
   "execution_count": 19,
   "metadata": {},
   "outputs": [],
   "source": [
    "df = pd.read_csv('../predictions/last_pred/2019.12.02 - 01:41:50 by fcozza.csv')\n",
    "\n",
    "test = test.merge(df.rename(columns={'target':current_target_name}), on='id')"
   ]
  },
  {
   "cell_type": "code",
   "execution_count": 20,
   "metadata": {},
   "outputs": [],
   "source": [
    "df = pd.read_csv('../predictions/last_train_data/fcozza_target_4')"
   ]
  },
  {
   "cell_type": "code",
   "execution_count": 21,
   "metadata": {},
   "outputs": [],
   "source": [
    "train = train.merge(df.rename(columns={'approach_1':current_target_name}), on='id')"
   ]
  },
  {
   "cell_type": "markdown",
   "metadata": {},
   "source": [
    "# target 5 -lightgbm"
   ]
  },
  {
   "cell_type": "code",
   "execution_count": 22,
   "metadata": {},
   "outputs": [],
   "source": [
    "current_target_name = 'target_5'"
   ]
  },
  {
   "cell_type": "code",
   "execution_count": 23,
   "metadata": {},
   "outputs": [],
   "source": [
    "df = pd.read_csv('../predictions/last_pred/2019.12.02 - 02:00:10 by fcozza.csv')\n",
    "\n",
    "test = test.merge(df.rename(columns={'target':current_target_name}), on='id')"
   ]
  },
  {
   "cell_type": "code",
   "execution_count": 24,
   "metadata": {},
   "outputs": [],
   "source": [
    "df = pd.read_csv('../predictions/last_train_data/fcozza_target_5')"
   ]
  },
  {
   "cell_type": "code",
   "execution_count": 25,
   "metadata": {},
   "outputs": [],
   "source": [
    "train = train.merge(df.rename(columns={'fcozza_target_5':current_target_name}), on='id')"
   ]
  },
  {
   "cell_type": "markdown",
   "metadata": {},
   "source": [
    "# target 6 - lightgbm with grid search"
   ]
  },
  {
   "cell_type": "code",
   "execution_count": 26,
   "metadata": {},
   "outputs": [],
   "source": [
    "current_target_name = 'target_6'"
   ]
  },
  {
   "cell_type": "code",
   "execution_count": 27,
   "metadata": {},
   "outputs": [],
   "source": [
    "df = pd.read_csv('../predictions/last_pred/2019.12.02 - 02:02:14 by fcozza.csv')\n",
    "\n",
    "test = test.merge(df.rename(columns={'target':current_target_name}), on='id')"
   ]
  },
  {
   "cell_type": "code",
   "execution_count": 28,
   "metadata": {},
   "outputs": [],
   "source": [
    "df = pd.read_csv('../predictions/last_train_data/fcozza_target_6')"
   ]
  },
  {
   "cell_type": "code",
   "execution_count": 29,
   "metadata": {},
   "outputs": [],
   "source": [
    "train = train.merge(df.rename(columns={'fcozza_target_6':current_target_name}), on='id')"
   ]
  },
  {
   "cell_type": "markdown",
   "metadata": {},
   "source": [
    "# target 7 - lightgbm grid search + feat eng"
   ]
  },
  {
   "cell_type": "code",
   "execution_count": 30,
   "metadata": {},
   "outputs": [],
   "source": [
    "current_target_name = 'target_7'"
   ]
  },
  {
   "cell_type": "code",
   "execution_count": 31,
   "metadata": {},
   "outputs": [],
   "source": [
    "df = pd.read_csv('../predictions/last_pred/2019.12.02 - 02:08:42 by fcozza.csv')\n",
    "\n",
    "test = test.merge(df.rename(columns={'target':current_target_name}), on='id')"
   ]
  },
  {
   "cell_type": "code",
   "execution_count": 32,
   "metadata": {},
   "outputs": [],
   "source": [
    "df = pd.read_csv('../predictions/last_train_data/fcozza_target_7')"
   ]
  },
  {
   "cell_type": "code",
   "execution_count": 33,
   "metadata": {},
   "outputs": [],
   "source": [
    "train = train.merge(df.rename(columns={'fcozza_target_7':current_target_name}), on='id')"
   ]
  },
  {
   "cell_type": "markdown",
   "metadata": {},
   "source": [
    "# target 8 - lightgbm log precio"
   ]
  },
  {
   "cell_type": "code",
   "execution_count": 34,
   "metadata": {},
   "outputs": [],
   "source": [
    "current_target_name = 'target_8'"
   ]
  },
  {
   "cell_type": "code",
   "execution_count": 35,
   "metadata": {},
   "outputs": [],
   "source": [
    "df = pd.read_csv('../predictions/last_pred/2019.12.02 - 02:17:28 by fcozza.csv')\n",
    "\n",
    "test = test.merge(df.rename(columns={'target':current_target_name}), on='id')"
   ]
  },
  {
   "cell_type": "code",
   "execution_count": 36,
   "metadata": {},
   "outputs": [],
   "source": [
    "df = pd.read_csv('../predictions/last_train_data/fcozza_target_8')"
   ]
  },
  {
   "cell_type": "code",
   "execution_count": 37,
   "metadata": {},
   "outputs": [],
   "source": [
    "train = train.merge(df.rename(columns={'fcozza_target_8':current_target_name}), on='id')"
   ]
  },
  {
   "cell_type": "markdown",
   "metadata": {},
   "source": [
    "# target 9 - lightgbm log precio y skewed features"
   ]
  },
  {
   "cell_type": "code",
   "execution_count": 38,
   "metadata": {},
   "outputs": [],
   "source": [
    "current_target_name = 'target_9'"
   ]
  },
  {
   "cell_type": "code",
   "execution_count": 39,
   "metadata": {},
   "outputs": [],
   "source": [
    "df = pd.read_csv('../predictions/last_pred/2019.12.02 - 02:23:33 by fcozza.csv')\n",
    "\n",
    "test = test.merge(df.rename(columns={'target':current_target_name}), on='id')"
   ]
  },
  {
   "cell_type": "code",
   "execution_count": 40,
   "metadata": {},
   "outputs": [],
   "source": [
    "df = pd.read_csv('../predictions/last_train_data/fcozza_target_9')"
   ]
  },
  {
   "cell_type": "code",
   "execution_count": 41,
   "metadata": {},
   "outputs": [],
   "source": [
    "train = train.merge(df.rename(columns={'fcozza_target_9':current_target_name}), on='id')"
   ]
  },
  {
   "cell_type": "markdown",
   "metadata": {},
   "source": [
    "# target 10 - xgboost tunned "
   ]
  },
  {
   "cell_type": "code",
   "execution_count": 42,
   "metadata": {},
   "outputs": [],
   "source": [
    "current_target_name = 'target_10'"
   ]
  },
  {
   "cell_type": "code",
   "execution_count": 43,
   "metadata": {},
   "outputs": [],
   "source": [
    "df = pd.read_csv('../predictions/last_pred/2019.12.02 - 02:33:00 by fcozza.csv')\n",
    "\n",
    "test = test.merge(df.rename(columns={'target':current_target_name}), on='id')"
   ]
  },
  {
   "cell_type": "code",
   "execution_count": 44,
   "metadata": {},
   "outputs": [],
   "source": [
    "df = pd.read_csv('../predictions/last_train_data/fcozza_target_10')"
   ]
  },
  {
   "cell_type": "code",
   "execution_count": 45,
   "metadata": {},
   "outputs": [],
   "source": [
    "train = train.merge(df.rename(columns={'fcozza_target_10':current_target_name}), on='id')"
   ]
  },
  {
   "cell_type": "markdown",
   "metadata": {},
   "source": [
    "# target 11 - lightgbm + todos los features"
   ]
  },
  {
   "cell_type": "code",
   "execution_count": 46,
   "metadata": {},
   "outputs": [],
   "source": [
    "current_target_name = 'target_11'"
   ]
  },
  {
   "cell_type": "code",
   "execution_count": 47,
   "metadata": {},
   "outputs": [],
   "source": [
    "df = pd.read_csv('../predictions/last_pred/2019.12.02 - 02:38:07 by fcozza.csv')\n",
    "\n",
    "test = test.merge(df.rename(columns={'target':current_target_name}), on='id')"
   ]
  },
  {
   "cell_type": "code",
   "execution_count": 48,
   "metadata": {},
   "outputs": [],
   "source": [
    "df = pd.read_csv('../predictions/last_train_data/fcozza_target_11')"
   ]
  },
  {
   "cell_type": "code",
   "execution_count": 49,
   "metadata": {},
   "outputs": [],
   "source": [
    "train = train.merge(df.rename(columns={'fcozza_target_11':current_target_name}), on='id')"
   ]
  },
  {
   "cell_type": "markdown",
   "metadata": {},
   "source": [
    "# target 12 - rf"
   ]
  },
  {
   "cell_type": "code",
   "execution_count": 50,
   "metadata": {},
   "outputs": [],
   "source": [
    "current_target_name = 'target_12'"
   ]
  },
  {
   "cell_type": "code",
   "execution_count": 51,
   "metadata": {},
   "outputs": [],
   "source": [
    "df = pd.read_csv('../predictions/2019.10.28 - 09:12:00 by rozanecm.csv')\n",
    "\n",
    "test = test.merge(df.rename(columns={'target':current_target_name}), on='id')"
   ]
  },
  {
   "cell_type": "code",
   "execution_count": 52,
   "metadata": {},
   "outputs": [],
   "source": [
    "df = pd.read_csv('../predictions/on_train_data/rozanecm_approach_1')\n",
    "\n",
    "train = train.merge(df.rename(columns={'approach_1':current_target_name}), on='id')"
   ]
  },
  {
   "cell_type": "markdown",
   "metadata": {},
   "source": [
    "# target 13 - rf + one hot + svd"
   ]
  },
  {
   "cell_type": "code",
   "execution_count": 53,
   "metadata": {},
   "outputs": [],
   "source": [
    "current_target_name = 'target_13'"
   ]
  },
  {
   "cell_type": "code",
   "execution_count": 54,
   "metadata": {},
   "outputs": [],
   "source": [
    "df = pd.read_csv('../predictions/2019.10.28 - 12:03:46 by rozanecm.csv')\n",
    "\n",
    "test = test.merge(df.rename(columns={'target':current_target_name}), on='id')"
   ]
  },
  {
   "cell_type": "code",
   "execution_count": 55,
   "metadata": {},
   "outputs": [],
   "source": [
    "df = pd.read_csv('../predictions/on_train_data/rozanecm_approach_2')\n",
    "\n",
    "train = train.merge(df.rename(columns={'rozanecm_approach_2':current_target_name}), on='id')"
   ]
  },
  {
   "cell_type": "markdown",
   "metadata": {},
   "source": [
    "# target 14 - rf + one hashing vectorizer + svd"
   ]
  },
  {
   "cell_type": "code",
   "execution_count": 56,
   "metadata": {},
   "outputs": [],
   "source": [
    "current_target_name = 'target_14'"
   ]
  },
  {
   "cell_type": "code",
   "execution_count": 57,
   "metadata": {},
   "outputs": [],
   "source": [
    "df = pd.read_csv('../predictions/2019.10.28 - 14:40:22 by rozanecm.csv')\n",
    "\n",
    "test = test.merge(df.rename(columns={'target':current_target_name}), on='id')"
   ]
  },
  {
   "cell_type": "code",
   "execution_count": 58,
   "metadata": {},
   "outputs": [],
   "source": [
    "df = pd.read_csv('../predictions/on_train_data/rozanecm_approach_3')\n",
    "\n",
    "train = train.merge(df.rename(columns={'rozanecm_approach_3':current_target_name}), on='id')"
   ]
  },
  {
   "cell_type": "markdown",
   "metadata": {},
   "source": [
    "# target 15 - rf + stopwords"
   ]
  },
  {
   "cell_type": "code",
   "execution_count": 59,
   "metadata": {},
   "outputs": [],
   "source": [
    "current_target_name = 'target_15'"
   ]
  },
  {
   "cell_type": "code",
   "execution_count": 60,
   "metadata": {},
   "outputs": [],
   "source": [
    "df = pd.read_csv('../predictions/2019.10.28 - 16:36:13 by rozanecm.csv')\n",
    "\n",
    "test = test.merge(df.rename(columns={'target':current_target_name}), on='id')"
   ]
  },
  {
   "cell_type": "code",
   "execution_count": 61,
   "metadata": {},
   "outputs": [],
   "source": [
    "df = pd.read_csv('../predictions/on_train_data/rozanecm_approach_4')\n",
    "\n",
    "train = train.merge(df.rename(columns={'rozanecm_approach_4':current_target_name}), on='id')"
   ]
  },
  {
   "cell_type": "markdown",
   "metadata": {},
   "source": [
    "# target 16 -lightgbm"
   ]
  },
  {
   "cell_type": "code",
   "execution_count": 62,
   "metadata": {},
   "outputs": [],
   "source": [
    "current_target_name = 'target_16'"
   ]
  },
  {
   "cell_type": "code",
   "execution_count": 63,
   "metadata": {},
   "outputs": [],
   "source": [
    "df = pd.read_csv('../predictions/2019.10.29 - 11:59:35 by rozanecm.csv')\n",
    "\n",
    "test = test.merge(df.rename(columns={'target':current_target_name}), on='id')"
   ]
  },
  {
   "cell_type": "code",
   "execution_count": 64,
   "metadata": {},
   "outputs": [],
   "source": [
    "df = pd.read_csv('../predictions/on_train_data/rozanecm_approach_7')\n",
    "\n",
    "train = train.merge(df.rename(columns={'rozanecm_approach_7':current_target_name}), on='id')"
   ]
  },
  {
   "cell_type": "markdown",
   "metadata": {},
   "source": [
    "# target 17 - lightgbm with grid search"
   ]
  },
  {
   "cell_type": "code",
   "execution_count": 65,
   "metadata": {},
   "outputs": [],
   "source": [
    "current_target_name = 'target_17'"
   ]
  },
  {
   "cell_type": "code",
   "execution_count": 66,
   "metadata": {},
   "outputs": [],
   "source": [
    "df = pd.read_csv('../predictions/2019.10.29 - 13:19:02 by rozanecm.csv')\n",
    "\n",
    "test = test.merge(df.rename(columns={'target':current_target_name}), on='id')"
   ]
  },
  {
   "cell_type": "code",
   "execution_count": 67,
   "metadata": {},
   "outputs": [],
   "source": [
    "df = pd.read_csv('../predictions/on_train_data/rozanecm_approach_8')\n",
    "\n",
    "train = train.merge(df.rename(columns={'rozanecm_approach_8':current_target_name}), on='id')"
   ]
  },
  {
   "cell_type": "markdown",
   "metadata": {},
   "source": [
    "# target 18 - lightgbm with grid search"
   ]
  },
  {
   "cell_type": "code",
   "execution_count": 68,
   "metadata": {},
   "outputs": [],
   "source": [
    "current_target_name = 'target_18'"
   ]
  },
  {
   "cell_type": "code",
   "execution_count": 69,
   "metadata": {},
   "outputs": [],
   "source": [
    "df = pd.read_csv('../predictions/2019.11.11 - 13:07:13 by rozanecm.csv')\n",
    "\n",
    "test = test.merge(df.rename(columns={'target':current_target_name}), on='id')"
   ]
  },
  {
   "cell_type": "code",
   "execution_count": 70,
   "metadata": {},
   "outputs": [],
   "source": [
    "df = pd.read_csv('../predictions/on_train_data/rozanecm_approach_10')\n",
    "\n",
    "train = train.merge(df.rename(columns={'rozanecm_approach_10':current_target_name}), on='id')"
   ]
  },
  {
   "cell_type": "markdown",
   "metadata": {},
   "source": [
    "# target 19 - lightgbm grid search + feat eng"
   ]
  },
  {
   "cell_type": "code",
   "execution_count": 71,
   "metadata": {},
   "outputs": [],
   "source": [
    "current_target_name = 'target_19'"
   ]
  },
  {
   "cell_type": "code",
   "execution_count": 72,
   "metadata": {},
   "outputs": [],
   "source": [
    "df = pd.read_csv('../predictions/2019.10.31 - 20:26:47 by rozanecm.csv')\n",
    "\n",
    "test = test.merge(df.rename(columns={'target':current_target_name}), on='id')"
   ]
  },
  {
   "cell_type": "code",
   "execution_count": 73,
   "metadata": {},
   "outputs": [],
   "source": [
    "df = pd.read_csv('../predictions/on_train_data/rozanecm_approach_1_with_feat_eng')\n",
    "\n",
    "train = train.merge(df.rename(columns={'rozanecm_approach_1_with_feat_eng':current_target_name}), on='id')"
   ]
  },
  {
   "cell_type": "markdown",
   "metadata": {},
   "source": [
    "# target 20 - light gbm grid search all train set + feat eng"
   ]
  },
  {
   "cell_type": "code",
   "execution_count": 74,
   "metadata": {},
   "outputs": [],
   "source": [
    "current_target_name = 'target_20'"
   ]
  },
  {
   "cell_type": "code",
   "execution_count": 75,
   "metadata": {},
   "outputs": [],
   "source": [
    "df = pd.read_csv('../predictions/2019.11.02 - 14:42:20 by rozanecm.csv')\n",
    "\n",
    "test = test.merge(df.rename(columns={'target':current_target_name}), on='id')"
   ]
  },
  {
   "cell_type": "code",
   "execution_count": 76,
   "metadata": {},
   "outputs": [],
   "source": [
    "df = pd.read_csv('../predictions/on_train_data/rozanecm_approach_3_with_feat_eng')\n",
    "\n",
    "train = train.merge(df.rename(columns={'rozanecm_approach_3_with_feat_eng':current_target_name}), on='id')"
   ]
  },
  {
   "cell_type": "markdown",
   "metadata": {},
   "source": [
    "# target 21 - feat selection rf y lightgbm grid search"
   ]
  },
  {
   "cell_type": "code",
   "execution_count": 77,
   "metadata": {},
   "outputs": [],
   "source": [
    "current_target_name = 'target_21'"
   ]
  },
  {
   "cell_type": "code",
   "execution_count": 78,
   "metadata": {},
   "outputs": [],
   "source": [
    "df = pd.read_csv('../predictions/2019.11.02 - 17:01:06 by rozanecm.csv')\n",
    "\n",
    "test = test.merge(df.rename(columns={'target':current_target_name}), on='id')"
   ]
  },
  {
   "cell_type": "code",
   "execution_count": 79,
   "metadata": {},
   "outputs": [],
   "source": [
    "df = pd.read_csv('../predictions/on_train_data/rozanecm_approach_4_with_feat_eng')\n",
    "\n",
    "train = train.merge(df.rename(columns={'rozanecm_approach_4_with_feat_eng':current_target_name}), on='id')"
   ]
  },
  {
   "cell_type": "markdown",
   "metadata": {},
   "source": [
    "# target 22 - ?"
   ]
  },
  {
   "cell_type": "code",
   "execution_count": 80,
   "metadata": {},
   "outputs": [],
   "source": [
    "current_target_name = 'target_22'"
   ]
  },
  {
   "cell_type": "code",
   "execution_count": 81,
   "metadata": {},
   "outputs": [],
   "source": [
    "df = pd.read_csv('../predictions/2019.11.20 - 02_33_23 by rozanecm.csv')\n",
    "\n",
    "test = test.merge(df.rename(columns={'target':current_target_name}), on='id')"
   ]
  },
  {
   "cell_type": "code",
   "execution_count": 82,
   "metadata": {},
   "outputs": [],
   "source": [
    "df = pd.read_csv('../predictions/on_train_data/on_train_data_rozanecm_approach_16')\n",
    "\n",
    "train = train.merge(df.rename(columns={'rozanecm_approach_16':current_target_name}), on='id')"
   ]
  },
  {
   "cell_type": "markdown",
   "metadata": {},
   "source": [
    "# target 23 - lightgbm log precio"
   ]
  },
  {
   "cell_type": "code",
   "execution_count": 83,
   "metadata": {},
   "outputs": [],
   "source": [
    "current_target_name = 'target_23'"
   ]
  },
  {
   "cell_type": "code",
   "execution_count": 84,
   "metadata": {},
   "outputs": [],
   "source": [
    "df = pd.read_csv('../predictions/2019.11.20 - 19:09:38 by rozanecm.csv')\n",
    "\n",
    "test = test.merge(df.rename(columns={'target':current_target_name}), on='id')"
   ]
  },
  {
   "cell_type": "code",
   "execution_count": 85,
   "metadata": {},
   "outputs": [],
   "source": [
    "df = pd.read_csv('../predictions/on_train_data/rozanecm_approach_19')\n",
    "\n",
    "train = train.merge(df.rename(columns={'rozanecm_approach_19':current_target_name}), on='id')"
   ]
  },
  {
   "cell_type": "markdown",
   "metadata": {},
   "source": [
    "# target 24 - lightgbm log precio y skewed features"
   ]
  },
  {
   "cell_type": "code",
   "execution_count": 86,
   "metadata": {},
   "outputs": [],
   "source": [
    "current_target_name = 'target_24'"
   ]
  },
  {
   "cell_type": "code",
   "execution_count": 87,
   "metadata": {},
   "outputs": [],
   "source": [
    "df = pd.read_csv('../predictions/2019.11.20 - 21:19:47 by rozanecm.csv')\n",
    "\n",
    "test = test.merge(df.rename(columns={'target':current_target_name}), on='id')"
   ]
  },
  {
   "cell_type": "code",
   "execution_count": 88,
   "metadata": {},
   "outputs": [],
   "source": [
    "df = pd.read_csv('../predictions/on_train_data/rozanecm_approach_20')\n",
    "\n",
    "train = train.merge(df.rename(columns={'rozanecm_approach_20':current_target_name}), on='id')"
   ]
  },
  {
   "cell_type": "markdown",
   "metadata": {},
   "source": [
    "# target 25 - lightgbm new features"
   ]
  },
  {
   "cell_type": "code",
   "execution_count": 89,
   "metadata": {},
   "outputs": [],
   "source": [
    "current_target_name = 'target_25'"
   ]
  },
  {
   "cell_type": "code",
   "execution_count": 90,
   "metadata": {},
   "outputs": [],
   "source": [
    "df = pd.read_csv('../predictions/2019.11.21 - 15:06:51 by rozanecm.csv')\n",
    "\n",
    "test = test.merge(df.rename(columns={'target':current_target_name}), on='id')"
   ]
  },
  {
   "cell_type": "code",
   "execution_count": 91,
   "metadata": {},
   "outputs": [],
   "source": [
    "df = pd.read_csv('../predictions/on_train_data/rozanecm_approach_24')\n",
    "\n",
    "train = train.merge(df.rename(columns={'rozanecm_approach_24':current_target_name}), on='id')"
   ]
  },
  {
   "cell_type": "markdown",
   "metadata": {},
   "source": [
    "# target 26 - xgboost tunned "
   ]
  },
  {
   "cell_type": "code",
   "execution_count": 92,
   "metadata": {},
   "outputs": [],
   "source": [
    "current_target_name = 'target_26'"
   ]
  },
  {
   "cell_type": "code",
   "execution_count": 93,
   "metadata": {},
   "outputs": [],
   "source": [
    "df = pd.read_csv('../predictions/2019.11.28 - 00:25:43 by fcozza.csv')\n",
    "\n",
    "test = test.merge(df.rename(columns={'target':current_target_name}), on='id')"
   ]
  },
  {
   "cell_type": "code",
   "execution_count": 94,
   "metadata": {},
   "outputs": [],
   "source": [
    "df = pd.read_csv('../predictions/on_train_data/fcozza_approach_1')\n",
    "\n",
    "train = train.merge(df.rename(columns={'fcozza_approach_1':current_target_name}), on='id')"
   ]
  },
  {
   "cell_type": "markdown",
   "metadata": {},
   "source": [
    "# target 27 - lightgbm with features desc"
   ]
  },
  {
   "cell_type": "code",
   "execution_count": 95,
   "metadata": {},
   "outputs": [],
   "source": [
    "current_target_name = 'target_27'"
   ]
  },
  {
   "cell_type": "code",
   "execution_count": 96,
   "metadata": {},
   "outputs": [],
   "source": [
    "df = pd.read_csv('../predictions/2019.11.28 - 00:40:14 by fcozza.csv')\n",
    "\n",
    "test = test.merge(df.rename(columns={'target':current_target_name}), on='id')"
   ]
  },
  {
   "cell_type": "code",
   "execution_count": 97,
   "metadata": {},
   "outputs": [],
   "source": [
    "df = pd.read_csv('../predictions/on_train_data/fcozza_approach_2')\n",
    "\n",
    "train = train.merge(df.rename(columns={'fcozza_approach_2':current_target_name}), on='id')"
   ]
  },
  {
   "cell_type": "markdown",
   "metadata": {},
   "source": [
    "# target 28 - lightgbm with new text feat"
   ]
  },
  {
   "cell_type": "code",
   "execution_count": 98,
   "metadata": {},
   "outputs": [],
   "source": [
    "current_target_name = 'target_28'"
   ]
  },
  {
   "cell_type": "code",
   "execution_count": 99,
   "metadata": {},
   "outputs": [],
   "source": [
    "df = pd.read_csv('../predictions/2019.11.30 - 12:19:02 by fcozza.csv')\n",
    "\n",
    "test = test.merge(df.rename(columns={'target':current_target_name}), on='id')"
   ]
  },
  {
   "cell_type": "code",
   "execution_count": 100,
   "metadata": {},
   "outputs": [],
   "source": [
    "df = pd.read_csv('../predictions/on_train_data/fcozza_approach_5')\n",
    "\n",
    "train = train.merge(df.rename(columns={'fcozza_approach_5':current_target_name}), on='id')"
   ]
  },
  {
   "cell_type": "markdown",
   "metadata": {},
   "source": [
    "# target 29 - lightgbm + todos TODOS los features"
   ]
  },
  {
   "cell_type": "code",
   "execution_count": 101,
   "metadata": {},
   "outputs": [],
   "source": [
    "current_target_name = 'target_29'"
   ]
  },
  {
   "cell_type": "code",
   "execution_count": 102,
   "metadata": {},
   "outputs": [],
   "source": [
    "df = pd.read_csv('../predictions/2019.12.01 - 17:45:42 by fcozza.csv')\n",
    "\n",
    "test = test.merge(df.rename(columns={'target':current_target_name}), on='id')"
   ]
  },
  {
   "cell_type": "code",
   "execution_count": 103,
   "metadata": {},
   "outputs": [],
   "source": [
    "df = pd.read_csv('../predictions/on_train_data/fcozza_approach_6')\n",
    "\n",
    "train = train.merge(df.rename(columns={'fcozza_approach_5':current_target_name}), on='id')"
   ]
  },
  {
   "cell_type": "code",
   "execution_count": 104,
   "metadata": {},
   "outputs": [
    {
     "data": {
      "text/html": [
       "<div>\n",
       "<style scoped>\n",
       "    .dataframe tbody tr th:only-of-type {\n",
       "        vertical-align: middle;\n",
       "    }\n",
       "\n",
       "    .dataframe tbody tr th {\n",
       "        vertical-align: top;\n",
       "    }\n",
       "\n",
       "    .dataframe thead th {\n",
       "        text-align: right;\n",
       "    }\n",
       "</style>\n",
       "<table border=\"1\" class=\"dataframe\">\n",
       "  <thead>\n",
       "    <tr style=\"text-align: right;\">\n",
       "      <th></th>\n",
       "      <th>id</th>\n",
       "      <th>precio</th>\n",
       "      <th>target_1</th>\n",
       "      <th>target_2</th>\n",
       "      <th>target_3</th>\n",
       "      <th>target_4</th>\n",
       "      <th>target_5</th>\n",
       "      <th>target_6</th>\n",
       "      <th>target_7</th>\n",
       "      <th>target_8</th>\n",
       "      <th>target_9</th>\n",
       "      <th>target_10</th>\n",
       "      <th>target_11</th>\n",
       "      <th>target_12</th>\n",
       "      <th>target_13</th>\n",
       "      <th>target_14</th>\n",
       "      <th>target_15</th>\n",
       "      <th>target_16</th>\n",
       "      <th>target_17</th>\n",
       "      <th>target_18</th>\n",
       "      <th>target_19</th>\n",
       "      <th>target_20</th>\n",
       "      <th>target_21</th>\n",
       "      <th>target_22</th>\n",
       "      <th>target_23</th>\n",
       "      <th>target_24</th>\n",
       "      <th>target_25</th>\n",
       "      <th>target_26</th>\n",
       "      <th>target_27</th>\n",
       "      <th>target_28</th>\n",
       "      <th>fcozza_approach_6</th>\n",
       "    </tr>\n",
       "  </thead>\n",
       "  <tbody>\n",
       "    <tr>\n",
       "      <th>90321</th>\n",
       "      <td>133862</td>\n",
       "      <td>3900000.0</td>\n",
       "      <td>2825104.00</td>\n",
       "      <td>4502269.35</td>\n",
       "      <td>4430647.37</td>\n",
       "      <td>4663052.72</td>\n",
       "      <td>5.542563e+06</td>\n",
       "      <td>5.542563e+06</td>\n",
       "      <td>5.542563e+06</td>\n",
       "      <td>5.006688e+06</td>\n",
       "      <td>5.292022e+06</td>\n",
       "      <td>4719696.00</td>\n",
       "      <td>5.006688e+06</td>\n",
       "      <td>2.360942e+06</td>\n",
       "      <td>4292050.00</td>\n",
       "      <td>4721420.00</td>\n",
       "      <td>4816199.50</td>\n",
       "      <td>4.807917e+06</td>\n",
       "      <td>4.738586e+06</td>\n",
       "      <td>2.285638e+06</td>\n",
       "      <td>4.575554e+06</td>\n",
       "      <td>4.753499e+06</td>\n",
       "      <td>4.823392e+06</td>\n",
       "      <td>5.526000e+06</td>\n",
       "      <td>4.579936e+06</td>\n",
       "      <td>4.670303e+06</td>\n",
       "      <td>5.131914e+06</td>\n",
       "      <td>6188446.50</td>\n",
       "      <td>5.089311e+06</td>\n",
       "      <td>5.544667e+06</td>\n",
       "      <td>5.363865e+06</td>\n",
       "    </tr>\n",
       "    <tr>\n",
       "      <th>89829</th>\n",
       "      <td>104993</td>\n",
       "      <td>500000.0</td>\n",
       "      <td>511948.99</td>\n",
       "      <td>452106.00</td>\n",
       "      <td>503363.06</td>\n",
       "      <td>538969.90</td>\n",
       "      <td>6.054880e+05</td>\n",
       "      <td>6.054880e+05</td>\n",
       "      <td>6.054880e+05</td>\n",
       "      <td>4.900971e+05</td>\n",
       "      <td>4.987002e+05</td>\n",
       "      <td>726666.94</td>\n",
       "      <td>4.900971e+05</td>\n",
       "      <td>1.755018e+06</td>\n",
       "      <td>437738.10</td>\n",
       "      <td>485828.73</td>\n",
       "      <td>505807.00</td>\n",
       "      <td>6.278577e+05</td>\n",
       "      <td>5.758268e+05</td>\n",
       "      <td>4.975076e+05</td>\n",
       "      <td>4.367668e+05</td>\n",
       "      <td>5.256995e+05</td>\n",
       "      <td>6.005255e+05</td>\n",
       "      <td>5.836568e+05</td>\n",
       "      <td>5.143414e+05</td>\n",
       "      <td>4.875368e+05</td>\n",
       "      <td>5.176793e+05</td>\n",
       "      <td>460235.06</td>\n",
       "      <td>4.898177e+05</td>\n",
       "      <td>4.817692e+05</td>\n",
       "      <td>4.769243e+05</td>\n",
       "    </tr>\n",
       "    <tr>\n",
       "      <th>87211</th>\n",
       "      <td>105566</td>\n",
       "      <td>3950000.0</td>\n",
       "      <td>4921233.00</td>\n",
       "      <td>4339589.60</td>\n",
       "      <td>4356790.00</td>\n",
       "      <td>4405985.80</td>\n",
       "      <td>4.060862e+06</td>\n",
       "      <td>4.060862e+06</td>\n",
       "      <td>4.060862e+06</td>\n",
       "      <td>4.139694e+06</td>\n",
       "      <td>4.007643e+06</td>\n",
       "      <td>4392455.00</td>\n",
       "      <td>4.139694e+06</td>\n",
       "      <td>4.501538e+06</td>\n",
       "      <td>4291770.00</td>\n",
       "      <td>4412623.30</td>\n",
       "      <td>4812923.75</td>\n",
       "      <td>4.051551e+06</td>\n",
       "      <td>3.992405e+06</td>\n",
       "      <td>3.933371e+06</td>\n",
       "      <td>4.168717e+06</td>\n",
       "      <td>3.983685e+06</td>\n",
       "      <td>4.111942e+06</td>\n",
       "      <td>3.577250e+06</td>\n",
       "      <td>3.997328e+06</td>\n",
       "      <td>4.048399e+06</td>\n",
       "      <td>4.173124e+06</td>\n",
       "      <td>4269226.00</td>\n",
       "      <td>4.008626e+06</td>\n",
       "      <td>3.713705e+06</td>\n",
       "      <td>3.868188e+06</td>\n",
       "    </tr>\n",
       "    <tr>\n",
       "      <th>29585</th>\n",
       "      <td>247215</td>\n",
       "      <td>1650000.0</td>\n",
       "      <td>3504842.09</td>\n",
       "      <td>2577807.52</td>\n",
       "      <td>2504403.73</td>\n",
       "      <td>2517113.90</td>\n",
       "      <td>2.939458e+06</td>\n",
       "      <td>2.939458e+06</td>\n",
       "      <td>2.939458e+06</td>\n",
       "      <td>2.626448e+06</td>\n",
       "      <td>2.448492e+06</td>\n",
       "      <td>2783878.20</td>\n",
       "      <td>2.626448e+06</td>\n",
       "      <td>2.644100e+06</td>\n",
       "      <td>2572091.90</td>\n",
       "      <td>2957466.61</td>\n",
       "      <td>2891899.40</td>\n",
       "      <td>2.766254e+06</td>\n",
       "      <td>2.758867e+06</td>\n",
       "      <td>2.431619e+06</td>\n",
       "      <td>2.552019e+06</td>\n",
       "      <td>2.900320e+06</td>\n",
       "      <td>2.807474e+06</td>\n",
       "      <td>2.622858e+06</td>\n",
       "      <td>2.612844e+06</td>\n",
       "      <td>2.644642e+06</td>\n",
       "      <td>2.513440e+06</td>\n",
       "      <td>2537253.50</td>\n",
       "      <td>2.641575e+06</td>\n",
       "      <td>2.513144e+06</td>\n",
       "      <td>2.462859e+06</td>\n",
       "    </tr>\n",
       "    <tr>\n",
       "      <th>18136</th>\n",
       "      <td>281905</td>\n",
       "      <td>1400000.0</td>\n",
       "      <td>2866486.10</td>\n",
       "      <td>1876348.79</td>\n",
       "      <td>1924421.43</td>\n",
       "      <td>1808271.88</td>\n",
       "      <td>2.309824e+06</td>\n",
       "      <td>2.309824e+06</td>\n",
       "      <td>2.309824e+06</td>\n",
       "      <td>2.082956e+06</td>\n",
       "      <td>1.844745e+06</td>\n",
       "      <td>2311526.00</td>\n",
       "      <td>2.082956e+06</td>\n",
       "      <td>3.298313e+06</td>\n",
       "      <td>2168499.68</td>\n",
       "      <td>1984309.06</td>\n",
       "      <td>2053770.00</td>\n",
       "      <td>2.187890e+06</td>\n",
       "      <td>2.327831e+06</td>\n",
       "      <td>2.343738e+06</td>\n",
       "      <td>2.064445e+06</td>\n",
       "      <td>2.186056e+06</td>\n",
       "      <td>2.269307e+06</td>\n",
       "      <td>2.543243e+06</td>\n",
       "      <td>1.987974e+06</td>\n",
       "      <td>2.127114e+06</td>\n",
       "      <td>2.093632e+06</td>\n",
       "      <td>2127167.50</td>\n",
       "      <td>2.232882e+06</td>\n",
       "      <td>2.196568e+06</td>\n",
       "      <td>2.017349e+06</td>\n",
       "    </tr>\n",
       "  </tbody>\n",
       "</table>\n",
       "</div>"
      ],
      "text/plain": [
       "           id     precio    target_1    target_2    target_3    target_4  \\\n",
       "90321  133862  3900000.0  2825104.00  4502269.35  4430647.37  4663052.72   \n",
       "89829  104993   500000.0   511948.99   452106.00   503363.06   538969.90   \n",
       "87211  105566  3950000.0  4921233.00  4339589.60  4356790.00  4405985.80   \n",
       "29585  247215  1650000.0  3504842.09  2577807.52  2504403.73  2517113.90   \n",
       "18136  281905  1400000.0  2866486.10  1876348.79  1924421.43  1808271.88   \n",
       "\n",
       "           target_5      target_6      target_7      target_8      target_9  \\\n",
       "90321  5.542563e+06  5.542563e+06  5.542563e+06  5.006688e+06  5.292022e+06   \n",
       "89829  6.054880e+05  6.054880e+05  6.054880e+05  4.900971e+05  4.987002e+05   \n",
       "87211  4.060862e+06  4.060862e+06  4.060862e+06  4.139694e+06  4.007643e+06   \n",
       "29585  2.939458e+06  2.939458e+06  2.939458e+06  2.626448e+06  2.448492e+06   \n",
       "18136  2.309824e+06  2.309824e+06  2.309824e+06  2.082956e+06  1.844745e+06   \n",
       "\n",
       "        target_10     target_11     target_12   target_13   target_14  \\\n",
       "90321  4719696.00  5.006688e+06  2.360942e+06  4292050.00  4721420.00   \n",
       "89829   726666.94  4.900971e+05  1.755018e+06   437738.10   485828.73   \n",
       "87211  4392455.00  4.139694e+06  4.501538e+06  4291770.00  4412623.30   \n",
       "29585  2783878.20  2.626448e+06  2.644100e+06  2572091.90  2957466.61   \n",
       "18136  2311526.00  2.082956e+06  3.298313e+06  2168499.68  1984309.06   \n",
       "\n",
       "        target_15     target_16     target_17     target_18     target_19  \\\n",
       "90321  4816199.50  4.807917e+06  4.738586e+06  2.285638e+06  4.575554e+06   \n",
       "89829   505807.00  6.278577e+05  5.758268e+05  4.975076e+05  4.367668e+05   \n",
       "87211  4812923.75  4.051551e+06  3.992405e+06  3.933371e+06  4.168717e+06   \n",
       "29585  2891899.40  2.766254e+06  2.758867e+06  2.431619e+06  2.552019e+06   \n",
       "18136  2053770.00  2.187890e+06  2.327831e+06  2.343738e+06  2.064445e+06   \n",
       "\n",
       "          target_20     target_21     target_22     target_23     target_24  \\\n",
       "90321  4.753499e+06  4.823392e+06  5.526000e+06  4.579936e+06  4.670303e+06   \n",
       "89829  5.256995e+05  6.005255e+05  5.836568e+05  5.143414e+05  4.875368e+05   \n",
       "87211  3.983685e+06  4.111942e+06  3.577250e+06  3.997328e+06  4.048399e+06   \n",
       "29585  2.900320e+06  2.807474e+06  2.622858e+06  2.612844e+06  2.644642e+06   \n",
       "18136  2.186056e+06  2.269307e+06  2.543243e+06  1.987974e+06  2.127114e+06   \n",
       "\n",
       "          target_25   target_26     target_27     target_28  fcozza_approach_6  \n",
       "90321  5.131914e+06  6188446.50  5.089311e+06  5.544667e+06       5.363865e+06  \n",
       "89829  5.176793e+05   460235.06  4.898177e+05  4.817692e+05       4.769243e+05  \n",
       "87211  4.173124e+06  4269226.00  4.008626e+06  3.713705e+06       3.868188e+06  \n",
       "29585  2.513440e+06  2537253.50  2.641575e+06  2.513144e+06       2.462859e+06  \n",
       "18136  2.093632e+06  2127167.50  2.232882e+06  2.196568e+06       2.017349e+06  "
      ]
     },
     "execution_count": 104,
     "metadata": {},
     "output_type": "execute_result"
    }
   ],
   "source": [
    "train.sample(5)"
   ]
  },
  {
   "cell_type": "code",
   "execution_count": 105,
   "metadata": {},
   "outputs": [
    {
     "data": {
      "text/html": [
       "<div>\n",
       "<style scoped>\n",
       "    .dataframe tbody tr th:only-of-type {\n",
       "        vertical-align: middle;\n",
       "    }\n",
       "\n",
       "    .dataframe tbody tr th {\n",
       "        vertical-align: top;\n",
       "    }\n",
       "\n",
       "    .dataframe thead th {\n",
       "        text-align: right;\n",
       "    }\n",
       "</style>\n",
       "<table border=\"1\" class=\"dataframe\">\n",
       "  <thead>\n",
       "    <tr style=\"text-align: right;\">\n",
       "      <th></th>\n",
       "      <th>id</th>\n",
       "      <th>target_1</th>\n",
       "      <th>target_2</th>\n",
       "      <th>target_3</th>\n",
       "      <th>target_4</th>\n",
       "      <th>target_5</th>\n",
       "      <th>target_6</th>\n",
       "      <th>target_7</th>\n",
       "      <th>target_8</th>\n",
       "      <th>target_9</th>\n",
       "      <th>target_10</th>\n",
       "      <th>target_11</th>\n",
       "      <th>target_12</th>\n",
       "      <th>target_13</th>\n",
       "      <th>target_14</th>\n",
       "      <th>target_15</th>\n",
       "      <th>target_16</th>\n",
       "      <th>target_17</th>\n",
       "      <th>target_18</th>\n",
       "      <th>target_19</th>\n",
       "      <th>target_20</th>\n",
       "      <th>target_21</th>\n",
       "      <th>target_22</th>\n",
       "      <th>target_23</th>\n",
       "      <th>target_24</th>\n",
       "      <th>target_25</th>\n",
       "      <th>target_26</th>\n",
       "      <th>target_27</th>\n",
       "      <th>target_28</th>\n",
       "      <th>target_29</th>\n",
       "    </tr>\n",
       "  </thead>\n",
       "  <tbody>\n",
       "    <tr>\n",
       "      <th>35878</th>\n",
       "      <td>12599</td>\n",
       "      <td>2900633.72</td>\n",
       "      <td>1861475.20</td>\n",
       "      <td>1959053.20</td>\n",
       "      <td>2129822.68</td>\n",
       "      <td>1.151743e+06</td>\n",
       "      <td>1.230432e+06</td>\n",
       "      <td>1.261052e+06</td>\n",
       "      <td>1.112837e+06</td>\n",
       "      <td>1.072322e+06</td>\n",
       "      <td>1549971.5</td>\n",
       "      <td>1.112837e+06</td>\n",
       "      <td>1853577.40</td>\n",
       "      <td>1675478.00</td>\n",
       "      <td>1857855.54</td>\n",
       "      <td>1927323.85</td>\n",
       "      <td>1.240243e+06</td>\n",
       "      <td>1.252453e+06</td>\n",
       "      <td>1.525968e+06</td>\n",
       "      <td>1.153804e+06</td>\n",
       "      <td>1.138488e+06</td>\n",
       "      <td>1.181135e+06</td>\n",
       "      <td>2005302.40</td>\n",
       "      <td>1.161568e+06</td>\n",
       "      <td>1.241160e+06</td>\n",
       "      <td>1.250388e+06</td>\n",
       "      <td>1613333.5</td>\n",
       "      <td>1.116244e+06</td>\n",
       "      <td>1.000500e+06</td>\n",
       "      <td>1.043105e+06</td>\n",
       "    </tr>\n",
       "    <tr>\n",
       "      <th>8206</th>\n",
       "      <td>78718</td>\n",
       "      <td>3270668.21</td>\n",
       "      <td>2510952.00</td>\n",
       "      <td>2499950.00</td>\n",
       "      <td>2467305.00</td>\n",
       "      <td>2.282250e+06</td>\n",
       "      <td>2.390572e+06</td>\n",
       "      <td>2.213829e+06</td>\n",
       "      <td>2.445307e+06</td>\n",
       "      <td>2.339461e+06</td>\n",
       "      <td>2567813.0</td>\n",
       "      <td>2.445307e+06</td>\n",
       "      <td>2409474.78</td>\n",
       "      <td>2423715.00</td>\n",
       "      <td>2487183.20</td>\n",
       "      <td>2567565.20</td>\n",
       "      <td>2.397034e+06</td>\n",
       "      <td>2.281676e+06</td>\n",
       "      <td>2.067982e+06</td>\n",
       "      <td>2.449297e+06</td>\n",
       "      <td>2.228898e+06</td>\n",
       "      <td>2.334214e+06</td>\n",
       "      <td>2722221.40</td>\n",
       "      <td>2.337129e+06</td>\n",
       "      <td>2.219271e+06</td>\n",
       "      <td>2.379679e+06</td>\n",
       "      <td>2349671.2</td>\n",
       "      <td>2.302341e+06</td>\n",
       "      <td>2.283136e+06</td>\n",
       "      <td>2.412432e+06</td>\n",
       "    </tr>\n",
       "    <tr>\n",
       "      <th>21752</th>\n",
       "      <td>267228</td>\n",
       "      <td>7253450.00</td>\n",
       "      <td>6009140.00</td>\n",
       "      <td>6863403.01</td>\n",
       "      <td>6625790.00</td>\n",
       "      <td>6.288506e+06</td>\n",
       "      <td>6.197848e+06</td>\n",
       "      <td>5.980548e+06</td>\n",
       "      <td>5.951591e+06</td>\n",
       "      <td>5.837419e+06</td>\n",
       "      <td>5501714.0</td>\n",
       "      <td>5.951591e+06</td>\n",
       "      <td>6182000.00</td>\n",
       "      <td>4682321.52</td>\n",
       "      <td>5997519.56</td>\n",
       "      <td>5723363.00</td>\n",
       "      <td>5.976128e+06</td>\n",
       "      <td>5.654491e+06</td>\n",
       "      <td>5.267483e+06</td>\n",
       "      <td>5.861966e+06</td>\n",
       "      <td>5.746475e+06</td>\n",
       "      <td>5.394554e+06</td>\n",
       "      <td>4521527.60</td>\n",
       "      <td>5.031057e+06</td>\n",
       "      <td>3.094411e+06</td>\n",
       "      <td>5.859379e+06</td>\n",
       "      <td>4977345.5</td>\n",
       "      <td>6.461636e+06</td>\n",
       "      <td>5.850617e+06</td>\n",
       "      <td>6.322653e+06</td>\n",
       "    </tr>\n",
       "    <tr>\n",
       "      <th>57119</th>\n",
       "      <td>273537</td>\n",
       "      <td>5385979.98</td>\n",
       "      <td>4203980.00</td>\n",
       "      <td>3942680.00</td>\n",
       "      <td>4315550.00</td>\n",
       "      <td>4.325480e+06</td>\n",
       "      <td>4.064960e+06</td>\n",
       "      <td>4.245505e+06</td>\n",
       "      <td>4.367194e+06</td>\n",
       "      <td>4.560838e+06</td>\n",
       "      <td>4320214.0</td>\n",
       "      <td>4.367194e+06</td>\n",
       "      <td>3766934.00</td>\n",
       "      <td>3935076.40</td>\n",
       "      <td>3823788.00</td>\n",
       "      <td>4105526.40</td>\n",
       "      <td>4.062816e+06</td>\n",
       "      <td>4.270634e+06</td>\n",
       "      <td>3.775103e+06</td>\n",
       "      <td>4.360531e+06</td>\n",
       "      <td>4.110369e+06</td>\n",
       "      <td>4.234361e+06</td>\n",
       "      <td>3924330.66</td>\n",
       "      <td>4.269573e+06</td>\n",
       "      <td>4.385199e+06</td>\n",
       "      <td>4.197971e+06</td>\n",
       "      <td>4153811.5</td>\n",
       "      <td>4.246556e+06</td>\n",
       "      <td>4.219397e+06</td>\n",
       "      <td>4.262970e+06</td>\n",
       "    </tr>\n",
       "    <tr>\n",
       "      <th>45142</th>\n",
       "      <td>208906</td>\n",
       "      <td>667862.00</td>\n",
       "      <td>706938.77</td>\n",
       "      <td>659765.70</td>\n",
       "      <td>649248.11</td>\n",
       "      <td>6.002032e+05</td>\n",
       "      <td>6.147630e+05</td>\n",
       "      <td>6.279456e+05</td>\n",
       "      <td>6.172767e+05</td>\n",
       "      <td>6.166062e+05</td>\n",
       "      <td>668765.2</td>\n",
       "      <td>6.172767e+05</td>\n",
       "      <td>780833.99</td>\n",
       "      <td>729623.73</td>\n",
       "      <td>682499.00</td>\n",
       "      <td>656949.88</td>\n",
       "      <td>6.301359e+05</td>\n",
       "      <td>6.831025e+05</td>\n",
       "      <td>7.033232e+05</td>\n",
       "      <td>7.872769e+05</td>\n",
       "      <td>6.134115e+05</td>\n",
       "      <td>6.930746e+05</td>\n",
       "      <td>762960.00</td>\n",
       "      <td>7.007231e+05</td>\n",
       "      <td>6.522835e+05</td>\n",
       "      <td>6.879160e+05</td>\n",
       "      <td>720179.9</td>\n",
       "      <td>6.348433e+05</td>\n",
       "      <td>5.982549e+05</td>\n",
       "      <td>6.129948e+05</td>\n",
       "    </tr>\n",
       "  </tbody>\n",
       "</table>\n",
       "</div>"
      ],
      "text/plain": [
       "           id    target_1    target_2    target_3    target_4      target_5  \\\n",
       "35878   12599  2900633.72  1861475.20  1959053.20  2129822.68  1.151743e+06   \n",
       "8206    78718  3270668.21  2510952.00  2499950.00  2467305.00  2.282250e+06   \n",
       "21752  267228  7253450.00  6009140.00  6863403.01  6625790.00  6.288506e+06   \n",
       "57119  273537  5385979.98  4203980.00  3942680.00  4315550.00  4.325480e+06   \n",
       "45142  208906   667862.00   706938.77   659765.70   649248.11  6.002032e+05   \n",
       "\n",
       "           target_6      target_7      target_8      target_9  target_10  \\\n",
       "35878  1.230432e+06  1.261052e+06  1.112837e+06  1.072322e+06  1549971.5   \n",
       "8206   2.390572e+06  2.213829e+06  2.445307e+06  2.339461e+06  2567813.0   \n",
       "21752  6.197848e+06  5.980548e+06  5.951591e+06  5.837419e+06  5501714.0   \n",
       "57119  4.064960e+06  4.245505e+06  4.367194e+06  4.560838e+06  4320214.0   \n",
       "45142  6.147630e+05  6.279456e+05  6.172767e+05  6.166062e+05   668765.2   \n",
       "\n",
       "          target_11   target_12   target_13   target_14   target_15  \\\n",
       "35878  1.112837e+06  1853577.40  1675478.00  1857855.54  1927323.85   \n",
       "8206   2.445307e+06  2409474.78  2423715.00  2487183.20  2567565.20   \n",
       "21752  5.951591e+06  6182000.00  4682321.52  5997519.56  5723363.00   \n",
       "57119  4.367194e+06  3766934.00  3935076.40  3823788.00  4105526.40   \n",
       "45142  6.172767e+05   780833.99   729623.73   682499.00   656949.88   \n",
       "\n",
       "          target_16     target_17     target_18     target_19     target_20  \\\n",
       "35878  1.240243e+06  1.252453e+06  1.525968e+06  1.153804e+06  1.138488e+06   \n",
       "8206   2.397034e+06  2.281676e+06  2.067982e+06  2.449297e+06  2.228898e+06   \n",
       "21752  5.976128e+06  5.654491e+06  5.267483e+06  5.861966e+06  5.746475e+06   \n",
       "57119  4.062816e+06  4.270634e+06  3.775103e+06  4.360531e+06  4.110369e+06   \n",
       "45142  6.301359e+05  6.831025e+05  7.033232e+05  7.872769e+05  6.134115e+05   \n",
       "\n",
       "          target_21   target_22     target_23     target_24     target_25  \\\n",
       "35878  1.181135e+06  2005302.40  1.161568e+06  1.241160e+06  1.250388e+06   \n",
       "8206   2.334214e+06  2722221.40  2.337129e+06  2.219271e+06  2.379679e+06   \n",
       "21752  5.394554e+06  4521527.60  5.031057e+06  3.094411e+06  5.859379e+06   \n",
       "57119  4.234361e+06  3924330.66  4.269573e+06  4.385199e+06  4.197971e+06   \n",
       "45142  6.930746e+05   762960.00  7.007231e+05  6.522835e+05  6.879160e+05   \n",
       "\n",
       "       target_26     target_27     target_28     target_29  \n",
       "35878  1613333.5  1.116244e+06  1.000500e+06  1.043105e+06  \n",
       "8206   2349671.2  2.302341e+06  2.283136e+06  2.412432e+06  \n",
       "21752  4977345.5  6.461636e+06  5.850617e+06  6.322653e+06  \n",
       "57119  4153811.5  4.246556e+06  4.219397e+06  4.262970e+06  \n",
       "45142   720179.9  6.348433e+05  5.982549e+05  6.129948e+05  "
      ]
     },
     "execution_count": 105,
     "metadata": {},
     "output_type": "execute_result"
    }
   ],
   "source": [
    "test.sample(5)"
   ]
  },
  {
   "cell_type": "markdown",
   "metadata": {},
   "source": [
    "# Light gbm with grid search for stacking"
   ]
  },
  {
   "cell_type": "markdown",
   "metadata": {},
   "source": [
    "## Entrenamiento local"
   ]
  },
  {
   "cell_type": "code",
   "execution_count": 106,
   "metadata": {},
   "outputs": [],
   "source": [
    "train['precio_log'] = np.log(train['precio'])"
   ]
  },
  {
   "cell_type": "code",
   "execution_count": 107,
   "metadata": {},
   "outputs": [],
   "source": [
    "X = train.drop(['id','precio','precio_log'], axis=1) #set de datos\n",
    "y = train['precio_log'] #target"
   ]
  },
  {
   "cell_type": "code",
   "execution_count": 108,
   "metadata": {},
   "outputs": [],
   "source": [
    "seed = 42"
   ]
  },
  {
   "cell_type": "code",
   "execution_count": 109,
   "metadata": {},
   "outputs": [],
   "source": [
    "from sklearn.model_selection import train_test_split\n",
    "X_train, X_test, y_train, y_test = train_test_split(X, y, test_size=0.33, random_state=seed)"
   ]
  },
  {
   "cell_type": "code",
   "execution_count": 110,
   "metadata": {},
   "outputs": [],
   "source": [
    "from sklearn.model_selection import GridSearchCV\n",
    "import lightgbm as lgb\n",
    "gbm = lgb.LGBMRegressor(silent=False)\n",
    "\n",
    "param_dist = {\"boosting_type\":['gbdt','dart'],\n",
    "              \"max_depth\": [25,50,75],\n",
    "              \"learning_rate\" : [0.001,0.01,0.05,0.1],\n",
    "              \"num_leaves\": [300,900,1200],\n",
    "              \"n_estimators\": [50,100,200],\n",
    "             }\n",
    "\n",
    "grid_search = GridSearchCV(gbm, n_jobs=-1, param_grid=param_dist, cv = 3, scoring=\"neg_mean_absolute_error\", verbose=5)"
   ]
  },
  {
   "cell_type": "code",
   "execution_count": 111,
   "metadata": {},
   "outputs": [],
   "source": [
    "import time"
   ]
  },
  {
   "cell_type": "code",
   "execution_count": 112,
   "metadata": {},
   "outputs": [
    {
     "name": "stdout",
     "output_type": "stream",
     "text": [
      "Fitting 3 folds for each of 216 candidates, totalling 648 fits\n"
     ]
    },
    {
     "name": "stderr",
     "output_type": "stream",
     "text": [
      "[Parallel(n_jobs=-1)]: Using backend LokyBackend with 8 concurrent workers.\n",
      "[Parallel(n_jobs=-1)]: Done   2 tasks      | elapsed:   10.2s\n",
      "[Parallel(n_jobs=-1)]: Done  56 tasks      | elapsed:  4.2min\n",
      "[Parallel(n_jobs=-1)]: Done 146 tasks      | elapsed: 10.6min\n",
      "[Parallel(n_jobs=-1)]: Done 272 tasks      | elapsed: 18.2min\n",
      "[Parallel(n_jobs=-1)]: Done 434 tasks      | elapsed: 30.5min\n",
      "[Parallel(n_jobs=-1)]: Done 632 tasks      | elapsed: 47.1min\n",
      "[Parallel(n_jobs=-1)]: Done 648 out of 648 | elapsed: 49.0min finished\n"
     ]
    },
    {
     "name": "stdout",
     "output_type": "stream",
     "text": [
      "CPU times: user 29.9 s, sys: 925 ms, total: 30.9 s\n",
      "Wall time: 49min 6s\n"
     ]
    },
    {
     "data": {
      "text/plain": [
       "LGBMRegressor(boosting_type='gbdt', class_weight=None, colsample_bytree=1.0,\n",
       "              importance_type='split', learning_rate=0.05, max_depth=25,\n",
       "              min_child_samples=20, min_child_weight=0.001, min_split_gain=0.0,\n",
       "              n_estimators=200, n_jobs=-1, num_leaves=300, objective=None,\n",
       "              random_state=None, reg_alpha=0.0, reg_lambda=0.0, silent=False,\n",
       "              subsample=1.0, subsample_for_bin=200000, subsample_freq=0)"
      ]
     },
     "execution_count": 112,
     "metadata": {},
     "output_type": "execute_result"
    }
   ],
   "source": [
    "%%time\n",
    "grid_search.fit(X_train,y_train)\n",
    "grid_search.best_estimator_"
   ]
  },
  {
   "cell_type": "code",
   "execution_count": 113,
   "metadata": {},
   "outputs": [],
   "source": [
    "from sklearn.model_selection import GridSearchCV\n",
    "import lightgbm as lgb\n",
    "\n",
    "gbm_optimized = grid_search.best_estimator_"
   ]
  },
  {
   "cell_type": "code",
   "execution_count": 114,
   "metadata": {},
   "outputs": [],
   "source": [
    "#from sklearn.model_selection import GridSearchCV\n",
    "#import lightgbm as lgb\n",
    "\n",
    "#gbm_optimized = lgb.LGBMRegressor(boosting_type='gbdt', class_weight=None, colsample_bytree=1.0,\n",
    "#              importance_type='split', learning_rate=0.05, max_depth=25,\n",
    "#              min_child_samples=20, min_child_weight=0.001, min_split_gain=0.0,\n",
    "#              n_estimators=200, n_jobs=-1, num_leaves=300, objective=None,\n",
    "#              random_state=None, reg_alpha=0.0, reg_lambda=0.0, silent=False,\n",
    "#              subsample=1.0, subsample_for_bin=200000, subsample_freq=0)"
   ]
  },
  {
   "cell_type": "code",
   "execution_count": 115,
   "metadata": {},
   "outputs": [
    {
     "name": "stdout",
     "output_type": "stream",
     "text": [
      "CPU times: user 17.8 s, sys: 101 ms, total: 17.9 s\n",
      "Wall time: 2.41 s\n"
     ]
    },
    {
     "data": {
      "text/plain": [
       "LGBMRegressor(boosting_type='gbdt', class_weight=None, colsample_bytree=1.0,\n",
       "              importance_type='split', learning_rate=0.05, max_depth=25,\n",
       "              min_child_samples=20, min_child_weight=0.001, min_split_gain=0.0,\n",
       "              n_estimators=200, n_jobs=-1, num_leaves=300, objective=None,\n",
       "              random_state=None, reg_alpha=0.0, reg_lambda=0.0, silent=False,\n",
       "              subsample=1.0, subsample_for_bin=200000, subsample_freq=0)"
      ]
     },
     "execution_count": 115,
     "metadata": {},
     "output_type": "execute_result"
    }
   ],
   "source": [
    "%%time\n",
    "gbm_optimized.fit(X_train, y_train, sample_weight=None, init_score=None, eval_set=[(X_test,y_test)], eval_names=None,\n",
    "            eval_sample_weight=None, eval_init_score=None, eval_metric='mae', early_stopping_rounds=10,\n",
    "            verbose=False, feature_name='auto', callbacks=None)"
   ]
  },
  {
   "cell_type": "code",
   "execution_count": 116,
   "metadata": {},
   "outputs": [
    {
     "name": "stdout",
     "output_type": "stream",
     "text": [
      "0.2058977526229464\n"
     ]
    }
   ],
   "source": [
    "y_scores = gbm_optimized.predict(X_test, num_iteration=gbm_optimized.best_iteration_)\n",
    "\n",
    "from sklearn.metrics import mean_absolute_error\n",
    "\n",
    "print(mean_absolute_error(y_test, y_scores))"
   ]
  },
  {
   "cell_type": "code",
   "execution_count": 117,
   "metadata": {},
   "outputs": [
    {
     "name": "stdout",
     "output_type": "stream",
     "text": [
      "504360.5529469526\n"
     ]
    }
   ],
   "source": [
    "print(mean_absolute_error(np.exp(y_test), np.exp(y_scores)))"
   ]
  },
  {
   "cell_type": "markdown",
   "metadata": {},
   "source": [
    "## Entrenamiento con todos los datos para obtener predicciones a subir"
   ]
  },
  {
   "cell_type": "code",
   "execution_count": 118,
   "metadata": {},
   "outputs": [
    {
     "name": "stdout",
     "output_type": "stream",
     "text": [
      "CPU times: user 35.3 s, sys: 242 ms, total: 35.5 s\n",
      "Wall time: 4.66 s\n"
     ]
    },
    {
     "data": {
      "text/plain": [
       "LGBMRegressor(boosting_type='gbdt', class_weight=None, colsample_bytree=1.0,\n",
       "              importance_type='split', learning_rate=0.05, max_depth=25,\n",
       "              min_child_samples=20, min_child_weight=0.001, min_split_gain=0.0,\n",
       "              n_estimators=200, n_jobs=-1, num_leaves=300, objective=None,\n",
       "              random_state=None, reg_alpha=0.0, reg_lambda=0.0, silent=False,\n",
       "              subsample=1.0, subsample_for_bin=200000, subsample_freq=0)"
      ]
     },
     "execution_count": 118,
     "metadata": {},
     "output_type": "execute_result"
    }
   ],
   "source": [
    "%%time\n",
    "gbm_optimized.fit(X,y, sample_weight=None, init_score=None, eval_set=None, eval_names=None,\n",
    "            eval_sample_weight=None, eval_init_score=None, eval_metric='mae', early_stopping_rounds=None,\n",
    "            verbose=False, feature_name='auto', callbacks=None)"
   ]
  },
  {
   "cell_type": "code",
   "execution_count": 119,
   "metadata": {},
   "outputs": [],
   "source": [
    "# prediciendo valores posta...\n",
    "predictions = gbm_optimized.predict(test.drop(['id'],axis=1), num_iteration=gbm_optimized.best_iteration_)"
   ]
  },
  {
   "cell_type": "code",
   "execution_count": 120,
   "metadata": {},
   "outputs": [],
   "source": [
    "exp_predictions = np.exp(predictions)"
   ]
  },
  {
   "cell_type": "code",
   "execution_count": 121,
   "metadata": {},
   "outputs": [],
   "source": [
    "df = pd.DataFrame(data={'id':test['id'], 'target':exp_predictions})"
   ]
  },
  {
   "cell_type": "code",
   "execution_count": 122,
   "metadata": {},
   "outputs": [],
   "source": [
    "description = \"Final stacking 2\"\n",
    "save_submission(df, description=description)"
   ]
  },
  {
   "cell_type": "code",
   "execution_count": 123,
   "metadata": {},
   "outputs": [],
   "source": [
    "beep()"
   ]
  },
  {
   "cell_type": "code",
   "execution_count": null,
   "metadata": {},
   "outputs": [],
   "source": []
  }
 ],
 "metadata": {
  "kernelspec": {
   "display_name": "Python 3",
   "language": "python",
   "name": "python3"
  },
  "language_info": {
   "codemirror_mode": {
    "name": "ipython",
    "version": 3
   },
   "file_extension": ".py",
   "mimetype": "text/x-python",
   "name": "python",
   "nbconvert_exporter": "python",
   "pygments_lexer": "ipython3",
   "version": "3.7.0"
  }
 },
 "nbformat": 4,
 "nbformat_minor": 4
}
