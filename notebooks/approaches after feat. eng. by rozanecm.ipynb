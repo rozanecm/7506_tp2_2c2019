{
 "cells": [
  {
   "cell_type": "code",
   "execution_count": 1,
   "metadata": {},
   "outputs": [],
   "source": [
    "import pandas as pd\n",
    "import numpy as np\n",
    "\n",
    "train = pd.read_csv('../data/train.csv', dtype={'tipodepropiedad':'category', 'ciudad':'category', 'provincia':'category', 'id':'int32', 'antiguedad':'float16', 'habitaciones':'float16', 'garages':'float16', 'banos':'float16', 'metroscubiertos':'float16', 'metrostotales':'float16', 'idzona':'float16', 'lat':'float16', 'lng':'float16', 'gimnasio':'bool', 'usosmultiples':'bool', 'piscina':'bool', 'escuelascercanas':'bool', 'centroscomercialescercanos':'bool'}, parse_dates=['fecha'])\n",
    "test = pd.read_csv('../data/test.csv', dtype={'tipodepropiedad':'category', 'ciudad':'category', 'provincia':'category', 'id':'int32', 'antiguedad':'float16', 'habitaciones':'float16', 'garages':'float16', 'banos':'float16', 'metroscubiertos':'float16', 'metrostotales':'float16', 'idzona':'float16', 'lat':'float16', 'lng':'float16', 'gimnasio':'bool', 'usosmultiples':'bool', 'piscina':'bool', 'escuelascercanas':'bool', 'centroscomercialescercanos':'bool'}, parse_dates=['fecha'])\n",
    "\n",
    "rescued_coords = pd.read_csv('../data/rescueLatLongs.csv')\n",
    "\n",
    "def contar_amenities(row):\n",
    "    return row['gimnasio'] + row['usosmultiples'] + row['piscina'] + row['escuelascercanas'] + row['centroscomercialescercanos']\n",
    "\n",
    "train['cant_amenities'] = train.apply(lambda x: contar_amenities(x), axis=1)\n",
    "test['cant_amenities'] = test.apply(lambda x: contar_amenities(x), axis=1)\n",
    "\n",
    "def feature_fechas(df):\n",
    "    # Para entender lo de los senos y cosenos: https://ianlondon.github.io/blog/encoding-cyclical-features-24hour-time/\n",
    "    df['year'] = df['fecha'].dt.year\n",
    "    df['month'] = df['fecha'].dt.month\n",
    "    df['day'] = df['fecha'].dt.day\n",
    "    df['sin_month'] = np.sin(2*np.pi*df['month']/12)\n",
    "    df['cos_month'] = np.cos(2*np.pi*df['month']/12)\n",
    "    # tomo cant. de dias en mes: 31 en todos los casos. Para esto deberia servir bastante bien igual.\n",
    "    df['sin_day'] = np.sin(2*np.pi*df['day']/31)\n",
    "    df['cos_day'] = np.cos(2*np.pi*df['day']/31)\n",
    "    \n",
    "    df['dayofweek'] = df['fecha'].dt.dayofweek\n",
    "    df['sin_dayofweek'] = np.sin(2*np.pi*df['dayofweek']/7)\n",
    "    df['cos_dayofweek'] = np.cos(2*np.pi*df['dayofweek']/7)\n",
    "    \n",
    "    df['dayofyear'] = df['fecha'].dt.dayofyear\n",
    "    df['sin_dayofyear'] = np.sin(2*np.pi*df['dayofyear']/365)\n",
    "    df['cos_dayofyear'] = np.cos(2*np.pi*df['dayofyear']/365)\n",
    "    \n",
    "    \n",
    "#     df['days_in_month'] = df['fecha'].dt.days_in_month\n",
    "    df['daysinmonth'] = df['fecha'].dt.daysinmonth\n",
    "    df['is_leap_year'] = df['fecha'].dt.is_leap_year\n",
    "    df['is_month_end'] = df['fecha'].dt.is_month_end\n",
    "    df['is_month_start'] = df['fecha'].dt.is_month_start\n",
    "    df['is_quarter_end'] = df['fecha'].dt.is_quarter_end\n",
    "    df['is_quarter_start'] = df['fecha'].dt.is_quarter_start\n",
    "    df['is_year_end'] = df['fecha'].dt.is_year_end\n",
    "    df['is_year_start'] = df['fecha'].dt.is_year_start\n",
    "    \n",
    "#     df['week'] = df['fecha'].dt.week\n",
    "    df['weekofyear'] = df['fecha'].dt.weekofyear\n",
    "    df['sin_weekofyear'] = np.sin(2*np.pi*df['weekofyear']/53)\n",
    "    df['cos_weekofyear'] = np.cos(2*np.pi*df['weekofyear']/53)\n",
    "    \n",
    "    # no necesito mas las cols. originales de month y day.\n",
    "    df.drop(['month','day','dayofweek','dayofyear','weekofyear'], axis=1, inplace=True)\n",
    "    \n",
    "feature_fechas(train)\n",
    "feature_fechas(test)\n",
    "\n",
    "import itertools\n",
    "def two_set_bools(df, bool_features):\n",
    "    for combination in itertools.combinations(bool_features,2):\n",
    "        if combination[0] != combination[1]:\n",
    "            new_feature_name = combination[0] + \"_AND_\" + combination[1]\n",
    "            df[new_feature_name] = df[combination[0]] & df[combination[1]]\n",
    "            \n",
    "            new_feature_name = combination[0] + \"_OR_\" + combination[1]\n",
    "            df[new_feature_name] = df[combination[0]] | df[combination[1]]\n",
    "            \n",
    "            new_feature_name = combination[0] + \"_XOR_\" + combination[1]\n",
    "            df[new_feature_name] = df[combination[0]] ^ df[combination[1]]\n",
    "\n",
    "two_set_bools(train, ['gimnasio', 'usosmultiples', 'piscina', 'escuelascercanas', 'centroscomercialescercanos'])\n",
    "two_set_bools(test, ['gimnasio', 'usosmultiples', 'piscina', 'escuelascercanas', 'centroscomercialescercanos'])\n",
    "\n",
    "train['reatio_cubiertos_totales'] = train['metroscubiertos']/train['metrostotales']\n",
    "test['reatio_cubiertos_totales'] = test['metroscubiertos']/train['metrostotales']\n",
    "\n",
    "palabras_avenida = ['avenida', 'av']\n",
    "train['es_avenida'] = train['direccion'].fillna('no info').apply(lambda x: any(avenida_indicator in x.lower() for avenida_indicator in palabras_avenida))\n",
    "test['es_avenida'] = test['direccion'].fillna('no info').apply(lambda x: any(avenida_indicator in x.lower() for avenida_indicator in palabras_avenida))\n",
    "\n",
    "train['titulo'].fillna(\"\", inplace=True)\n",
    "\n",
    "train['titulo_cant_html_tags'] = train['titulo'].apply(lambda x: len(x.split('<'))-1)\n",
    "\n",
    "test['titulo'].fillna(\"\", inplace=True)\n",
    "\n",
    "test['titulo_cant_html_tags'] = test['titulo'].apply(lambda x: len(x.split('<'))-1)\n",
    "\n",
    "train['titulo_cant_palabras'] = train['titulo'].apply(lambda x: len(x.split()))\n",
    "\n",
    "test['titulo_cant_palabras'] = test['titulo'].apply(lambda x: len(x.split()))\n",
    "\n",
    "train['titulo_cant_palabras_unicas'] = train['titulo'].apply(lambda x: len(set(x.split())))\n",
    "\n",
    "test['titulo_cant_palabras_unicas'] = test['titulo'].apply(lambda x: len(set(x.split())))\n",
    "\n",
    "# Concepto traido de https://docs.featuretools.com/generated/nlp_primitives.DiversityScore.html#nlp_primitives.DiversityScore\n",
    "# Cito de la doc oficial:\n",
    "#         Given a list of strings, calculates the total number of unique words divided by the total number of words\n",
    "#         in order to give the text a score from 0-1 that indicates how unique the words used in it are.\n",
    "\n",
    "train['titulo_diversity_score'] = train['titulo_cant_palabras_unicas']/train['titulo_cant_palabras']\n",
    "\n",
    "test['titulo_diversity_score'] = test['titulo_cant_palabras_unicas']/test['titulo_cant_palabras']\n",
    "\n",
    "train['titulo_cant_caracteres'] = train['titulo'].apply(lambda x: len(x))\n",
    "\n",
    "test['titulo_cant_caracteres'] = test['titulo'].apply(lambda x: len(x))\n",
    "\n",
    "import re\n",
    "train['titulo_cant_signos_puntuacion'] = train['titulo'].apply(lambda x: len(re.split(\"['.', ',', '!', '?', '¿', '¡', '-']\",x)))\n",
    "\n",
    "test['titulo_cant_signos_puntuacion'] = test['titulo'].apply(lambda x: len(re.split(\"['.', ',', '!', '?', '¿', '¡', '-']\",x)))\n",
    "\n",
    "# source: https://stackoverflow.com/a/2979208\n",
    "import math\n",
    "\n",
    "def entropy(string):\n",
    "        \"Calculates the Shannon entropy of a string\"\n",
    "\n",
    "        # get probability of chars in string\n",
    "        prob = [ float(string.count(c)) / len(string) for c in dict.fromkeys(list(string)) ]\n",
    "\n",
    "        # calculate the entropy\n",
    "        entropy = - sum([ p * math.log(p) / math.log(2.0) for p in prob ])\n",
    "\n",
    "        return entropy\n",
    "\n",
    "train['titulo_entropy'] = train['titulo'].apply(lambda x: entropy(x))\n",
    "\n",
    "test['titulo_entropy'] = test['titulo'].apply(lambda x: entropy(x))\n",
    "\n",
    "train['titulo_mean_word_length'] = train['titulo'].apply(lambda x: np.mean([len(word) for word in x.split()] if x.split() else np.nan))\n",
    "\n",
    "test['titulo_mean_word_length'] = test['titulo'].apply(lambda x: np.mean([len(word) for word in x.split()] if x.split() else np.nan))\n",
    "\n",
    "train['descripcion'].fillna(\"\", inplace=True)\n",
    "\n",
    "train['descripcion_cant_html_tags'] = train['descripcion'].apply(lambda x: len(x.split('<'))-1)\n",
    "\n",
    "test['descripcion'].fillna(\"\", inplace=True)\n",
    "\n",
    "test['descripcion_cant_html_tags'] = test['descripcion'].apply(lambda x: len(x.split('<'))-1)\n",
    "\n",
    "train['descripcion_cant_palabras'] = train['descripcion'].apply(lambda x: len(x.split()))\n",
    "\n",
    "test['descripcion_cant_palabras'] = test['descripcion'].apply(lambda x: len(x.split()))\n",
    "\n",
    "train['descripcion_cant_palabras_unicas'] = train['descripcion'].apply(lambda x: len(set(x.split())))\n",
    "\n",
    "test['descripcion_cant_palabras_unicas'] = test['descripcion'].apply(lambda x: len(set(x.split())))\n",
    "\n",
    "# Concepto traido de https://docs.featuretools.com/generated/nlp_primitives.DiversityScore.html#nlp_primitives.DiversityScore\n",
    "# Cito de la doc oficial:\n",
    "#         Given a list of strings, calculates the total number of unique words divided by the total number of words\n",
    "#         in order to give the text a score from 0-1 that indicates how unique the words used in it are.\n",
    "\n",
    "train['descripcion_diversity_score'] = train['descripcion_cant_palabras_unicas']/train['descripcion_cant_palabras']\n",
    "\n",
    "test['descripcion_diversity_score'] = test['descripcion_cant_palabras_unicas']/test['descripcion_cant_palabras']\n",
    "\n",
    "train['descripcion_cant_caracteres'] = train['descripcion'].apply(lambda x: len(x))\n",
    "\n",
    "test['descripcion_cant_caracteres'] = test['descripcion'].apply(lambda x: len(x))\n",
    "\n",
    "import re\n",
    "train['descripcion_cant_signos_puntuacion'] = train['descripcion'].apply(lambda x: len(re.split(\"['.', ',', '!', '?', '¿', '¡', '-']\",x)))\n",
    "\n",
    "test['descripcion_cant_signos_puntuacion'] = test['descripcion'].apply(lambda x: len(re.split(\"['.', ',', '!', '?', '¿', '¡', '-']\",x)))\n",
    "\n",
    "# source: https://stackoverflow.com/a/2979208\n",
    "import math\n",
    "\n",
    "def entropy(string):\n",
    "        \"Calculates the Shannon entropy of a string\"\n",
    "\n",
    "        # get probability of chars in string\n",
    "        prob = [ float(string.count(c)) / len(string) for c in dict.fromkeys(list(string)) ]\n",
    "\n",
    "        # calculate the entropy\n",
    "        entropy = - sum([ p * math.log(p) / math.log(2.0) for p in prob ])\n",
    "\n",
    "        return entropy\n",
    "\n",
    "train['descripcion_entropy'] = train['descripcion'].apply(lambda x: entropy(x))\n",
    "\n",
    "test['descripcion_entropy'] = test['descripcion'].apply(lambda x: entropy(x))\n",
    "\n",
    "train['descripcion_mean_word_length'] = train['descripcion'].apply(lambda x: np.mean([len(word) for word in x.split()] if x.split() else np.nan))\n",
    "\n",
    "test['descripcion_mean_word_length'] = test['descripcion'].apply(lambda x: np.mean([len(word) for word in x.split()] if x.split() else np.nan))\n",
    "\n",
    "del rescued_coords"
   ]
  },
  {
   "cell_type": "code",
   "execution_count": 2,
   "metadata": {},
   "outputs": [],
   "source": [
    "# Define a seed, so all algorithms that accept a seed, take the same, for consistency reasons,\n",
    "# so everything can be replicated without problems random state\n",
    "seed=42"
   ]
  },
  {
   "cell_type": "code",
   "execution_count": 3,
   "metadata": {},
   "outputs": [],
   "source": [
    "from sklearn.model_selection import train_test_split\n",
    "X_train, X_test, y_train, y_test = train_test_split(train.drop('precio', axis=1), train['precio'], test_size=0.33, random_state=seed)"
   ]
  },
  {
   "cell_type": "code",
   "execution_count": 4,
   "metadata": {},
   "outputs": [],
   "source": [
    "# To save predictions.\n",
    "# There must be a directory ../predictions for this to work as expected.\n",
    "# source: https://gist.github.com/rozanecm/ee8333741db42b10158b3e0aff3f22aa\n",
    "import time\n",
    "def _get_filename(my_name, timestamp):\n",
    "    return \"../predictions/\" + timestamp + \" by \" + my_name + \".csv\"\n",
    "\n",
    "def _save_description(authors_name, timestamp, submission_description):\n",
    "    f = open(\"../predictions/\" + authors_name + \".txt\",\"a\")\n",
    "    f.write(timestamp + \": \" + submission_description + '\\n')\n",
    "    f.close()\n",
    "\n",
    "def save_submission(submission_df, authors_name=\"rozanecm\", description = \"no description.\", index=False, header=True):\n",
    "    timestamp = time.strftime(\"%Y.%m.%d - %H:%M:%S\")\n",
    "    submission_df.to_csv(_get_filename(authors_name, timestamp), index=index, header=header)\n",
    "    _save_description(authors_name, timestamp, description)"
   ]
  },
  {
   "cell_type": "markdown",
   "metadata": {},
   "source": [
    "# Approach 1: LightGBM with grid search (pero el anterior, no uno nuevo!)"
   ]
  },
  {
   "cell_type": "code",
   "execution_count": 5,
   "metadata": {},
   "outputs": [],
   "source": [
    "import lightgbm as lgb\n",
    "gbm_optimized = lgb.LGBMRegressor(boosting_type='gbdt', class_weight=None, colsample_bytree=1.0,\n",
    "              importance_type='split', learning_rate=0.05, max_depth=75,\n",
    "              min_child_samples=20, min_child_weight=0.001, min_split_gain=0.0,\n",
    "              n_estimators=200, n_jobs=-1, num_leaves=1200, objective=None,\n",
    "              random_state=None, reg_alpha=0.0, reg_lambda=0.0, silent=False,\n",
    "              subsample=1.0, subsample_for_bin=200000, subsample_freq=0)"
   ]
  },
  {
   "cell_type": "code",
   "execution_count": 8,
   "metadata": {},
   "outputs": [
    {
     "name": "stderr",
     "output_type": "stream",
     "text": [
      "/home/rozanecm/Documents/Univerza/UBA/7506 Organizacion de Datos/2c2019/tp2/venv/lib/python3.5/site-packages/lightgbm/basic.py:1247: UserWarning: categorical_feature in Dataset is overridden.\n",
      "New categorical_feature is ['ciudad', 'provincia', 'tipodepropiedad']\n",
      "  'New categorical_feature is {}'.format(sorted(list(categorical_feature))))\n"
     ]
    },
    {
     "name": "stdout",
     "output_type": "stream",
     "text": [
      "543916.1495199973\n"
     ]
    }
   ],
   "source": [
    "gbm_optimized.fit(X_train.drop(['id','fecha','titulo', 'descripcion', 'direccion'],axis=1), y_train, sample_weight=None, init_score=None, eval_set=[(X_test.drop(['id','fecha','titulo', 'descripcion', 'direccion'],axis=1),y_test)], eval_names=None,\n",
    "            eval_sample_weight=None, eval_init_score=None, eval_metric='mae', early_stopping_rounds=10,\n",
    "            verbose=False, feature_name='auto', categorical_feature=['tipodepropiedad', 'ciudad','provincia'], callbacks=None)\n",
    "\n",
    "y_scores = gbm_optimized.predict(X_test.drop(['id','fecha','titulo', 'descripcion', 'direccion'],axis=1), num_iteration=gbm_optimized.best_iteration_)\n",
    "\n",
    "from sklearn.metrics import mean_absolute_error\n",
    "\n",
    "print(mean_absolute_error(y_test, y_scores))"
   ]
  },
  {
   "cell_type": "markdown",
   "metadata": {},
   "source": [
    "## Entrenamiento con todos los datos para obtener predicciones a subir"
   ]
  },
  {
   "cell_type": "code",
   "execution_count": 9,
   "metadata": {},
   "outputs": [
    {
     "name": "stderr",
     "output_type": "stream",
     "text": [
      "/home/rozanecm/Documents/Univerza/UBA/7506 Organizacion de Datos/2c2019/tp2/venv/lib/python3.5/site-packages/lightgbm/basic.py:1247: UserWarning: categorical_feature in Dataset is overridden.\n",
      "New categorical_feature is ['ciudad', 'provincia', 'tipodepropiedad']\n",
      "  'New categorical_feature is {}'.format(sorted(list(categorical_feature))))\n"
     ]
    }
   ],
   "source": [
    "gbm_optimized.fit(train.drop(['id','fecha','titulo', 'descripcion', 'direccion','precio'],axis=1), train['precio'], sample_weight=None, init_score=None, eval_set=None, eval_names=None,\n",
    "            eval_sample_weight=None, eval_init_score=None, eval_metric='mae', early_stopping_rounds=None,\n",
    "            verbose=False, feature_name='auto', categorical_feature=['tipodepropiedad', 'ciudad','provincia'], callbacks=None)\n",
    "\n",
    "\n",
    "# prediciendo valores posta...\n",
    "predictions = gbm_optimized.predict(test.drop(['id','fecha','titulo', 'descripcion', 'direccion'],axis=1), num_iteration=gbm_optimized.best_iteration_)"
   ]
  },
  {
   "cell_type": "code",
   "execution_count": 10,
   "metadata": {},
   "outputs": [],
   "source": [
    "df = pd.DataFrame(data={'id':test['id'], 'target':predictions})"
   ]
  },
  {
   "cell_type": "code",
   "execution_count": 14,
   "metadata": {},
   "outputs": [],
   "source": [
    "description = \"1st approach with feat. eng.. LightGBM with grid search.\"\n",
    "save_submission(df, description=description)"
   ]
  },
  {
   "cell_type": "markdown",
   "metadata": {},
   "source": [
    "## Obtengamos prediccionse para todas las propiedades en nuestro train set"
   ]
  },
  {
   "cell_type": "code",
   "execution_count": 9,
   "metadata": {},
   "outputs": [
    {
     "name": "stderr",
     "output_type": "stream",
     "text": [
      "/home/rozanecm/Documents/Univerza/UBA/7506 Organizacion de Datos/2c2019/tp2/venv/lib/python3.5/site-packages/lightgbm/basic.py:1247: UserWarning: categorical_feature in Dataset is overridden.\n",
      "New categorical_feature is ['ciudad', 'provincia', 'tipodepropiedad']\n",
      "  'New categorical_feature is {}'.format(sorted(list(categorical_feature))))\n"
     ]
    },
    {
     "name": "stdout",
     "output_type": "stream",
     "text": [
      "542962.3400093812\n"
     ]
    },
    {
     "name": "stderr",
     "output_type": "stream",
     "text": [
      "/home/rozanecm/Documents/Univerza/UBA/7506 Organizacion de Datos/2c2019/tp2/venv/lib/python3.5/site-packages/lightgbm/basic.py:1247: UserWarning: categorical_feature in Dataset is overridden.\n",
      "New categorical_feature is ['ciudad', 'provincia', 'tipodepropiedad']\n",
      "  'New categorical_feature is {}'.format(sorted(list(categorical_feature))))\n"
     ]
    },
    {
     "name": "stdout",
     "output_type": "stream",
     "text": [
      "547436.3113737062\n"
     ]
    },
    {
     "name": "stderr",
     "output_type": "stream",
     "text": [
      "/home/rozanecm/Documents/Univerza/UBA/7506 Organizacion de Datos/2c2019/tp2/venv/lib/python3.5/site-packages/lightgbm/basic.py:1247: UserWarning: categorical_feature in Dataset is overridden.\n",
      "New categorical_feature is ['ciudad', 'provincia', 'tipodepropiedad']\n",
      "  'New categorical_feature is {}'.format(sorted(list(categorical_feature))))\n"
     ]
    },
    {
     "name": "stdout",
     "output_type": "stream",
     "text": [
      "544161.1319283972\n"
     ]
    }
   ],
   "source": [
    "from sklearn.model_selection import KFold\n",
    "from sklearn.metrics import mean_absolute_error\n",
    "kf = KFold(n_splits=3, shuffle=True, random_state=seed)\n",
    "\n",
    "df = pd.DataFrame([])\n",
    "\n",
    "# UPDATE THIS VALUE\n",
    "approach_numer = \"rozanecm_approach_1_with_feat_eng\"\n",
    "\n",
    "for train_index, test_index in kf.split(train):\n",
    "    # for loop copied from docs: https://scikit-learn.org/stable/modules/generated/sklearn.model_selection.KFold.html#sklearn.model_selection.KFold\n",
    "    X_train2, X_test2 = train.drop(['fecha','titulo', 'descripcion', 'direccion', 'precio'],axis=1).iloc[train_index], train.drop(['fecha','titulo', 'descripcion', 'direccion', 'precio'],axis=1).iloc[test_index]\n",
    "    y_train2, y_test2 = train['precio'][train_index], train['precio'][test_index]\n",
    "    \n",
    "    gbm_optimized.fit(X_train2.drop(['id'],axis=1), y_train2, sample_weight=None, init_score=None, eval_set=None, eval_names=None,\n",
    "                      eval_sample_weight=None, eval_init_score=None, eval_metric='mae', early_stopping_rounds=None,\n",
    "                      verbose=False, feature_name='auto', categorical_feature=['tipodepropiedad', 'ciudad','provincia'], callbacks=None)\n",
    "    y_scores = gbm_optimized.predict(X_test2.drop('id',axis=1), num_iteration=gbm_optimized.best_iteration_)\n",
    "    \n",
    "    print(mean_absolute_error(y_test2, y_scores))\n",
    "    \n",
    "    df = df.append(pd.DataFrame(data={'id':X_test2['id'], approach_numer:y_scores}))\n",
    "\n",
    "df.to_csv(\"../predictions/on_train_data/\" + approach_numer, index=False, header=True)"
   ]
  },
  {
   "cell_type": "markdown",
   "metadata": {},
   "source": [
    "# Approach 2"
   ]
  },
  {
   "cell_type": "code",
   "execution_count": 3,
   "metadata": {},
   "outputs": [
    {
     "name": "stdout",
     "output_type": "stream",
     "text": [
      "Fitting 3 folds for each of 9 candidates, totalling 27 fits\n"
     ]
    },
    {
     "name": "stderr",
     "output_type": "stream",
     "text": [
      "[Parallel(n_jobs=-1)]: Using backend LokyBackend with 4 concurrent workers.\n",
      "[Parallel(n_jobs=-1)]: Done  10 tasks      | elapsed:  3.6min\n",
      "[Parallel(n_jobs=-1)]: Done  27 out of  27 | elapsed: 11.3min finished\n"
     ]
    },
    {
     "data": {
      "text/plain": [
       "LGBMRegressor(boosting_type='gbdt', class_weight=None, colsample_bytree=1.0,\n",
       "              importance_type='split', learning_rate=0.1, max_depth=75,\n",
       "              min_child_samples=20, min_child_weight=0.001, min_split_gain=0.0,\n",
       "              n_estimators=100, n_jobs=-1, num_leaves=1200, objective=None,\n",
       "              random_state=None, reg_alpha=0.0, reg_lambda=0.0, silent=False,\n",
       "              subsample=1.0, subsample_for_bin=200000, subsample_freq=0)"
      ]
     },
     "execution_count": 3,
     "metadata": {},
     "output_type": "execute_result"
    }
   ],
   "source": [
    "from sklearn.model_selection import GridSearchCV\n",
    "import lightgbm as lgb\n",
    "gbm = lgb.LGBMRegressor(silent=False)\n",
    "\n",
    "param_dist = {\"max_depth\": [25,50, 75],\n",
    "#               \"learning_rate\" : [0.01,0.05,0.1],\n",
    "              \"num_leaves\": [300,900,1200],\n",
    "#               \"n_estimators\": [100,200,300]\n",
    "             }\n",
    "\n",
    "grid_search = GridSearchCV(gbm, n_jobs=-1, param_grid=param_dist, cv = 3, scoring=\"neg_mean_absolute_error\", verbose=5)\n",
    "grid_search.fit(train.drop(['id','fecha','titulo', 'descripcion', 'direccion','precio'],axis=1), train['precio'])\n",
    "grid_search.best_estimator_"
   ]
  },
  {
   "cell_type": "code",
   "execution_count": 13,
   "metadata": {},
   "outputs": [],
   "source": [
    "gbm_optimized = lgb.LGBMRegressor(boosting_type='gbdt', class_weight=None, colsample_bytree=1.0,\n",
    "              importance_type='split', learning_rate=0.05, max_depth=75,\n",
    "              min_child_samples=20, min_child_weight=0.001, min_split_gain=0.0,\n",
    "              n_estimators=300, n_jobs=-1, num_leaves=1200, objective=None,\n",
    "              random_state=seed, reg_alpha=0.0, reg_lambda=0.0, silent=False,\n",
    "              subsample=1.0, subsample_for_bin=200000, subsample_freq=0)"
   ]
  },
  {
   "cell_type": "code",
   "execution_count": null,
   "metadata": {},
   "outputs": [],
   "source": [
    "gbm_optimized.fit(X_train.drop(['id','fecha','titulo', 'descripcion', 'direccion'],axis=1), y_train, sample_weight=None, init_score=None, eval_set=[(X_test.drop(['id','fecha','titulo', 'descripcion', 'direccion'],axis=1),y_test)], eval_names=None,\n",
    "            eval_sample_weight=None, eval_init_score=None, eval_metric='mae', early_stopping_rounds=10,\n",
    "            verbose=False, feature_name='auto', categorical_feature=['tipodepropiedad', 'ciudad','provincia'], callbacks=None)\n",
    "\n",
    "y_scores = gbm_optimized.predict(X_test.drop(['id','fecha','titulo', 'descripcion', 'direccion'],axis=1)\n",
    "#                                  , num_iteration=gbm_optimized.best_iteration_\n",
    "                                )\n",
    "\n",
    "from sklearn.metrics import mean_absolute_error\n",
    "\n",
    "print(mean_absolute_error(y_test, y_scores))"
   ]
  },
  {
   "cell_type": "markdown",
   "metadata": {},
   "source": [
    "## Entrenamiento con todos los datos para obtener predicciones a subir"
   ]
  },
  {
   "cell_type": "code",
   "execution_count": 10,
   "metadata": {},
   "outputs": [],
   "source": [
    "gbm_optimized.fit(train.drop(['id','fecha','titulo', 'descripcion', 'direccion','precio'],axis=1), train['precio'], sample_weight=None, init_score=None, eval_set=None, eval_names=None,\n",
    "            eval_sample_weight=None, eval_init_score=None, eval_metric='mae', early_stopping_rounds=None,\n",
    "            verbose=False, feature_name='auto', categorical_feature=['tipodepropiedad', 'ciudad','provincia'], callbacks=None)\n",
    "\n",
    "\n",
    "# prediciendo valores posta...\n",
    "predictions = gbm_optimized.predict(test.drop(['id','fecha','titulo', 'descripcion', 'direccion'],axis=1), num_iteration=gbm_optimized.best_iteration_)"
   ]
  },
  {
   "cell_type": "code",
   "execution_count": 11,
   "metadata": {},
   "outputs": [],
   "source": [
    "df = pd.DataFrame(data={'id':test['id'], 'target':predictions})"
   ]
  },
  {
   "cell_type": "code",
   "execution_count": 12,
   "metadata": {},
   "outputs": [],
   "source": [
    "description = \"2nd approach with feat. eng. catboost with grid search.\"\n",
    "save_submission(df, description=description)"
   ]
  },
  {
   "cell_type": "markdown",
   "metadata": {},
   "source": [
    "## Obtengamos prediccionse para todas las propiedades en nuestro train set"
   ]
  },
  {
   "cell_type": "code",
   "execution_count": 14,
   "metadata": {},
   "outputs": [
    {
     "name": "stdout",
     "output_type": "stream",
     "text": [
      "539510.8266631352\n"
     ]
    },
    {
     "name": "stderr",
     "output_type": "stream",
     "text": [
      "/home/rozanecm/Documents/Univerza/UBA/7506 Organizacion de Datos/2c2019/tp2/venv/lib/python3.5/site-packages/lightgbm/basic.py:1247: UserWarning: categorical_feature in Dataset is overridden.\n",
      "New categorical_feature is ['ciudad', 'provincia', 'tipodepropiedad']\n",
      "  'New categorical_feature is {}'.format(sorted(list(categorical_feature))))\n"
     ]
    },
    {
     "name": "stdout",
     "output_type": "stream",
     "text": [
      "544054.9531649371\n"
     ]
    },
    {
     "name": "stderr",
     "output_type": "stream",
     "text": [
      "/home/rozanecm/Documents/Univerza/UBA/7506 Organizacion de Datos/2c2019/tp2/venv/lib/python3.5/site-packages/lightgbm/basic.py:1247: UserWarning: categorical_feature in Dataset is overridden.\n",
      "New categorical_feature is ['ciudad', 'provincia', 'tipodepropiedad']\n",
      "  'New categorical_feature is {}'.format(sorted(list(categorical_feature))))\n"
     ]
    },
    {
     "name": "stdout",
     "output_type": "stream",
     "text": [
      "540778.0632067826\n"
     ]
    }
   ],
   "source": [
    "from sklearn.model_selection import KFold\n",
    "from sklearn.metrics import mean_absolute_error\n",
    "kf = KFold(n_splits=3, shuffle=True, random_state=seed)\n",
    "\n",
    "df = pd.DataFrame([])\n",
    "\n",
    "# UPDATE THIS VALUE\n",
    "approach_numer = \"rozanecm_approach_2_with_feat_eng\"\n",
    "\n",
    "for train_index, test_index in kf.split(train):\n",
    "    # for loop copied from docs: https://scikit-learn.org/stable/modules/generated/sklearn.model_selection.KFold.html#sklearn.model_selection.KFold\n",
    "    X_train2, X_test2 = train.drop(['fecha','titulo', 'descripcion', 'direccion', 'precio'],axis=1).iloc[train_index], train.drop(['fecha','titulo', 'descripcion', 'direccion', 'precio'],axis=1).iloc[test_index]\n",
    "    y_train2, y_test2 = train['precio'][train_index], train['precio'][test_index]\n",
    "    \n",
    "    gbm_optimized.fit(X_train2.drop(['id'],axis=1), y_train2, sample_weight=None, init_score=None, eval_set=None, eval_names=None,\n",
    "                      eval_sample_weight=None, eval_init_score=None, eval_metric='mae', early_stopping_rounds=None,\n",
    "                      verbose=False, feature_name='auto', categorical_feature=['tipodepropiedad', 'ciudad','provincia'], callbacks=None)\n",
    "    y_scores = gbm_optimized.predict(X_test2.drop('id',axis=1), num_iteration=gbm_optimized.best_iteration_)\n",
    "    \n",
    "    print(mean_absolute_error(y_test2, y_scores))\n",
    "    \n",
    "    df = df.append(pd.DataFrame(data={'id':X_test2['id'], approach_numer:y_scores}))\n",
    "\n",
    "df.to_csv(\"../predictions/on_train_data/\" + approach_numer, index=False, header=True)"
   ]
  },
  {
   "cell_type": "markdown",
   "metadata": {},
   "source": [
    "# Approach 3: LigthGBM with grid search"
   ]
  },
  {
   "cell_type": "code",
   "execution_count": 31,
   "metadata": {},
   "outputs": [
    {
     "name": "stdout",
     "output_type": "stream",
     "text": [
      "Fitting 3 folds for each of 96 candidates, totalling 288 fits\n"
     ]
    },
    {
     "name": "stderr",
     "output_type": "stream",
     "text": [
      "[Parallel(n_jobs=-1)]: Using backend LokyBackend with 4 concurrent workers.\n",
      "[Parallel(n_jobs=-1)]: Done  10 tasks      | elapsed:  1.2min\n",
      "/home/rozanecm/Documents/Univerza/UBA/7506 Organizacion de Datos/2c2019/tp2/venv/lib/python3.5/site-packages/joblib/externals/loky/process_executor.py:706: UserWarning: A worker stopped while some jobs were given to the executor. This can be caused by a too short worker timeout or by a memory leak.\n",
      "  \"timeout or by a memory leak.\", UserWarning\n",
      "[Parallel(n_jobs=-1)]: Done  64 tasks      | elapsed:  7.7min\n",
      "[Parallel(n_jobs=-1)]: Done 154 tasks      | elapsed: 20.9min\n",
      "[Parallel(n_jobs=-1)]: Done 280 tasks      | elapsed: 61.7min\n",
      "[Parallel(n_jobs=-1)]: Done 288 out of 288 | elapsed: 64.7min finished\n"
     ]
    },
    {
     "name": "stdout",
     "output_type": "stream",
     "text": [
      "LGBMRegressor(boosting_type='gbdt', class_weight=None, colsample_bytree=1.0,\n",
      "              importance_type='split', learning_rate=0.15, max_depth=4,\n",
      "              min_child_samples=20, min_child_weight=0.001, min_split_gain=0.0,\n",
      "              n_estimators=300, n_jobs=-1, num_leaves=300, objective=None,\n",
      "              random_state=42, reg_alpha=0.0, reg_lambda=0.0, silent=False,\n",
      "              subsample=1.0, subsample_for_bin=200000, subsample_freq=1)\n"
     ]
    }
   ],
   "source": [
    "from sklearn.model_selection import GridSearchCV\n",
    "import lightgbm as lgb\n",
    "gbm = lgb.LGBMRegressor(n_jobs=-1,silent=False, random_state=seed)\n",
    "\n",
    "param_dist = {'boosting_type':['gbdt','dart'],\n",
    "              'num_leaves':[10],\n",
    "              'max_depth':[4],\n",
    "              'learning_rate':[0.05,0.15],\n",
    "              'n_estimators':[200,300],\n",
    "              'subsample':[0.8,1.0],\n",
    "              'subsample_freq':[1],\n",
    "              \"num_leaves\": [300,900,1200],\n",
    "              'colsample_bytree':[0.8,1.0],}\n",
    "\n",
    "# param_dist = {\"max_depth\": [25,50, 75],\n",
    "#               \"learning_rate\" : [0.01,0.05,0.1],\n",
    "#               \"num_leaves\": [300,900,1200],\n",
    "#               \"n_estimators\": [50,100,200]\n",
    "#              }\n",
    "\n",
    "grid_search = GridSearchCV(gbm, n_jobs=-1, param_grid=param_dist, cv = 3, scoring=\"neg_mean_absolute_error\", verbose=5)\n",
    "grid_search.fit(train.drop(['id','fecha','titulo', 'descripcion', 'direccion','precio'],axis=1), train['precio'])\n",
    "print(grid_search.best_estimator_)"
   ]
  },
  {
   "cell_type": "code",
   "execution_count": 18,
   "metadata": {},
   "outputs": [],
   "source": [
    "gbm_optimized = lgb.LGBMRegressor(boosting_type='dart', class_weight=None, colsample_bytree=0.8,\n",
    "              importance_type='split', learning_rate=0.05, max_depth=4,\n",
    "              min_child_samples=20, min_child_weight=0.001, min_split_gain=0.0,\n",
    "              n_estimators=200, n_jobs=-1, num_leaves=10, objective=None,\n",
    "              random_state=42, reg_alpha=0.0, reg_lambda=0.0, silent=False,\n",
    "              subsample=0.8, subsample_for_bin=200000, subsample_freq=1)"
   ]
  },
  {
   "cell_type": "code",
   "execution_count": 22,
   "metadata": {},
   "outputs": [],
   "source": [
    "gbm_optimized = lgb.LGBMRegressor(boosting_type='dart', class_weight=None, colsample_bytree=1.0,\n",
    "              importance_type='split', learning_rate=0.15, max_depth=4,\n",
    "              min_child_samples=20, min_child_weight=0.001, min_split_gain=0.0,\n",
    "              n_estimators=300, n_jobs=-1, num_leaves=10, objective=None,\n",
    "              random_state=42, reg_alpha=0.0, reg_lambda=0.0, silent=False,\n",
    "              subsample=1.0, subsample_for_bin=200000, subsample_freq=1)"
   ]
  },
  {
   "cell_type": "code",
   "execution_count": 29,
   "metadata": {},
   "outputs": [],
   "source": [
    "gbm_optimized = lgb.LGBMRegressor(boosting_type='dart', class_weight=None, colsample_bytree=1.0,\n",
    "              importance_type='split', learning_rate=0.15, max_depth=4,\n",
    "              min_child_samples=20, min_child_weight=0.001, min_split_gain=0.0,\n",
    "              n_estimators=300, n_jobs=-1, num_leaves=300, objective=None,\n",
    "              random_state=42, reg_alpha=0.0, reg_lambda=0.0, silent=False,\n",
    "              subsample=1.0, subsample_for_bin=200000, subsample_freq=1)"
   ]
  },
  {
   "cell_type": "code",
   "execution_count": 15,
   "metadata": {},
   "outputs": [],
   "source": [
    "gbm_optimized = lgb.LGBMRegressor(boosting_type='gbdt', class_weight=None, colsample_bytree=1.0,\n",
    "              importance_type='split', learning_rate=0.15, max_depth=4,\n",
    "              min_child_samples=20, min_child_weight=0.001, min_split_gain=0.0,\n",
    "              n_estimators=300, n_jobs=-1, num_leaves=300, objective=None,\n",
    "              random_state=42, reg_alpha=0.0, reg_lambda=0.0, silent=False,\n",
    "              subsample=1.0, subsample_for_bin=200000, subsample_freq=1)"
   ]
  },
  {
   "cell_type": "code",
   "execution_count": 33,
   "metadata": {},
   "outputs": [
    {
     "name": "stderr",
     "output_type": "stream",
     "text": [
      "/home/rozanecm/Documents/Univerza/UBA/7506 Organizacion de Datos/2c2019/tp2/venv/lib/python3.5/site-packages/lightgbm/basic.py:1247: UserWarning: categorical_feature in Dataset is overridden.\n",
      "New categorical_feature is ['ciudad', 'provincia', 'tipodepropiedad']\n",
      "  'New categorical_feature is {}'.format(sorted(list(categorical_feature))))\n"
     ]
    },
    {
     "name": "stdout",
     "output_type": "stream",
     "text": [
      "591294.1897764989\n"
     ]
    }
   ],
   "source": [
    "gbm_optimized.fit(X_train.drop(['id','fecha','titulo', 'descripcion', 'direccion'],axis=1), y_train, sample_weight=None, init_score=None, eval_set=[(X_test.drop(['id','fecha','titulo', 'descripcion', 'direccion'],axis=1),y_test)], eval_names=None,\n",
    "            eval_sample_weight=None, eval_init_score=None, eval_metric='mae', early_stopping_rounds=10,\n",
    "            verbose=False, feature_name='auto', categorical_feature=['tipodepropiedad', 'ciudad','provincia'], callbacks=None)\n",
    "\n",
    "y_scores = gbm_optimized.predict(X_test.drop(['id','fecha','titulo', 'descripcion', 'direccion'],axis=1), num_iteration=gbm_optimized.best_iteration_)\n",
    "\n",
    "from sklearn.metrics import mean_absolute_error\n",
    "\n",
    "print(mean_absolute_error(y_test, y_scores))"
   ]
  },
  {
   "cell_type": "markdown",
   "metadata": {},
   "source": [
    "prev: 615"
   ]
  },
  {
   "cell_type": "markdown",
   "metadata": {},
   "source": [
    "## Entrenamiento con todos los datos para obtener predicciones a subir"
   ]
  },
  {
   "cell_type": "code",
   "execution_count": 34,
   "metadata": {},
   "outputs": [
    {
     "name": "stderr",
     "output_type": "stream",
     "text": [
      "/home/rozanecm/Documents/Univerza/UBA/7506 Organizacion de Datos/2c2019/tp2/venv/lib/python3.5/site-packages/lightgbm/basic.py:1247: UserWarning: categorical_feature in Dataset is overridden.\n",
      "New categorical_feature is ['ciudad', 'provincia', 'tipodepropiedad']\n",
      "  'New categorical_feature is {}'.format(sorted(list(categorical_feature))))\n"
     ]
    }
   ],
   "source": [
    "gbm_optimized.fit(train.drop(['id','fecha','titulo', 'descripcion', 'direccion','precio'],axis=1), train['precio'], sample_weight=None, init_score=None, eval_set=None, eval_names=None,\n",
    "            eval_sample_weight=None, eval_init_score=None, eval_metric='mae', early_stopping_rounds=None,\n",
    "            verbose=False, feature_name='auto', categorical_feature=['tipodepropiedad', 'ciudad','provincia'], callbacks=None)\n",
    "\n",
    "\n",
    "# prediciendo valores posta...\n",
    "predictions = gbm_optimized.predict(test.drop(['id','fecha','titulo', 'descripcion', 'direccion'],axis=1), num_iteration=gbm_optimized.best_iteration_)"
   ]
  },
  {
   "cell_type": "code",
   "execution_count": 35,
   "metadata": {},
   "outputs": [],
   "source": [
    "df = pd.DataFrame(data={'id':test['id'], 'target':predictions})"
   ]
  },
  {
   "cell_type": "code",
   "execution_count": 36,
   "metadata": {},
   "outputs": [],
   "source": [
    "description = \"3rd approach with feat. eng. LightGBM with grid search done locally, now done with all train set.\"\n",
    "save_submission(df, description=description)"
   ]
  },
  {
   "cell_type": "markdown",
   "metadata": {},
   "source": [
    "## Obtengamos prediccionse para todas las propiedades en nuestro train set"
   ]
  },
  {
   "cell_type": "code",
   "execution_count": 16,
   "metadata": {},
   "outputs": [
    {
     "name": "stderr",
     "output_type": "stream",
     "text": [
      "/home/rozanecm/Documents/Univerza/UBA/7506 Organizacion de Datos/2c2019/tp2/venv/lib/python3.5/site-packages/lightgbm/basic.py:1247: UserWarning: categorical_feature in Dataset is overridden.\n",
      "New categorical_feature is ['ciudad', 'provincia', 'tipodepropiedad']\n",
      "  'New categorical_feature is {}'.format(sorted(list(categorical_feature))))\n"
     ]
    },
    {
     "name": "stdout",
     "output_type": "stream",
     "text": [
      "592524.9090233747\n"
     ]
    },
    {
     "name": "stderr",
     "output_type": "stream",
     "text": [
      "/home/rozanecm/Documents/Univerza/UBA/7506 Organizacion de Datos/2c2019/tp2/venv/lib/python3.5/site-packages/lightgbm/basic.py:1247: UserWarning: categorical_feature in Dataset is overridden.\n",
      "New categorical_feature is ['ciudad', 'provincia', 'tipodepropiedad']\n",
      "  'New categorical_feature is {}'.format(sorted(list(categorical_feature))))\n"
     ]
    },
    {
     "name": "stdout",
     "output_type": "stream",
     "text": [
      "596025.7391079679\n"
     ]
    },
    {
     "name": "stderr",
     "output_type": "stream",
     "text": [
      "/home/rozanecm/Documents/Univerza/UBA/7506 Organizacion de Datos/2c2019/tp2/venv/lib/python3.5/site-packages/lightgbm/basic.py:1247: UserWarning: categorical_feature in Dataset is overridden.\n",
      "New categorical_feature is ['ciudad', 'provincia', 'tipodepropiedad']\n",
      "  'New categorical_feature is {}'.format(sorted(list(categorical_feature))))\n"
     ]
    },
    {
     "name": "stdout",
     "output_type": "stream",
     "text": [
      "592995.6456958664\n"
     ]
    }
   ],
   "source": [
    "from sklearn.model_selection import KFold\n",
    "from sklearn.metrics import mean_absolute_error\n",
    "kf = KFold(n_splits=3, shuffle=True, random_state=seed)\n",
    "\n",
    "df = pd.DataFrame([])\n",
    "\n",
    "# UPDATE THIS VALUE\n",
    "approach_numer = \"rozanecm_approach_3_with_feat_eng\"\n",
    "\n",
    "for train_index, test_index in kf.split(train):\n",
    "    # for loop copied from docs: https://scikit-learn.org/stable/modules/generated/sklearn.model_selection.KFold.html#sklearn.model_selection.KFold\n",
    "    X_train2, X_test2 = train.drop(['fecha','titulo', 'descripcion', 'direccion', 'precio'],axis=1).iloc[train_index], train.drop(['fecha','titulo', 'descripcion', 'direccion', 'precio'],axis=1).iloc[test_index]\n",
    "    y_train2, y_test2 = train['precio'][train_index], train['precio'][test_index]\n",
    "    \n",
    "    gbm_optimized.fit(X_train2.drop(['id'],axis=1), y_train2, sample_weight=None, init_score=None, eval_set=None, eval_names=None,\n",
    "                      eval_sample_weight=None, eval_init_score=None, eval_metric='mae', early_stopping_rounds=None,\n",
    "                      verbose=False, feature_name='auto', categorical_feature=['tipodepropiedad', 'ciudad','provincia'], callbacks=None)\n",
    "    y_scores = gbm_optimized.predict(X_test2.drop('id',axis=1), num_iteration=gbm_optimized.best_iteration_)\n",
    "    \n",
    "    print(mean_absolute_error(y_test2, y_scores))\n",
    "    \n",
    "    df = df.append(pd.DataFrame(data={'id':X_test2['id'], approach_numer:y_scores}))\n",
    "\n",
    "df.to_csv(\"../predictions/on_train_data/\" + approach_numer, index=False, header=True)"
   ]
  },
  {
   "cell_type": "markdown",
   "metadata": {},
   "source": [
    "# Feature importance"
   ]
  },
  {
   "cell_type": "markdown",
   "metadata": {},
   "source": [
    "Como el agregado de features no esta ayudando a mejorar el score, hagamos un estudio de feature importance."
   ]
  },
  {
   "cell_type": "code",
   "execution_count": 8,
   "metadata": {},
   "outputs": [],
   "source": [
    "import matplotlib.pyplot as plt"
   ]
  },
  {
   "cell_type": "code",
   "execution_count": 2,
   "metadata": {},
   "outputs": [],
   "source": [
    "from sklearn.ensemble import RandomForestRegressor"
   ]
  },
  {
   "cell_type": "code",
   "execution_count": 3,
   "metadata": {},
   "outputs": [],
   "source": [
    "# inf. values don't make sense. I think it's preferable to treat them as nans directly.\n",
    "train.replace([np.inf, -np.inf], np.nan, inplace=True)\n",
    "test.replace([np.inf, -np.inf], np.nan, inplace=True)"
   ]
  },
  {
   "cell_type": "code",
   "execution_count": 29,
   "metadata": {},
   "outputs": [
    {
     "data": {
      "text/plain": [
       "RandomForestRegressor(bootstrap=True, criterion='mse', max_depth=None,\n",
       "                      max_features='auto', max_leaf_nodes=None,\n",
       "                      min_impurity_decrease=0.0, min_impurity_split=None,\n",
       "                      min_samples_leaf=1, min_samples_split=2,\n",
       "                      min_weight_fraction_leaf=0.0, n_estimators=100,\n",
       "                      n_jobs=None, oob_score=False, random_state=42, verbose=0,\n",
       "                      warm_start=False)"
      ]
     },
     "execution_count": 29,
     "metadata": {},
     "output_type": "execute_result"
    }
   ],
   "source": [
    "rfr = RandomForestRegressor(random_state=seed, n_estimators=100)\n",
    "rfr.fit(train.drop(['id','fecha','titulo', 'descripcion', 'direccion','tipodepropiedad','ciudad','provincia','precio'],axis=1).replace([np.nan], 0), train['precio'])"
   ]
  },
  {
   "cell_type": "code",
   "execution_count": 30,
   "metadata": {},
   "outputs": [],
   "source": [
    "df_feat_importance = pd.DataFrame(data={'feat_name':train.drop(['id','fecha','titulo', 'descripcion', 'direccion','tipodepropiedad','ciudad','provincia','precio'],axis=1).columns,'feat_importance':rfr.feature_importances_}).sort_values('feat_importance', ascending=False).reset_index(drop=True)"
   ]
  },
  {
   "cell_type": "code",
   "execution_count": 31,
   "metadata": {},
   "outputs": [
    {
     "data": {
      "image/png": "[encoded data removed]",
      "text/plain": [
       "<Figure size 1152x1440 with 1 Axes>"
      ]
     },
     "metadata": {
      "needs_background": "light"
     },
     "output_type": "display_data"
    }
   ],
   "source": [
    "df_feat_importance.plot(x='feat_name',y='feat_importance',kind='barh', figsize=(16,20));"
   ]
  },
  {
   "cell_type": "code",
   "execution_count": 32,
   "metadata": {},
   "outputs": [
    {
     "data": {
      "text/html": [
       "<div>\n",
       "<style scoped>\n",
       "    .dataframe tbody tr th:only-of-type {\n",
       "        vertical-align: middle;\n",
       "    }\n",
       "\n",
       "    .dataframe tbody tr th {\n",
       "        vertical-align: top;\n",
       "    }\n",
       "\n",
       "    .dataframe thead th {\n",
       "        text-align: right;\n",
       "    }\n",
       "</style>\n",
       "<table border=\"1\" class=\"dataframe\">\n",
       "  <thead>\n",
       "    <tr style=\"text-align: right;\">\n",
       "      <th></th>\n",
       "      <th>feat_importance</th>\n",
       "      <th>feat_name</th>\n",
       "    </tr>\n",
       "  </thead>\n",
       "  <tbody>\n",
       "    <tr>\n",
       "      <th>40</th>\n",
       "      <td>0.001685</td>\n",
       "      <td>cant_amenities</td>\n",
       "    </tr>\n",
       "  </tbody>\n",
       "</table>\n",
       "</div>"
      ],
      "text/plain": [
       "    feat_importance       feat_name\n",
       "40         0.001685  cant_amenities"
      ]
     },
     "execution_count": 32,
     "metadata": {},
     "output_type": "execute_result"
    }
   ],
   "source": [
    "df_feat_importance.loc[df_feat_importance['feat_name'] == 'cant_amenities']"
   ]
  },
  {
   "cell_type": "code",
   "execution_count": 38,
   "metadata": {},
   "outputs": [
    {
     "data": {
      "text/plain": [
       "array(['metroscubiertos', 'idzona', 'banos', 'metrostotales',\n",
       "       'reatio_cubiertos_totales', 'habitaciones', 'lat', 'antiguedad',\n",
       "       'titulo_mean_word_length', 'year', 'descripcion_entropy',\n",
       "       'descripcion_mean_word_length', 'titulo_entropy',\n",
       "       'descripcion_diversity_score', 'lng', 'sin_day', 'cos_dayofyear',\n",
       "       'sin_dayofyear', 'titulo_cant_caracteres',\n",
       "       'descripcion_cant_caracteres', 'cos_day',\n",
       "       'descripcion_cant_signos_puntuacion',\n",
       "       'descripcion_cant_palabras_unicas', 'garages', 'sin_weekofyear',\n",
       "       'descripcion_cant_palabras', 'sin_dayofweek',\n",
       "       'titulo_cant_signos_puntuacion', 'cos_weekofyear',\n",
       "       'titulo_diversity_score', 'descripcion_cant_html_tags',\n",
       "       'gimnasio_AND_centroscomercialescercanos', 'titulo_cant_palabras',\n",
       "       'cos_dayofweek', 'titulo_cant_palabras_unicas', 'cos_month',\n",
       "       'gimnasio', 'sin_month', 'gimnasio_AND_piscina', 'daysinmonth',\n",
       "       'cant_amenities'], dtype=object)"
      ]
     },
     "execution_count": 38,
     "metadata": {},
     "output_type": "execute_result"
    }
   ],
   "source": [
    "df_feat_importance.iloc[:41]['feat_name'].values"
   ]
  },
  {
   "cell_type": "markdown",
   "metadata": {},
   "source": [
    "# Approach 4: LigthGBM with grid search after obtaining most important features."
   ]
  },
  {
   "cell_type": "code",
   "execution_count": 46,
   "metadata": {},
   "outputs": [],
   "source": [
    "train2 = train[['metroscubiertos', 'idzona', 'banos', 'metrostotales',\n",
    "       'reatio_cubiertos_totales', 'habitaciones', 'lat', 'antiguedad',\n",
    "       'titulo_mean_word_length', 'year', 'descripcion_entropy',\n",
    "       'descripcion_mean_word_length', 'titulo_entropy',\n",
    "       'descripcion_diversity_score', 'lng', 'sin_day', 'cos_dayofyear',\n",
    "       'sin_dayofyear', 'titulo_cant_caracteres',\n",
    "       'descripcion_cant_caracteres', 'cos_day',\n",
    "       'descripcion_cant_signos_puntuacion',\n",
    "       'descripcion_cant_palabras_unicas', 'garages', 'sin_weekofyear',\n",
    "       'descripcion_cant_palabras', 'sin_dayofweek',\n",
    "       'titulo_cant_signos_puntuacion', 'cos_weekofyear',\n",
    "       'titulo_diversity_score', 'descripcion_cant_html_tags',\n",
    "       'gimnasio_AND_centroscomercialescercanos', 'titulo_cant_palabras',\n",
    "       'cos_dayofweek', 'titulo_cant_palabras_unicas', 'cos_month',\n",
    "       'gimnasio', 'sin_month', 'gimnasio_AND_piscina', 'daysinmonth',\n",
    "       'cant_amenities','precio']]\n",
    "test2 = test[['metroscubiertos', 'idzona', 'banos', 'metrostotales',\n",
    "       'reatio_cubiertos_totales', 'habitaciones', 'lat', 'antiguedad',\n",
    "       'titulo_mean_word_length', 'year', 'descripcion_entropy',\n",
    "       'descripcion_mean_word_length', 'titulo_entropy',\n",
    "       'descripcion_diversity_score', 'lng', 'sin_day', 'cos_dayofyear',\n",
    "       'sin_dayofyear', 'titulo_cant_caracteres',\n",
    "       'descripcion_cant_caracteres', 'cos_day',\n",
    "       'descripcion_cant_signos_puntuacion',\n",
    "       'descripcion_cant_palabras_unicas', 'garages', 'sin_weekofyear',\n",
    "       'descripcion_cant_palabras', 'sin_dayofweek',\n",
    "       'titulo_cant_signos_puntuacion', 'cos_weekofyear',\n",
    "       'titulo_diversity_score', 'descripcion_cant_html_tags',\n",
    "       'gimnasio_AND_centroscomercialescercanos', 'titulo_cant_palabras',\n",
    "       'cos_dayofweek', 'titulo_cant_palabras_unicas', 'cos_month',\n",
    "       'gimnasio', 'sin_month', 'gimnasio_AND_piscina', 'daysinmonth',\n",
    "       'cant_amenities']]"
   ]
  },
  {
   "cell_type": "code",
   "execution_count": 55,
   "metadata": {},
   "outputs": [],
   "source": [
    "X_train2 = X_train[['metroscubiertos', 'idzona', 'banos', 'metrostotales',\n",
    "       'reatio_cubiertos_totales', 'habitaciones', 'lat', 'antiguedad',\n",
    "       'titulo_mean_word_length', 'year', 'descripcion_entropy',\n",
    "       'descripcion_mean_word_length', 'titulo_entropy',\n",
    "       'descripcion_diversity_score', 'lng', 'sin_day', 'cos_dayofyear',\n",
    "       'sin_dayofyear', 'titulo_cant_caracteres',\n",
    "       'descripcion_cant_caracteres', 'cos_day',\n",
    "       'descripcion_cant_signos_puntuacion',\n",
    "       'descripcion_cant_palabras_unicas', 'garages', 'sin_weekofyear',\n",
    "       'descripcion_cant_palabras', 'sin_dayofweek',\n",
    "       'titulo_cant_signos_puntuacion', 'cos_weekofyear',\n",
    "       'titulo_diversity_score', 'descripcion_cant_html_tags',\n",
    "       'gimnasio_AND_centroscomercialescercanos', 'titulo_cant_palabras',\n",
    "       'cos_dayofweek', 'titulo_cant_palabras_unicas', 'cos_month',\n",
    "       'gimnasio', 'sin_month', 'gimnasio_AND_piscina', 'daysinmonth',\n",
    "       'cant_amenities','tipodepropiedad', 'ciudad','provincia']]\n",
    "X_test2 = X_test[['metroscubiertos', 'idzona', 'banos', 'metrostotales',\n",
    "       'reatio_cubiertos_totales', 'habitaciones', 'lat', 'antiguedad',\n",
    "       'titulo_mean_word_length', 'year', 'descripcion_entropy',\n",
    "       'descripcion_mean_word_length', 'titulo_entropy',\n",
    "       'descripcion_diversity_score', 'lng', 'sin_day', 'cos_dayofyear',\n",
    "       'sin_dayofyear', 'titulo_cant_caracteres',\n",
    "       'descripcion_cant_caracteres', 'cos_day',\n",
    "       'descripcion_cant_signos_puntuacion',\n",
    "       'descripcion_cant_palabras_unicas', 'garages', 'sin_weekofyear',\n",
    "       'descripcion_cant_palabras', 'sin_dayofweek',\n",
    "       'titulo_cant_signos_puntuacion', 'cos_weekofyear',\n",
    "       'titulo_diversity_score', 'descripcion_cant_html_tags',\n",
    "       'gimnasio_AND_centroscomercialescercanos', 'titulo_cant_palabras',\n",
    "       'cos_dayofweek', 'titulo_cant_palabras_unicas', 'cos_month',\n",
    "       'gimnasio', 'sin_month', 'gimnasio_AND_piscina', 'daysinmonth',\n",
    "       'cant_amenities','tipodepropiedad', 'ciudad','provincia']]"
   ]
  },
  {
   "cell_type": "code",
   "execution_count": 47,
   "metadata": {},
   "outputs": [
    {
     "name": "stdout",
     "output_type": "stream",
     "text": [
      "Fitting 3 folds for each of 96 candidates, totalling 288 fits\n"
     ]
    },
    {
     "name": "stderr",
     "output_type": "stream",
     "text": [
      "[Parallel(n_jobs=-1)]: Using backend LokyBackend with 4 concurrent workers.\n",
      "/home/rozanecm/Documents/Univerza/UBA/7506 Organizacion de Datos/2c2019/tp2/venv/lib/python3.5/site-packages/joblib/externals/loky/process_executor.py:706: UserWarning: A worker stopped while some jobs were given to the executor. This can be caused by a too short worker timeout or by a memory leak.\n",
      "  \"timeout or by a memory leak.\", UserWarning\n",
      "[Parallel(n_jobs=-1)]: Done  10 tasks      | elapsed:   54.4s\n",
      "[Parallel(n_jobs=-1)]: Done  64 tasks      | elapsed:  5.2min\n",
      "[Parallel(n_jobs=-1)]: Done 154 tasks      | elapsed: 13.4min\n",
      "[Parallel(n_jobs=-1)]: Done 280 tasks      | elapsed: 48.9min\n",
      "[Parallel(n_jobs=-1)]: Done 288 out of 288 | elapsed: 51.2min finished\n"
     ]
    },
    {
     "name": "stdout",
     "output_type": "stream",
     "text": [
      "LGBMRegressor(boosting_type='gbdt', class_weight=None, colsample_bytree=1.0,\n",
      "              importance_type='split', learning_rate=0.15, max_depth=4,\n",
      "              min_child_samples=20, min_child_weight=0.001, min_split_gain=0.0,\n",
      "              n_estimators=300, n_jobs=-1, num_leaves=300, objective=None,\n",
      "              random_state=42, reg_alpha=0.0, reg_lambda=0.0, silent=False,\n",
      "              subsample=0.8, subsample_for_bin=200000, subsample_freq=0)\n"
     ]
    }
   ],
   "source": [
    "from sklearn.model_selection import GridSearchCV\n",
    "import lightgbm as lgb\n",
    "gbm = lgb.LGBMRegressor(n_jobs=-1,silent=False, random_state=seed)\n",
    "\n",
    "param_dist = {'boosting_type':['gbdt','dart'],\n",
    "              'num_leaves':[10],\n",
    "              'max_depth':[4],\n",
    "              'learning_rate':[0.05,0.15],\n",
    "              'n_estimators':[200,300],\n",
    "              'subsample':[0.8,1.0],\n",
    "              \"num_leaves\": [300,900,1200],\n",
    "              'colsample_bytree':[0.8,1.0],}\n",
    "\n",
    "# param_dist = {\"max_depth\": [25,50, 75],\n",
    "#               \"learning_rate\" : [0.01,0.05,0.1],\n",
    "#               \"num_leaves\": [300,900,1200],\n",
    "#               \"n_estimators\": [50,100,200]\n",
    "#              }\n",
    "\n",
    "grid_search = GridSearchCV(gbm, n_jobs=-1, param_grid=param_dist, cv = 3, scoring=\"neg_mean_absolute_error\", verbose=5)\n",
    "grid_search.fit(train2.drop(['precio'],axis=1), train2['precio'])\n",
    "print(grid_search.best_estimator_)"
   ]
  },
  {
   "cell_type": "code",
   "execution_count": 17,
   "metadata": {},
   "outputs": [],
   "source": [
    "gbm_optimized = lgb.LGBMRegressor(boosting_type='gbdt', class_weight=None, colsample_bytree=1.0,\n",
    "              importance_type='split', learning_rate=0.15, max_depth=4,\n",
    "              min_child_samples=20, min_child_weight=0.001, min_split_gain=0.0,\n",
    "              n_estimators=300, n_jobs=-1, num_leaves=300, objective=None,\n",
    "              random_state=42, reg_alpha=0.0, reg_lambda=0.0, silent=False,\n",
    "              subsample=0.8, subsample_for_bin=200000, subsample_freq=0)"
   ]
  },
  {
   "cell_type": "code",
   "execution_count": 56,
   "metadata": {},
   "outputs": [
    {
     "name": "stderr",
     "output_type": "stream",
     "text": [
      "/home/rozanecm/Documents/Univerza/UBA/7506 Organizacion de Datos/2c2019/tp2/venv/lib/python3.5/site-packages/lightgbm/basic.py:1247: UserWarning: categorical_feature in Dataset is overridden.\n",
      "New categorical_feature is ['ciudad', 'provincia', 'tipodepropiedad']\n",
      "  'New categorical_feature is {}'.format(sorted(list(categorical_feature))))\n"
     ]
    },
    {
     "name": "stdout",
     "output_type": "stream",
     "text": [
      "589524.4024022974\n"
     ]
    }
   ],
   "source": [
    "gbm_optimized.fit(X_train2, y_train, sample_weight=None, init_score=None, eval_set=[(X_test2,y_test)], eval_names=None,\n",
    "            eval_sample_weight=None, eval_init_score=None, eval_metric='mae', early_stopping_rounds=10,\n",
    "            verbose=False, feature_name='auto', categorical_feature=['tipodepropiedad', 'ciudad','provincia'], callbacks=None)\n",
    "\n",
    "y_scores = gbm_optimized.predict(X_test2, num_iteration=gbm_optimized.best_iteration_)\n",
    "\n",
    "from sklearn.metrics import mean_absolute_error\n",
    "\n",
    "print(mean_absolute_error(y_test, y_scores))"
   ]
  },
  {
   "cell_type": "markdown",
   "metadata": {},
   "source": [
    "## Entrenamiento con todos los datos para obtener predicciones a subir"
   ]
  },
  {
   "cell_type": "code",
   "execution_count": 19,
   "metadata": {},
   "outputs": [],
   "source": [
    "train2 = train[['metroscubiertos', 'idzona', 'banos', 'metrostotales',\n",
    "       'reatio_cubiertos_totales', 'habitaciones', 'lat', 'antiguedad',\n",
    "       'titulo_mean_word_length', 'year', 'descripcion_entropy',\n",
    "       'descripcion_mean_word_length', 'titulo_entropy',\n",
    "       'descripcion_diversity_score', 'lng', 'sin_day', 'cos_dayofyear',\n",
    "       'sin_dayofyear', 'titulo_cant_caracteres',\n",
    "       'descripcion_cant_caracteres', 'cos_day',\n",
    "       'descripcion_cant_signos_puntuacion',\n",
    "       'descripcion_cant_palabras_unicas', 'garages', 'sin_weekofyear',\n",
    "       'descripcion_cant_palabras', 'sin_dayofweek',\n",
    "       'titulo_cant_signos_puntuacion', 'cos_weekofyear',\n",
    "       'titulo_diversity_score', 'descripcion_cant_html_tags',\n",
    "       'gimnasio_AND_centroscomercialescercanos', 'titulo_cant_palabras',\n",
    "       'cos_dayofweek', 'titulo_cant_palabras_unicas', 'cos_month',\n",
    "       'gimnasio', 'sin_month', 'gimnasio_AND_piscina', 'daysinmonth',\n",
    "       'cant_amenities','precio','tipodepropiedad', 'ciudad','provincia']]\n",
    "test2 = test[['metroscubiertos', 'idzona', 'banos', 'metrostotales',\n",
    "       'reatio_cubiertos_totales', 'habitaciones', 'lat', 'antiguedad',\n",
    "       'titulo_mean_word_length', 'year', 'descripcion_entropy',\n",
    "       'descripcion_mean_word_length', 'titulo_entropy',\n",
    "       'descripcion_diversity_score', 'lng', 'sin_day', 'cos_dayofyear',\n",
    "       'sin_dayofyear', 'titulo_cant_caracteres',\n",
    "       'descripcion_cant_caracteres', 'cos_day',\n",
    "       'descripcion_cant_signos_puntuacion',\n",
    "       'descripcion_cant_palabras_unicas', 'garages', 'sin_weekofyear',\n",
    "       'descripcion_cant_palabras', 'sin_dayofweek',\n",
    "       'titulo_cant_signos_puntuacion', 'cos_weekofyear',\n",
    "       'titulo_diversity_score', 'descripcion_cant_html_tags',\n",
    "       'gimnasio_AND_centroscomercialescercanos', 'titulo_cant_palabras',\n",
    "       'cos_dayofweek', 'titulo_cant_palabras_unicas', 'cos_month',\n",
    "       'gimnasio', 'sin_month', 'gimnasio_AND_piscina', 'daysinmonth',\n",
    "       'cant_amenities','tipodepropiedad', 'ciudad','provincia']]"
   ]
  },
  {
   "cell_type": "code",
   "execution_count": 61,
   "metadata": {},
   "outputs": [],
   "source": [
    "gbm_optimized.fit(train2.drop('precio',axis=1), train['precio'], sample_weight=None, init_score=None, eval_set=None, eval_names=None,\n",
    "            eval_sample_weight=None, eval_init_score=None, eval_metric='mae', early_stopping_rounds=None,\n",
    "            verbose=False, feature_name='auto', categorical_feature=['tipodepropiedad', 'ciudad','provincia'], callbacks=None)\n",
    "\n",
    "\n",
    "# prediciendo valores posta...\n",
    "predictions = gbm_optimized.predict(test2, num_iteration=gbm_optimized.best_iteration_)"
   ]
  },
  {
   "cell_type": "code",
   "execution_count": 62,
   "metadata": {},
   "outputs": [],
   "source": [
    "df = pd.DataFrame(data={'id':test['id'], 'target':predictions})"
   ]
  },
  {
   "cell_type": "code",
   "execution_count": 63,
   "metadata": {},
   "outputs": [],
   "source": [
    "description = \"4th approach with feat. eng. and feature selection via random forest. LightGBM with grid search done locally.\"\n",
    "save_submission(df, description=description)"
   ]
  },
  {
   "cell_type": "markdown",
   "metadata": {},
   "source": [
    "## Obtengamos prediccionse para todas las propiedades en nuestro train set"
   ]
  },
  {
   "cell_type": "code",
   "execution_count": 22,
   "metadata": {},
   "outputs": [],
   "source": [
    "train2 = train[['id', 'metroscubiertos', 'idzona', 'banos', 'metrostotales',\n",
    "       'reatio_cubiertos_totales', 'habitaciones', 'lat', 'antiguedad',\n",
    "       'titulo_mean_word_length', 'year', 'descripcion_entropy',\n",
    "       'descripcion_mean_word_length', 'titulo_entropy',\n",
    "       'descripcion_diversity_score', 'lng', 'sin_day', 'cos_dayofyear',\n",
    "       'sin_dayofyear', 'titulo_cant_caracteres',\n",
    "       'descripcion_cant_caracteres', 'cos_day',\n",
    "       'descripcion_cant_signos_puntuacion',\n",
    "       'descripcion_cant_palabras_unicas', 'garages', 'sin_weekofyear',\n",
    "       'descripcion_cant_palabras', 'sin_dayofweek',\n",
    "       'titulo_cant_signos_puntuacion', 'cos_weekofyear',\n",
    "       'titulo_diversity_score', 'descripcion_cant_html_tags',\n",
    "       'gimnasio_AND_centroscomercialescercanos', 'titulo_cant_palabras',\n",
    "       'cos_dayofweek', 'titulo_cant_palabras_unicas', 'cos_month',\n",
    "       'gimnasio', 'sin_month', 'gimnasio_AND_piscina', 'daysinmonth',\n",
    "       'cant_amenities','precio','tipodepropiedad', 'ciudad','provincia']]\n",
    "test2 = test[['id', 'metroscubiertos', 'idzona', 'banos', 'metrostotales',\n",
    "       'reatio_cubiertos_totales', 'habitaciones', 'lat', 'antiguedad',\n",
    "       'titulo_mean_word_length', 'year', 'descripcion_entropy',\n",
    "       'descripcion_mean_word_length', 'titulo_entropy',\n",
    "       'descripcion_diversity_score', 'lng', 'sin_day', 'cos_dayofyear',\n",
    "       'sin_dayofyear', 'titulo_cant_caracteres',\n",
    "       'descripcion_cant_caracteres', 'cos_day',\n",
    "       'descripcion_cant_signos_puntuacion',\n",
    "       'descripcion_cant_palabras_unicas', 'garages', 'sin_weekofyear',\n",
    "       'descripcion_cant_palabras', 'sin_dayofweek',\n",
    "       'titulo_cant_signos_puntuacion', 'cos_weekofyear',\n",
    "       'titulo_diversity_score', 'descripcion_cant_html_tags',\n",
    "       'gimnasio_AND_centroscomercialescercanos', 'titulo_cant_palabras',\n",
    "       'cos_dayofweek', 'titulo_cant_palabras_unicas', 'cos_month',\n",
    "       'gimnasio', 'sin_month', 'gimnasio_AND_piscina', 'daysinmonth',\n",
    "       'cant_amenities','tipodepropiedad', 'ciudad','provincia']]"
   ]
  },
  {
   "cell_type": "code",
   "execution_count": 24,
   "metadata": {},
   "outputs": [
    {
     "name": "stdout",
     "output_type": "stream",
     "text": [
      "591589.6330611027\n"
     ]
    },
    {
     "name": "stderr",
     "output_type": "stream",
     "text": [
      "/home/rozanecm/Documents/Univerza/UBA/7506 Organizacion de Datos/2c2019/tp2/venv/lib/python3.5/site-packages/lightgbm/basic.py:1247: UserWarning: categorical_feature in Dataset is overridden.\n",
      "New categorical_feature is ['ciudad', 'provincia', 'tipodepropiedad']\n",
      "  'New categorical_feature is {}'.format(sorted(list(categorical_feature))))\n"
     ]
    },
    {
     "name": "stdout",
     "output_type": "stream",
     "text": [
      "597007.1539011439\n"
     ]
    },
    {
     "name": "stderr",
     "output_type": "stream",
     "text": [
      "/home/rozanecm/Documents/Univerza/UBA/7506 Organizacion de Datos/2c2019/tp2/venv/lib/python3.5/site-packages/lightgbm/basic.py:1247: UserWarning: categorical_feature in Dataset is overridden.\n",
      "New categorical_feature is ['ciudad', 'provincia', 'tipodepropiedad']\n",
      "  'New categorical_feature is {}'.format(sorted(list(categorical_feature))))\n"
     ]
    },
    {
     "name": "stdout",
     "output_type": "stream",
     "text": [
      "592220.5932303993\n"
     ]
    }
   ],
   "source": [
    "from sklearn.model_selection import KFold\n",
    "from sklearn.metrics import mean_absolute_error\n",
    "kf = KFold(n_splits=3, shuffle=True, random_state=seed)\n",
    "\n",
    "df = pd.DataFrame([])\n",
    "\n",
    "# UPDATE THIS VALUE\n",
    "approach_numer = \"rozanecm_approach_4_with_feat_eng\"\n",
    "\n",
    "for train_index, test_index in kf.split(train):\n",
    "    # for loop copied from docs: https://scikit-learn.org/stable/modules/generated/sklearn.model_selection.KFold.html#sklearn.model_selection.KFold\n",
    "    X_train2, X_test2 = train2.drop(['precio'],axis=1).iloc[train_index], train2.drop(['precio'],axis=1).iloc[test_index]\n",
    "    y_train2, y_test2 = train2['precio'][train_index], train2['precio'][test_index]\n",
    "    \n",
    "    gbm_optimized.fit(X_train2.drop(['id'],axis=1), y_train2, sample_weight=None, init_score=None, eval_set=None, eval_names=None,\n",
    "                      eval_sample_weight=None, eval_init_score=None, eval_metric='mae', early_stopping_rounds=None,\n",
    "                      verbose=False, feature_name='auto', categorical_feature=['tipodepropiedad', 'ciudad','provincia'], callbacks=None)\n",
    "    y_scores = gbm_optimized.predict(X_test2.drop('id',axis=1), num_iteration=gbm_optimized.best_iteration_)\n",
    "    \n",
    "    print(mean_absolute_error(y_test2, y_scores))\n",
    "    \n",
    "    df = df.append(pd.DataFrame(data={'id':X_test2['id'], approach_numer:y_scores}))\n",
    "\n",
    "df.to_csv(\"../predictions/on_train_data/\" + approach_numer, index=False, header=True)"
   ]
  }
 ],
 "metadata": {
  "kernelspec": {
   "display_name": "Python 3",
   "language": "python",
   "name": "python3"
  },
  "language_info": {
   "codemirror_mode": {
    "name": "ipython",
    "version": 3
   },
   "file_extension": ".py",
   "mimetype": "text/x-python",
   "name": "python",
   "nbconvert_exporter": "python",
   "pygments_lexer": "ipython3",
   "version": "3.7.0"
  }
 },
 "nbformat": 4,
 "nbformat_minor": 4
}
