{
 "cells": [
  {
   "cell_type": "code",
   "execution_count": 1,
   "metadata": {},
   "outputs": [],
   "source": [
    "import pandas as pd\n",
    "import numpy as np"
   ]
  },
  {
   "cell_type": "code",
   "execution_count": 2,
   "metadata": {},
   "outputs": [],
   "source": [
    "# This will allow you to see all column names & rows when you are doing .head(). None of the column name will be truncated.\n",
    "# source: https://stackoverflow.com/questions/49188960/how-to-show-all-of-columns-name-on-pandas-dataframe\n",
    "\n",
    "pd.set_option('display.max_columns', None)\n",
    "# pd.set_option('display.max_rows', None)"
   ]
  },
  {
   "cell_type": "code",
   "execution_count": 3,
   "metadata": {},
   "outputs": [],
   "source": [
    "# source: https://gist.github.com/rozanecm/38f2901c592bdffc40726cb0473318cf\n",
    "# Function which plays a beep of given duration and frequency.\n",
    "# Useful for when executing things that need a while to finish, to get notified.\n",
    "import os\n",
    "def beep(duration = 1, freq = 1500):\n",
    "    \"\"\" play tone of duration in seconds and freq in Hz. \"\"\"\n",
    "    os.system('play --no-show-progress --null --channels 1 synth %s sine %f' % (duration, freq))"
   ]
  },
  {
   "cell_type": "code",
   "execution_count": 4,
   "metadata": {},
   "outputs": [],
   "source": [
    "train = pd.read_csv('../data/train.csv', dtype={'tipodepropiedad':'category', 'ciudad':'category', 'provincia':'category', 'id':'int32', 'antiguedad':'float16', 'habitaciones':'float16', 'garages':'float16', 'banos':'float16', 'metroscubiertos':'float16', 'metrostotales':'float16', 'idzona':'float16', 'lat':'float16', 'lng':'float16', 'gimnasio':'bool', 'usosmultiples':'bool', 'piscina':'bool', 'escuelascercanas':'bool', 'centroscomercialescercanos':'bool'}, parse_dates=['fecha'])\n",
    "test = pd.read_csv('../data/test.csv', dtype={'tipodepropiedad':'category', 'ciudad':'category', 'provincia':'category', 'id':'int32', 'antiguedad':'float16', 'habitaciones':'float16', 'garages':'float16', 'banos':'float16', 'metroscubiertos':'float16', 'metrostotales':'float16', 'idzona':'float16', 'lat':'float16', 'lng':'float16', 'gimnasio':'bool', 'usosmultiples':'bool', 'piscina':'bool', 'escuelascercanas':'bool', 'centroscomercialescercanos':'bool'}, parse_dates=['fecha'])"
   ]
  },
  {
   "cell_type": "markdown",
   "metadata": {},
   "source": [
    "Juntemos ambos datasets, ya que en definitiva no tiene sentido la distincion train/test, ya que la mismo ha sido creada con otra variable objetivo en mente."
   ]
  },
  {
   "cell_type": "code",
   "execution_count": 5,
   "metadata": {},
   "outputs": [],
   "source": [
    "joined = train.drop('precio',axis=1).append(test, sort=False)"
   ]
  },
  {
   "cell_type": "code",
   "execution_count": 6,
   "metadata": {},
   "outputs": [],
   "source": [
    "joined['ciudad'] = joined['ciudad'].astype('category')\n",
    "\n",
    "joined['tipodepropiedad'] = joined['tipodepropiedad'].astype('category')"
   ]
  },
  {
   "cell_type": "code",
   "execution_count": 7,
   "metadata": {},
   "outputs": [
    {
     "data": {
      "text/plain": [
       "id                                     int32\n",
       "titulo                                object\n",
       "descripcion                           object\n",
       "tipodepropiedad                     category\n",
       "direccion                             object\n",
       "ciudad                              category\n",
       "provincia                           category\n",
       "antiguedad                           float16\n",
       "habitaciones                         float16\n",
       "garages                              float16\n",
       "banos                                float16\n",
       "metroscubiertos                      float16\n",
       "metrostotales                        float16\n",
       "idzona                               float16\n",
       "lat                                  float16\n",
       "lng                                  float16\n",
       "fecha                         datetime64[ns]\n",
       "gimnasio                                bool\n",
       "usosmultiples                           bool\n",
       "piscina                                 bool\n",
       "escuelascercanas                        bool\n",
       "centroscomercialescercanos              bool\n",
       "dtype: object"
      ]
     },
     "execution_count": 7,
     "metadata": {},
     "output_type": "execute_result"
    }
   ],
   "source": [
    "joined.dtypes"
   ]
  },
  {
   "cell_type": "code",
   "execution_count": 8,
   "metadata": {},
   "outputs": [],
   "source": [
    "del train\n",
    "del test"
   ]
  },
  {
   "cell_type": "markdown",
   "metadata": {},
   "source": [
    "# Que variables hay que completar?"
   ]
  },
  {
   "cell_type": "code",
   "execution_count": 9,
   "metadata": {},
   "outputs": [
    {
     "data": {
      "text/plain": [
       "id                             0.000000\n",
       "piscina                        0.000000\n",
       "usosmultiples                  0.000000\n",
       "gimnasio                       0.000000\n",
       "fecha                          0.000000\n",
       "escuelascercanas               0.000000\n",
       "centroscomercialescercanos     0.000000\n",
       "tipodepropiedad                0.017667\n",
       "provincia                      0.065667\n",
       "ciudad                         0.151667\n",
       "descripcion                    0.673333\n",
       "titulo                         2.255000\n",
       "metroscubiertos                7.233000\n",
       "habitaciones                   9.366333\n",
       "banos                         10.925000\n",
       "idzona                        11.933333\n",
       "garages                       15.696000\n",
       "antiguedad                    18.089667\n",
       "metrostotales                 21.374000\n",
       "direccion                     22.087667\n",
       "lat                           51.394333\n",
       "lng                           51.394333\n",
       "dtype: float64"
      ]
     },
     "execution_count": 9,
     "metadata": {},
     "output_type": "execute_result"
    }
   ],
   "source": [
    "(joined.isna().sum()/joined.shape[0]*100).sort_values()"
   ]
  },
  {
   "cell_type": "code",
   "execution_count": 10,
   "metadata": {},
   "outputs": [],
   "source": [
    "# Define a seed, so all algorithms that accept a seed, take the same, for consistency reasons,\n",
    "# so everything can be replicated without problems random state\n",
    "seed=42"
   ]
  },
  {
   "cell_type": "markdown",
   "metadata": {},
   "source": [
    "# tipodepropiedad"
   ]
  },
  {
   "cell_type": "code",
   "execution_count": 11,
   "metadata": {},
   "outputs": [],
   "source": [
    "target_variable = 'tipodepropiedad'"
   ]
  },
  {
   "cell_type": "markdown",
   "metadata": {},
   "source": [
    "En primer lugar creamos una variable que indica si el dato estuvo originalmente presente o no."
   ]
  },
  {
   "cell_type": "code",
   "execution_count": 12,
   "metadata": {},
   "outputs": [],
   "source": [
    "joined['tiene_tipodepropiedad'] = joined['tipodepropiedad'].notna()"
   ]
  },
  {
   "cell_type": "code",
   "execution_count": 13,
   "metadata": {},
   "outputs": [],
   "source": [
    "train_tipodepropiedad = joined.loc[joined['tiene_tipodepropiedad']]\n",
    "\n",
    "test_tipodepropiedad = joined.loc[~joined['tiene_tipodepropiedad']]"
   ]
  },
  {
   "cell_type": "code",
   "execution_count": 29,
   "metadata": {},
   "outputs": [
    {
     "data": {
      "text/plain": [
       "['Apartamento',\n",
       " 'Casa en condominio',\n",
       " 'Casa',\n",
       " 'Terreno',\n",
       " 'Terreno comercial',\n",
       " 'Local Comercial',\n",
       " 'Quinta Vacacional',\n",
       " 'Oficina comercial',\n",
       " 'Edificio',\n",
       " 'Casa uso de suelo',\n",
       " 'Local en centro comercial',\n",
       " 'Bodega comercial',\n",
       " 'Otros',\n",
       " 'Villa',\n",
       " 'Duplex',\n",
       " 'Inmuebles productivos urbanos',\n",
       " 'Departamento Compartido',\n",
       " 'Nave industrial',\n",
       " 'Rancho',\n",
       " 'Terreno industrial',\n",
       " 'Huerta',\n",
       " 'Lote',\n",
       " 'Hospedaje',\n",
       " 'Garage']"
      ]
     },
     "execution_count": 29,
     "metadata": {},
     "output_type": "execute_result"
    }
   ],
   "source": [
    "list(train_tipodepropiedad[target_variable].unique())"
   ]
  },
  {
   "cell_type": "code",
   "execution_count": 31,
   "metadata": {},
   "outputs": [],
   "source": [
    "pd.set_option('display.max_colwidth', -1)"
   ]
  },
  {
   "cell_type": "code",
   "execution_count": 46,
   "metadata": {},
   "outputs": [],
   "source": [
    "test_tipodepropiedad.loc[test_tipodepropiedad['id'] == 230046,target_variable] = 'Casa'"
   ]
  },
  {
   "cell_type": "code",
   "execution_count": 47,
   "metadata": {},
   "outputs": [],
   "source": [
    "test_tipodepropiedad.loc[test_tipodepropiedad['id'] == 68458,target_variable] = 'Apartamento'"
   ]
  },
  {
   "cell_type": "code",
   "execution_count": 48,
   "metadata": {},
   "outputs": [],
   "source": [
    "test_tipodepropiedad.loc[test_tipodepropiedad['id'] == 48797,target_variable] = 'Casa'"
   ]
  },
  {
   "cell_type": "code",
   "execution_count": 49,
   "metadata": {},
   "outputs": [],
   "source": [
    "test_tipodepropiedad.loc[test_tipodepropiedad['id'] == 111329,target_variable] = 'Casa'"
   ]
  },
  {
   "cell_type": "code",
   "execution_count": 50,
   "metadata": {},
   "outputs": [],
   "source": [
    "test_tipodepropiedad.loc[test_tipodepropiedad['id'] == 231968,target_variable] = 'Casa'"
   ]
  },
  {
   "cell_type": "code",
   "execution_count": 55,
   "metadata": {},
   "outputs": [],
   "source": [
    "test_tipodepropiedad.loc[test_tipodepropiedad['id'] == 1517,target_variable] = 'Casa'"
   ]
  },
  {
   "cell_type": "code",
   "execution_count": 54,
   "metadata": {},
   "outputs": [],
   "source": [
    "test_tipodepropiedad.loc[test_tipodepropiedad['id'] == 78161,target_variable] = 'Terreno'"
   ]
  },
  {
   "cell_type": "code",
   "execution_count": 57,
   "metadata": {},
   "outputs": [],
   "source": [
    "test_tipodepropiedad.loc[test_tipodepropiedad['id'] == 170109,target_variable] = 'Local Comercial'"
   ]
  },
  {
   "cell_type": "code",
   "execution_count": 59,
   "metadata": {},
   "outputs": [],
   "source": [
    "test_tipodepropiedad.loc[test_tipodepropiedad['id'] == 49448,target_variable] = 'Apartamento'"
   ]
  },
  {
   "cell_type": "code",
   "execution_count": 61,
   "metadata": {},
   "outputs": [],
   "source": [
    "test_tipodepropiedad.loc[test_tipodepropiedad['id'] == 273036,target_variable] = 'Casa'"
   ]
  },
  {
   "cell_type": "code",
   "execution_count": 63,
   "metadata": {},
   "outputs": [],
   "source": [
    "test_tipodepropiedad.loc[test_tipodepropiedad['id'] == 24043,target_variable] = 'Local Comercial'"
   ]
  },
  {
   "cell_type": "code",
   "execution_count": 65,
   "metadata": {},
   "outputs": [],
   "source": [
    "test_tipodepropiedad.loc[test_tipodepropiedad['id'] == 162314,target_variable] = 'Quinta Vacacional'"
   ]
  },
  {
   "cell_type": "code",
   "execution_count": 67,
   "metadata": {},
   "outputs": [],
   "source": [
    "test_tipodepropiedad.loc[test_tipodepropiedad['id'] == 11234,target_variable] = 'Casa'"
   ]
  },
  {
   "cell_type": "code",
   "execution_count": 69,
   "metadata": {},
   "outputs": [],
   "source": [
    "test_tipodepropiedad.loc[test_tipodepropiedad['id'] == 34286,target_variable] = 'Casa en condominio'"
   ]
  },
  {
   "cell_type": "code",
   "execution_count": 71,
   "metadata": {},
   "outputs": [],
   "source": [
    "test_tipodepropiedad.loc[test_tipodepropiedad['id'] == 286805,target_variable] = 'Casa'"
   ]
  },
  {
   "cell_type": "code",
   "execution_count": 73,
   "metadata": {},
   "outputs": [],
   "source": [
    "test_tipodepropiedad.loc[test_tipodepropiedad['id'] == 188386,target_variable] = 'Casa'"
   ]
  },
  {
   "cell_type": "code",
   "execution_count": 75,
   "metadata": {},
   "outputs": [],
   "source": [
    "test_tipodepropiedad.loc[test_tipodepropiedad['id'] == 271322,target_variable] = 'Local Comercial'"
   ]
  },
  {
   "cell_type": "code",
   "execution_count": 77,
   "metadata": {},
   "outputs": [],
   "source": [
    "test_tipodepropiedad.loc[test_tipodepropiedad['id'] == 244122,target_variable] = 'Casa en condominio'"
   ]
  },
  {
   "cell_type": "code",
   "execution_count": 79,
   "metadata": {},
   "outputs": [],
   "source": [
    "test_tipodepropiedad.loc[test_tipodepropiedad['id'] == 208435,target_variable] = 'Casa'"
   ]
  },
  {
   "cell_type": "code",
   "execution_count": 81,
   "metadata": {},
   "outputs": [],
   "source": [
    "test_tipodepropiedad.loc[test_tipodepropiedad['id'] == 268952,target_variable] = 'Terreno'"
   ]
  },
  {
   "cell_type": "code",
   "execution_count": 83,
   "metadata": {},
   "outputs": [],
   "source": [
    "test_tipodepropiedad.loc[test_tipodepropiedad['id'] == 287353,target_variable] = 'Oficina comercial'"
   ]
  },
  {
   "cell_type": "code",
   "execution_count": 85,
   "metadata": {},
   "outputs": [],
   "source": [
    "test_tipodepropiedad.loc[test_tipodepropiedad['id'] == 208660,target_variable] = 'Casa'"
   ]
  },
  {
   "cell_type": "code",
   "execution_count": 90,
   "metadata": {},
   "outputs": [],
   "source": [
    "test_tipodepropiedad.loc[test_tipodepropiedad['id'] == 247550,target_variable] = 'Casa en condominio'"
   ]
  },
  {
   "cell_type": "code",
   "execution_count": 92,
   "metadata": {},
   "outputs": [],
   "source": [
    "test_tipodepropiedad.loc[test_tipodepropiedad['id'] == 121158,target_variable] = 'Casa'"
   ]
  },
  {
   "cell_type": "code",
   "execution_count": 94,
   "metadata": {},
   "outputs": [],
   "source": [
    "test_tipodepropiedad.loc[test_tipodepropiedad['id'] == 87335,target_variable] = 'Casa'"
   ]
  },
  {
   "cell_type": "code",
   "execution_count": 96,
   "metadata": {},
   "outputs": [],
   "source": [
    "test_tipodepropiedad.loc[test_tipodepropiedad['id'] == 116902,target_variable] = 'Terreno comercial'"
   ]
  },
  {
   "cell_type": "code",
   "execution_count": 98,
   "metadata": {},
   "outputs": [],
   "source": [
    "test_tipodepropiedad.loc[test_tipodepropiedad['id'] == 217445,target_variable] = 'Casa'"
   ]
  },
  {
   "cell_type": "code",
   "execution_count": 100,
   "metadata": {},
   "outputs": [],
   "source": [
    "test_tipodepropiedad.loc[test_tipodepropiedad['id'] == 155495,target_variable] = 'Casa'"
   ]
  },
  {
   "cell_type": "code",
   "execution_count": 102,
   "metadata": {},
   "outputs": [],
   "source": [
    "test_tipodepropiedad.loc[test_tipodepropiedad['id'] == 38804,target_variable] = 'Casa'"
   ]
  },
  {
   "cell_type": "code",
   "execution_count": 104,
   "metadata": {},
   "outputs": [],
   "source": [
    "test_tipodepropiedad.loc[test_tipodepropiedad['id'] == 158166,target_variable] = 'Casa'"
   ]
  },
  {
   "cell_type": "code",
   "execution_count": 106,
   "metadata": {},
   "outputs": [],
   "source": [
    "test_tipodepropiedad.loc[test_tipodepropiedad['id'] == 147449,target_variable] = 'Terreno'"
   ]
  },
  {
   "cell_type": "code",
   "execution_count": 108,
   "metadata": {},
   "outputs": [],
   "source": [
    "test_tipodepropiedad.loc[test_tipodepropiedad['id'] == 170284,target_variable] = 'Local Comercial'"
   ]
  },
  {
   "cell_type": "code",
   "execution_count": 110,
   "metadata": {},
   "outputs": [],
   "source": [
    "test_tipodepropiedad.loc[test_tipodepropiedad['id'] == 82387,target_variable] = 'Casa'"
   ]
  },
  {
   "cell_type": "code",
   "execution_count": 112,
   "metadata": {},
   "outputs": [],
   "source": [
    "test_tipodepropiedad.loc[test_tipodepropiedad['id'] == 249147,target_variable] = 'Terreno'"
   ]
  },
  {
   "cell_type": "code",
   "execution_count": 114,
   "metadata": {},
   "outputs": [],
   "source": [
    "test_tipodepropiedad.loc[test_tipodepropiedad['id'] == 56531,target_variable] = 'Casa'"
   ]
  },
  {
   "cell_type": "code",
   "execution_count": 116,
   "metadata": {},
   "outputs": [],
   "source": [
    "test_tipodepropiedad.loc[test_tipodepropiedad['id'] == 238121,target_variable] = 'Local Comercial'"
   ]
  },
  {
   "cell_type": "code",
   "execution_count": 118,
   "metadata": {},
   "outputs": [],
   "source": [
    "test_tipodepropiedad.loc[test_tipodepropiedad['id'] == 223385,target_variable] = 'Terreno'"
   ]
  },
  {
   "cell_type": "code",
   "execution_count": 120,
   "metadata": {},
   "outputs": [],
   "source": [
    "test_tipodepropiedad.loc[test_tipodepropiedad['id'] == 11970,target_variable] = 'Casa'"
   ]
  },
  {
   "cell_type": "code",
   "execution_count": 122,
   "metadata": {},
   "outputs": [],
   "source": [
    "test_tipodepropiedad.loc[test_tipodepropiedad['id'] == 132580,target_variable] = 'Local Comercial'"
   ]
  },
  {
   "cell_type": "code",
   "execution_count": 124,
   "metadata": {},
   "outputs": [],
   "source": [
    "test_tipodepropiedad.loc[test_tipodepropiedad['id'] == 293611,target_variable] = 'Terreno'"
   ]
  },
  {
   "cell_type": "code",
   "execution_count": 131,
   "metadata": {},
   "outputs": [],
   "source": [
    "test_tipodepropiedad.loc[test_tipodepropiedad['id'] == 122418,target_variable] = 'Casa'"
   ]
  },
  {
   "cell_type": "code",
   "execution_count": 133,
   "metadata": {},
   "outputs": [],
   "source": [
    "test_tipodepropiedad.loc[test_tipodepropiedad['id'] == 261646,target_variable] = 'Casa'"
   ]
  },
  {
   "cell_type": "code",
   "execution_count": 135,
   "metadata": {},
   "outputs": [],
   "source": [
    "test_tipodepropiedad.loc[test_tipodepropiedad['id'] == 268706,target_variable] = 'Terreno'"
   ]
  },
  {
   "cell_type": "code",
   "execution_count": 137,
   "metadata": {},
   "outputs": [],
   "source": [
    "test_tipodepropiedad.loc[test_tipodepropiedad['id'] == 212213,target_variable] = 'Local Comercial'"
   ]
  },
  {
   "cell_type": "code",
   "execution_count": 139,
   "metadata": {},
   "outputs": [],
   "source": [
    "test_tipodepropiedad.loc[test_tipodepropiedad['id'] == 155905,target_variable] = 'Casa'"
   ]
  },
  {
   "cell_type": "code",
   "execution_count": 141,
   "metadata": {},
   "outputs": [],
   "source": [
    "test_tipodepropiedad.loc[test_tipodepropiedad['id'] == 94767,target_variable] = 'Casa'"
   ]
  },
  {
   "cell_type": "code",
   "execution_count": 143,
   "metadata": {},
   "outputs": [],
   "source": [
    "test_tipodepropiedad.loc[test_tipodepropiedad['id'] == 177475,target_variable] = 'Casa en condominio'"
   ]
  },
  {
   "cell_type": "code",
   "execution_count": 145,
   "metadata": {},
   "outputs": [],
   "source": [
    "test_tipodepropiedad.loc[test_tipodepropiedad['id'] == 283008,target_variable] = 'Local Comercial'"
   ]
  },
  {
   "cell_type": "code",
   "execution_count": 147,
   "metadata": {},
   "outputs": [],
   "source": [
    "test_tipodepropiedad.loc[test_tipodepropiedad['id'] == 31177,target_variable] = 'Local Comercial'"
   ]
  },
  {
   "cell_type": "code",
   "execution_count": 149,
   "metadata": {},
   "outputs": [],
   "source": [
    "test_tipodepropiedad.loc[test_tipodepropiedad['id'] == 290726,target_variable] = 'Quinta Vacacional'"
   ]
  },
  {
   "cell_type": "code",
   "execution_count": 151,
   "metadata": {},
   "outputs": [],
   "source": [
    "test_tipodepropiedad.loc[test_tipodepropiedad['id'] == 288517,target_variable] = 'Casa'"
   ]
  },
  {
   "cell_type": "code",
   "execution_count": 153,
   "metadata": {},
   "outputs": [],
   "source": [
    "test_tipodepropiedad.loc[test_tipodepropiedad['id'] == 274853,target_variable] = 'Casa'"
   ]
  },
  {
   "cell_type": "code",
   "execution_count": 155,
   "metadata": {},
   "outputs": [],
   "source": [
    "test_tipodepropiedad.loc[test_tipodepropiedad['id'] == 22332,target_variable] = 'Casa'"
   ]
  },
  {
   "cell_type": "code",
   "execution_count": 156,
   "metadata": {},
   "outputs": [
    {
     "data": {
      "text/html": [
       "<div>\n",
       "<style scoped>\n",
       "    .dataframe tbody tr th:only-of-type {\n",
       "        vertical-align: middle;\n",
       "    }\n",
       "\n",
       "    .dataframe tbody tr th {\n",
       "        vertical-align: top;\n",
       "    }\n",
       "\n",
       "    .dataframe thead th {\n",
       "        text-align: right;\n",
       "    }\n",
       "</style>\n",
       "<table border=\"1\" class=\"dataframe\">\n",
       "  <thead>\n",
       "    <tr style=\"text-align: right;\">\n",
       "      <th></th>\n",
       "      <th>id</th>\n",
       "      <th>titulo</th>\n",
       "      <th>descripcion</th>\n",
       "      <th>tipodepropiedad</th>\n",
       "    </tr>\n",
       "  </thead>\n",
       "  <tbody>\n",
       "    <tr>\n",
       "      <th>5307</th>\n",
       "      <td>230046</td>\n",
       "      <td>casas en venta</td>\n",
       "      <td>en juriquilla. detras de la uvm, tres recamaras, sala ,comedor, cisterna,construcciã¯â¿â½n con tabique rojo.</td>\n",
       "      <td>Casa</td>\n",
       "    </tr>\n",
       "    <tr>\n",
       "      <th>8273</th>\n",
       "      <td>68458</td>\n",
       "      <td>departamento en la playa, chicxulub</td>\n",
       "      <td>&lt;p&gt;13 departamentos vacacionales con acabados de lujo y amenidades\\n&lt;/p&gt;&lt;p&gt;de primer nivel.\\n&lt;/p&gt;&lt;p&gt;\\n&lt;/p&gt;&lt;p&gt;acqua siete es el primer desarrollo de residencias verticales frente al mar que combina la serena belleza natural de las playas de chicxulub, con la conveniencia de una ubicación extraordinaria en la que todos los servicios están al alcance de la mano. \\n&lt;/p&gt;&lt;p&gt;condominios amplios con insuperables vistas y dotados de lujosas amenidades a 15 minutos del norte de mérida, un lugar que querrás volver y disfrutar todos los días del año. \\n&lt;/p&gt;&lt;p&gt;acqua siete está hecho para disfrutarse todo el año. no importa el día, ni la hora del año, usted y su familia siempre podrá disfrutar de su departamento y de las áreas comunes gracias a un equipo de mantenimiento y servicio activo todo el año. \\n&lt;/p&gt;&lt;p&gt;equipamiento: \\n&lt;/p&gt;&lt;p&gt;el proyecto arquitectónico fue concebido para sorprender y distinguirse pero también para procurar la creación de una exclusiva comunidad de residentes que compartan su pasión por el mar, la playa y todo lo que la costa yucateca tiene para ofrecer. \\n&lt;/p&gt;&lt;p&gt;proponemos 2 plantas arquitectónicas para elegir de acorde a los requerimientos de distribución, pero también a los gustos de los residentes. en todas ellas se busca maximizar y abrir al exterior al paisaje marino que lo rodea.\\n&lt;/p&gt;&lt;p&gt;el complejo contara con: \\n&lt;/p&gt;&lt;p&gt; 13 condominios y 2 pent house en una torre de 8 niveles\\n&lt;/p&gt;&lt;p&gt; elevadores\\n&lt;/p&gt;&lt;p&gt; control de acceso de vigilancia todos los días del año \\n&lt;/p&gt;&lt;p&gt; estacionamiento \\n&lt;/p&gt;&lt;p&gt; bodegas\\n&lt;/p&gt;&lt;p&gt; albercas con chapoteadero \\n&lt;/p&gt;&lt;p&gt; solárium \\n&lt;/p&gt;&lt;p&gt; jardines \\n&lt;/p&gt;&lt;p&gt; palapa bar \\n&lt;/p&gt;&lt;p&gt;todos los condominios contaran con: \\n&lt;/p&gt;&lt;p&gt; sala, comedor , cocina con vista al mar gracias a su diseño tipo open plan \\n&lt;/p&gt;&lt;p&gt; terraza techada \\n&lt;/p&gt;&lt;p&gt; baño de visitas\\n&lt;/p&gt;&lt;p&gt; bodega \\n&lt;/p&gt;&lt;p&gt; tres recamaras con baño y closet \\n&lt;/p&gt;&lt;p&gt; cuarto de servicio con baño \\n&lt;/p&gt;&lt;p&gt; área de lavado \\n&lt;/p&gt;&lt;p&gt; estacionamiento para dos vehículos \\n&lt;/p&gt;&lt;p&gt;pent house con roof garden: \\n&lt;/p&gt;&lt;p&gt;penthouse  m2 totales de los cuales son 86.22 m2 de roof garden y 237 m2 de área interior \\n&lt;/p&gt;&lt;p&gt;penthouse  m2 totales de los cuales son 80.22 m2 de roof garden y 260 m2 de área interior.\\n&lt;/p&gt;&lt;p&gt;\\n&lt;/p&gt;&lt;p&gt;*precios más iva\\n&lt;/p&gt;&lt;p&gt;&lt;/p&gt;&lt;p&gt;otras características:&lt;/p&gt;&lt;p&gt;número de elevadores: 2, espacios para autos: 2, &lt;/p&gt;</td>\n",
       "      <td>Apartamento</td>\n",
       "    </tr>\n",
       "    <tr>\n",
       "      <th>13957</th>\n",
       "      <td>48797</td>\n",
       "      <td>casas de campo en venta real del potosi</td>\n",
       "      <td>casa en real del potosã?â­, cuenta con: 1 casa de dos plantas, recibidor, sala, comedor, cocina, medio baã?â±o. p.a. hall de tv, 3 recã?â¡maras la ppal. con baã?â±o y vestidor las otras comparte baã?â±o. tambiã?â©n cuenta con un departamento con sala - comedor 2 recã?â¡maras con closet y un baã?â±o completo con tina. cochera techada para 4 autos.  tambiã?â©n cuenta con salã?â³n de juegos, con baã?â±o completo. cuarto de servicio, terraza de fiestas, cuarto de herramientas, otra pequeã?â±a casita con baã?â±o, un pequeã?â±o chapoteadero, ã?â¡rboles frutales, dos entradas por diferentes calles, muy cerca de la casa club.</td>\n",
       "      <td>Casa</td>\n",
       "    </tr>\n",
       "    <tr>\n",
       "      <th>15598</th>\n",
       "      <td>111329</td>\n",
       "      <td>casas en venta villa magna</td>\n",
       "      <td>espectacular casa en esquina  con vista a la ciudad en villa magna. en la primera planta cuenta con doble altura sala, comedor, medio baã?â±o, cocina integral con granito muy amplia, jardã?â­n, cochera techada para dos autos, y entrada independiente al jardã?â­n. en la segunda planta cuenta con hall de tv. 3 recã?â¡maras con baã?â±os y closets barandal con vidrio templado y acero inoxidable asã?â­ como 2 terracitas en cuartos y en la tercera planta un roof garden que abarca toda la dimensiã?â³n de la casa con asador una vista impresionante y un cuarto con baã?â±o completo, entrada independiente para ã?â¡rea de lavado. ã?â¡ã?â¡ã?â¡conoceme te encantara!!!\\n\\nterreno 220 m2 / construcciã?â³n 350 m2</td>\n",
       "      <td>Casa</td>\n",
       "    </tr>\n",
       "    <tr>\n",
       "      <th>15763</th>\n",
       "      <td>231968</td>\n",
       "      <td>casas de campo en venta santa maria del rio</td>\n",
       "      <td>agua, luz, fosa septica, aljibe de 18m3, 4 rec, 2 baã?â??os, sala, comedor, cocina, cava, lamacen, cto de lavado</td>\n",
       "      <td>Casa</td>\n",
       "    </tr>\n",
       "    <tr>\n",
       "      <th>16949</th>\n",
       "      <td>1517</td>\n",
       "      <td>venta de casa en boca del río</td>\n",
       "      <td>casa con terreno con excelente ubicacion, zona de gran plusvalia y crecimiento, a una cuadra del boulevard miguel aleman, sobre avenida principal, ideal para construir desarrollos, condominios u oficina. casa muy fresca lista para habitarse, ladosombra, cuenta con sala, comedor, cocina, 2 baños completos, 2 recamaras, terraza y jardin trasero. informes asesor gabriela campos</td>\n",
       "      <td>Casa</td>\n",
       "    </tr>\n",
       "    <tr>\n",
       "      <th>17512</th>\n",
       "      <td>78161</td>\n",
       "      <td>terrenos en venta san luis</td>\n",
       "      <td>NaN</td>\n",
       "      <td>Terreno</td>\n",
       "    </tr>\n",
       "    <tr>\n",
       "      <th>20067</th>\n",
       "      <td>170109</td>\n",
       "      <td>comercio - blvd. interlomas</td>\n",
       "      <td>excelente local comercial ubicado en la planta baja del centro comercial interlomas a unos metros del restaurante matisse, cuenta con un tapanco de aproximadamente 10 metros, area de recepcion y tres privados, 2 cajones de estacionamiento.\\nmantenimiento de  pesos</td>\n",
       "      <td>Local Comercial</td>\n",
       "    </tr>\n",
       "    <tr>\n",
       "      <th>25310</th>\n",
       "      <td>49448</td>\n",
       "      <td>departamento villas wayak modelo xel- há 2 nivel</td>\n",
       "      <td>&lt;p&gt;disfrute una majestuosa vista al mar desde uno de nuestros cómodos departamentos, que te ofrecen a ti y a tu familia amplios espacios y una ubicación privilegiada.\\n&lt;/p&gt;&lt;p&gt;\\n&lt;/p&gt;&lt;p&gt;12 amplios departamentos.\\n&lt;/p&gt;&lt;p&gt;4 penthouse con solarium.\\n&lt;/p&gt;&lt;p&gt;elija el estilo de departamento que se ajuste a su gusto:\\n&lt;/p&gt;&lt;p&gt;\\n&lt;/p&gt;&lt;p&gt;departamento suite\\n&lt;/p&gt;&lt;p&gt;departamento estudio\\n&lt;/p&gt;&lt;p&gt;penthouse\\n&lt;/p&gt;&lt;p&gt;villas wayak ofrece a sus residentes lujosas instalaciones recreativas y de esparcimiento familiar para disfrutar de un estilo de vida privilegiado.\\n&lt;/p&gt;&lt;p&gt;\\n&lt;/p&gt;&lt;p&gt;nuestras áreas han sido creadas para todos los gustos y necesidades, desde diversión hasta encontrar un espacio único para relajarse dentro de un entorno natural.&lt;/p&gt;&lt;p&gt;otras características:&lt;/p&gt;&lt;p&gt;número de elevadores: 1, vigilancia: si, &lt;/p&gt;</td>\n",
       "      <td>Apartamento</td>\n",
       "    </tr>\n",
       "    <tr>\n",
       "      <th>26290</th>\n",
       "      <td>273036</td>\n",
       "      <td>casas en venta minas del real</td>\n",
       "      <td>patio trasero, reja de malla</td>\n",
       "      <td>Casa</td>\n",
       "    </tr>\n",
       "    <tr>\n",
       "      <th>28628</th>\n",
       "      <td>24043</td>\n",
       "      <td>locales en venta central de abastos</td>\n",
       "      <td>** lc  locales comerciales en via principal. 4m de anden, estacionamiento 48m2, 6 m de altura libre, estructura de concreto armado, losa macisa de concreto. cuenta con oficinas, 3 privados, 2 sanita, sala de juntas. energia electrica 110 v, cisterna de 16 000l.</td>\n",
       "      <td>Local Comercial</td>\n",
       "    </tr>\n",
       "    <tr>\n",
       "      <th>44916</th>\n",
       "      <td>162314</td>\n",
       "      <td>en venta carr zacatecas</td>\n",
       "      <td>cabaã¯â¿â½a de una planta, 3 recamaras, sala comedor, cocineta baã¯â¿â½o completo, 1/2 closet, las otras dos recamaras no tienen closet pero esta el espacio para  poner closet, jardin con azador dos  1/2 baã¯â¿â½os para muijeres y 2 1/2 baã¯â¿â½os para hombres, cuarto de ser</td>\n",
       "      <td>Quinta Vacacional</td>\n",
       "    </tr>\n",
       "    <tr>\n",
       "      <th>45331</th>\n",
       "      <td>11234</td>\n",
       "      <td>exclusiva casa en el norte de merida!!,  san ramon nte</td>\n",
       "      <td>&lt;p&gt;exclusiva y novedosa residencia en san ramón nte, inmejorable zona de alto crecimiento residencial y alta plusvalía de mérida, con fácil acceso a las principales vialidades, escuelas, universidades, plazas comerciales y hospitales de prestigio\\n&lt;/p&gt;&lt;p&gt;\\n&lt;/p&gt;&lt;p&gt;una casa elegante con toque de buen gusto. iluminada, y ventilación al natural. con un estilo moderno-minimalista que lo enamora\\n&lt;/p&gt;&lt;p&gt;\\n&lt;/p&gt;&lt;p&gt;\\n&lt;/p&gt;&lt;p&gt;\\n&lt;/p&gt;&lt;p&gt;\\n&lt;/p&gt;&lt;p&gt;consta de :\\n&lt;/p&gt;&lt;p&gt;\\n&lt;/p&gt;&lt;p&gt;planta baja\\n&lt;/p&gt;&lt;p&gt;- garaje techado para 2 autos\\n&lt;/p&gt;&lt;p&gt;- sala- comedor con vista al jardin y piscina\\n&lt;/p&gt;&lt;p&gt;- cocina integral con barra desayunadora y alacena amplia\\n&lt;/p&gt;&lt;p&gt;- cuarto de servicio con baño completo\\n&lt;/p&gt;&lt;p&gt;- terraza techada con bar\\n&lt;/p&gt;&lt;p&gt;- 1 cuarto con baño completo con salida a jardin y terraza\\n&lt;/p&gt;&lt;p&gt;- piscina con acabados de lujo\\n&lt;/p&gt;&lt;p&gt;\\n&lt;/p&gt;&lt;p&gt;planta alta\\n&lt;/p&gt;&lt;p&gt;- cuarto principal con baño completo, lavabo doble y closet vestidor\\n&lt;/p&gt;&lt;p&gt;- cuarto 2: con baño y closet\\n&lt;/p&gt;&lt;p&gt;- cuarto 3: con baño y closet\\n&lt;/p&gt;&lt;p&gt;&lt;/p&gt;</td>\n",
       "      <td>Casa</td>\n",
       "    </tr>\n",
       "    <tr>\n",
       "      <th>47533</th>\n",
       "      <td>34286</td>\n",
       "      <td>casas en venta balcones del valle</td>\n",
       "      <td>planta alta: recibidor 3 recamaras la principal con baã?o completo y tina vestidor con closets,cuarto para otro closet, las otras dos comparten baã?o,1 con terraza, otro cuarto pequeã?o para guardar cosas.\\n\\nplanta baja: cochera para dos autos,cocina integral</td>\n",
       "      <td>Casa en condominio</td>\n",
       "    </tr>\n",
       "    <tr>\n",
       "      <th>50496</th>\n",
       "      <td>286805</td>\n",
       "      <td>casas en venta candiles</td>\n",
       "      <td>NaN</td>\n",
       "      <td>Casa</td>\n",
       "    </tr>\n",
       "    <tr>\n",
       "      <th>58002</th>\n",
       "      <td>188386</td>\n",
       "      <td>en venta villa rica</td>\n",
       "      <td>NaN</td>\n",
       "      <td>Casa</td>\n",
       "    </tr>\n",
       "    <tr>\n",
       "      <th>65448</th>\n",
       "      <td>271322</td>\n",
       "      <td>locales en venta carr rio verde</td>\n",
       "      <td>***opcion  lc  locales comerciales, pb.: 1o.; 35 m2 con 1/2 baã¯â¿â½o. 2o.; 55 m2 con 1/2 baã¯â¿â½o. pa.: 3o. 100m2 con 2 medios baã¯â¿â½os, cocineta y barra, cuenta con todos los servicios (energia electrica por separado, agua es  para los 3 locales), t</td>\n",
       "      <td>Local Comercial</td>\n",
       "    </tr>\n",
       "    <tr>\n",
       "      <th>66085</th>\n",
       "      <td>244122</td>\n",
       "      <td>casas en condominio - av. club de golf lomas</td>\n",
       "      <td>excelente casa en condominio horizontal en el nuevo desarrollo residencial orizzonte ubicado en el fraccionamiento club de golf lomas country. cada casa es independiente pero cuenta con los servicios de un condominio: alberca, gimnasio, spa, ludoteca y áreas comunes. \\ncada propietario puede decidir los acabados que más le gusten para su casa, además de tener diferentes opciones de espacio en el garage y tamaño de los jardines. se entrega en obra negra y con terminados exteriores. fecha aproximada de entrega  agosto  2015.</td>\n",
       "      <td>Casa en condominio</td>\n",
       "    </tr>\n",
       "    <tr>\n",
       "      <th>94778</th>\n",
       "      <td>208435</td>\n",
       "      <td>casas en venta horizontes residencial</td>\n",
       "      <td>lotes  93 y  96  **casa dos plantas 3 recamaras ,todas  con baã?o, la principal con vestidor sala comedor,  cocina integral amplia,  alacena, 1/2 baã?o, hall t.v.,   area de lavado, jardin, cochera 2 autos  techada, cisterna.</td>\n",
       "      <td>Casa</td>\n",
       "    </tr>\n",
       "    <tr>\n",
       "      <th>95612</th>\n",
       "      <td>268952</td>\n",
       "      <td>terrenos en venta villamagna</td>\n",
       "      <td>excelente terreno, muy buena oportunidad</td>\n",
       "      <td>Terreno</td>\n",
       "    </tr>\n",
       "    <tr>\n",
       "      <th>96956</th>\n",
       "      <td>287353</td>\n",
       "      <td>bodega en otumba, gustavo baz, cerca de la coca cola</td>\n",
       "      <td>bodega de otumba, con sala de juntas, espacio para almacenaje y área de oficinas en el segundo nivel.\\nactualmente está rentada. easybroker id: eb-q2258</td>\n",
       "      <td>Oficina comercial</td>\n",
       "    </tr>\n",
       "    <tr>\n",
       "      <th>98161</th>\n",
       "      <td>208660</td>\n",
       "      <td>en venta ojaranza chalets</td>\n",
       "      <td>chalet 2 recamaras la principal con vestidor y baã?o, otro baã?o completo, sala comedor, cocina integral area de servicio con entrada independiente bodega , estacionamiento para 2 autos.\\n\\nla privada cuenta con los servicois:\\n\\nsalon de eventos, salon de jueg</td>\n",
       "      <td>Casa</td>\n",
       "    </tr>\n",
       "    <tr>\n",
       "      <th>103035</th>\n",
       "      <td>247550</td>\n",
       "      <td>casas en condominio - av. lomas encanto</td>\n",
       "      <td>excelente casa en condominio de tan solo cuatro vecinos, lista para ser ocupada, mucha luz natural gracias a sus grandes ventanales, de espacios amplios, techos altos, comoda distribucion. cuenta con cocina amplia con desayunador, estudio, agradable sala de t.v., recamaras con vestidor y baño, bodega.</td>\n",
       "      <td>Casa en condominio</td>\n",
       "    </tr>\n",
       "    <tr>\n",
       "      <th>106465</th>\n",
       "      <td>121158</td>\n",
       "      <td>casas en venta la joya</td>\n",
       "      <td>excelente estado de conservacion con opcion a 4 recamaras preparacion para electrificar porton jardin interior acepta bienes (autos/terrenos) y alarma con circuito cerrado</td>\n",
       "      <td>Casa</td>\n",
       "    </tr>\n",
       "    <tr>\n",
       "      <th>115794</th>\n",
       "      <td>87335</td>\n",
       "      <td>casas en venta lomas del pedregal</td>\n",
       "      <td>casas de lujo, en fraccionamiento pequeã?â??o a un lado del hospital lomas, o plaza 2012</td>\n",
       "      <td>Casa</td>\n",
       "    </tr>\n",
       "    <tr>\n",
       "      <th>131538</th>\n",
       "      <td>116902</td>\n",
       "      <td>venta de terreno en boca del río</td>\n",
       "      <td>terreno con excelente ubicacion, zona de gran plus valia y crecimiento, a una cuadra del boulevard miguel aleman, sobre avenida principal, ideal para construir desarrollos, condominios, oficina o consultorios. informes asesor gabriela campos</td>\n",
       "      <td>Terreno comercial</td>\n",
       "    </tr>\n",
       "    <tr>\n",
       "      <th>132639</th>\n",
       "      <td>217445</td>\n",
       "      <td>casas en venta fraccionamiento tulipanes</td>\n",
       "      <td>excelente casa, muy buena ubicacion</td>\n",
       "      <td>Casa</td>\n",
       "    </tr>\n",
       "    <tr>\n",
       "      <th>134118</th>\n",
       "      <td>155495</td>\n",
       "      <td>casas en venta villa de pozos</td>\n",
       "      <td>sala, comedor, antecomedor, aljibe, bomba para aljibe. lote:  y 24</td>\n",
       "      <td>Casa</td>\n",
       "    </tr>\n",
       "    <tr>\n",
       "      <th>149096</th>\n",
       "      <td>38804</td>\n",
       "      <td>casas en venta el refugio.</td>\n",
       "      <td>excelente casa, amplia y muy bien distribuida.</td>\n",
       "      <td>Casa</td>\n",
       "    </tr>\n",
       "    <tr>\n",
       "      <th>161448</th>\n",
       "      <td>158166</td>\n",
       "      <td>casas en venta horizontes residencial</td>\n",
       "      <td>lotes   97  y 157   **casa dos plantas 3 recamaras la principal con baã?o y vestidor, sala comedor,  cocina integral amplia,  alacena , 1/2 baã?o, area de lavado, jardin, cochera 2 autos sin techar,  cisterna.</td>\n",
       "      <td>Casa</td>\n",
       "    </tr>\n",
       "    <tr>\n",
       "      <th>167128</th>\n",
       "      <td>147449</td>\n",
       "      <td>terrenos en venta alamitos</td>\n",
       "      <td>NaN</td>\n",
       "      <td>Terreno</td>\n",
       "    </tr>\n",
       "    <tr>\n",
       "      <th>173021</th>\n",
       "      <td>170284</td>\n",
       "      <td>locales en venta villas de san lorenzo</td>\n",
       "      <td>distribuido como sala de espera, cafeteria, garage y estancia!</td>\n",
       "      <td>Local Comercial</td>\n",
       "    </tr>\n",
       "    <tr>\n",
       "      <th>175208</th>\n",
       "      <td>82387</td>\n",
       "      <td>casas en venta lomas 4a. secciã?â³n</td>\n",
       "      <td>casa en buen estado y buena ubicacion!!!</td>\n",
       "      <td>Casa</td>\n",
       "    </tr>\n",
       "    <tr>\n",
       "      <th>176650</th>\n",
       "      <td>249147</td>\n",
       "      <td>terrenos en venta gran peã?â??on</td>\n",
       "      <td>lotes  de terreno en privada en un fraccionamiento de primer nivel, con urbanizaciã?â³n de primera, concreto hidrã?â¡ulico, instalaciones ocultas, iluminaciã?â³n de calles ahorradoras de energã?â­a, controles de acceso y barda perimetral, dentro de un desarrollo urbano integralmente planeado,  con una ubicaciã?â³n privilegiada comunicando la ciudad con los centros de trabajo de la zona industrial. con esquemas de financiamiento inmejorables. plusvalã?â­a garantizada por la proyecciã?â³n de crecimiento de la zona.\\ndesde 160 m2 de 8 x 23\\n$3,200 x m2</td>\n",
       "      <td>Terreno</td>\n",
       "    </tr>\n",
       "    <tr>\n",
       "      <th>187891</th>\n",
       "      <td>56531</td>\n",
       "      <td>casas en venta horizontes residencial</td>\n",
       "      <td>una planta  3 recamaras. 2 baã?os completos 1 en recamara principal, sala comedor con 1 1/2 de altura, cocina abierta, con espacio para barra al comedor, area de lavado, pasillos,  puertas y   baã?os adaptados, para personas con capacidades, diferentes, coc</td>\n",
       "      <td>Casa</td>\n",
       "    </tr>\n",
       "    <tr>\n",
       "      <th>191135</th>\n",
       "      <td>238121</td>\n",
       "      <td>locales en venta satelite</td>\n",
       "      <td>** lc 036**  col. el aguaje 2000. zona sureste. 1/2 baã?â??o, mezanine, planta baja con doble altura, toma independiente de agua y luz. cuenta con cortina.</td>\n",
       "      <td>Local Comercial</td>\n",
       "    </tr>\n",
       "    <tr>\n",
       "      <th>197458</th>\n",
       "      <td>223385</td>\n",
       "      <td>terrenos en venta la loma club de golf</td>\n",
       "      <td>lote 9 privada del mayorazgo  m2 incluye accion  fraccionamiento de acceso controlado.\\n\\nvigilancia 24 horas\\n\\ncasa club con gimnasio, alberca, restaurante, salon de fiestas, spa, bar.\\n\\ncampo de golf 18 hoyos.\\n\\narroyos, cascadas, lagos, patos, cisn</td>\n",
       "      <td>Terreno</td>\n",
       "    </tr>\n",
       "    <tr>\n",
       "      <th>197899</th>\n",
       "      <td>11970</td>\n",
       "      <td>casas en venta fracc loma real</td>\n",
       "      <td>excelente casa 2 plantas 3 recamaras 1 1/2 baã?â??os, sakla, comedor, patio de serv, cohera 1 auto</td>\n",
       "      <td>Casa</td>\n",
       "    </tr>\n",
       "    <tr>\n",
       "      <th>201467</th>\n",
       "      <td>132580</td>\n",
       "      <td>locales en venta centro historico</td>\n",
       "      <td>casa ubicada en el centro historico de san luis potosi, ideal para negocio como: restaurant-bar, oficinas, local comercial.... etc.. son 2 locales en pb, y la puerta de acceso a la planta alta</td>\n",
       "      <td>Local Comercial</td>\n",
       "    </tr>\n",
       "    <tr>\n",
       "      <th>202066</th>\n",
       "      <td>293611</td>\n",
       "      <td>terrenos en venta residencial del parque</td>\n",
       "      <td>precio de contado..</td>\n",
       "      <td>Terreno</td>\n",
       "    </tr>\n",
       "    <tr>\n",
       "      <th>205172</th>\n",
       "      <td>122418</td>\n",
       "      <td>casas en venta loma real</td>\n",
       "      <td>prototipo galicia, 3 recamaras sala  comedor 1 planta amplias areas verdes canchas deportivas en el fraccionamiento construcciã¯â¿â½n con tabique rojo.</td>\n",
       "      <td>Casa</td>\n",
       "    </tr>\n",
       "    <tr>\n",
       "      <th>206154</th>\n",
       "      <td>261646</td>\n",
       "      <td>casas en venta horizontes residencial</td>\n",
       "      <td>casa dos plantas 3 recamaras , la principal con vestidor y baã?o sala comedor, terraza desayunador exterior,  cocina integral amplia,  alacena, 1/2 baã?o, hall t.v.,   area de lavado, jardin, cochera 2 autos , hall t.v.</td>\n",
       "      <td>Casa</td>\n",
       "    </tr>\n",
       "    <tr>\n",
       "      <th>215468</th>\n",
       "      <td>268706</td>\n",
       "      <td>terrenos en venta villamagna</td>\n",
       "      <td>excelentes terrenos, muy buena oportunidad</td>\n",
       "      <td>Terreno</td>\n",
       "    </tr>\n",
       "    <tr>\n",
       "      <th>217221</th>\n",
       "      <td>212213</td>\n",
       "      <td>locales en venta villas de san lorenzo</td>\n",
       "      <td>carwash con sala de espera, cuarto de maquinas, cafeteria, area de empleados, un baã?o completo y 3 medios baã?os. 4 bahias de lavado, 8 cajones de estacionamiento. 3 cisternas, hidrolavado a presion, sistema electrico bi y monofasico, boveda catalana. todo</td>\n",
       "      <td>Local Comercial</td>\n",
       "    </tr>\n",
       "    <tr>\n",
       "      <th>218665</th>\n",
       "      <td>155905</td>\n",
       "      <td>casas en venta villa alborada</td>\n",
       "      <td>tiene cortina en la cochera para poder guardar el carro o  poner negocio!!!!, se remodelo y se techo la cohcera.</td>\n",
       "      <td>Casa</td>\n",
       "    </tr>\n",
       "    <tr>\n",
       "      <th>236452</th>\n",
       "      <td>94767</td>\n",
       "      <td>casas en venta horizontes residencial</td>\n",
       "      <td>excelente casa, cuenta con estudio en planta baja, que se puede usar como bar</td>\n",
       "      <td>Casa</td>\n",
       "    </tr>\n",
       "    <tr>\n",
       "      <th>13702</th>\n",
       "      <td>177475</td>\n",
       "      <td>casas en condominio - av. jesús del monte</td>\n",
       "      <td>bonita casa en condominio de 29 casas, de espacios amplios, distribuida en cuatro medios niveles, con muy buenos acabados y mucha luz natural, cocina amplia, calefaccion, bodega, dos recamaras con vestidor y cada una con baño. areas comunes. mantenimiento de  pesos.</td>\n",
       "      <td>Casa en condominio</td>\n",
       "    </tr>\n",
       "    <tr>\n",
       "      <th>15832</th>\n",
       "      <td>283008</td>\n",
       "      <td>comercio - revillagigedo</td>\n",
       "      <td>excelente local totalmente remodelado, con magnifica ubicacion, rodeado de comercios y gran afluencia de personas. \\nideal como inversión, cuenta con dos cortinas y dos accesos (por edificio y exterior), ubicado en planta baja de un edificio.</td>\n",
       "      <td>Local Comercial</td>\n",
       "    </tr>\n",
       "    <tr>\n",
       "      <th>26720</th>\n",
       "      <td>31177</td>\n",
       "      <td>locales en venta balcones del valle</td>\n",
       "      <td>oficinas pb: local 35m2 que actualmente esta rentado en  ier nivel: oficinas o consulto o despacho, 1 baã?â??o completo 36m2 3er nivel: bodega de 10m2</td>\n",
       "      <td>Local Comercial</td>\n",
       "    </tr>\n",
       "    <tr>\n",
       "      <th>38993</th>\n",
       "      <td>290726</td>\n",
       "      <td>casas de campo en venta fracc real del potosi</td>\n",
       "      <td>casa de campo, 3 recamaras, 2 baã?â??os, sala, comedor, chimenea, cocina integral, desayunador, jardin muy amplio, bodega, 2 ctos c/baã?â??o como salon de juegos, asador, cochera muy amplia hasta para 6 autos,</td>\n",
       "      <td>Quinta Vacacional</td>\n",
       "    </tr>\n",
       "    <tr>\n",
       "      <th>46981</th>\n",
       "      <td>288517</td>\n",
       "      <td>casas en venta villas merlot</td>\n",
       "      <td>excelente casa, en zona de casas muy bonitas</td>\n",
       "      <td>Casa</td>\n",
       "    </tr>\n",
       "    <tr>\n",
       "      <th>47296</th>\n",
       "      <td>274853</td>\n",
       "      <td>exclusiva residencia en sodzil nte, en venta</td>\n",
       "      <td>&lt;p&gt;estrena y forme parte de esta novedosa residencia en el norte meridano. ubicada en una zona de alta plusvalía y crecimiento residencial, con fácil acceso a las principales vialidades, escuelas, universidades, y hospitales de prestigio.\\n&lt;/p&gt;&lt;p&gt;minimalista, elegante, moderna y totalmente a la vanguardia , con detalles y acabados de primera en toda la residencia, ventilada e iluminada y excelentes espacios.\\n&lt;/p&gt;&lt;p&gt;\\n&lt;/p&gt;&lt;p&gt;\\n&lt;/p&gt;&lt;p&gt;**precio de renta $ \\n&lt;/p&gt;&lt;p&gt;\\n&lt;/p&gt;&lt;p&gt;planta baja\\n&lt;/p&gt;&lt;p&gt;\\n&lt;/p&gt;&lt;p&gt;\\tgaraje techado para 2 autos\\n&lt;/p&gt;&lt;p&gt;\\tsala comedor a doble altura con vista a jardín\\n&lt;/p&gt;&lt;p&gt;\\tcocina integral con acabados de granito\\n&lt;/p&gt;&lt;p&gt;\\tterraza\\n&lt;/p&gt;&lt;p&gt;\\t1 recamara con closet, con vista a jardín \\n&lt;/p&gt;&lt;p&gt;\\t1 baño completo\\n&lt;/p&gt;&lt;p&gt;\\tamplio jardín\\n&lt;/p&gt;&lt;p&gt;\\talberca con acabados y preparación con filtro\\n&lt;/p&gt;&lt;p&gt;\\n&lt;/p&gt;&lt;p&gt;planta baja\\n&lt;/p&gt;&lt;p&gt;\\n&lt;/p&gt;&lt;p&gt;\\t1 recamara principal, con closet vestidor con lavabo doble y baño completo\\n&lt;/p&gt;&lt;p&gt;\\trecamara 2 con closet y baño completo\\n&lt;/p&gt;&lt;p&gt;&lt;/p&gt;</td>\n",
       "      <td>Casa</td>\n",
       "    </tr>\n",
       "    <tr>\n",
       "      <th>50869</th>\n",
       "      <td>22332</td>\n",
       "      <td>casas en venta horizontes residencial</td>\n",
       "      <td>lotes   92 y 166   **casa dos plantas 3 recamaras la principal con baã?o y vestidor, sala comedor, antecomedor, cocina integral amplia, 1/2 baã?o, area de lavado, jardin, cochera 2 autos sin techar,  doble altura, hall t.v.,cto. servicio.</td>\n",
       "      <td>Casa</td>\n",
       "    </tr>\n",
       "  </tbody>\n",
       "</table>\n",
       "</div>"
      ],
      "text/plain": [
       "            id                                                  titulo  \\\n",
       "5307    230046  casas en venta                                           \n",
       "8273    68458   departamento en la playa, chicxulub                      \n",
       "13957   48797   casas de campo en venta real del potosi                  \n",
       "15598   111329  casas en venta villa magna                               \n",
       "15763   231968  casas de campo en venta santa maria del rio              \n",
       "16949   1517    venta de casa en boca del río                            \n",
       "17512   78161   terrenos en venta san luis                               \n",
       "20067   170109  comercio - blvd. interlomas                              \n",
       "25310   49448   departamento villas wayak modelo xel- há 2 nivel         \n",
       "26290   273036  casas en venta minas del real                            \n",
       "28628   24043   locales en venta central de abastos                      \n",
       "44916   162314  en venta carr zacatecas                                  \n",
       "45331   11234   exclusiva casa en el norte de merida!!,  san ramon nte   \n",
       "47533   34286   casas en venta balcones del valle                        \n",
       "50496   286805  casas en venta candiles                                  \n",
       "58002   188386  en venta villa rica                                      \n",
       "65448   271322  locales en venta carr rio verde                          \n",
       "66085   244122  casas en condominio - av. club de golf lomas             \n",
       "94778   208435  casas en venta horizontes residencial                    \n",
       "95612   268952  terrenos en venta villamagna                             \n",
       "96956   287353  bodega en otumba, gustavo baz, cerca de la coca cola     \n",
       "98161   208660  en venta ojaranza chalets                                \n",
       "103035  247550  casas en condominio - av. lomas encanto                  \n",
       "106465  121158  casas en venta la joya                                   \n",
       "115794  87335   casas en venta lomas del pedregal                        \n",
       "131538  116902  venta de terreno en boca del río                         \n",
       "132639  217445  casas en venta fraccionamiento tulipanes                 \n",
       "134118  155495  casas en venta villa de pozos                            \n",
       "149096  38804   casas en venta el refugio.                               \n",
       "161448  158166  casas en venta horizontes residencial                    \n",
       "167128  147449  terrenos en venta alamitos                               \n",
       "173021  170284  locales en venta villas de san lorenzo                   \n",
       "175208  82387   casas en venta lomas 4a. secciã?â³n                      \n",
       "176650  249147  terrenos en venta gran peã?â??on                         \n",
       "187891  56531   casas en venta horizontes residencial                    \n",
       "191135  238121  locales en venta satelite                                \n",
       "197458  223385  terrenos en venta la loma club de golf                   \n",
       "197899  11970   casas en venta fracc loma real                           \n",
       "201467  132580  locales en venta centro historico                        \n",
       "202066  293611  terrenos en venta residencial del parque                 \n",
       "205172  122418  casas en venta loma real                                 \n",
       "206154  261646  casas en venta horizontes residencial                    \n",
       "215468  268706  terrenos en venta villamagna                             \n",
       "217221  212213  locales en venta villas de san lorenzo                   \n",
       "218665  155905  casas en venta villa alborada                            \n",
       "236452  94767   casas en venta horizontes residencial                    \n",
       "13702   177475  casas en condominio - av. jesús del monte                \n",
       "15832   283008  comercio - revillagigedo                                 \n",
       "26720   31177   locales en venta balcones del valle                      \n",
       "38993   290726  casas de campo en venta fracc real del potosi            \n",
       "46981   288517  casas en venta villas merlot                             \n",
       "47296   274853  exclusiva residencia en sodzil nte, en venta             \n",
       "50869   22332   casas en venta horizontes residencial                    \n",
       "\n",
       "                                                                                                                                                                                                                                                                                                                                                                                                                                                                                                                                                                                                                                                                                                                                                                                                                                                                                                                                                                                                                                                                                                                                                                                                                                                                                                                                                                                                                                                                                                                                                                                                                                                                                                                                                                                                                                                                                                                                                                                                                                                                                                                                                                                                                                                                                                                                                                                                                                               descripcion  \\\n",
       "5307    en juriquilla. detras de la uvm, tres recamaras, sala ,comedor, cisterna,construcciã¯â¿â½n con tabique rojo.                                                                                                                                                                                                                                                                                                                                                                                                                                                                                                                                                                                                                                                                                                                                                                                                                                                                                                                                                                                                                                                                                                                                                                                                                                                                                                                                                                                                                                                                                                                                                                                                                                                                                                                                                                                                                                                                                                                                                                                                                                                                                                                                                                                                                                                                                                                                         \n",
       "8273    <p>13 departamentos vacacionales con acabados de lujo y amenidades\\n</p><p>de primer nivel.\\n</p><p>\\n</p><p>acqua siete es el primer desarrollo de residencias verticales frente al mar que combina la serena belleza natural de las playas de chicxulub, con la conveniencia de una ubicación extraordinaria en la que todos los servicios están al alcance de la mano. \\n</p><p>condominios amplios con insuperables vistas y dotados de lujosas amenidades a 15 minutos del norte de mérida, un lugar que querrás volver y disfrutar todos los días del año. \\n</p><p>acqua siete está hecho para disfrutarse todo el año. no importa el día, ni la hora del año, usted y su familia siempre podrá disfrutar de su departamento y de las áreas comunes gracias a un equipo de mantenimiento y servicio activo todo el año. \\n</p><p>equipamiento: \\n</p><p>el proyecto arquitectónico fue concebido para sorprender y distinguirse pero también para procurar la creación de una exclusiva comunidad de residentes que compartan su pasión por el mar, la playa y todo lo que la costa yucateca tiene para ofrecer. \\n</p><p>proponemos 2 plantas arquitectónicas para elegir de acorde a los requerimientos de distribución, pero también a los gustos de los residentes. en todas ellas se busca maximizar y abrir al exterior al paisaje marino que lo rodea.\\n</p><p>el complejo contara con: \\n</p><p> 13 condominios y 2 pent house en una torre de 8 niveles\\n</p><p> elevadores\\n</p><p> control de acceso de vigilancia todos los días del año \\n</p><p> estacionamiento \\n</p><p> bodegas\\n</p><p> albercas con chapoteadero \\n</p><p> solárium \\n</p><p> jardines \\n</p><p> palapa bar \\n</p><p>todos los condominios contaran con: \\n</p><p> sala, comedor , cocina con vista al mar gracias a su diseño tipo open plan \\n</p><p> terraza techada \\n</p><p> baño de visitas\\n</p><p> bodega \\n</p><p> tres recamaras con baño y closet \\n</p><p> cuarto de servicio con baño \\n</p><p> área de lavado \\n</p><p> estacionamiento para dos vehículos \\n</p><p>pent house con roof garden: \\n</p><p>penthouse  m2 totales de los cuales son 86.22 m2 de roof garden y 237 m2 de área interior \\n</p><p>penthouse  m2 totales de los cuales son 80.22 m2 de roof garden y 260 m2 de área interior.\\n</p><p>\\n</p><p>*precios más iva\\n</p><p></p><p>otras características:</p><p>número de elevadores: 2, espacios para autos: 2, </p>   \n",
       "13957   casa en real del potosã?â­, cuenta con: 1 casa de dos plantas, recibidor, sala, comedor, cocina, medio baã?â±o. p.a. hall de tv, 3 recã?â¡maras la ppal. con baã?â±o y vestidor las otras comparte baã?â±o. tambiã?â©n cuenta con un departamento con sala - comedor 2 recã?â¡maras con closet y un baã?â±o completo con tina. cochera techada para 4 autos.  tambiã?â©n cuenta con salã?â³n de juegos, con baã?â±o completo. cuarto de servicio, terraza de fiestas, cuarto de herramientas, otra pequeã?â±a casita con baã?â±o, un pequeã?â±o chapoteadero, ã?â¡rboles frutales, dos entradas por diferentes calles, muy cerca de la casa club.                                                                                                                                                                                                                                                                                                                                                                                                                                                                                                                                                                                                                                                                                                                                                                                                                                                                                                                                                                                                                                                                                                                                                                                                                                                                                                                                                                                                                                                                                                                                                                                                                                                                                                                                                                                                    \n",
       "15598   espectacular casa en esquina  con vista a la ciudad en villa magna. en la primera planta cuenta con doble altura sala, comedor, medio baã?â±o, cocina integral con granito muy amplia, jardã?â­n, cochera techada para dos autos, y entrada independiente al jardã?â­n. en la segunda planta cuenta con hall de tv. 3 recã?â¡maras con baã?â±os y closets barandal con vidrio templado y acero inoxidable asã?â­ como 2 terracitas en cuartos y en la tercera planta un roof garden que abarca toda la dimensiã?â³n de la casa con asador una vista impresionante y un cuarto con baã?â±o completo, entrada independiente para ã?â¡rea de lavado. ã?â¡ã?â¡ã?â¡conoceme te encantara!!!\\n\\nterreno 220 m2 / construcciã?â³n 350 m2                                                                                                                                                                                                                                                                                                                                                                                                                                                                                                                                                                                                                                                                                                                                                                                                                                                                                                                                                                                                                                                                                                                                                                                                                                                                                                                                                                                                                                                                                                                                                                                                                                                                                                                    \n",
       "15763   agua, luz, fosa septica, aljibe de 18m3, 4 rec, 2 baã?â??os, sala, comedor, cocina, cava, lamacen, cto de lavado                                                                                                                                                                                                                                                                                                                                                                                                                                                                                                                                                                                                                                                                                                                                                                                                                                                                                                                                                                                                                                                                                                                                                                                                                                                                                                                                                                                                                                                                                                                                                                                                                                                                                                                                                                                                                                                                                                                                                                                                                                                                                                                                                                                                                                                                                                                                     \n",
       "16949   casa con terreno con excelente ubicacion, zona de gran plusvalia y crecimiento, a una cuadra del boulevard miguel aleman, sobre avenida principal, ideal para construir desarrollos, condominios u oficina. casa muy fresca lista para habitarse, ladosombra, cuenta con sala, comedor, cocina, 2 baños completos, 2 recamaras, terraza y jardin trasero. informes asesor gabriela campos                                                                                                                                                                                                                                                                                                                                                                                                                                                                                                                                                                                                                                                                                                                                                                                                                                                                                                                                                                                                                                                                                                                                                                                                                                                                                                                                                                                                                                                                                                                                                                                                                                                                                                                                                                                                                                                                                                                                                                                                                                                            \n",
       "17512   NaN                                                                                                                                                                                                                                                                                                                                                                                                                                                                                                                                                                                                                                                                                                                                                                                                                                                                                                                                                                                                                                                                                                                                                                                                                                                                                                                                                                                                                                                                                                                                                                                                                                                                                                                                                                                                                                                                                                                                                                                                                                                                                                                                                                                                                                                                                                                                                                                                                                                  \n",
       "20067   excelente local comercial ubicado en la planta baja del centro comercial interlomas a unos metros del restaurante matisse, cuenta con un tapanco de aproximadamente 10 metros, area de recepcion y tres privados, 2 cajones de estacionamiento.\\nmantenimiento de  pesos                                                                                                                                                                                                                                                                                                                                                                                                                                                                                                                                                                                                                                                                                                                                                                                                                                                                                                                                                                                                                                                                                                                                                                                                                                                                                                                                                                                                                                                                                                                                                                                                                                                                                                                                                                                                                                                                                                                                                                                                                                                                                                                                                                             \n",
       "25310   <p>disfrute una majestuosa vista al mar desde uno de nuestros cómodos departamentos, que te ofrecen a ti y a tu familia amplios espacios y una ubicación privilegiada.\\n</p><p>\\n</p><p>12 amplios departamentos.\\n</p><p>4 penthouse con solarium.\\n</p><p>elija el estilo de departamento que se ajuste a su gusto:\\n</p><p>\\n</p><p>departamento suite\\n</p><p>departamento estudio\\n</p><p>penthouse\\n</p><p>villas wayak ofrece a sus residentes lujosas instalaciones recreativas y de esparcimiento familiar para disfrutar de un estilo de vida privilegiado.\\n</p><p>\\n</p><p>nuestras áreas han sido creadas para todos los gustos y necesidades, desde diversión hasta encontrar un espacio único para relajarse dentro de un entorno natural.</p><p>otras características:</p><p>número de elevadores: 1, vigilancia: si, </p>                                                                                                                                                                                                                                                                                                                                                                                                                                                                                                                                                                                                                                                                                                                                                                                                                                                                                                                                                                                                                                                                                                                                                                                                                                                                                                                                                                                                                                                                                                                                                                                                           \n",
       "26290   patio trasero, reja de malla                                                                                                                                                                                                                                                                                                                                                                                                                                                                                                                                                                                                                                                                                                                                                                                                                                                                                                                                                                                                                                                                                                                                                                                                                                                                                                                                                                                                                                                                                                                                                                                                                                                                                                                                                                                                                                                                                                                                                                                                                                                                                                                                                                                                                                                                                                                                                                                                                         \n",
       "28628   ** lc  locales comerciales en via principal. 4m de anden, estacionamiento 48m2, 6 m de altura libre, estructura de concreto armado, losa macisa de concreto. cuenta con oficinas, 3 privados, 2 sanita, sala de juntas. energia electrica 110 v, cisterna de 16 000l.                                                                                                                                                                                                                                                                                                                                                                                                                                                                                                                                                                                                                                                                                                                                                                                                                                                                                                                                                                                                                                                                                                                                                                                                                                                                                                                                                                                                                                                                                                                                                                                                                                                                                                                                                                                                                                                                                                                                                                                                                                                                                                                                                                                \n",
       "44916   cabaã¯â¿â½a de una planta, 3 recamaras, sala comedor, cocineta baã¯â¿â½o completo, 1/2 closet, las otras dos recamaras no tienen closet pero esta el espacio para  poner closet, jardin con azador dos  1/2 baã¯â¿â½os para muijeres y 2 1/2 baã¯â¿â½os para hombres, cuarto de ser                                                                                                                                                                                                                                                                                                                                                                                                                                                                                                                                                                                                                                                                                                                                                                                                                                                                                                                                                                                                                                                                                                                                                                                                                                                                                                                                                                                                                                                                                                                                                                                                                                                                                                                                                                                                                                                                                                                                                                                                                                                                                                                                                                  \n",
       "45331   <p>exclusiva y novedosa residencia en san ramón nte, inmejorable zona de alto crecimiento residencial y alta plusvalía de mérida, con fácil acceso a las principales vialidades, escuelas, universidades, plazas comerciales y hospitales de prestigio\\n</p><p>\\n</p><p>una casa elegante con toque de buen gusto. iluminada, y ventilación al natural. con un estilo moderno-minimalista que lo enamora\\n</p><p>\\n</p><p>\\n</p><p>\\n</p><p>\\n</p><p>consta de :\\n</p><p>\\n</p><p>planta baja\\n</p><p>- garaje techado para 2 autos\\n</p><p>- sala- comedor con vista al jardin y piscina\\n</p><p>- cocina integral con barra desayunadora y alacena amplia\\n</p><p>- cuarto de servicio con baño completo\\n</p><p>- terraza techada con bar\\n</p><p>- 1 cuarto con baño completo con salida a jardin y terraza\\n</p><p>- piscina con acabados de lujo\\n</p><p>\\n</p><p>planta alta\\n</p><p>- cuarto principal con baño completo, lavabo doble y closet vestidor\\n</p><p>- cuarto 2: con baño y closet\\n</p><p>- cuarto 3: con baño y closet\\n</p><p></p>                                                                                                                                                                                                                                                                                                                                                                                                                                                                                                                                                                                                                                                                                                                                                                                                                                                                                                                                                                                                                                                                                                                                                                                                                                                                                                                                                                                            \n",
       "47533   planta alta: recibidor 3 recamaras la principal con baã?o completo y tina vestidor con closets,cuarto para otro closet, las otras dos comparten baã?o,1 con terraza, otro cuarto pequeã?o para guardar cosas.\\n\\nplanta baja: cochera para dos autos,cocina integral                                                                                                                                                                                                                                                                                                                                                                                                                                                                                                                                                                                                                                                                                                                                                                                                                                                                                                                                                                                                                                                                                                                                                                                                                                                                                                                                                                                                                                                                                                                                                                                                                                                                                                                                                                                                                                                                                                                                                                                                                                                                                                                                                                                 \n",
       "50496   NaN                                                                                                                                                                                                                                                                                                                                                                                                                                                                                                                                                                                                                                                                                                                                                                                                                                                                                                                                                                                                                                                                                                                                                                                                                                                                                                                                                                                                                                                                                                                                                                                                                                                                                                                                                                                                                                                                                                                                                                                                                                                                                                                                                                                                                                                                                                                                                                                                                                                  \n",
       "58002   NaN                                                                                                                                                                                                                                                                                                                                                                                                                                                                                                                                                                                                                                                                                                                                                                                                                                                                                                                                                                                                                                                                                                                                                                                                                                                                                                                                                                                                                                                                                                                                                                                                                                                                                                                                                                                                                                                                                                                                                                                                                                                                                                                                                                                                                                                                                                                                                                                                                                                  \n",
       "65448   ***opcion  lc  locales comerciales, pb.: 1o.; 35 m2 con 1/2 baã¯â¿â½o. 2o.; 55 m2 con 1/2 baã¯â¿â½o. pa.: 3o. 100m2 con 2 medios baã¯â¿â½os, cocineta y barra, cuenta con todos los servicios (energia electrica por separado, agua es  para los 3 locales), t                                                                                                                                                                                                                                                                                                                                                                                                                                                                                                                                                                                                                                                                                                                                                                                                                                                                                                                                                                                                                                                                                                                                                                                                                                                                                                                                                                                                                                                                                                                                                                                                                                                                                                                                                                                                                                                                                                                                                                                                                                                                                                                                                                                       \n",
       "66085   excelente casa en condominio horizontal en el nuevo desarrollo residencial orizzonte ubicado en el fraccionamiento club de golf lomas country. cada casa es independiente pero cuenta con los servicios de un condominio: alberca, gimnasio, spa, ludoteca y áreas comunes. \\ncada propietario puede decidir los acabados que más le gusten para su casa, además de tener diferentes opciones de espacio en el garage y tamaño de los jardines. se entrega en obra negra y con terminados exteriores. fecha aproximada de entrega  agosto  2015.                                                                                                                                                                                                                                                                                                                                                                                                                                                                                                                                                                                                                                                                                                                                                                                                                                                                                                                                                                                                                                                                                                                                                                                                                                                                                                                                                                                                                                                                                                                                                                                                                                                                                                                                                                                                                                                                                                     \n",
       "94778   lotes  93 y  96  **casa dos plantas 3 recamaras ,todas  con baã?o, la principal con vestidor sala comedor,  cocina integral amplia,  alacena, 1/2 baã?o, hall t.v.,   area de lavado, jardin, cochera 2 autos  techada, cisterna.                                                                                                                                                                                                                                                                                                                                                                                                                                                                                                                                                                                                                                                                                                                                                                                                                                                                                                                                                                                                                                                                                                                                                                                                                                                                                                                                                                                                                                                                                                                                                                                                                                                                                                                                                                                                                                                                                                                                                                                                                                                                                                                                                                                                                    \n",
       "95612   excelente terreno, muy buena oportunidad                                                                                                                                                                                                                                                                                                                                                                                                                                                                                                                                                                                                                                                                                                                                                                                                                                                                                                                                                                                                                                                                                                                                                                                                                                                                                                                                                                                                                                                                                                                                                                                                                                                                                                                                                                                                                                                                                                                                                                                                                                                                                                                                                                                                                                                                                                                                                                                                             \n",
       "96956   bodega de otumba, con sala de juntas, espacio para almacenaje y área de oficinas en el segundo nivel.\\nactualmente está rentada. easybroker id: eb-q2258                                                                                                                                                                                                                                                                                                                                                                                                                                                                                                                                                                                                                                                                                                                                                                                                                                                                                                                                                                                                                                                                                                                                                                                                                                                                                                                                                                                                                                                                                                                                                                                                                                                                                                                                                                                                                                                                                                                                                                                                                                                                                                                                                                                                                                                                                             \n",
       "98161   chalet 2 recamaras la principal con vestidor y baã?o, otro baã?o completo, sala comedor, cocina integral area de servicio con entrada independiente bodega , estacionamiento para 2 autos.\\n\\nla privada cuenta con los servicois:\\n\\nsalon de eventos, salon de jueg                                                                                                                                                                                                                                                                                                                                                                                                                                                                                                                                                                                                                                                                                                                                                                                                                                                                                                                                                                                                                                                                                                                                                                                                                                                                                                                                                                                                                                                                                                                                                                                                                                                                                                                                                                                                                                                                                                                                                                                                                                                                                                                                                                                \n",
       "103035  excelente casa en condominio de tan solo cuatro vecinos, lista para ser ocupada, mucha luz natural gracias a sus grandes ventanales, de espacios amplios, techos altos, comoda distribucion. cuenta con cocina amplia con desayunador, estudio, agradable sala de t.v., recamaras con vestidor y baño, bodega.                                                                                                                                                                                                                                                                                                                                                                                                                                                                                                                                                                                                                                                                                                                                                                                                                                                                                                                                                                                                                                                                                                                                                                                                                                                                                                                                                                                                                                                                                                                                                                                                                                                                                                                                                                                                                                                                                                                                                                                                                                                                                                                                       \n",
       "106465  excelente estado de conservacion con opcion a 4 recamaras preparacion para electrificar porton jardin interior acepta bienes (autos/terrenos) y alarma con circuito cerrado                                                                                                                                                                                                                                                                                                                                                                                                                                                                                                                                                                                                                                                                                                                                                                                                                                                                                                                                                                                                                                                                                                                                                                                                                                                                                                                                                                                                                                                                                                                                                                                                                                                                                                                                                                                                                                                                                                                                                                                                                                                                                                                                                                                                                                                                          \n",
       "115794  casas de lujo, en fraccionamiento pequeã?â??o a un lado del hospital lomas, o plaza 2012                                                                                                                                                                                                                                                                                                                                                                                                                                                                                                                                                                                                                                                                                                                                                                                                                                                                                                                                                                                                                                                                                                                                                                                                                                                                                                                                                                                                                                                                                                                                                                                                                                                                                                                                                                                                                                                                                                                                                                                                                                                                                                                                                                                                                                                                                                                                                             \n",
       "131538  terreno con excelente ubicacion, zona de gran plus valia y crecimiento, a una cuadra del boulevard miguel aleman, sobre avenida principal, ideal para construir desarrollos, condominios, oficina o consultorios. informes asesor gabriela campos                                                                                                                                                                                                                                                                                                                                                                                                                                                                                                                                                                                                                                                                                                                                                                                                                                                                                                                                                                                                                                                                                                                                                                                                                                                                                                                                                                                                                                                                                                                                                                                                                                                                                                                                                                                                                                                                                                                                                                                                                                                                                                                                                                                                    \n",
       "132639  excelente casa, muy buena ubicacion                                                                                                                                                                                                                                                                                                                                                                                                                                                                                                                                                                                                                                                                                                                                                                                                                                                                                                                                                                                                                                                                                                                                                                                                                                                                                                                                                                                                                                                                                                                                                                                                                                                                                                                                                                                                                                                                                                                                                                                                                                                                                                                                                                                                                                                                                                                                                                                                                  \n",
       "134118  sala, comedor, antecomedor, aljibe, bomba para aljibe. lote:  y 24                                                                                                                                                                                                                                                                                                                                                                                                                                                                                                                                                                                                                                                                                                                                                                                                                                                                                                                                                                                                                                                                                                                                                                                                                                                                                                                                                                                                                                                                                                                                                                                                                                                                                                                                                                                                                                                                                                                                                                                                                                                                                                                                                                                                                                                                                                                                                                                   \n",
       "149096  excelente casa, amplia y muy bien distribuida.                                                                                                                                                                                                                                                                                                                                                                                                                                                                                                                                                                                                                                                                                                                                                                                                                                                                                                                                                                                                                                                                                                                                                                                                                                                                                                                                                                                                                                                                                                                                                                                                                                                                                                                                                                                                                                                                                                                                                                                                                                                                                                                                                                                                                                                                                                                                                                                                       \n",
       "161448  lotes   97  y 157   **casa dos plantas 3 recamaras la principal con baã?o y vestidor, sala comedor,  cocina integral amplia,  alacena , 1/2 baã?o, area de lavado, jardin, cochera 2 autos sin techar,  cisterna.                                                                                                                                                                                                                                                                                                                                                                                                                                                                                                                                                                                                                                                                                                                                                                                                                                                                                                                                                                                                                                                                                                                                                                                                                                                                                                                                                                                                                                                                                                                                                                                                                                                                                                                                                                                                                                                                                                                                                                                                                                                                                                                                                                                                                                    \n",
       "167128  NaN                                                                                                                                                                                                                                                                                                                                                                                                                                                                                                                                                                                                                                                                                                                                                                                                                                                                                                                                                                                                                                                                                                                                                                                                                                                                                                                                                                                                                                                                                                                                                                                                                                                                                                                                                                                                                                                                                                                                                                                                                                                                                                                                                                                                                                                                                                                                                                                                                                                  \n",
       "173021  distribuido como sala de espera, cafeteria, garage y estancia!                                                                                                                                                                                                                                                                                                                                                                                                                                                                                                                                                                                                                                                                                                                                                                                                                                                                                                                                                                                                                                                                                                                                                                                                                                                                                                                                                                                                                                                                                                                                                                                                                                                                                                                                                                                                                                                                                                                                                                                                                                                                                                                                                                                                                                                                                                                                                                                       \n",
       "175208  casa en buen estado y buena ubicacion!!!                                                                                                                                                                                                                                                                                                                                                                                                                                                                                                                                                                                                                                                                                                                                                                                                                                                                                                                                                                                                                                                                                                                                                                                                                                                                                                                                                                                                                                                                                                                                                                                                                                                                                                                                                                                                                                                                                                                                                                                                                                                                                                                                                                                                                                                                                                                                                                                                             \n",
       "176650  lotes  de terreno en privada en un fraccionamiento de primer nivel, con urbanizaciã?â³n de primera, concreto hidrã?â¡ulico, instalaciones ocultas, iluminaciã?â³n de calles ahorradoras de energã?â­a, controles de acceso y barda perimetral, dentro de un desarrollo urbano integralmente planeado,  con una ubicaciã?â³n privilegiada comunicando la ciudad con los centros de trabajo de la zona industrial. con esquemas de financiamiento inmejorables. plusvalã?â­a garantizada por la proyecciã?â³n de crecimiento de la zona.\\ndesde 160 m2 de 8 x 23\\n$3,200 x m2                                                                                                                                                                                                                                                                                                                                                                                                                                                                                                                                                                                                                                                                                                                                                                                                                                                                                                                                                                                                                                                                                                                                                                                                                                                                                                                                                                                                                                                                                                                                                                                                                                                                                                                                                                                                                                                                          \n",
       "187891  una planta  3 recamaras. 2 baã?os completos 1 en recamara principal, sala comedor con 1 1/2 de altura, cocina abierta, con espacio para barra al comedor, area de lavado, pasillos,  puertas y   baã?os adaptados, para personas con capacidades, diferentes, coc                                                                                                                                                                                                                                                                                                                                                                                                                                                                                                                                                                                                                                                                                                                                                                                                                                                                                                                                                                                                                                                                                                                                                                                                                                                                                                                                                                                                                                                                                                                                                                                                                                                                                                                                                                                                                                                                                                                                                                                                                                                                                                                                                                                    \n",
       "191135  ** lc 036**  col. el aguaje 2000. zona sureste. 1/2 baã?â??o, mezanine, planta baja con doble altura, toma independiente de agua y luz. cuenta con cortina.                                                                                                                                                                                                                                                                                                                                                                                                                                                                                                                                                                                                                                                                                                                                                                                                                                                                                                                                                                                                                                                                                                                                                                                                                                                                                                                                                                                                                                                                                                                                                                                                                                                                                                                                                                                                                                                                                                                                                                                                                                                                                                                                                                                                                                                                                          \n",
       "197458  lote 9 privada del mayorazgo  m2 incluye accion  fraccionamiento de acceso controlado.\\n\\nvigilancia 24 horas\\n\\ncasa club con gimnasio, alberca, restaurante, salon de fiestas, spa, bar.\\n\\ncampo de golf 18 hoyos.\\n\\narroyos, cascadas, lagos, patos, cisn                                                                                                                                                                                                                                                                                                                                                                                                                                                                                                                                                                                                                                                                                                                                                                                                                                                                                                                                                                                                                                                                                                                                                                                                                                                                                                                                                                                                                                                                                                                                                                                                                                                                                                                                                                                                                                                                                                                                                                                                                                                                                                                                                                                       \n",
       "197899  excelente casa 2 plantas 3 recamaras 1 1/2 baã?â??os, sakla, comedor, patio de serv, cohera 1 auto                                                                                                                                                                                                                                                                                                                                                                                                                                                                                                                                                                                                                                                                                                                                                                                                                                                                                                                                                                                                                                                                                                                                                                                                                                                                                                                                                                                                                                                                                                                                                                                                                                                                                                                                                                                                                                                                                                                                                                                                                                                                                                                                                                                                                                                                                                                                                   \n",
       "201467  casa ubicada en el centro historico de san luis potosi, ideal para negocio como: restaurant-bar, oficinas, local comercial.... etc.. son 2 locales en pb, y la puerta de acceso a la planta alta                                                                                                                                                                                                                                                                                                                                                                                                                                                                                                                                                                                                                                                                                                                                                                                                                                                                                                                                                                                                                                                                                                                                                                                                                                                                                                                                                                                                                                                                                                                                                                                                                                                                                                                                                                                                                                                                                                                                                                                                                                                                                                                                                                                                                                                     \n",
       "202066  precio de contado..                                                                                                                                                                                                                                                                                                                                                                                                                                                                                                                                                                                                                                                                                                                                                                                                                                                                                                                                                                                                                                                                                                                                                                                                                                                                                                                                                                                                                                                                                                                                                                                                                                                                                                                                                                                                                                                                                                                                                                                                                                                                                                                                                                                                                                                                                                                                                                                                                                  \n",
       "205172  prototipo galicia, 3 recamaras sala  comedor 1 planta amplias areas verdes canchas deportivas en el fraccionamiento construcciã¯â¿â½n con tabique rojo.                                                                                                                                                                                                                                                                                                                                                                                                                                                                                                                                                                                                                                                                                                                                                                                                                                                                                                                                                                                                                                                                                                                                                                                                                                                                                                                                                                                                                                                                                                                                                                                                                                                                                                                                                                                                                                                                                                                                                                                                                                                                                                                                                                                                                                                                                              \n",
       "206154  casa dos plantas 3 recamaras , la principal con vestidor y baã?o sala comedor, terraza desayunador exterior,  cocina integral amplia,  alacena, 1/2 baã?o, hall t.v.,   area de lavado, jardin, cochera 2 autos , hall t.v.                                                                                                                                                                                                                                                                                                                                                                                                                                                                                                                                                                                                                                                                                                                                                                                                                                                                                                                                                                                                                                                                                                                                                                                                                                                                                                                                                                                                                                                                                                                                                                                                                                                                                                                                                                                                                                                                                                                                                                                                                                                                                                                                                                                                                          \n",
       "215468  excelentes terrenos, muy buena oportunidad                                                                                                                                                                                                                                                                                                                                                                                                                                                                                                                                                                                                                                                                                                                                                                                                                                                                                                                                                                                                                                                                                                                                                                                                                                                                                                                                                                                                                                                                                                                                                                                                                                                                                                                                                                                                                                                                                                                                                                                                                                                                                                                                                                                                                                                                                                                                                                                                           \n",
       "217221  carwash con sala de espera, cuarto de maquinas, cafeteria, area de empleados, un baã?o completo y 3 medios baã?os. 4 bahias de lavado, 8 cajones de estacionamiento. 3 cisternas, hidrolavado a presion, sistema electrico bi y monofasico, boveda catalana. todo                                                                                                                                                                                                                                                                                                                                                                                                                                                                                                                                                                                                                                                                                                                                                                                                                                                                                                                                                                                                                                                                                                                                                                                                                                                                                                                                                                                                                                                                                                                                                                                                                                                                                                                                                                                                                                                                                                                                                                                                                                                                                                                                                                                    \n",
       "218665  tiene cortina en la cochera para poder guardar el carro o  poner negocio!!!!, se remodelo y se techo la cohcera.                                                                                                                                                                                                                                                                                                                                                                                                                                                                                                                                                                                                                                                                                                                                                                                                                                                                                                                                                                                                                                                                                                                                                                                                                                                                                                                                                                                                                                                                                                                                                                                                                                                                                                                                                                                                                                                                                                                                                                                                                                                                                                                                                                                                                                                                                                                                     \n",
       "236452  excelente casa, cuenta con estudio en planta baja, que se puede usar como bar                                                                                                                                                                                                                                                                                                                                                                                                                                                                                                                                                                                                                                                                                                                                                                                                                                                                                                                                                                                                                                                                                                                                                                                                                                                                                                                                                                                                                                                                                                                                                                                                                                                                                                                                                                                                                                                                                                                                                                                                                                                                                                                                                                                                                                                                                                                                                                        \n",
       "13702   bonita casa en condominio de 29 casas, de espacios amplios, distribuida en cuatro medios niveles, con muy buenos acabados y mucha luz natural, cocina amplia, calefaccion, bodega, dos recamaras con vestidor y cada una con baño. areas comunes. mantenimiento de  pesos.                                                                                                                                                                                                                                                                                                                                                                                                                                                                                                                                                                                                                                                                                                                                                                                                                                                                                                                                                                                                                                                                                                                                                                                                                                                                                                                                                                                                                                                                                                                                                                                                                                                                                                                                                                                                                                                                                                                                                                                                                                                                                                                                                                           \n",
       "15832   excelente local totalmente remodelado, con magnifica ubicacion, rodeado de comercios y gran afluencia de personas. \\nideal como inversión, cuenta con dos cortinas y dos accesos (por edificio y exterior), ubicado en planta baja de un edificio.                                                                                                                                                                                                                                                                                                                                                                                                                                                                                                                                                                                                                                                                                                                                                                                                                                                                                                                                                                                                                                                                                                                                                                                                                                                                                                                                                                                                                                                                                                                                                                                                                                                                                                                                                                                                                                                                                                                                                                                                                                                                                                                                                                                                   \n",
       "26720   oficinas pb: local 35m2 que actualmente esta rentado en  ier nivel: oficinas o consulto o despacho, 1 baã?â??o completo 36m2 3er nivel: bodega de 10m2                                                                                                                                                                                                                                                                                                                                                                                                                                                                                                                                                                                                                                                                                                                                                                                                                                                                                                                                                                                                                                                                                                                                                                                                                                                                                                                                                                                                                                                                                                                                                                                                                                                                                                                                                                                                                                                                                                                                                                                                                                                                                                                                                                                                                                                                                               \n",
       "38993   casa de campo, 3 recamaras, 2 baã?â??os, sala, comedor, chimenea, cocina integral, desayunador, jardin muy amplio, bodega, 2 ctos c/baã?â??o como salon de juegos, asador, cochera muy amplia hasta para 6 autos,                                                                                                                                                                                                                                                                                                                                                                                                                                                                                                                                                                                                                                                                                                                                                                                                                                                                                                                                                                                                                                                                                                                                                                                                                                                                                                                                                                                                                                                                                                                                                                                                                                                                                                                                                                                                                                                                                                                                                                                                                                                                                                                                                                                                                                    \n",
       "46981   excelente casa, en zona de casas muy bonitas                                                                                                                                                                                                                                                                                                                                                                                                                                                                                                                                                                                                                                                                                                                                                                                                                                                                                                                                                                                                                                                                                                                                                                                                                                                                                                                                                                                                                                                                                                                                                                                                                                                                                                                                                                                                                                                                                                                                                                                                                                                                                                                                                                                                                                                                                                                                                                                                         \n",
       "47296   <p>estrena y forme parte de esta novedosa residencia en el norte meridano. ubicada en una zona de alta plusvalía y crecimiento residencial, con fácil acceso a las principales vialidades, escuelas, universidades, y hospitales de prestigio.\\n</p><p>minimalista, elegante, moderna y totalmente a la vanguardia , con detalles y acabados de primera en toda la residencia, ventilada e iluminada y excelentes espacios.\\n</p><p>\\n</p><p>\\n</p><p>**precio de renta $ \\n</p><p>\\n</p><p>planta baja\\n</p><p>\\n</p><p>\\tgaraje techado para 2 autos\\n</p><p>\\tsala comedor a doble altura con vista a jardín\\n</p><p>\\tcocina integral con acabados de granito\\n</p><p>\\tterraza\\n</p><p>\\t1 recamara con closet, con vista a jardín \\n</p><p>\\t1 baño completo\\n</p><p>\\tamplio jardín\\n</p><p>\\talberca con acabados y preparación con filtro\\n</p><p>\\n</p><p>planta baja\\n</p><p>\\n</p><p>\\t1 recamara principal, con closet vestidor con lavabo doble y baño completo\\n</p><p>\\trecamara 2 con closet y baño completo\\n</p><p></p>                                                                                                                                                                                                                                                                                                                                                                                                                                                                                                                                                                                                                                                                                                                                                                                                                                                                                                                                                                                                                                                                                                                                                                                                                                                                                                                                                                                                           \n",
       "50869   lotes   92 y 166   **casa dos plantas 3 recamaras la principal con baã?o y vestidor, sala comedor, antecomedor, cocina integral amplia, 1/2 baã?o, area de lavado, jardin, cochera 2 autos sin techar,  doble altura, hall t.v.,cto. servicio.                                                                                                                                                                                                                                                                                                                                                                                                                                                                                                                                                                                                                                                                                                                                                                                                                                                                                                                                                                                                                                                                                                                                                                                                                                                                                                                                                                                                                                                                                                                                                                                                                                                                                                                                                                                                                                                                                                                                                                                                                                                                                                                                                                                                       \n",
       "\n",
       "           tipodepropiedad  \n",
       "5307    Casa                \n",
       "8273    Apartamento         \n",
       "13957   Casa                \n",
       "15598   Casa                \n",
       "15763   Casa                \n",
       "16949   Casa                \n",
       "17512   Terreno             \n",
       "20067   Local Comercial     \n",
       "25310   Apartamento         \n",
       "26290   Casa                \n",
       "28628   Local Comercial     \n",
       "44916   Quinta Vacacional   \n",
       "45331   Casa                \n",
       "47533   Casa en condominio  \n",
       "50496   Casa                \n",
       "58002   Casa                \n",
       "65448   Local Comercial     \n",
       "66085   Casa en condominio  \n",
       "94778   Casa                \n",
       "95612   Terreno             \n",
       "96956   Oficina comercial   \n",
       "98161   Casa                \n",
       "103035  Casa en condominio  \n",
       "106465  Casa                \n",
       "115794  Casa                \n",
       "131538  Terreno comercial   \n",
       "132639  Casa                \n",
       "134118  Casa                \n",
       "149096  Casa                \n",
       "161448  Casa                \n",
       "167128  Terreno             \n",
       "173021  Local Comercial     \n",
       "175208  Casa                \n",
       "176650  Terreno             \n",
       "187891  Casa                \n",
       "191135  Local Comercial     \n",
       "197458  Terreno             \n",
       "197899  Casa                \n",
       "201467  Local Comercial     \n",
       "202066  Terreno             \n",
       "205172  Casa                \n",
       "206154  Casa                \n",
       "215468  Terreno             \n",
       "217221  Local Comercial     \n",
       "218665  Casa                \n",
       "236452  Casa                \n",
       "13702   Casa en condominio  \n",
       "15832   Local Comercial     \n",
       "26720   Local Comercial     \n",
       "38993   Quinta Vacacional   \n",
       "46981   Casa                \n",
       "47296   Casa                \n",
       "50869   Casa                "
      ]
     },
     "execution_count": 156,
     "metadata": {},
     "output_type": "execute_result"
    }
   ],
   "source": [
    "test_tipodepropiedad[['id','titulo','descripcion',target_variable]]"
   ]
  },
  {
   "cell_type": "markdown",
   "metadata": {},
   "source": [
    "# metroscubiertos"
   ]
  },
  {
   "cell_type": "code",
   "execution_count": 13,
   "metadata": {},
   "outputs": [],
   "source": [
    "target_variable = 'metroscubiertos'"
   ]
  },
  {
   "cell_type": "markdown",
   "metadata": {},
   "source": [
    "En primer lugar creamos una variable que indica si el dato estuvo originalmente presente o no."
   ]
  },
  {
   "cell_type": "code",
   "execution_count": 8,
   "metadata": {},
   "outputs": [],
   "source": [
    "train['tiene_metroscubiertos'] = train['metroscubiertos'].notna()\n",
    "test['tiene_metroscubiertos'] = test['metroscubiertos'].notna()"
   ]
  },
  {
   "cell_type": "code",
   "execution_count": 10,
   "metadata": {},
   "outputs": [
    {
     "data": {
      "text/html": [
       "<div>\n",
       "<style scoped>\n",
       "    .dataframe tbody tr th:only-of-type {\n",
       "        vertical-align: middle;\n",
       "    }\n",
       "\n",
       "    .dataframe tbody tr th {\n",
       "        vertical-align: top;\n",
       "    }\n",
       "\n",
       "    .dataframe thead th {\n",
       "        text-align: right;\n",
       "    }\n",
       "</style>\n",
       "<table border=\"1\" class=\"dataframe\">\n",
       "  <thead>\n",
       "    <tr style=\"text-align: right;\">\n",
       "      <th></th>\n",
       "      <th>antiguedad</th>\n",
       "      <th>tiene_antiguedad</th>\n",
       "    </tr>\n",
       "  </thead>\n",
       "  <tbody>\n",
       "    <tr>\n",
       "      <th>55505</th>\n",
       "      <td>19.0</td>\n",
       "      <td>True</td>\n",
       "    </tr>\n",
       "    <tr>\n",
       "      <th>102768</th>\n",
       "      <td>10.0</td>\n",
       "      <td>True</td>\n",
       "    </tr>\n",
       "    <tr>\n",
       "      <th>77276</th>\n",
       "      <td>NaN</td>\n",
       "      <td>False</td>\n",
       "    </tr>\n",
       "    <tr>\n",
       "      <th>97701</th>\n",
       "      <td>NaN</td>\n",
       "      <td>False</td>\n",
       "    </tr>\n",
       "    <tr>\n",
       "      <th>160342</th>\n",
       "      <td>10.0</td>\n",
       "      <td>True</td>\n",
       "    </tr>\n",
       "  </tbody>\n",
       "</table>\n",
       "</div>"
      ],
      "text/plain": [
       "        antiguedad  tiene_antiguedad\n",
       "55505         19.0              True\n",
       "102768        10.0              True\n",
       "77276          NaN             False\n",
       "97701          NaN             False\n",
       "160342        10.0              True"
      ]
     },
     "execution_count": 10,
     "metadata": {},
     "output_type": "execute_result"
    }
   ],
   "source": [
    "train[['antiguedad','tiene_antiguedad']].sample(5)"
   ]
  },
  {
   "cell_type": "code",
   "execution_count": 11,
   "metadata": {},
   "outputs": [],
   "source": [
    "train_tiene_antiguedad = train.loc[train['tiene_antiguedad']]\n",
    "\n",
    "train_no_tiene_antiguedad = train.loc[~train['tiene_antiguedad']]\n",
    "\n",
    "test_tiene_antiguedad = test.loc[test['tiene_antiguedad']]\n",
    "\n",
    "test_no_tiene_antiguedad = test.loc[~test['tiene_antiguedad']]"
   ]
  },
  {
   "cell_type": "code",
   "execution_count": 12,
   "metadata": {},
   "outputs": [
    {
     "name": "stdout",
     "output_type": "stream",
     "text": [
      "performing grid search...\n",
      "Fitting 3 folds for each of 81 candidates, totalling 243 fits\n"
     ]
    },
    {
     "name": "stderr",
     "output_type": "stream",
     "text": [
      "[Parallel(n_jobs=-1)]: Using backend LokyBackend with 4 concurrent workers.\n",
      "[Parallel(n_jobs=-1)]: Done  10 tasks      | elapsed:   55.1s\n"
     ]
    },
    {
     "ename": "KeyboardInterrupt",
     "evalue": "",
     "output_type": "error",
     "traceback": [
      "\u001b[0;31m---------------------------------------------------------------------------\u001b[0m",
      "\u001b[0;31mKeyboardInterrupt\u001b[0m                         Traceback (most recent call last)",
      "\u001b[0;32m<ipython-input-12-a78620059e48>\u001b[0m in \u001b[0;36m<module>\u001b[0;34m\u001b[0m\n\u001b[1;32m     13\u001b[0m \u001b[0mprint\u001b[0m\u001b[0;34m(\u001b[0m\u001b[0;34m\"performing grid search...\"\u001b[0m\u001b[0;34m)\u001b[0m\u001b[0;34m\u001b[0m\u001b[0m\n\u001b[1;32m     14\u001b[0m grid_search.fit(train_tiene_antiguedad.drop(['id','fecha','titulo', 'descripcion', 'direccion','precio',target_variable],axis=1),\n\u001b[0;32m---> 15\u001b[0;31m                 train_tiene_antiguedad[target_variable])\n\u001b[0m\u001b[1;32m     16\u001b[0m \u001b[0;34m\u001b[0m\u001b[0m\n\u001b[1;32m     17\u001b[0m \u001b[0mprint\u001b[0m\u001b[0;34m(\u001b[0m\u001b[0;34m\"best estimator:\"\u001b[0m\u001b[0;34m,\u001b[0m \u001b[0mgrid_search\u001b[0m\u001b[0;34m.\u001b[0m\u001b[0mbest_estimator_\u001b[0m\u001b[0;34m)\u001b[0m\u001b[0;34m\u001b[0m\u001b[0m\n",
      "\u001b[0;32m~/Documents/Univerza/UBA/7506 Organizacion de Datos/2c2019/tp2/venv/lib/python3.5/site-packages/sklearn/model_selection/_search.py\u001b[0m in \u001b[0;36mfit\u001b[0;34m(self, X, y, groups, **fit_params)\u001b[0m\n\u001b[1;32m    686\u001b[0m                 \u001b[0;32mreturn\u001b[0m \u001b[0mresults\u001b[0m\u001b[0;34m\u001b[0m\u001b[0m\n\u001b[1;32m    687\u001b[0m \u001b[0;34m\u001b[0m\u001b[0m\n\u001b[0;32m--> 688\u001b[0;31m             \u001b[0mself\u001b[0m\u001b[0;34m.\u001b[0m\u001b[0m_run_search\u001b[0m\u001b[0;34m(\u001b[0m\u001b[0mevaluate_candidates\u001b[0m\u001b[0;34m)\u001b[0m\u001b[0;34m\u001b[0m\u001b[0m\n\u001b[0m\u001b[1;32m    689\u001b[0m \u001b[0;34m\u001b[0m\u001b[0m\n\u001b[1;32m    690\u001b[0m         \u001b[0;31m# For multi-metric evaluation, store the best_index_, best_params_ and\u001b[0m\u001b[0;34m\u001b[0m\u001b[0;34m\u001b[0m\u001b[0m\n",
      "\u001b[0;32m~/Documents/Univerza/UBA/7506 Organizacion de Datos/2c2019/tp2/venv/lib/python3.5/site-packages/sklearn/model_selection/_search.py\u001b[0m in \u001b[0;36m_run_search\u001b[0;34m(self, evaluate_candidates)\u001b[0m\n\u001b[1;32m   1147\u001b[0m     \u001b[0;32mdef\u001b[0m \u001b[0m_run_search\u001b[0m\u001b[0;34m(\u001b[0m\u001b[0mself\u001b[0m\u001b[0;34m,\u001b[0m \u001b[0mevaluate_candidates\u001b[0m\u001b[0;34m)\u001b[0m\u001b[0;34m:\u001b[0m\u001b[0;34m\u001b[0m\u001b[0m\n\u001b[1;32m   1148\u001b[0m         \u001b[0;34m\"\"\"Search all candidates in param_grid\"\"\"\u001b[0m\u001b[0;34m\u001b[0m\u001b[0m\n\u001b[0;32m-> 1149\u001b[0;31m         \u001b[0mevaluate_candidates\u001b[0m\u001b[0;34m(\u001b[0m\u001b[0mParameterGrid\u001b[0m\u001b[0;34m(\u001b[0m\u001b[0mself\u001b[0m\u001b[0;34m.\u001b[0m\u001b[0mparam_grid\u001b[0m\u001b[0;34m)\u001b[0m\u001b[0;34m)\u001b[0m\u001b[0;34m\u001b[0m\u001b[0m\n\u001b[0m\u001b[1;32m   1150\u001b[0m \u001b[0;34m\u001b[0m\u001b[0m\n\u001b[1;32m   1151\u001b[0m \u001b[0;34m\u001b[0m\u001b[0m\n",
      "\u001b[0;32m~/Documents/Univerza/UBA/7506 Organizacion de Datos/2c2019/tp2/venv/lib/python3.5/site-packages/sklearn/model_selection/_search.py\u001b[0m in \u001b[0;36mevaluate_candidates\u001b[0;34m(candidate_params)\u001b[0m\n\u001b[1;32m    665\u001b[0m                                \u001b[0;32mfor\u001b[0m \u001b[0mparameters\u001b[0m\u001b[0;34m,\u001b[0m \u001b[0;34m(\u001b[0m\u001b[0mtrain\u001b[0m\u001b[0;34m,\u001b[0m \u001b[0mtest\u001b[0m\u001b[0;34m)\u001b[0m\u001b[0;34m\u001b[0m\u001b[0m\n\u001b[1;32m    666\u001b[0m                                in product(candidate_params,\n\u001b[0;32m--> 667\u001b[0;31m                                           cv.split(X, y, groups)))\n\u001b[0m\u001b[1;32m    668\u001b[0m \u001b[0;34m\u001b[0m\u001b[0m\n\u001b[1;32m    669\u001b[0m                 \u001b[0;32mif\u001b[0m \u001b[0mlen\u001b[0m\u001b[0;34m(\u001b[0m\u001b[0mout\u001b[0m\u001b[0;34m)\u001b[0m \u001b[0;34m<\u001b[0m \u001b[0;36m1\u001b[0m\u001b[0;34m:\u001b[0m\u001b[0;34m\u001b[0m\u001b[0m\n",
      "\u001b[0;32m~/Documents/Univerza/UBA/7506 Organizacion de Datos/2c2019/tp2/venv/lib/python3.5/site-packages/joblib/parallel.py\u001b[0m in \u001b[0;36m__call__\u001b[0;34m(self, iterable)\u001b[0m\n\u001b[1;32m   1014\u001b[0m \u001b[0;34m\u001b[0m\u001b[0m\n\u001b[1;32m   1015\u001b[0m             \u001b[0;32mwith\u001b[0m \u001b[0mself\u001b[0m\u001b[0;34m.\u001b[0m\u001b[0m_backend\u001b[0m\u001b[0;34m.\u001b[0m\u001b[0mretrieval_context\u001b[0m\u001b[0;34m(\u001b[0m\u001b[0;34m)\u001b[0m\u001b[0;34m:\u001b[0m\u001b[0;34m\u001b[0m\u001b[0m\n\u001b[0;32m-> 1016\u001b[0;31m                 \u001b[0mself\u001b[0m\u001b[0;34m.\u001b[0m\u001b[0mretrieve\u001b[0m\u001b[0;34m(\u001b[0m\u001b[0;34m)\u001b[0m\u001b[0;34m\u001b[0m\u001b[0m\n\u001b[0m\u001b[1;32m   1017\u001b[0m             \u001b[0;31m# Make sure that we get a last message telling us we are done\u001b[0m\u001b[0;34m\u001b[0m\u001b[0;34m\u001b[0m\u001b[0m\n\u001b[1;32m   1018\u001b[0m             \u001b[0melapsed_time\u001b[0m \u001b[0;34m=\u001b[0m \u001b[0mtime\u001b[0m\u001b[0;34m.\u001b[0m\u001b[0mtime\u001b[0m\u001b[0;34m(\u001b[0m\u001b[0;34m)\u001b[0m \u001b[0;34m-\u001b[0m \u001b[0mself\u001b[0m\u001b[0;34m.\u001b[0m\u001b[0m_start_time\u001b[0m\u001b[0;34m\u001b[0m\u001b[0m\n",
      "\u001b[0;32m~/Documents/Univerza/UBA/7506 Organizacion de Datos/2c2019/tp2/venv/lib/python3.5/site-packages/joblib/parallel.py\u001b[0m in \u001b[0;36mretrieve\u001b[0;34m(self)\u001b[0m\n\u001b[1;32m    906\u001b[0m             \u001b[0;32mtry\u001b[0m\u001b[0;34m:\u001b[0m\u001b[0;34m\u001b[0m\u001b[0m\n\u001b[1;32m    907\u001b[0m                 \u001b[0;32mif\u001b[0m \u001b[0mgetattr\u001b[0m\u001b[0;34m(\u001b[0m\u001b[0mself\u001b[0m\u001b[0;34m.\u001b[0m\u001b[0m_backend\u001b[0m\u001b[0;34m,\u001b[0m \u001b[0;34m'supports_timeout'\u001b[0m\u001b[0;34m,\u001b[0m \u001b[0;32mFalse\u001b[0m\u001b[0;34m)\u001b[0m\u001b[0;34m:\u001b[0m\u001b[0;34m\u001b[0m\u001b[0m\n\u001b[0;32m--> 908\u001b[0;31m                     \u001b[0mself\u001b[0m\u001b[0;34m.\u001b[0m\u001b[0m_output\u001b[0m\u001b[0;34m.\u001b[0m\u001b[0mextend\u001b[0m\u001b[0;34m(\u001b[0m\u001b[0mjob\u001b[0m\u001b[0;34m.\u001b[0m\u001b[0mget\u001b[0m\u001b[0;34m(\u001b[0m\u001b[0mtimeout\u001b[0m\u001b[0;34m=\u001b[0m\u001b[0mself\u001b[0m\u001b[0;34m.\u001b[0m\u001b[0mtimeout\u001b[0m\u001b[0;34m)\u001b[0m\u001b[0;34m)\u001b[0m\u001b[0;34m\u001b[0m\u001b[0m\n\u001b[0m\u001b[1;32m    909\u001b[0m                 \u001b[0;32melse\u001b[0m\u001b[0;34m:\u001b[0m\u001b[0;34m\u001b[0m\u001b[0m\n\u001b[1;32m    910\u001b[0m                     \u001b[0mself\u001b[0m\u001b[0;34m.\u001b[0m\u001b[0m_output\u001b[0m\u001b[0;34m.\u001b[0m\u001b[0mextend\u001b[0m\u001b[0;34m(\u001b[0m\u001b[0mjob\u001b[0m\u001b[0;34m.\u001b[0m\u001b[0mget\u001b[0m\u001b[0;34m(\u001b[0m\u001b[0;34m)\u001b[0m\u001b[0;34m)\u001b[0m\u001b[0;34m\u001b[0m\u001b[0m\n",
      "\u001b[0;32m~/Documents/Univerza/UBA/7506 Organizacion de Datos/2c2019/tp2/venv/lib/python3.5/site-packages/joblib/_parallel_backends.py\u001b[0m in \u001b[0;36mwrap_future_result\u001b[0;34m(future, timeout)\u001b[0m\n\u001b[1;32m    552\u001b[0m         AsyncResults.get from multiprocessing.\"\"\"\n\u001b[1;32m    553\u001b[0m         \u001b[0;32mtry\u001b[0m\u001b[0;34m:\u001b[0m\u001b[0;34m\u001b[0m\u001b[0m\n\u001b[0;32m--> 554\u001b[0;31m             \u001b[0;32mreturn\u001b[0m \u001b[0mfuture\u001b[0m\u001b[0;34m.\u001b[0m\u001b[0mresult\u001b[0m\u001b[0;34m(\u001b[0m\u001b[0mtimeout\u001b[0m\u001b[0;34m=\u001b[0m\u001b[0mtimeout\u001b[0m\u001b[0;34m)\u001b[0m\u001b[0;34m\u001b[0m\u001b[0m\n\u001b[0m\u001b[1;32m    555\u001b[0m         \u001b[0;32mexcept\u001b[0m \u001b[0mLokyTimeoutError\u001b[0m\u001b[0;34m:\u001b[0m\u001b[0;34m\u001b[0m\u001b[0m\n\u001b[1;32m    556\u001b[0m             \u001b[0;32mraise\u001b[0m \u001b[0mTimeoutError\u001b[0m\u001b[0;34m(\u001b[0m\u001b[0;34m)\u001b[0m\u001b[0;34m\u001b[0m\u001b[0m\n",
      "\u001b[0;32m/usr/lib/python3.5/concurrent/futures/_base.py\u001b[0m in \u001b[0;36mresult\u001b[0;34m(self, timeout)\u001b[0m\n\u001b[1;32m    398\u001b[0m                 \u001b[0;32mreturn\u001b[0m \u001b[0mself\u001b[0m\u001b[0;34m.\u001b[0m\u001b[0m__get_result\u001b[0m\u001b[0;34m(\u001b[0m\u001b[0;34m)\u001b[0m\u001b[0;34m\u001b[0m\u001b[0m\n\u001b[1;32m    399\u001b[0m \u001b[0;34m\u001b[0m\u001b[0m\n\u001b[0;32m--> 400\u001b[0;31m             \u001b[0mself\u001b[0m\u001b[0;34m.\u001b[0m\u001b[0m_condition\u001b[0m\u001b[0;34m.\u001b[0m\u001b[0mwait\u001b[0m\u001b[0;34m(\u001b[0m\u001b[0mtimeout\u001b[0m\u001b[0;34m)\u001b[0m\u001b[0;34m\u001b[0m\u001b[0m\n\u001b[0m\u001b[1;32m    401\u001b[0m \u001b[0;34m\u001b[0m\u001b[0m\n\u001b[1;32m    402\u001b[0m             \u001b[0;32mif\u001b[0m \u001b[0mself\u001b[0m\u001b[0;34m.\u001b[0m\u001b[0m_state\u001b[0m \u001b[0;32min\u001b[0m \u001b[0;34m[\u001b[0m\u001b[0mCANCELLED\u001b[0m\u001b[0;34m,\u001b[0m \u001b[0mCANCELLED_AND_NOTIFIED\u001b[0m\u001b[0;34m]\u001b[0m\u001b[0;34m:\u001b[0m\u001b[0;34m\u001b[0m\u001b[0m\n",
      "\u001b[0;32m/usr/lib/python3.5/threading.py\u001b[0m in \u001b[0;36mwait\u001b[0;34m(self, timeout)\u001b[0m\n\u001b[1;32m    291\u001b[0m         \u001b[0;32mtry\u001b[0m\u001b[0;34m:\u001b[0m    \u001b[0;31m# restore state no matter what (e.g., KeyboardInterrupt)\u001b[0m\u001b[0;34m\u001b[0m\u001b[0m\n\u001b[1;32m    292\u001b[0m             \u001b[0;32mif\u001b[0m \u001b[0mtimeout\u001b[0m \u001b[0;32mis\u001b[0m \u001b[0;32mNone\u001b[0m\u001b[0;34m:\u001b[0m\u001b[0;34m\u001b[0m\u001b[0m\n\u001b[0;32m--> 293\u001b[0;31m                 \u001b[0mwaiter\u001b[0m\u001b[0;34m.\u001b[0m\u001b[0macquire\u001b[0m\u001b[0;34m(\u001b[0m\u001b[0;34m)\u001b[0m\u001b[0;34m\u001b[0m\u001b[0m\n\u001b[0m\u001b[1;32m    294\u001b[0m                 \u001b[0mgotit\u001b[0m \u001b[0;34m=\u001b[0m \u001b[0;32mTrue\u001b[0m\u001b[0;34m\u001b[0m\u001b[0m\n\u001b[1;32m    295\u001b[0m             \u001b[0;32melse\u001b[0m\u001b[0;34m:\u001b[0m\u001b[0;34m\u001b[0m\u001b[0m\n",
      "\u001b[0;31mKeyboardInterrupt\u001b[0m: "
     ]
    }
   ],
   "source": [
    "from sklearn.model_selection import GridSearchCV\n",
    "import lightgbm as lgb\n",
    "\n",
    "gbm = lgb.LGBMRegressor(silent=False)\n",
    "\n",
    "param_dist = {\"max_depth\": [25,50, 75],\n",
    "              \"learning_rate\" : [0.01,0.05,0.1],\n",
    "              \"num_leaves\": [300,900,1200],\n",
    "              \"n_estimators\": [50,100,200]\n",
    "             }\n",
    "\n",
    "grid_search = GridSearchCV(gbm, n_jobs=-1, param_grid=param_dist, cv = 3, scoring=\"neg_mean_absolute_error\", verbose=5)\n",
    "print(\"performing grid search...\")\n",
    "grid_search.fit(train_tiene_antiguedad.drop(['id','fecha','titulo', 'descripcion', 'direccion','precio',target_variable],axis=1),\n",
    "                train_tiene_antiguedad[target_variable])\n",
    "\n",
    "print(\"best estimator:\", grid_search.best_estimator_)\n",
    "\n",
    "print(\"training train gbm...\")\n",
    "grid_search.best_estimator_.fit(train_tiene_antiguedad.drop(['id','fecha','titulo', 'descripcion', 'direccion','precio',target_variable],axis=1),\n",
    "                                train_tiene_antiguedad[target_variable], sample_weight=None, init_score=None, eval_set=None, eval_names=None,\n",
    "                                eval_sample_weight=None, eval_init_score=None, eval_metric='mae', early_stopping_rounds=None,\n",
    "                                verbose=False, feature_name='auto', categorical_feature=['tipodepropiedad', 'ciudad','provincia'], callbacks=None)\n",
    "\n",
    "print(\"predicting new train values...\")\n",
    "# prediciendo valores posta...\n",
    "predictions_train = grid_search.best_estimator_.predict(train_no_tiene_antiguedad.drop(['id','fecha','titulo', 'descripcion', 'direccion','precio',target_variable],axis=1),\n",
    "                                                        num_iteration=gbm_optimized.best_iteration_)\n",
    "\n",
    "print(\"training test gbm...\")\n",
    "grid_search.best_estimator_.fit(test_tiene_antiguedad.drop(['id','fecha','titulo', 'descripcion', 'direccion','precio',target_variable],axis=1),\n",
    "                                test_tiene_antiguedad[target_variable], sample_weight=None, init_score=None, eval_set=None, eval_names=None,\n",
    "                                eval_sample_weight=None, eval_init_score=None, eval_metric='mae', early_stopping_rounds=None,\n",
    "                                verbose=False, feature_name='auto', categorical_feature=['tipodepropiedad', 'ciudad','provincia'], callbacks=None)\n",
    "\n",
    "print(\"predicting new test values...\")\n",
    "# prediciendo valores posta...\n",
    "predictions_test = grid_search.best_estimator_.predict(test_no_tiene_antiguedad.drop(['id','fecha','titulo', 'descripcion', 'direccion','precio',target_variable],axis=1),\n",
    "                                                       num_iteration=gbm_optimized.best_iteration_)"
   ]
  },
  {
   "cell_type": "markdown",
   "metadata": {},
   "source": [
    "# Antiguedad"
   ]
  },
  {
   "cell_type": "code",
   "execution_count": 7,
   "metadata": {},
   "outputs": [],
   "source": [
    "target_variable = 'antiguedad'"
   ]
  },
  {
   "cell_type": "markdown",
   "metadata": {},
   "source": [
    "En primer lugar creamos una variable que indica si el dato estuvo originalmente presente o no."
   ]
  },
  {
   "cell_type": "code",
   "execution_count": 8,
   "metadata": {},
   "outputs": [],
   "source": [
    "train['tiene_antiguedad'] = train['antiguedad'].notna()\n",
    "test['tiene_antiguedad'] = test['antiguedad'].notna()"
   ]
  },
  {
   "cell_type": "code",
   "execution_count": 10,
   "metadata": {},
   "outputs": [
    {
     "data": {
      "text/html": [
       "<div>\n",
       "<style scoped>\n",
       "    .dataframe tbody tr th:only-of-type {\n",
       "        vertical-align: middle;\n",
       "    }\n",
       "\n",
       "    .dataframe tbody tr th {\n",
       "        vertical-align: top;\n",
       "    }\n",
       "\n",
       "    .dataframe thead th {\n",
       "        text-align: right;\n",
       "    }\n",
       "</style>\n",
       "<table border=\"1\" class=\"dataframe\">\n",
       "  <thead>\n",
       "    <tr style=\"text-align: right;\">\n",
       "      <th></th>\n",
       "      <th>antiguedad</th>\n",
       "      <th>tiene_antiguedad</th>\n",
       "    </tr>\n",
       "  </thead>\n",
       "  <tbody>\n",
       "    <tr>\n",
       "      <th>55505</th>\n",
       "      <td>19.0</td>\n",
       "      <td>True</td>\n",
       "    </tr>\n",
       "    <tr>\n",
       "      <th>102768</th>\n",
       "      <td>10.0</td>\n",
       "      <td>True</td>\n",
       "    </tr>\n",
       "    <tr>\n",
       "      <th>77276</th>\n",
       "      <td>NaN</td>\n",
       "      <td>False</td>\n",
       "    </tr>\n",
       "    <tr>\n",
       "      <th>97701</th>\n",
       "      <td>NaN</td>\n",
       "      <td>False</td>\n",
       "    </tr>\n",
       "    <tr>\n",
       "      <th>160342</th>\n",
       "      <td>10.0</td>\n",
       "      <td>True</td>\n",
       "    </tr>\n",
       "  </tbody>\n",
       "</table>\n",
       "</div>"
      ],
      "text/plain": [
       "        antiguedad  tiene_antiguedad\n",
       "55505         19.0              True\n",
       "102768        10.0              True\n",
       "77276          NaN             False\n",
       "97701          NaN             False\n",
       "160342        10.0              True"
      ]
     },
     "execution_count": 10,
     "metadata": {},
     "output_type": "execute_result"
    }
   ],
   "source": [
    "train[['antiguedad','tiene_antiguedad']].sample(5)"
   ]
  },
  {
   "cell_type": "code",
   "execution_count": 11,
   "metadata": {},
   "outputs": [],
   "source": [
    "train_tiene_antiguedad = train.loc[train['tiene_antiguedad']]\n",
    "\n",
    "train_no_tiene_antiguedad = train.loc[~train['tiene_antiguedad']]\n",
    "\n",
    "test_tiene_antiguedad = test.loc[test['tiene_antiguedad']]\n",
    "\n",
    "test_no_tiene_antiguedad = test.loc[~test['tiene_antiguedad']]"
   ]
  },
  {
   "cell_type": "code",
   "execution_count": 12,
   "metadata": {},
   "outputs": [
    {
     "name": "stdout",
     "output_type": "stream",
     "text": [
      "performing grid search...\n",
      "Fitting 3 folds for each of 81 candidates, totalling 243 fits\n"
     ]
    },
    {
     "name": "stderr",
     "output_type": "stream",
     "text": [
      "[Parallel(n_jobs=-1)]: Using backend LokyBackend with 4 concurrent workers.\n",
      "[Parallel(n_jobs=-1)]: Done  10 tasks      | elapsed:   55.1s\n"
     ]
    },
    {
     "ename": "KeyboardInterrupt",
     "evalue": "",
     "output_type": "error",
     "traceback": [
      "\u001b[0;31m---------------------------------------------------------------------------\u001b[0m",
      "\u001b[0;31mKeyboardInterrupt\u001b[0m                         Traceback (most recent call last)",
      "\u001b[0;32m<ipython-input-12-a78620059e48>\u001b[0m in \u001b[0;36m<module>\u001b[0;34m\u001b[0m\n\u001b[1;32m     13\u001b[0m \u001b[0mprint\u001b[0m\u001b[0;34m(\u001b[0m\u001b[0;34m\"performing grid search...\"\u001b[0m\u001b[0;34m)\u001b[0m\u001b[0;34m\u001b[0m\u001b[0m\n\u001b[1;32m     14\u001b[0m grid_search.fit(train_tiene_antiguedad.drop(['id','fecha','titulo', 'descripcion', 'direccion','precio',target_variable],axis=1),\n\u001b[0;32m---> 15\u001b[0;31m                 train_tiene_antiguedad[target_variable])\n\u001b[0m\u001b[1;32m     16\u001b[0m \u001b[0;34m\u001b[0m\u001b[0m\n\u001b[1;32m     17\u001b[0m \u001b[0mprint\u001b[0m\u001b[0;34m(\u001b[0m\u001b[0;34m\"best estimator:\"\u001b[0m\u001b[0;34m,\u001b[0m \u001b[0mgrid_search\u001b[0m\u001b[0;34m.\u001b[0m\u001b[0mbest_estimator_\u001b[0m\u001b[0;34m)\u001b[0m\u001b[0;34m\u001b[0m\u001b[0m\n",
      "\u001b[0;32m~/Documents/Univerza/UBA/7506 Organizacion de Datos/2c2019/tp2/venv/lib/python3.5/site-packages/sklearn/model_selection/_search.py\u001b[0m in \u001b[0;36mfit\u001b[0;34m(self, X, y, groups, **fit_params)\u001b[0m\n\u001b[1;32m    686\u001b[0m                 \u001b[0;32mreturn\u001b[0m \u001b[0mresults\u001b[0m\u001b[0;34m\u001b[0m\u001b[0m\n\u001b[1;32m    687\u001b[0m \u001b[0;34m\u001b[0m\u001b[0m\n\u001b[0;32m--> 688\u001b[0;31m             \u001b[0mself\u001b[0m\u001b[0;34m.\u001b[0m\u001b[0m_run_search\u001b[0m\u001b[0;34m(\u001b[0m\u001b[0mevaluate_candidates\u001b[0m\u001b[0;34m)\u001b[0m\u001b[0;34m\u001b[0m\u001b[0m\n\u001b[0m\u001b[1;32m    689\u001b[0m \u001b[0;34m\u001b[0m\u001b[0m\n\u001b[1;32m    690\u001b[0m         \u001b[0;31m# For multi-metric evaluation, store the best_index_, best_params_ and\u001b[0m\u001b[0;34m\u001b[0m\u001b[0;34m\u001b[0m\u001b[0m\n",
      "\u001b[0;32m~/Documents/Univerza/UBA/7506 Organizacion de Datos/2c2019/tp2/venv/lib/python3.5/site-packages/sklearn/model_selection/_search.py\u001b[0m in \u001b[0;36m_run_search\u001b[0;34m(self, evaluate_candidates)\u001b[0m\n\u001b[1;32m   1147\u001b[0m     \u001b[0;32mdef\u001b[0m \u001b[0m_run_search\u001b[0m\u001b[0;34m(\u001b[0m\u001b[0mself\u001b[0m\u001b[0;34m,\u001b[0m \u001b[0mevaluate_candidates\u001b[0m\u001b[0;34m)\u001b[0m\u001b[0;34m:\u001b[0m\u001b[0;34m\u001b[0m\u001b[0m\n\u001b[1;32m   1148\u001b[0m         \u001b[0;34m\"\"\"Search all candidates in param_grid\"\"\"\u001b[0m\u001b[0;34m\u001b[0m\u001b[0m\n\u001b[0;32m-> 1149\u001b[0;31m         \u001b[0mevaluate_candidates\u001b[0m\u001b[0;34m(\u001b[0m\u001b[0mParameterGrid\u001b[0m\u001b[0;34m(\u001b[0m\u001b[0mself\u001b[0m\u001b[0;34m.\u001b[0m\u001b[0mparam_grid\u001b[0m\u001b[0;34m)\u001b[0m\u001b[0;34m)\u001b[0m\u001b[0;34m\u001b[0m\u001b[0m\n\u001b[0m\u001b[1;32m   1150\u001b[0m \u001b[0;34m\u001b[0m\u001b[0m\n\u001b[1;32m   1151\u001b[0m \u001b[0;34m\u001b[0m\u001b[0m\n",
      "\u001b[0;32m~/Documents/Univerza/UBA/7506 Organizacion de Datos/2c2019/tp2/venv/lib/python3.5/site-packages/sklearn/model_selection/_search.py\u001b[0m in \u001b[0;36mevaluate_candidates\u001b[0;34m(candidate_params)\u001b[0m\n\u001b[1;32m    665\u001b[0m                                \u001b[0;32mfor\u001b[0m \u001b[0mparameters\u001b[0m\u001b[0;34m,\u001b[0m \u001b[0;34m(\u001b[0m\u001b[0mtrain\u001b[0m\u001b[0;34m,\u001b[0m \u001b[0mtest\u001b[0m\u001b[0;34m)\u001b[0m\u001b[0;34m\u001b[0m\u001b[0m\n\u001b[1;32m    666\u001b[0m                                in product(candidate_params,\n\u001b[0;32m--> 667\u001b[0;31m                                           cv.split(X, y, groups)))\n\u001b[0m\u001b[1;32m    668\u001b[0m \u001b[0;34m\u001b[0m\u001b[0m\n\u001b[1;32m    669\u001b[0m                 \u001b[0;32mif\u001b[0m \u001b[0mlen\u001b[0m\u001b[0;34m(\u001b[0m\u001b[0mout\u001b[0m\u001b[0;34m)\u001b[0m \u001b[0;34m<\u001b[0m \u001b[0;36m1\u001b[0m\u001b[0;34m:\u001b[0m\u001b[0;34m\u001b[0m\u001b[0m\n",
      "\u001b[0;32m~/Documents/Univerza/UBA/7506 Organizacion de Datos/2c2019/tp2/venv/lib/python3.5/site-packages/joblib/parallel.py\u001b[0m in \u001b[0;36m__call__\u001b[0;34m(self, iterable)\u001b[0m\n\u001b[1;32m   1014\u001b[0m \u001b[0;34m\u001b[0m\u001b[0m\n\u001b[1;32m   1015\u001b[0m             \u001b[0;32mwith\u001b[0m \u001b[0mself\u001b[0m\u001b[0;34m.\u001b[0m\u001b[0m_backend\u001b[0m\u001b[0;34m.\u001b[0m\u001b[0mretrieval_context\u001b[0m\u001b[0;34m(\u001b[0m\u001b[0;34m)\u001b[0m\u001b[0;34m:\u001b[0m\u001b[0;34m\u001b[0m\u001b[0m\n\u001b[0;32m-> 1016\u001b[0;31m                 \u001b[0mself\u001b[0m\u001b[0;34m.\u001b[0m\u001b[0mretrieve\u001b[0m\u001b[0;34m(\u001b[0m\u001b[0;34m)\u001b[0m\u001b[0;34m\u001b[0m\u001b[0m\n\u001b[0m\u001b[1;32m   1017\u001b[0m             \u001b[0;31m# Make sure that we get a last message telling us we are done\u001b[0m\u001b[0;34m\u001b[0m\u001b[0;34m\u001b[0m\u001b[0m\n\u001b[1;32m   1018\u001b[0m             \u001b[0melapsed_time\u001b[0m \u001b[0;34m=\u001b[0m \u001b[0mtime\u001b[0m\u001b[0;34m.\u001b[0m\u001b[0mtime\u001b[0m\u001b[0;34m(\u001b[0m\u001b[0;34m)\u001b[0m \u001b[0;34m-\u001b[0m \u001b[0mself\u001b[0m\u001b[0;34m.\u001b[0m\u001b[0m_start_time\u001b[0m\u001b[0;34m\u001b[0m\u001b[0m\n",
      "\u001b[0;32m~/Documents/Univerza/UBA/7506 Organizacion de Datos/2c2019/tp2/venv/lib/python3.5/site-packages/joblib/parallel.py\u001b[0m in \u001b[0;36mretrieve\u001b[0;34m(self)\u001b[0m\n\u001b[1;32m    906\u001b[0m             \u001b[0;32mtry\u001b[0m\u001b[0;34m:\u001b[0m\u001b[0;34m\u001b[0m\u001b[0m\n\u001b[1;32m    907\u001b[0m                 \u001b[0;32mif\u001b[0m \u001b[0mgetattr\u001b[0m\u001b[0;34m(\u001b[0m\u001b[0mself\u001b[0m\u001b[0;34m.\u001b[0m\u001b[0m_backend\u001b[0m\u001b[0;34m,\u001b[0m \u001b[0;34m'supports_timeout'\u001b[0m\u001b[0;34m,\u001b[0m \u001b[0;32mFalse\u001b[0m\u001b[0;34m)\u001b[0m\u001b[0;34m:\u001b[0m\u001b[0;34m\u001b[0m\u001b[0m\n\u001b[0;32m--> 908\u001b[0;31m                     \u001b[0mself\u001b[0m\u001b[0;34m.\u001b[0m\u001b[0m_output\u001b[0m\u001b[0;34m.\u001b[0m\u001b[0mextend\u001b[0m\u001b[0;34m(\u001b[0m\u001b[0mjob\u001b[0m\u001b[0;34m.\u001b[0m\u001b[0mget\u001b[0m\u001b[0;34m(\u001b[0m\u001b[0mtimeout\u001b[0m\u001b[0;34m=\u001b[0m\u001b[0mself\u001b[0m\u001b[0;34m.\u001b[0m\u001b[0mtimeout\u001b[0m\u001b[0;34m)\u001b[0m\u001b[0;34m)\u001b[0m\u001b[0;34m\u001b[0m\u001b[0m\n\u001b[0m\u001b[1;32m    909\u001b[0m                 \u001b[0;32melse\u001b[0m\u001b[0;34m:\u001b[0m\u001b[0;34m\u001b[0m\u001b[0m\n\u001b[1;32m    910\u001b[0m                     \u001b[0mself\u001b[0m\u001b[0;34m.\u001b[0m\u001b[0m_output\u001b[0m\u001b[0;34m.\u001b[0m\u001b[0mextend\u001b[0m\u001b[0;34m(\u001b[0m\u001b[0mjob\u001b[0m\u001b[0;34m.\u001b[0m\u001b[0mget\u001b[0m\u001b[0;34m(\u001b[0m\u001b[0;34m)\u001b[0m\u001b[0;34m)\u001b[0m\u001b[0;34m\u001b[0m\u001b[0m\n",
      "\u001b[0;32m~/Documents/Univerza/UBA/7506 Organizacion de Datos/2c2019/tp2/venv/lib/python3.5/site-packages/joblib/_parallel_backends.py\u001b[0m in \u001b[0;36mwrap_future_result\u001b[0;34m(future, timeout)\u001b[0m\n\u001b[1;32m    552\u001b[0m         AsyncResults.get from multiprocessing.\"\"\"\n\u001b[1;32m    553\u001b[0m         \u001b[0;32mtry\u001b[0m\u001b[0;34m:\u001b[0m\u001b[0;34m\u001b[0m\u001b[0m\n\u001b[0;32m--> 554\u001b[0;31m             \u001b[0;32mreturn\u001b[0m \u001b[0mfuture\u001b[0m\u001b[0;34m.\u001b[0m\u001b[0mresult\u001b[0m\u001b[0;34m(\u001b[0m\u001b[0mtimeout\u001b[0m\u001b[0;34m=\u001b[0m\u001b[0mtimeout\u001b[0m\u001b[0;34m)\u001b[0m\u001b[0;34m\u001b[0m\u001b[0m\n\u001b[0m\u001b[1;32m    555\u001b[0m         \u001b[0;32mexcept\u001b[0m \u001b[0mLokyTimeoutError\u001b[0m\u001b[0;34m:\u001b[0m\u001b[0;34m\u001b[0m\u001b[0m\n\u001b[1;32m    556\u001b[0m             \u001b[0;32mraise\u001b[0m \u001b[0mTimeoutError\u001b[0m\u001b[0;34m(\u001b[0m\u001b[0;34m)\u001b[0m\u001b[0;34m\u001b[0m\u001b[0m\n",
      "\u001b[0;32m/usr/lib/python3.5/concurrent/futures/_base.py\u001b[0m in \u001b[0;36mresult\u001b[0;34m(self, timeout)\u001b[0m\n\u001b[1;32m    398\u001b[0m                 \u001b[0;32mreturn\u001b[0m \u001b[0mself\u001b[0m\u001b[0;34m.\u001b[0m\u001b[0m__get_result\u001b[0m\u001b[0;34m(\u001b[0m\u001b[0;34m)\u001b[0m\u001b[0;34m\u001b[0m\u001b[0m\n\u001b[1;32m    399\u001b[0m \u001b[0;34m\u001b[0m\u001b[0m\n\u001b[0;32m--> 400\u001b[0;31m             \u001b[0mself\u001b[0m\u001b[0;34m.\u001b[0m\u001b[0m_condition\u001b[0m\u001b[0;34m.\u001b[0m\u001b[0mwait\u001b[0m\u001b[0;34m(\u001b[0m\u001b[0mtimeout\u001b[0m\u001b[0;34m)\u001b[0m\u001b[0;34m\u001b[0m\u001b[0m\n\u001b[0m\u001b[1;32m    401\u001b[0m \u001b[0;34m\u001b[0m\u001b[0m\n\u001b[1;32m    402\u001b[0m             \u001b[0;32mif\u001b[0m \u001b[0mself\u001b[0m\u001b[0;34m.\u001b[0m\u001b[0m_state\u001b[0m \u001b[0;32min\u001b[0m \u001b[0;34m[\u001b[0m\u001b[0mCANCELLED\u001b[0m\u001b[0;34m,\u001b[0m \u001b[0mCANCELLED_AND_NOTIFIED\u001b[0m\u001b[0;34m]\u001b[0m\u001b[0;34m:\u001b[0m\u001b[0;34m\u001b[0m\u001b[0m\n",
      "\u001b[0;32m/usr/lib/python3.5/threading.py\u001b[0m in \u001b[0;36mwait\u001b[0;34m(self, timeout)\u001b[0m\n\u001b[1;32m    291\u001b[0m         \u001b[0;32mtry\u001b[0m\u001b[0;34m:\u001b[0m    \u001b[0;31m# restore state no matter what (e.g., KeyboardInterrupt)\u001b[0m\u001b[0;34m\u001b[0m\u001b[0m\n\u001b[1;32m    292\u001b[0m             \u001b[0;32mif\u001b[0m \u001b[0mtimeout\u001b[0m \u001b[0;32mis\u001b[0m \u001b[0;32mNone\u001b[0m\u001b[0;34m:\u001b[0m\u001b[0;34m\u001b[0m\u001b[0m\n\u001b[0;32m--> 293\u001b[0;31m                 \u001b[0mwaiter\u001b[0m\u001b[0;34m.\u001b[0m\u001b[0macquire\u001b[0m\u001b[0;34m(\u001b[0m\u001b[0;34m)\u001b[0m\u001b[0;34m\u001b[0m\u001b[0m\n\u001b[0m\u001b[1;32m    294\u001b[0m                 \u001b[0mgotit\u001b[0m \u001b[0;34m=\u001b[0m \u001b[0;32mTrue\u001b[0m\u001b[0;34m\u001b[0m\u001b[0m\n\u001b[1;32m    295\u001b[0m             \u001b[0;32melse\u001b[0m\u001b[0;34m:\u001b[0m\u001b[0;34m\u001b[0m\u001b[0m\n",
      "\u001b[0;31mKeyboardInterrupt\u001b[0m: "
     ]
    }
   ],
   "source": [
    "from sklearn.model_selection import GridSearchCV\n",
    "import lightgbm as lgb\n",
    "\n",
    "gbm = lgb.LGBMRegressor(silent=False)\n",
    "\n",
    "param_dist = {\"max_depth\": [25,50, 75],\n",
    "              \"learning_rate\" : [0.01,0.05,0.1],\n",
    "              \"num_leaves\": [300,900,1200],\n",
    "              \"n_estimators\": [50,100,200]\n",
    "             }\n",
    "\n",
    "grid_search = GridSearchCV(gbm, n_jobs=-1, param_grid=param_dist, cv = 3, scoring=\"neg_mean_absolute_error\", verbose=5)\n",
    "print(\"performing grid search...\")\n",
    "grid_search.fit(train_tiene_antiguedad.drop(['id','fecha','titulo', 'descripcion', 'direccion','precio',target_variable],axis=1),\n",
    "                train_tiene_antiguedad[target_variable])\n",
    "\n",
    "print(\"best estimator:\", grid_search.best_estimator_)\n",
    "\n",
    "print(\"training train gbm...\")\n",
    "grid_search.best_estimator_.fit(train_tiene_antiguedad.drop(['id','fecha','titulo', 'descripcion', 'direccion','precio',target_variable],axis=1),\n",
    "                                train_tiene_antiguedad[target_variable], sample_weight=None, init_score=None, eval_set=None, eval_names=None,\n",
    "                                eval_sample_weight=None, eval_init_score=None, eval_metric='mae', early_stopping_rounds=None,\n",
    "                                verbose=False, feature_name='auto', categorical_feature=['tipodepropiedad', 'ciudad','provincia'], callbacks=None)\n",
    "\n",
    "print(\"predicting new train values...\")\n",
    "# prediciendo valores posta...\n",
    "predictions_train = grid_search.best_estimator_.predict(train_no_tiene_antiguedad.drop(['id','fecha','titulo', 'descripcion', 'direccion','precio',target_variable],axis=1),\n",
    "                                                        num_iteration=gbm_optimized.best_iteration_)\n",
    "\n",
    "print(\"training test gbm...\")\n",
    "grid_search.best_estimator_.fit(test_tiene_antiguedad.drop(['id','fecha','titulo', 'descripcion', 'direccion','precio',target_variable],axis=1),\n",
    "                                test_tiene_antiguedad[target_variable], sample_weight=None, init_score=None, eval_set=None, eval_names=None,\n",
    "                                eval_sample_weight=None, eval_init_score=None, eval_metric='mae', early_stopping_rounds=None,\n",
    "                                verbose=False, feature_name='auto', categorical_feature=['tipodepropiedad', 'ciudad','provincia'], callbacks=None)\n",
    "\n",
    "print(\"predicting new test values...\")\n",
    "# prediciendo valores posta...\n",
    "predictions_test = grid_search.best_estimator_.predict(test_no_tiene_antiguedad.drop(['id','fecha','titulo', 'descripcion', 'direccion','precio',target_variable],axis=1),\n",
    "                                                       num_iteration=gbm_optimized.best_iteration_)"
   ]
  },
  {
   "cell_type": "code",
   "execution_count": null,
   "metadata": {},
   "outputs": [],
   "source": [
    "beep()"
   ]
  }
 ],
 "metadata": {
  "kernelspec": {
   "display_name": "Python 3",
   "language": "python",
   "name": "python3"
  },
  "language_info": {
   "codemirror_mode": {
    "name": "ipython",
    "version": 3
   },
   "file_extension": ".py",
   "mimetype": "text/x-python",
   "name": "python",
   "nbconvert_exporter": "python",
   "pygments_lexer": "ipython3",
   "version": "3.5.2"
  }
 },
 "nbformat": 4,
 "nbformat_minor": 4
}
